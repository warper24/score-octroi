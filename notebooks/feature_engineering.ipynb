{
 "cells": [
  {
   "cell_type": "code",
   "execution_count": 2,
   "id": "e757a54d",
   "metadata": {},
   "outputs": [],
   "source": [
    "import pandas as pd\n",
    "import numpy as np"
   ]
  },
  {
   "cell_type": "code",
   "execution_count": 3,
   "id": "11f7b3ca",
   "metadata": {},
   "outputs": [
    {
     "data": {
      "text/html": [
       "<div>\n",
       "<style scoped>\n",
       "    .dataframe tbody tr th:only-of-type {\n",
       "        vertical-align: middle;\n",
       "    }\n",
       "\n",
       "    .dataframe tbody tr th {\n",
       "        vertical-align: top;\n",
       "    }\n",
       "\n",
       "    .dataframe thead th {\n",
       "        text-align: right;\n",
       "    }\n",
       "</style>\n",
       "<table border=\"1\" class=\"dataframe\">\n",
       "  <thead>\n",
       "    <tr style=\"text-align: right;\">\n",
       "      <th></th>\n",
       "      <th>TYPEPRODUIT</th>\n",
       "      <th>TDPRNFOY</th>\n",
       "      <th>TDPRNCONT</th>\n",
       "      <th>TDPRNCARTE</th>\n",
       "      <th>TDPRNDT</th>\n",
       "      <th>TDPRDCREAT</th>\n",
       "      <th>TDOCNAUTO</th>\n",
       "      <th>TDPRNSOC</th>\n",
       "      <th>TDPRCPRODCOM</th>\n",
       "      <th>TDOCDDECIOCT</th>\n",
       "      <th>...</th>\n",
       "      <th>MDPRMDECO</th>\n",
       "      <th>MDPRMMENS</th>\n",
       "      <th>MDMAMPRIXCPT__1</th>\n",
       "      <th>MOUCH_PC_CPOLEACT</th>\n",
       "      <th>MOUCH_ATENA_FRAUDCODE</th>\n",
       "      <th>TDPRNAGCFIN</th>\n",
       "      <th>TDOCNAGCMEP</th>\n",
       "      <th>MCPFMMENSRES1</th>\n",
       "      <th>MCPFMMENSRES2</th>\n",
       "      <th>MCLFMFRAISGARD</th>\n",
       "    </tr>\n",
       "  </thead>\n",
       "  <tbody>\n",
       "    <tr>\n",
       "      <th>0</th>\n",
       "      <td>REV</td>\n",
       "      <td>35330</td>\n",
       "      <td>15486</td>\n",
       "      <td>16521</td>\n",
       "      <td>30697</td>\n",
       "      <td>20160809</td>\n",
       "      <td>14375</td>\n",
       "      <td>10349</td>\n",
       "      <td>AD7</td>\n",
       "      <td>20160811</td>\n",
       "      <td>...</td>\n",
       "      <td>80000</td>\n",
       "      <td>3200</td>\n",
       "      <td>0</td>\n",
       "      <td>D</td>\n",
       "      <td>NDT</td>\n",
       "      <td>186.0</td>\n",
       "      <td>186.0</td>\n",
       "      <td>0.0</td>\n",
       "      <td>0.0</td>\n",
       "      <td>NaN</td>\n",
       "    </tr>\n",
       "    <tr>\n",
       "      <th>1</th>\n",
       "      <td>REV</td>\n",
       "      <td>18953</td>\n",
       "      <td>28271</td>\n",
       "      <td>32815</td>\n",
       "      <td>13965</td>\n",
       "      <td>20160711</td>\n",
       "      <td>16375</td>\n",
       "      <td>11137</td>\n",
       "      <td>AD7</td>\n",
       "      <td>20160711</td>\n",
       "      <td>...</td>\n",
       "      <td>80000</td>\n",
       "      <td>3200</td>\n",
       "      <td>0</td>\n",
       "      <td>D</td>\n",
       "      <td>NDT</td>\n",
       "      <td>186.0</td>\n",
       "      <td>186.0</td>\n",
       "      <td>NaN</td>\n",
       "      <td>NaN</td>\n",
       "      <td>NaN</td>\n",
       "    </tr>\n",
       "    <tr>\n",
       "      <th>2</th>\n",
       "      <td>REV</td>\n",
       "      <td>40043</td>\n",
       "      <td>31191</td>\n",
       "      <td>8914</td>\n",
       "      <td>40101</td>\n",
       "      <td>20150424</td>\n",
       "      <td>12089</td>\n",
       "      <td>26024</td>\n",
       "      <td>AD7</td>\n",
       "      <td>20150429</td>\n",
       "      <td>...</td>\n",
       "      <td>80000</td>\n",
       "      <td>3360</td>\n",
       "      <td>0</td>\n",
       "      <td>D</td>\n",
       "      <td>PDR</td>\n",
       "      <td>186.0</td>\n",
       "      <td>186.0</td>\n",
       "      <td>200.0</td>\n",
       "      <td>0.0</td>\n",
       "      <td>NaN</td>\n",
       "    </tr>\n",
       "    <tr>\n",
       "      <th>3</th>\n",
       "      <td>REV</td>\n",
       "      <td>1969</td>\n",
       "      <td>32342</td>\n",
       "      <td>30083</td>\n",
       "      <td>15636</td>\n",
       "      <td>20141016</td>\n",
       "      <td>32387</td>\n",
       "      <td>24698</td>\n",
       "      <td>AD7</td>\n",
       "      <td>20141021</td>\n",
       "      <td>...</td>\n",
       "      <td>80000</td>\n",
       "      <td>3360</td>\n",
       "      <td>0</td>\n",
       "      <td>D</td>\n",
       "      <td>PDR</td>\n",
       "      <td>186.0</td>\n",
       "      <td>186.0</td>\n",
       "      <td>NaN</td>\n",
       "      <td>NaN</td>\n",
       "      <td>NaN</td>\n",
       "    </tr>\n",
       "    <tr>\n",
       "      <th>4</th>\n",
       "      <td>REV</td>\n",
       "      <td>13764</td>\n",
       "      <td>7971</td>\n",
       "      <td>30292</td>\n",
       "      <td>28885</td>\n",
       "      <td>20140822</td>\n",
       "      <td>30672</td>\n",
       "      <td>31851</td>\n",
       "      <td>AD7</td>\n",
       "      <td>20140828</td>\n",
       "      <td>...</td>\n",
       "      <td>80000</td>\n",
       "      <td>3360</td>\n",
       "      <td>0</td>\n",
       "      <td>D</td>\n",
       "      <td>PDR</td>\n",
       "      <td>186.0</td>\n",
       "      <td>186.0</td>\n",
       "      <td>300.0</td>\n",
       "      <td>0.0</td>\n",
       "      <td>NaN</td>\n",
       "    </tr>\n",
       "  </tbody>\n",
       "</table>\n",
       "<p>5 rows × 105 columns</p>\n",
       "</div>"
      ],
      "text/plain": [
       "  TYPEPRODUIT  TDPRNFOY  TDPRNCONT  TDPRNCARTE  TDPRNDT  TDPRDCREAT  \\\n",
       "0         REV     35330      15486       16521    30697    20160809   \n",
       "1         REV     18953      28271       32815    13965    20160711   \n",
       "2         REV     40043      31191        8914    40101    20150424   \n",
       "3         REV      1969      32342       30083    15636    20141016   \n",
       "4         REV     13764       7971       30292    28885    20140822   \n",
       "\n",
       "   TDOCNAUTO  TDPRNSOC TDPRCPRODCOM  TDOCDDECIOCT  ... MDPRMDECO  MDPRMMENS  \\\n",
       "0      14375     10349          AD7      20160811  ...     80000       3200   \n",
       "1      16375     11137          AD7      20160711  ...     80000       3200   \n",
       "2      12089     26024          AD7      20150429  ...     80000       3360   \n",
       "3      32387     24698          AD7      20141021  ...     80000       3360   \n",
       "4      30672     31851          AD7      20140828  ...     80000       3360   \n",
       "\n",
       "   MDMAMPRIXCPT__1 MOUCH_PC_CPOLEACT MOUCH_ATENA_FRAUDCODE  TDPRNAGCFIN  \\\n",
       "0                0                 D                   NDT        186.0   \n",
       "1                0                 D                   NDT        186.0   \n",
       "2                0                 D                   PDR        186.0   \n",
       "3                0                 D                   PDR        186.0   \n",
       "4                0                 D                   PDR        186.0   \n",
       "\n",
       "   TDOCNAGCMEP  MCPFMMENSRES1  MCPFMMENSRES2  MCLFMFRAISGARD  \n",
       "0        186.0            0.0            0.0             NaN  \n",
       "1        186.0            NaN            NaN             NaN  \n",
       "2        186.0          200.0            0.0             NaN  \n",
       "3        186.0            NaN            NaN             NaN  \n",
       "4        186.0          300.0            0.0             NaN  \n",
       "\n",
       "[5 rows x 105 columns]"
      ]
     },
     "execution_count": 3,
     "metadata": {},
     "output_type": "execute_result"
    }
   ],
   "source": [
    "df = pd.read_csv(\"../data/tp_score_base0_anonymized.csv\", low_memory=False)\n",
    "df.head()"
   ]
  },
  {
   "cell_type": "code",
   "execution_count": 4,
   "id": "0de3c603",
   "metadata": {},
   "outputs": [
    {
     "name": "stdout",
     "output_type": "stream",
     "text": [
      "<class 'pandas.core.frame.DataFrame'>\n",
      "RangeIndex: 40347 entries, 0 to 40346\n",
      "Columns: 105 entries, TYPEPRODUIT to MCLFMFRAISGARD\n",
      "dtypes: float64(22), int64(63), object(20)\n",
      "memory usage: 32.3+ MB\n"
     ]
    }
   ],
   "source": [
    "df.info()"
   ]
  },
  {
   "cell_type": "code",
   "execution_count": 5,
   "id": "b9a1823c",
   "metadata": {},
   "outputs": [
    {
     "data": {
      "text/html": [
       "<div>\n",
       "<style scoped>\n",
       "    .dataframe tbody tr th:only-of-type {\n",
       "        vertical-align: middle;\n",
       "    }\n",
       "\n",
       "    .dataframe tbody tr th {\n",
       "        vertical-align: top;\n",
       "    }\n",
       "\n",
       "    .dataframe thead th {\n",
       "        text-align: right;\n",
       "    }\n",
       "</style>\n",
       "<table border=\"1\" class=\"dataframe\">\n",
       "  <thead>\n",
       "    <tr style=\"text-align: right;\">\n",
       "      <th></th>\n",
       "      <th>TDPRNFOY</th>\n",
       "      <th>TDPRNCONT</th>\n",
       "      <th>TDPRNCARTE</th>\n",
       "      <th>TDPRNDT</th>\n",
       "      <th>TDPRDCREAT</th>\n",
       "      <th>TDOCNAUTO</th>\n",
       "      <th>TDPRNSOC</th>\n",
       "      <th>TDOCDDECIOCT</th>\n",
       "      <th>TDPRNSOCAGR</th>\n",
       "      <th>TDPRNAGR</th>\n",
       "      <th>...</th>\n",
       "      <th>MDCOMDMA</th>\n",
       "      <th>MDPRBDUREE</th>\n",
       "      <th>MDPRMDECO</th>\n",
       "      <th>MDPRMMENS</th>\n",
       "      <th>MDMAMPRIXCPT__1</th>\n",
       "      <th>TDPRNAGCFIN</th>\n",
       "      <th>TDOCNAGCMEP</th>\n",
       "      <th>MCPFMMENSRES1</th>\n",
       "      <th>MCPFMMENSRES2</th>\n",
       "      <th>MCLFMFRAISGARD</th>\n",
       "    </tr>\n",
       "  </thead>\n",
       "  <tbody>\n",
       "    <tr>\n",
       "      <th>count</th>\n",
       "      <td>40347.000000</td>\n",
       "      <td>40347.000000</td>\n",
       "      <td>40347.000000</td>\n",
       "      <td>40347.000000</td>\n",
       "      <td>4.034700e+04</td>\n",
       "      <td>40347.000000</td>\n",
       "      <td>40347.000000</td>\n",
       "      <td>4.034700e+04</td>\n",
       "      <td>40347.000000</td>\n",
       "      <td>40347.000000</td>\n",
       "      <td>...</td>\n",
       "      <td>40347.000000</td>\n",
       "      <td>40347.0</td>\n",
       "      <td>40347.000000</td>\n",
       "      <td>40347.000000</td>\n",
       "      <td>40347.0</td>\n",
       "      <td>39193.000000</td>\n",
       "      <td>39193.000000</td>\n",
       "      <td>38599.000000</td>\n",
       "      <td>37333.000000</td>\n",
       "      <td>381.000000</td>\n",
       "    </tr>\n",
       "    <tr>\n",
       "      <th>mean</th>\n",
       "      <td>20174.000000</td>\n",
       "      <td>20174.000000</td>\n",
       "      <td>20174.000000</td>\n",
       "      <td>20174.000000</td>\n",
       "      <td>2.014641e+07</td>\n",
       "      <td>20174.000000</td>\n",
       "      <td>20174.000000</td>\n",
       "      <td>2.014642e+07</td>\n",
       "      <td>20174.000000</td>\n",
       "      <td>20174.000000</td>\n",
       "      <td>...</td>\n",
       "      <td>80322.504771</td>\n",
       "      <td>0.0</td>\n",
       "      <td>79827.102387</td>\n",
       "      <td>3934.196644</td>\n",
       "      <td>0.0</td>\n",
       "      <td>147.218024</td>\n",
       "      <td>147.412497</td>\n",
       "      <td>261.702039</td>\n",
       "      <td>0.504460</td>\n",
       "      <td>258.223097</td>\n",
       "    </tr>\n",
       "    <tr>\n",
       "      <th>std</th>\n",
       "      <td>11647.319992</td>\n",
       "      <td>11647.319992</td>\n",
       "      <td>11647.319992</td>\n",
       "      <td>11647.319992</td>\n",
       "      <td>1.024916e+04</td>\n",
       "      <td>11647.319992</td>\n",
       "      <td>11647.319992</td>\n",
       "      <td>1.024497e+04</td>\n",
       "      <td>11647.319992</td>\n",
       "      <td>11647.319992</td>\n",
       "      <td>...</td>\n",
       "      <td>7089.474035</td>\n",
       "      <td>0.0</td>\n",
       "      <td>4660.765727</td>\n",
       "      <td>1634.638036</td>\n",
       "      <td>0.0</td>\n",
       "      <td>24.372178</td>\n",
       "      <td>23.735547</td>\n",
       "      <td>361.237832</td>\n",
       "      <td>24.576407</td>\n",
       "      <td>337.601735</td>\n",
       "    </tr>\n",
       "    <tr>\n",
       "      <th>min</th>\n",
       "      <td>1.000000</td>\n",
       "      <td>1.000000</td>\n",
       "      <td>1.000000</td>\n",
       "      <td>1.000000</td>\n",
       "      <td>2.013010e+07</td>\n",
       "      <td>1.000000</td>\n",
       "      <td>1.000000</td>\n",
       "      <td>2.013010e+07</td>\n",
       "      <td>1.000000</td>\n",
       "      <td>1.000000</td>\n",
       "      <td>...</td>\n",
       "      <td>60000.000000</td>\n",
       "      <td>0.0</td>\n",
       "      <td>20000.000000</td>\n",
       "      <td>1524.000000</td>\n",
       "      <td>0.0</td>\n",
       "      <td>0.000000</td>\n",
       "      <td>132.000000</td>\n",
       "      <td>0.000000</td>\n",
       "      <td>0.000000</td>\n",
       "      <td>0.000000</td>\n",
       "    </tr>\n",
       "    <tr>\n",
       "      <th>25%</th>\n",
       "      <td>10087.500000</td>\n",
       "      <td>10087.500000</td>\n",
       "      <td>10087.500000</td>\n",
       "      <td>10087.500000</td>\n",
       "      <td>2.014042e+07</td>\n",
       "      <td>10087.500000</td>\n",
       "      <td>10087.500000</td>\n",
       "      <td>2.014042e+07</td>\n",
       "      <td>10087.500000</td>\n",
       "      <td>10087.500000</td>\n",
       "      <td>...</td>\n",
       "      <td>80000.000000</td>\n",
       "      <td>0.0</td>\n",
       "      <td>80000.000000</td>\n",
       "      <td>3360.000000</td>\n",
       "      <td>0.0</td>\n",
       "      <td>133.000000</td>\n",
       "      <td>133.000000</td>\n",
       "      <td>0.000000</td>\n",
       "      <td>0.000000</td>\n",
       "      <td>1.000000</td>\n",
       "    </tr>\n",
       "    <tr>\n",
       "      <th>50%</th>\n",
       "      <td>20174.000000</td>\n",
       "      <td>20174.000000</td>\n",
       "      <td>20174.000000</td>\n",
       "      <td>20174.000000</td>\n",
       "      <td>2.015030e+07</td>\n",
       "      <td>20174.000000</td>\n",
       "      <td>20174.000000</td>\n",
       "      <td>2.015031e+07</td>\n",
       "      <td>20174.000000</td>\n",
       "      <td>20174.000000</td>\n",
       "      <td>...</td>\n",
       "      <td>80000.000000</td>\n",
       "      <td>0.0</td>\n",
       "      <td>80000.000000</td>\n",
       "      <td>3360.000000</td>\n",
       "      <td>0.0</td>\n",
       "      <td>133.000000</td>\n",
       "      <td>133.000000</td>\n",
       "      <td>57.000000</td>\n",
       "      <td>0.000000</td>\n",
       "      <td>150.000000</td>\n",
       "    </tr>\n",
       "    <tr>\n",
       "      <th>75%</th>\n",
       "      <td>30260.500000</td>\n",
       "      <td>30260.500000</td>\n",
       "      <td>30260.500000</td>\n",
       "      <td>30260.500000</td>\n",
       "      <td>2.015122e+07</td>\n",
       "      <td>30260.500000</td>\n",
       "      <td>30260.500000</td>\n",
       "      <td>2.015122e+07</td>\n",
       "      <td>30260.500000</td>\n",
       "      <td>30260.500000</td>\n",
       "      <td>...</td>\n",
       "      <td>80000.000000</td>\n",
       "      <td>0.0</td>\n",
       "      <td>80000.000000</td>\n",
       "      <td>3360.000000</td>\n",
       "      <td>0.0</td>\n",
       "      <td>186.000000</td>\n",
       "      <td>186.000000</td>\n",
       "      <td>475.000000</td>\n",
       "      <td>0.000000</td>\n",
       "      <td>347.000000</td>\n",
       "    </tr>\n",
       "    <tr>\n",
       "      <th>max</th>\n",
       "      <td>40347.000000</td>\n",
       "      <td>40347.000000</td>\n",
       "      <td>40347.000000</td>\n",
       "      <td>40347.000000</td>\n",
       "      <td>2.016083e+07</td>\n",
       "      <td>40347.000000</td>\n",
       "      <td>40347.000000</td>\n",
       "      <td>2.016090e+07</td>\n",
       "      <td>40347.000000</td>\n",
       "      <td>40347.000000</td>\n",
       "      <td>...</td>\n",
       "      <td>800000.000000</td>\n",
       "      <td>0.0</td>\n",
       "      <td>300000.000000</td>\n",
       "      <td>17000.000000</td>\n",
       "      <td>0.0</td>\n",
       "      <td>186.000000</td>\n",
       "      <td>186.000000</td>\n",
       "      <td>4560.000000</td>\n",
       "      <td>3000.000000</td>\n",
       "      <td>2000.000000</td>\n",
       "    </tr>\n",
       "  </tbody>\n",
       "</table>\n",
       "<p>8 rows × 85 columns</p>\n",
       "</div>"
      ],
      "text/plain": [
       "           TDPRNFOY     TDPRNCONT    TDPRNCARTE       TDPRNDT    TDPRDCREAT  \\\n",
       "count  40347.000000  40347.000000  40347.000000  40347.000000  4.034700e+04   \n",
       "mean   20174.000000  20174.000000  20174.000000  20174.000000  2.014641e+07   \n",
       "std    11647.319992  11647.319992  11647.319992  11647.319992  1.024916e+04   \n",
       "min        1.000000      1.000000      1.000000      1.000000  2.013010e+07   \n",
       "25%    10087.500000  10087.500000  10087.500000  10087.500000  2.014042e+07   \n",
       "50%    20174.000000  20174.000000  20174.000000  20174.000000  2.015030e+07   \n",
       "75%    30260.500000  30260.500000  30260.500000  30260.500000  2.015122e+07   \n",
       "max    40347.000000  40347.000000  40347.000000  40347.000000  2.016083e+07   \n",
       "\n",
       "          TDOCNAUTO      TDPRNSOC  TDOCDDECIOCT   TDPRNSOCAGR      TDPRNAGR  \\\n",
       "count  40347.000000  40347.000000  4.034700e+04  40347.000000  40347.000000   \n",
       "mean   20174.000000  20174.000000  2.014642e+07  20174.000000  20174.000000   \n",
       "std    11647.319992  11647.319992  1.024497e+04  11647.319992  11647.319992   \n",
       "min        1.000000      1.000000  2.013010e+07      1.000000      1.000000   \n",
       "25%    10087.500000  10087.500000  2.014042e+07  10087.500000  10087.500000   \n",
       "50%    20174.000000  20174.000000  2.015031e+07  20174.000000  20174.000000   \n",
       "75%    30260.500000  30260.500000  2.015122e+07  30260.500000  30260.500000   \n",
       "max    40347.000000  40347.000000  2.016090e+07  40347.000000  40347.000000   \n",
       "\n",
       "       ...       MDCOMDMA  MDPRBDUREE      MDPRMDECO     MDPRMMENS  \\\n",
       "count  ...   40347.000000     40347.0   40347.000000  40347.000000   \n",
       "mean   ...   80322.504771         0.0   79827.102387   3934.196644   \n",
       "std    ...    7089.474035         0.0    4660.765727   1634.638036   \n",
       "min    ...   60000.000000         0.0   20000.000000   1524.000000   \n",
       "25%    ...   80000.000000         0.0   80000.000000   3360.000000   \n",
       "50%    ...   80000.000000         0.0   80000.000000   3360.000000   \n",
       "75%    ...   80000.000000         0.0   80000.000000   3360.000000   \n",
       "max    ...  800000.000000         0.0  300000.000000  17000.000000   \n",
       "\n",
       "       MDMAMPRIXCPT__1   TDPRNAGCFIN   TDOCNAGCMEP  MCPFMMENSRES1  \\\n",
       "count          40347.0  39193.000000  39193.000000   38599.000000   \n",
       "mean               0.0    147.218024    147.412497     261.702039   \n",
       "std                0.0     24.372178     23.735547     361.237832   \n",
       "min                0.0      0.000000    132.000000       0.000000   \n",
       "25%                0.0    133.000000    133.000000       0.000000   \n",
       "50%                0.0    133.000000    133.000000      57.000000   \n",
       "75%                0.0    186.000000    186.000000     475.000000   \n",
       "max                0.0    186.000000    186.000000    4560.000000   \n",
       "\n",
       "       MCPFMMENSRES2  MCLFMFRAISGARD  \n",
       "count   37333.000000      381.000000  \n",
       "mean        0.504460      258.223097  \n",
       "std        24.576407      337.601735  \n",
       "min         0.000000        0.000000  \n",
       "25%         0.000000        1.000000  \n",
       "50%         0.000000      150.000000  \n",
       "75%         0.000000      347.000000  \n",
       "max      3000.000000     2000.000000  \n",
       "\n",
       "[8 rows x 85 columns]"
      ]
     },
     "execution_count": 5,
     "metadata": {},
     "output_type": "execute_result"
    }
   ],
   "source": [
    "df.describe()"
   ]
  },
  {
   "cell_type": "markdown",
   "id": "a456e618",
   "metadata": {},
   "source": [
    "## Feature Engineering"
   ]
  },
  {
   "cell_type": "markdown",
   "id": "d38bee06",
   "metadata": {},
   "source": [
    "### Nodos"
   ]
  },
  {
   "cell_type": "code",
   "execution_count": 6,
   "id": "26ea9dcf",
   "metadata": {},
   "outputs": [],
   "source": [
    "df[\"Nodos\"] = df[\"TDPRNFOY\"].astype(str) + \" \" + df[\"TDPRNCONT\"].astype(str) + \" \" + df[\"TDPRNCARTE\"].astype(str) + \" \" + df[\"TDPRNDT\"].astype(str)"
   ]
  },
  {
   "cell_type": "code",
   "execution_count": 7,
   "id": "5e6b55a1",
   "metadata": {},
   "outputs": [
    {
     "data": {
      "text/plain": [
       "0    35330 15486 16521 30697\n",
       "1    18953 28271 32815 13965\n",
       "2     40043 31191 8914 40101\n",
       "3     1969 32342 30083 15636\n",
       "4     13764 7971 30292 28885\n",
       "Name: Nodos, dtype: object"
      ]
     },
     "execution_count": 7,
     "metadata": {},
     "output_type": "execute_result"
    }
   ],
   "source": [
    "df[\"Nodos\"].head()"
   ]
  },
  {
   "cell_type": "code",
   "execution_count": 8,
   "id": "722d80aa",
   "metadata": {},
   "outputs": [
    {
     "data": {
      "text/plain": [
       "np.False_"
      ]
     },
     "execution_count": 8,
     "metadata": {},
     "output_type": "execute_result"
    }
   ],
   "source": [
    "df.duplicated(subset=[\"Nodos\"]).any()"
   ]
  },
  {
   "cell_type": "markdown",
   "id": "5ccb821e",
   "metadata": {},
   "source": [
    "### Entite\n",
    "\n"
   ]
  },
  {
   "cell_type": "markdown",
   "id": "ec16d29c",
   "metadata": {},
   "source": [
    "\"Create variable Entity using variable TDPRNSOC (company number).\n",
    "\n",
    "- if TDPRNSOC = (236,240) then Entity = 'A'.\n",
    "\n",
    "- if TDPRNSOC = (133,134,237,238,239) then Entity = 'B'.\""
   ]
  },
  {
   "cell_type": "code",
   "execution_count": 9,
   "id": "c45c3831",
   "metadata": {},
   "outputs": [
    {
     "data": {
      "text/plain": [
       "dtype('int64')"
      ]
     },
     "execution_count": 9,
     "metadata": {},
     "output_type": "execute_result"
    }
   ],
   "source": [
    "df[\"ZCOM_SE_NSOC\"].dtype"
   ]
  },
  {
   "cell_type": "code",
   "execution_count": 10,
   "id": "4614cc75",
   "metadata": {},
   "outputs": [],
   "source": [
    "conditions = [\n",
    "    (df[\"ZCOM_SE_NSOC\"] == 236),\n",
    "    (df[\"ZCOM_SE_NSOC\"] == 240),\n",
    "    (df[\"ZCOM_SE_NSOC\"] == 133),\n",
    "    (df[\"ZCOM_SE_NSOC\"] == 134),\n",
    "    (df[\"ZCOM_SE_NSOC\"] == 237),\n",
    "    (df[\"ZCOM_SE_NSOC\"] == 238),\n",
    "    (df[\"ZCOM_SE_NSOC\"] == 239),\n",
    "]\n",
    "values = [\"A\",\"A\",\"B\",\"B\",\"B\",\"B\",\"B\"]\n"
   ]
  },
  {
   "cell_type": "code",
   "execution_count": 11,
   "id": "6b7f918b",
   "metadata": {},
   "outputs": [],
   "source": [
    "df[\"Entite\"] = np.select(conditions, values, None)"
   ]
  },
  {
   "cell_type": "code",
   "execution_count": 12,
   "id": "02b81933",
   "metadata": {},
   "outputs": [
    {
     "data": {
      "text/plain": [
       "Entite\n",
       "B    29465\n",
       "A    10882\n",
       "Name: count, dtype: int64"
      ]
     },
     "execution_count": 12,
     "metadata": {},
     "output_type": "execute_result"
    }
   ],
   "source": [
    "df[\"Entite\"].value_counts()"
   ]
  },
  {
   "cell_type": "markdown",
   "id": "c64db10f",
   "metadata": {},
   "source": [
    "### Decision_Finale\n",
    "\n",
    "\"Create variable Final_decision (final decision after applicaiton analysis).\"\n",
    "\n",
    "- if TDPRCPOSA = ('SAN','ENC','FIN','RET','SOL','INS') then Final_decision = 'ACP' (financed).\n",
    "\n",
    "- if TDPRCPOSA = ('ANN','SS','PRA') then Final_decision = 'SS' (cancelled).\n",
    "\n",
    "- if TDPRCPOSA = ('REF','RAG') then Final_decision = 'REF' (refused)."
   ]
  },
  {
   "cell_type": "code",
   "execution_count": 13,
   "id": "6c926bc0",
   "metadata": {},
   "outputs": [],
   "source": [
    "conditions = [\n",
    "(df[\"TDPRCPOSA\"].isin([\"SAN\",\"ENC\",\"FIN\",\"RET\",\"SOL\",\"INS\"])),\n",
    "(df[\"TDPRCPOSA\"].isin([\"ANN\",\"SS\",\"PRA\"])),\n",
    "(df[\"TDPRCPOSA\"].isin([\"REF\",\"RAG\"]))]\n",
    "\n",
    "values = [\"ACP\",\"SS\",\"REF\"]\n",
    "\n",
    "df[\"Decision_Finale\"] = np.select(conditions, values, None)"
   ]
  },
  {
   "cell_type": "code",
   "execution_count": 14,
   "id": "96ef94c2",
   "metadata": {},
   "outputs": [
    {
     "data": {
      "text/plain": [
       "Decision_Finale\n",
       "ACP    38168\n",
       "SS      1859\n",
       "REF      320\n",
       "Name: count, dtype: int64"
      ]
     },
     "execution_count": 14,
     "metadata": {},
     "output_type": "execute_result"
    }
   ],
   "source": [
    "df[\"Decision_Finale\"].value_counts()"
   ]
  },
  {
   "cell_type": "markdown",
   "id": "0da8d06e",
   "metadata": {},
   "source": [
    "### ACP, SS, REF, Flag_Finance"
   ]
  },
  {
   "cell_type": "markdown",
   "id": "83aa9be6",
   "metadata": {},
   "source": [
    "\"Create variable ACP (accepted application).\"\n",
    "\n",
    "- if Final_decision = 'ACP' then ACP = 1 else 0."
   ]
  },
  {
   "cell_type": "code",
   "execution_count": 15,
   "id": "6286b4d6",
   "metadata": {},
   "outputs": [],
   "source": [
    "df[\"ACP\"] = np.where(df[\"Decision_Finale\"] == \"ACP\", 1, 0)"
   ]
  },
  {
   "cell_type": "markdown",
   "id": "dd955fee",
   "metadata": {},
   "source": [
    "\"Create variable SS (cancelled).\"\n",
    "\n",
    "- if Final_decision = 'SS' then SS = 1 else 0."
   ]
  },
  {
   "cell_type": "code",
   "execution_count": 16,
   "id": "25abffc2",
   "metadata": {},
   "outputs": [],
   "source": [
    "df[\"SS\"] = np.where(df[\"Decision_Finale\"] == \"SS\", 1, 0)"
   ]
  },
  {
   "cell_type": "markdown",
   "id": "2190e44b",
   "metadata": {},
   "source": [
    "\"Create variable REF (refused).\"\n",
    "\n",
    "- if Final_decision = 'REF' then REF = 1 else 0."
   ]
  },
  {
   "cell_type": "code",
   "execution_count": 17,
   "id": "52453a1c",
   "metadata": {},
   "outputs": [],
   "source": [
    "df[\"REF\"] = np.where(df[\"Decision_Finale\"] == \"REF\", 1, 0)"
   ]
  },
  {
   "cell_type": "markdown",
   "id": "4ac938f0",
   "metadata": {},
   "source": [
    "\"Using variable Final_decision create variable Flag_Financed (0/1).\"\n",
    "\n",
    "- if Final_decision = 'ACP'  application is financed."
   ]
  },
  {
   "cell_type": "code",
   "execution_count": 18,
   "id": "e6e51a3f",
   "metadata": {},
   "outputs": [],
   "source": [
    "df[\"Flag_Finance\"] = np.where(df[\"Decision_Finale\"] == \"ACP\", 1, 0)"
   ]
  },
  {
   "cell_type": "code",
   "execution_count": 19,
   "id": "49bc4103",
   "metadata": {},
   "outputs": [
    {
     "name": "stdout",
     "output_type": "stream",
     "text": [
      "ACP\n",
      "1    38168\n",
      "0     2179\n",
      "Name: count, dtype: int64\n",
      "SS\n",
      "0    38488\n",
      "1     1859\n",
      "Name: count, dtype: int64\n",
      "REF\n",
      "0    40027\n",
      "1      320\n",
      "Name: count, dtype: int64\n",
      "Flag_Finance\n",
      "1    38168\n",
      "0     2179\n",
      "Name: count, dtype: int64\n"
     ]
    }
   ],
   "source": [
    "print(df[\"ACP\"].value_counts())\n",
    "print(df[\"SS\"].value_counts())\n",
    "print(df[\"REF\"].value_counts())\n",
    "print(df[\"Flag_Finance\"].value_counts())"
   ]
  },
  {
   "cell_type": "markdown",
   "id": "2848dd4d",
   "metadata": {},
   "source": [
    "### Flag_CTX"
   ]
  },
  {
   "cell_type": "markdown",
   "id": "b7c3a335",
   "metadata": {},
   "source": [
    "\"Create variable Flag_CTX (0/1) using DATRANS (date applcation has been transmitted to litigation).\"\n",
    "\n",
    "- if DATRANS is not missing then Flag_CTX = 1.§"
   ]
  },
  {
   "cell_type": "code",
   "execution_count": 20,
   "id": "af14e6af",
   "metadata": {},
   "outputs": [],
   "source": [
    "df[\"Flag_CTX\"] = np.where(df[\"DATRANS\"].isnull(), 0, 1)"
   ]
  },
  {
   "cell_type": "code",
   "execution_count": 21,
   "id": "5b85973a",
   "metadata": {},
   "outputs": [
    {
     "data": {
      "text/plain": [
       "Flag_CTX\n",
       "0    39309\n",
       "1     1038\n",
       "Name: count, dtype: int64"
      ]
     },
     "execution_count": 21,
     "metadata": {},
     "output_type": "execute_result"
    }
   ],
   "source": [
    "df[\"Flag_CTX\"].value_counts()"
   ]
  },
  {
   "cell_type": "markdown",
   "id": "1c4e5ec0",
   "metadata": {},
   "source": [
    "### Fraudeur"
   ]
  },
  {
   "cell_type": "markdown",
   "id": "35c4e7e8",
   "metadata": {},
   "source": [
    "\"Create variable fraudster.\"\n",
    "\n",
    "- if MOUCH_ATENA_FRAUDCODE = ('CG1','CG2') then fraudster = 1 else 0."
   ]
  },
  {
   "cell_type": "code",
   "execution_count": 22,
   "id": "dd29198d",
   "metadata": {},
   "outputs": [
    {
     "data": {
      "text/plain": [
       "MOUCH_ATENA_FRAUDCODE\n",
       "PDR    13555\n",
       "NDT    13266\n",
       "CGB      281\n",
       "CGI      145\n",
       "CGN       19\n",
       "CG1       10\n",
       "Name: count, dtype: int64"
      ]
     },
     "execution_count": 22,
     "metadata": {},
     "output_type": "execute_result"
    }
   ],
   "source": [
    "df[\"MOUCH_ATENA_FRAUDCODE\"].value_counts()"
   ]
  },
  {
   "cell_type": "code",
   "execution_count": 23,
   "id": "9eb3b0a0",
   "metadata": {},
   "outputs": [],
   "source": [
    "df[\"Fraudeur\"] = np.where(df[\"MOUCH_ATENA_FRAUDCODE\"].isin([\"CG1\",\"CG2\"]), 1, 0)"
   ]
  },
  {
   "cell_type": "code",
   "execution_count": 24,
   "id": "4bef4027",
   "metadata": {},
   "outputs": [
    {
     "data": {
      "text/plain": [
       "Fraudeur\n",
       "0    40337\n",
       "1       10\n",
       "Name: count, dtype: int64"
      ]
     },
     "execution_count": 24,
     "metadata": {},
     "output_type": "execute_result"
    }
   ],
   "source": [
    "df[\"Fraudeur\"].value_counts()"
   ]
  },
  {
   "cell_type": "markdown",
   "id": "b7303a7e",
   "metadata": {},
   "source": [
    "### Gen_Demande"
   ]
  },
  {
   "cell_type": "markdown",
   "id": "487b8758",
   "metadata": {},
   "source": [
    "Create variable Gen_Demand (year + month of demand in format YYYYMM) using variable TDPRDCREAT (date of demand application creation in format YYYYMMDD)."
   ]
  },
  {
   "cell_type": "code",
   "execution_count": 25,
   "id": "3feeba28",
   "metadata": {},
   "outputs": [
    {
     "data": {
      "text/plain": [
       "array(['201608', '201607', '201504', '201410', '201408', '201406',\n",
       "       '201511', '201308', '201606', '201602', '201605', '201512',\n",
       "       '201309', '201604', '201505', '201303', '201506', '201306',\n",
       "       '201402', '201510', '201507', '201601', '201409', '201304',\n",
       "       '201405', '201401', '201404', '201302', '201412', '201509',\n",
       "       '201311', '201307', '201503', '201403', '201508', '201301',\n",
       "       '201407', '201411', '201310', '201501', '201502', '201603',\n",
       "       '201312', '201305'], dtype=object)"
      ]
     },
     "execution_count": 25,
     "metadata": {},
     "output_type": "execute_result"
    }
   ],
   "source": [
    "df[\"Gen_Demande\"] = df[\"TDPRDCREAT\"].astype(str).str[0:6]\n",
    "df[\"Gen_Demande\"].unique()"
   ]
  },
  {
   "cell_type": "markdown",
   "id": "e9610491",
   "metadata": {},
   "source": [
    "### Flag_Actif and Gen_Active"
   ]
  },
  {
   "cell_type": "markdown",
   "id": "72f9b50a",
   "metadata": {},
   "source": [
    "\"Create variable Flag_Actif  (0/1) using ACTIVITE_DATE_min.\"\n",
    "\n",
    "- if variable ACTIVITE_DATE_min is not missing then Flag_Actif=1 else if ACTIVITE_DATE_min=99999999 then Flag_Actif=0.\n",
    "\n",
    " (The later is filled if CRD - SREC > 4€)."
   ]
  },
  {
   "cell_type": "code",
   "execution_count": 26,
   "id": "6b037644",
   "metadata": {},
   "outputs": [],
   "source": [
    "df[\"Flag_Actif\"] = np.where(df[\"ACTIVITE_DATE_min\"].isin([99999999]), 0, 1)"
   ]
  },
  {
   "cell_type": "code",
   "execution_count": 27,
   "id": "d50837ef",
   "metadata": {},
   "outputs": [
    {
     "data": {
      "text/plain": [
       "Flag_Actif\n",
       "1    33317\n",
       "0     7030\n",
       "Name: count, dtype: int64"
      ]
     },
     "execution_count": 27,
     "metadata": {},
     "output_type": "execute_result"
    }
   ],
   "source": [
    "df[\"Flag_Actif\"].value_counts()"
   ]
  },
  {
   "cell_type": "markdown",
   "id": "86c6bd8c",
   "metadata": {},
   "source": [
    "Card activation month (in format SSAAMMJJ). Use this information to :\n",
    "\n",
    "- create variable Gen_Active (in format YYYYMM)."
   ]
  },
  {
   "cell_type": "code",
   "execution_count": 28,
   "id": "de4fd38f",
   "metadata": {},
   "outputs": [],
   "source": [
    "df[\"Gen_Active\"] = np.where(df[\"ACTIVITE_DATE_min\"].isin([99999999]), 0, df[\"ACTIVITE_DATE_min\"].astype(str).str[:-2])"
   ]
  },
  {
   "cell_type": "markdown",
   "id": "ef198058",
   "metadata": {},
   "source": [
    "### Horizon_Activ"
   ]
  },
  {
   "cell_type": "markdown",
   "id": "cac3da34",
   "metadata": {},
   "source": [
    "Create variable Horizon_Activ (number of months between demand and card activation)."
   ]
  },
  {
   "cell_type": "code",
   "execution_count": 29,
   "id": "c16849e4",
   "metadata": {},
   "outputs": [
    {
     "name": "stdout",
     "output_type": "stream",
     "text": [
      "object\n",
      "object\n"
     ]
    }
   ],
   "source": [
    "print(df[\"Gen_Demande\"].dtypes)\n",
    "print(df[\"Gen_Active\"].dtypes)"
   ]
  },
  {
   "cell_type": "code",
   "execution_count": 30,
   "id": "13eae04f",
   "metadata": {},
   "outputs": [],
   "source": [
    "df[\"Gen_Demande\"] = pd.to_datetime(df[\"Gen_Demande\"], errors = 'coerce', format = '%Y%m')\n",
    "df[\"Gen_Active\"] = pd.to_datetime(df[\"Gen_Active\"], errors = 'coerce', format = '%Y%m')"
   ]
  },
  {
   "cell_type": "code",
   "execution_count": 31,
   "id": "3cc0160e",
   "metadata": {},
   "outputs": [],
   "source": [
    "df['Horizon_Activ'] = (df[\"Gen_Active\"].dt.year - df[\"Gen_Demande\"].dt.year) * 12 + (df[\"Gen_Active\"].dt.month - df[\"Gen_Demande\"].dt.month)"
   ]
  },
  {
   "cell_type": "code",
   "execution_count": 32,
   "id": "2d049803",
   "metadata": {},
   "outputs": [
    {
     "data": {
      "text/plain": [
       "0    0.0\n",
       "1    0.0\n",
       "2    0.0\n",
       "3    0.0\n",
       "4    0.0\n",
       "Name: Horizon_Activ, dtype: float64"
      ]
     },
     "execution_count": 32,
     "metadata": {},
     "output_type": "execute_result"
    }
   ],
   "source": [
    "df['Horizon_Activ'].head()"
   ]
  },
  {
   "cell_type": "markdown",
   "id": "b6baf950",
   "metadata": {},
   "source": [
    "### CSP_Tit"
   ]
  },
  {
   "cell_type": "markdown",
   "id": "32034627",
   "metadata": {},
   "source": [
    "\"Create variable CSP_Tit (socio-professional category of the holder) using variable MCLICCSP__1 and:\"\n",
    "- if MCLICCSP__1 = (20,29) then CSP_Tit = 'liberal_profession'.\n",
    "- if MCLICCSP__1 = (1) then CSP_Tit = 'Farmer'.\n",
    "- if MCLICCSP__1 = (10,11) then CSP_Tit = 'Trader'.\n",
    "- if MCLICCSP__1 = (15) then CSP_Tit = 'Artisan'.\n",
    "- if MCLICCSP__1 = (19) then CSP_Tit = 'Stallholder '.\n",
    "- if MCLICCSP__1 = (25,64,72,86,80,81,68,73,63,66,71) then CSP_Tit = 'worker'.\n",
    "- if MCLICCSP__1 = (30,31,55,40,41,48,28) then CSP_Tit = 'Managerial position'.\n",
    "- if MCLICCSP__1 = (51,50,60,70) then CSP_Tit = 'Employee'.\n",
    "- if MCLICCSP__1 = (74) then CSP_Tit = 'Military'.\n",
    "- if MCLICCSP__1 = (90,91) then CSP_Tit = 'Retired'.\n",
    "- if MCLICCSP__1 = (92,94,98,89) then CSP_Tit = 'Unemployed'.\n",
    "- if MCLICCSP__1 = (96,93) then CSP_Tit = 'Temporary contract'.\n",
    "- if MCLICCSP__1 = (85) then CSP_Tit = 'Security'.\n",
    "- if MCLICCSP__1 = (2) then CSP_Tit = 'Agricultural worker'.\n",
    "- if MCLICCSP__1 = (97,99) then CSP_Tit = 'Executive'."
   ]
  },
  {
   "cell_type": "code",
   "execution_count": 33,
   "id": "03190714",
   "metadata": {},
   "outputs": [],
   "source": [
    "conditions = [\n",
    "    (df[\"MCLICCSP__1\"].isin([20,29])),\n",
    "    (df[\"MCLICCSP__1\"].isin([1])),\n",
    "    (df[\"MCLICCSP__1\"].isin([10,11])),\n",
    "    (df[\"MCLICCSP__1\"].isin([15])),\n",
    "    (df[\"MCLICCSP__1\"].isin([19])),\n",
    "    (df[\"MCLICCSP__1\"].isin([25,64,72,86,80,81,68,73,63,66,71])),\n",
    "    (df[\"MCLICCSP__1\"].isin([30,31,55,40,41,48,28])),\n",
    "    (df[\"MCLICCSP__1\"].isin([51,50,60,70])),\n",
    "    (df[\"MCLICCSP__1\"].isin([74])),\n",
    "    (df[\"MCLICCSP__1\"].isin([90,91])),\n",
    "    (df[\"MCLICCSP__1\"].isin([92,94,98,89])),\n",
    "    (df[\"MCLICCSP__1\"].isin([96,93])),\n",
    "    (df[\"MCLICCSP__1\"].isin([85])),\n",
    "    (df[\"MCLICCSP__1\"].isin([2])),\n",
    "    (df[\"MCLICCSP__1\"].isin([97,99]))\n",
    "]\n",
    "\n",
    "values = ['liberal_profession','Farmer','Trader','Artisan','Stallholder','worker','Managerial position','Employee',\n",
    "          'Military','Retired','Unemployed','Temporary contract','Security', 'Agricultural worker', 'Executive']\n",
    "\n",
    "df[\"CSP_Tit\"] = np.select(conditions,values, None)"
   ]
  },
  {
   "cell_type": "code",
   "execution_count": 34,
   "id": "37b49fa9",
   "metadata": {},
   "outputs": [
    {
     "data": {
      "text/plain": [
       "CSP_Tit\n",
       "Employee               27634\n",
       "Retired                 4575\n",
       "worker                  3247\n",
       "Managerial position     3174\n",
       "Trader                   535\n",
       "Military                 119\n",
       "Unemployed               112\n",
       "Security                  87\n",
       "liberal_profession        79\n",
       "Artisan                   66\n",
       "Agricultural worker       27\n",
       "Farmer                    10\n",
       "Executive                  7\n",
       "Temporary contract         3\n",
       "Name: count, dtype: int64"
      ]
     },
     "execution_count": 34,
     "metadata": {},
     "output_type": "execute_result"
    }
   ],
   "source": [
    "df[\"CSP_Tit\"].value_counts()"
   ]
  },
  {
   "cell_type": "markdown",
   "id": "ce3066e2",
   "metadata": {},
   "source": [
    "### Mrev_Tit"
   ]
  },
  {
   "cell_type": "markdown",
   "id": "86a4fad4",
   "metadata": {},
   "source": [
    "\"Create variable Mrev_Tit (salary) using this variable.\"\n",
    "\n",
    "Warning:\n",
    "\n",
    "- If CSP Code inactif, salary must be 0.\n",
    "\n",
    "- If MCLICCSP__1 = (89,92,94,95,98,0,.) then Mrev_Tit = 0"
   ]
  },
  {
   "cell_type": "code",
   "execution_count": 35,
   "id": "47efd0b5",
   "metadata": {},
   "outputs": [
    {
     "data": {
      "text/plain": [
       "np.int64(77)"
      ]
     },
     "execution_count": 35,
     "metadata": {},
     "output_type": "execute_result"
    }
   ],
   "source": [
    "df[\"Mrev_Tit\"] = np.where(df[\"MCLICCSP__1\"].isin([89,92,94,95,98,0]), 0, df[\"MCLIMRESS__1\"])\n",
    "df[\"Mrev_Tit\"].isna().sum()"
   ]
  },
  {
   "cell_type": "markdown",
   "id": "8b54c546",
   "metadata": {},
   "source": [
    "### Dnais_Tit"
   ]
  },
  {
   "cell_type": "markdown",
   "id": "94cd0907",
   "metadata": {},
   "source": [
    "Create date variable birthday **Dnais_Tit** using variable **MCLIDNAIS__1** (format JJ.MM.SSAA)."
   ]
  },
  {
   "cell_type": "markdown",
   "id": "9c7a34b6",
   "metadata": {},
   "source": [
    "On remarque qu'il y a des dates qui n'ont pas le bon format : *06.13.1951*, *01.14.1978*, *04.18.1951*.\n",
    "On ne va récupérer que l'année et le convertir sous forme de date"
   ]
  },
  {
   "cell_type": "code",
   "execution_count": null,
   "id": "ba24c85e",
   "metadata": {},
   "outputs": [
    {
     "data": {
      "text/plain": [
       "np.int64(0)"
      ]
     },
     "execution_count": 36,
     "metadata": {},
     "output_type": "execute_result"
    }
   ],
   "source": [
    "df[\"Dnais_Tit\"] = df[\"MCLIDNAIS__1\"].astype(str).str[6:]\n",
    "df[\"Dnais_Tit\"].isna().sum()"
   ]
  },
  {
   "cell_type": "code",
   "execution_count": 37,
   "id": "751f2fca",
   "metadata": {},
   "outputs": [
    {
     "name": "stdout",
     "output_type": "stream",
     "text": [
      "5\n",
      "Dnais_Tit\n",
      "1965-01-01    1078\n",
      "1972-01-01    1042\n",
      "1969-01-01    1032\n",
      "1966-01-01    1023\n",
      "1967-01-01    1019\n",
      "              ... \n",
      "1883-01-01       1\n",
      "1868-01-01       1\n",
      "1924-01-01       1\n",
      "1900-01-01       1\n",
      "1911-01-01       1\n",
      "Name: count, Length: 74, dtype: int64\n"
     ]
    }
   ],
   "source": [
    "df[\"Dnais_Tit\"] = pd.to_datetime(df[\"Dnais_Tit\"], format = '%Y', errors = 'coerce')\n",
    "print(df[\"Dnais_Tit\"].isna().sum())\n",
    "print(df[\"Dnais_Tit\"].value_counts())"
   ]
  },
  {
   "cell_type": "markdown",
   "id": "feb57eab",
   "metadata": {},
   "source": [
    "### Age_Tit"
   ]
  },
  {
   "cell_type": "markdown",
   "id": "e68aaec2",
   "metadata": {},
   "source": [
    "Create variable Age_Tit (applicant age) using variables Dnais_Tit and Gen_Demande (difference between Gen_Demande and Dnais_Tit)."
   ]
  },
  {
   "cell_type": "code",
   "execution_count": 38,
   "id": "b692462d",
   "metadata": {},
   "outputs": [
    {
     "name": "stdout",
     "output_type": "stream",
     "text": [
      "datetime64[ns]\n",
      "datetime64[ns]\n",
      "0   1955-01-01\n",
      "1   1964-01-01\n",
      "2   1948-01-01\n",
      "3   1951-01-01\n",
      "4   1948-01-01\n",
      "Name: Dnais_Tit, dtype: datetime64[ns]\n",
      "0   2016-08-01\n",
      "1   2016-07-01\n",
      "2   2015-04-01\n",
      "3   2014-10-01\n",
      "4   2014-08-01\n",
      "Name: Gen_Demande, dtype: datetime64[ns]\n"
     ]
    }
   ],
   "source": [
    "print(df[\"Dnais_Tit\"].dtype)\n",
    "print(df[\"Gen_Demande\"].dtype)\n",
    "print(df[\"Dnais_Tit\"].head(5))\n",
    "print(df[\"Gen_Demande\"].head(5))"
   ]
  },
  {
   "cell_type": "code",
   "execution_count": 39,
   "id": "8cd706f1",
   "metadata": {},
   "outputs": [
    {
     "data": {
      "text/plain": [
       "Age_Tit\n",
       "42.0     1042\n",
       "47.0     1042\n",
       "49.0     1036\n",
       "48.0     1028\n",
       "44.0     1009\n",
       "         ... \n",
       "145.0       1\n",
       "91.0        1\n",
       "81.0        1\n",
       "115.0       1\n",
       "105.0       1\n",
       "Name: count, Length: 73, dtype: int64"
      ]
     },
     "execution_count": 39,
     "metadata": {},
     "output_type": "execute_result"
    }
   ],
   "source": [
    "df[\"Age_Tit\"] = df[\"Gen_Demande\"].dt.year - df[\"Dnais_Tit\"].dt.year\n",
    "df[\"Age_Tit\"].value_counts()"
   ]
  },
  {
   "cell_type": "markdown",
   "id": "cafa7ffa",
   "metadata": {},
   "source": [
    "### Ancprof_Tit"
   ]
  },
  {
   "cell_type": "markdown",
   "id": "9d9e7f1a",
   "metadata": {},
   "source": [
    "Create date variable Ancprof_Tit (Date of professional activity start) using variable MCLICANCPROF__1 (Date of professional activity start in format AA)."
   ]
  },
  {
   "cell_type": "markdown",
   "id": "6fe67cc7",
   "metadata": {},
   "source": [
    "We got an error when trying to convert MCLICANCPROF__1 : invalid literal for int() with base 10: '**'.\n",
    "Let's check and replace !"
   ]
  },
  {
   "cell_type": "code",
   "execution_count": 40,
   "id": "4b4d04b5",
   "metadata": {},
   "outputs": [],
   "source": [
    "df['MCLICANCPROF__1'] = np.where(df['MCLICANCPROF__1'] == '**', pd.NaT, df['MCLICANCPROF__1'])\n",
    "df['MCLICANCPROF__1'] = pd.to_numeric(df['MCLICANCPROF__1'], errors = 'coerce')"
   ]
  },
  {
   "cell_type": "markdown",
   "id": "b6c0317a",
   "metadata": {},
   "source": [
    "Let's create a function that will transform the *format* **YY** in **YYYY**"
   ]
  },
  {
   "cell_type": "code",
   "execution_count": null,
   "id": "2076db5e",
   "metadata": {},
   "outputs": [],
   "source": [
    "def annee_complete(x) :\n",
    "    if x[\"MCLICANCPROF__1\"] > 23 :\n",
    "        return 1900 + x[\"MCLICANCPROF__1\"]\n",
    "    else :\n",
    "        return 2000 + x[\"MCLICANCPROF__1\"]"
   ]
  },
  {
   "cell_type": "code",
   "execution_count": 42,
   "id": "d8ec23cb",
   "metadata": {},
   "outputs": [
    {
     "data": {
      "text/plain": [
       "0        1941.0\n",
       "1        2006.0\n",
       "2        2006.0\n",
       "3        2009.0\n",
       "4        2000.0\n",
       "          ...  \n",
       "40342    1999.0\n",
       "40343    2015.0\n",
       "40344    2015.0\n",
       "40345    2013.0\n",
       "40346    2004.0\n",
       "Name: Ancprof_Tit, Length: 40347, dtype: object"
      ]
     },
     "execution_count": 42,
     "metadata": {},
     "output_type": "execute_result"
    }
   ],
   "source": [
    "df[\"Ancprof_Tit\"] = np.where(df[\"MCLICANCPROF__1\"] == pd.NaT, pd.NaT, df.apply (lambda x : annee_complete(x), axis = 1))\n",
    "df[\"Ancprof_Tit\"]"
   ]
  },
  {
   "cell_type": "markdown",
   "id": "dd33efe1",
   "metadata": {},
   "source": [
    "### Ancien_Prof_Tit"
   ]
  },
  {
   "cell_type": "markdown",
   "id": "b7c66c26",
   "metadata": {},
   "source": [
    "Create variable **Ancien_Prof_Tit** (number of years of professional seniority) using variables **Ancprof_Tit** and **Gen_Demande** difference between the two variables in years)."
   ]
  },
  {
   "cell_type": "code",
   "execution_count": 43,
   "id": "3d390cbb",
   "metadata": {},
   "outputs": [],
   "source": [
    "df[\"Ancien_Prof_Tit\"] = pd.to_numeric(df[\"Gen_Demande\"].dt.year - df[\"Ancprof_Tit\"], errors = 'coerce')"
   ]
  },
  {
   "cell_type": "markdown",
   "id": "d56f3f59",
   "metadata": {},
   "source": [
    "### Ancbanc_Tit"
   ]
  },
  {
   "cell_type": "markdown",
   "id": "74b435a5",
   "metadata": {},
   "source": [
    "Create variable Ancbanc_Tit (date of account openning) using variable MBQRBOUVCPTE__1 (Year of account openning in format AA).     \n",
    "\n",
    " \n",
    "Let's use the same function that we had used for the creation of the variable **Ancprof_Tit**"
   ]
  },
  {
   "cell_type": "code",
   "execution_count": 44,
   "id": "28cb1389",
   "metadata": {},
   "outputs": [],
   "source": [
    "def annee_complete(x) :\n",
    "    if x[\"MBQRBOUVCPTE__1\"] > 23 :\n",
    "        return 1900 + x[\"MBQRBOUVCPTE__1\"]\n",
    "    else :\n",
    "        return 2000 + x[\"MBQRBOUVCPTE__1\"]"
   ]
  },
  {
   "cell_type": "code",
   "execution_count": null,
   "id": "bdcd00c6",
   "metadata": {},
   "outputs": [],
   "source": [
    "year_account = pd.to_numeric(df[\"MBQRBOUVCPTE__1\"], errors = 'coerce')"
   ]
  },
  {
   "cell_type": "code",
   "execution_count": 46,
   "id": "db6e1077",
   "metadata": {},
   "outputs": [],
   "source": [
    "df[\"Ancbanc_Tit\"] = np.where(year_account == pd.NaT, pd.NaT, df.apply (lambda x : annee_complete(x), axis = 1))"
   ]
  },
  {
   "cell_type": "code",
   "execution_count": 47,
   "id": "4a3ae414",
   "metadata": {},
   "outputs": [
    {
     "data": {
      "text/plain": [
       "Ancbanc_Tit\n",
       "2000.0    8756\n",
       "2010.0    2844\n",
       "1990.0    1713\n",
       "2009.0    1525\n",
       "2005.0    1524\n",
       "1999.0    1327\n",
       "2008.0    1208\n",
       "2006.0    1150\n",
       "2011.0    1140\n",
       "2012.0    1089\n",
       "2007.0    1016\n",
       "2004.0     979\n",
       "1980.0     951\n",
       "2013.0     937\n",
       "1995.0     924\n",
       "2003.0     923\n",
       "2001.0     775\n",
       "2014.0     738\n",
       "1998.0     737\n",
       "2002.0     656\n",
       "2015.0     554\n",
       "1994.0     550\n",
       "1996.0     528\n",
       "1985.0     524\n",
       "1997.0     463\n",
       "1989.0     447\n",
       "1993.0     417\n",
       "1992.0     415\n",
       "1991.0     320\n",
       "1984.0     296\n",
       "1988.0     288\n",
       "1987.0     277\n",
       "1986.0     268\n",
       "1983.0     238\n",
       "1982.0     219\n",
       "1970.0     205\n",
       "1975.0     194\n",
       "1978.0     172\n",
       "1981.0     160\n",
       "1979.0     149\n",
       "1976.0     128\n",
       "1977.0     119\n",
       "2016.0     113\n",
       "1974.0     107\n",
       "1973.0      96\n",
       "1972.0      82\n",
       "1969.0      53\n",
       "1971.0      52\n",
       "1968.0      41\n",
       "1967.0      28\n",
       "1965.0      28\n",
       "1966.0      20\n",
       "1964.0      19\n",
       "1961.0       7\n",
       "1960.0       6\n",
       "1962.0       6\n",
       "1963.0       5\n",
       "Name: count, dtype: int64"
      ]
     },
     "execution_count": 47,
     "metadata": {},
     "output_type": "execute_result"
    }
   ],
   "source": [
    "df[\"Ancbanc_Tit\"].value_counts()"
   ]
  },
  {
   "cell_type": "markdown",
   "id": "aebda4c1",
   "metadata": {},
   "source": [
    "### Ancien_Banc_Tit"
   ]
  },
  {
   "cell_type": "markdown",
   "id": "fdbe5739",
   "metadata": {},
   "source": [
    "Create variable **Ancien_Banc_Tit** (bank account seniority in years) using variables **Ancbanc_Tit** et **Gen_Demande** (difference in years)."
   ]
  },
  {
   "cell_type": "code",
   "execution_count": 48,
   "id": "c8374b08",
   "metadata": {},
   "outputs": [],
   "source": [
    "df[\"Ancien_Banc_Tit\"] = pd.to_numeric(df[\"Gen_Demande\"].dt.year - df[\"Ancbanc_Tit\"], errors = 'coerce')"
   ]
  },
  {
   "cell_type": "markdown",
   "id": "a2dacfee",
   "metadata": {},
   "source": [
    "### CSP_Cj"
   ]
  },
  {
   "cell_type": "markdown",
   "id": "2d0cb34c",
   "metadata": {},
   "source": [
    "\"Create variable CSP_Cj (socio-professional category of the holders partner) using variable MCLICCSP__2 and :\"\n",
    "- if MCLICCSP__2 = (20,29) then CSP_Cj = 'liberal_profession'.\n",
    "- if MCLICCSP__2 = (1) then CSP_Cj = 'Farmer'.\n",
    "- if MCLICCSP__2 = (10,11) then CSP_Cj = 'Trader'.\n",
    "- if MCLICCSP__2 = (15) then CSP_Cj = 'Artisan'.\n",
    "- if MCLICCSP__2 = (19) then CSP_Cj = 'Stallholder '.\n",
    "- if MCLICCSP__2 = (25,64,72,86,80,81,68,73,63,66,71) then CSP_Cj = 'worker'.\n",
    "- if MCLICCSP__2 = (30,31,55,40,41,48,28) then CSP_Cj = 'Managerial position'.\n",
    "- if MCLICCSP__2 = (51,50,60,70) then CSP_Cj = 'Employee'.\n",
    "- if MCLICCSP__2 = (74) then CSP_Cj = 'Military'.\n",
    "- if MCLICCSP__2 = (90,91) then CSP_Cj = 'Retired'.\n",
    "- if MCLICCSP__2 = (92,94,98,89) then CSP_Cj = 'Unemployed'.\n",
    "- if MCLICCSP__2 = (96,93) then CSP_Cj = 'Temporary contract'.\n",
    "- if MCLICCSP__2 = (85) then CSP_Cj = 'Security'.\n",
    "- if MCLICCSP__2 = (2) then CSP_Cj = 'Agricultural worker'.\n",
    "- if MCLICCSP__2 = (97,99) then CSP_Cj = 'Executive'."
   ]
  },
  {
   "cell_type": "code",
   "execution_count": 49,
   "id": "f9d1df20",
   "metadata": {},
   "outputs": [],
   "source": [
    "conditions = [\n",
    "    (df[\"MCLICCSP__2\"].isin([20,29])),\n",
    "    (df[\"MCLICCSP__2\"].isin([1])),\n",
    "    (df[\"MCLICCSP__2\"].isin([10,11])),\n",
    "    (df[\"MCLICCSP__2\"].isin([15])),\n",
    "    (df[\"MCLICCSP__2\"].isin([19])),\n",
    "    (df[\"MCLICCSP__2\"].isin([25,64,72,86,80,81,68,73,63,66,71])),\n",
    "    (df[\"MCLICCSP__2\"].isin([30,31,55,40,41,48,28])),\n",
    "    (df[\"MCLICCSP__2\"].isin([51,50,60,70])),\n",
    "    (df[\"MCLICCSP__2\"].isin([74])),\n",
    "    (df[\"MCLICCSP__2\"].isin([90,91])),\n",
    "    (df[\"MCLICCSP__2\"].isin([92,94,98,89])),\n",
    "    (df[\"MCLICCSP__2\"].isin([96,93])),\n",
    "    (df[\"MCLICCSP__2\"].isin([85])),\n",
    "    (df[\"MCLICCSP__2\"].isin([2])),\n",
    "    (df[\"MCLICCSP__2\"].isin([97,99])),\n",
    "    (df[\"MCLICCSP__2\"] != 0)\n",
    "]\n",
    "\n",
    "values = ['liberal_profession','Farmer','Trader','Artisan','Stallholder','worker','Managerial position','Employee',\n",
    "          'Military','Retired','Unemployed','Temporary contract','Security', 'Agricultural worker', 'Executive','Else']\n",
    "\n",
    "df[\"CSP_Cj\"] = np.select(conditions, values, pd.NaT)"
   ]
  },
  {
   "cell_type": "code",
   "execution_count": 50,
   "id": "b44df4b9",
   "metadata": {},
   "outputs": [
    {
     "data": {
      "text/plain": [
       "np.int64(22921)"
      ]
     },
     "execution_count": 50,
     "metadata": {},
     "output_type": "execute_result"
    }
   ],
   "source": [
    "df['CSP_Cj'].isna().sum()"
   ]
  },
  {
   "cell_type": "markdown",
   "id": "aaecae38",
   "metadata": {},
   "source": [
    "### Mrev_Cj"
   ]
  },
  {
   "cell_type": "markdown",
   "id": "eb1c1b3b",
   "metadata": {},
   "source": [
    "\"Create variable Mrev_Cj (partner salary) using this variable. Warning :\n",
    "- if code CSP inactif, then salary must be 0.\n",
    "- if MCLICCSP__2 = (89,92,94,95,98,0.) then Mrev_Cj = 0"
   ]
  },
  {
   "cell_type": "code",
   "execution_count": 51,
   "id": "d0eb6c55",
   "metadata": {},
   "outputs": [],
   "source": [
    "df[\"Mrev_Cj\"] = np.where(df[\"MCLICCSP__2\"].isin([89,92,94,95,98,0]), 0, df[\"MCLIMRESS__2\"])"
   ]
  },
  {
   "cell_type": "code",
   "execution_count": 52,
   "id": "8e868dc9",
   "metadata": {},
   "outputs": [
    {
     "data": {
      "text/plain": [
       "np.int64(5726)"
      ]
     },
     "execution_count": 52,
     "metadata": {},
     "output_type": "execute_result"
    }
   ],
   "source": [
    "df[\"Mrev_Cj\"].isna().sum()"
   ]
  },
  {
   "cell_type": "markdown",
   "id": "9fef5f13",
   "metadata": {},
   "source": [
    "### Dnais_Cj"
   ]
  },
  {
   "cell_type": "markdown",
   "id": "5fde9329",
   "metadata": {},
   "source": [
    "Create date variable Dnais_Cj (partner birthday) using variable MCLIDNAIS__2 (in format DD.MM.YYYY)."
   ]
  },
  {
   "cell_type": "code",
   "execution_count": 53,
   "id": "0a3a0dd9",
   "metadata": {},
   "outputs": [],
   "source": [
    "df[\"Dnais_Cj\"] = df[\"MCLIDNAIS__2\"].astype(str).str[6:]\n",
    "df[\"Dnais_Cj\"] = pd.to_datetime(df[\"Dnais_Cj\"], format = '%Y', errors = 'coerce')"
   ]
  },
  {
   "cell_type": "code",
   "execution_count": 54,
   "id": "cc68357f",
   "metadata": {},
   "outputs": [
    {
     "data": {
      "text/plain": [
       "np.int64(35861)"
      ]
     },
     "execution_count": 54,
     "metadata": {},
     "output_type": "execute_result"
    }
   ],
   "source": [
    "df[\"Dnais_Cj\"].isna().sum()"
   ]
  },
  {
   "cell_type": "markdown",
   "id": "70a2acc3",
   "metadata": {},
   "source": [
    "### Age_Cj"
   ]
  },
  {
   "cell_type": "markdown",
   "id": "92080fd1",
   "metadata": {},
   "source": [
    "Create variable **Age_Cj** using variables **Dnais_Cj** and **Gen_Demande** (difference between Gen_Demande and Dnais_Cj)."
   ]
  },
  {
   "cell_type": "code",
   "execution_count": 55,
   "id": "b029b692",
   "metadata": {},
   "outputs": [
    {
     "name": "stdout",
     "output_type": "stream",
     "text": [
      "datetime64[ns]\n",
      "datetime64[ns]\n",
      "0          NaT\n",
      "1          NaT\n",
      "2   1946-01-01\n",
      "3          NaT\n",
      "4   1952-01-01\n",
      "Name: Dnais_Cj, dtype: datetime64[ns]\n",
      "0   2016-08-01\n",
      "1   2016-07-01\n",
      "2   2015-04-01\n",
      "3   2014-10-01\n",
      "4   2014-08-01\n",
      "Name: Gen_Demande, dtype: datetime64[ns]\n"
     ]
    }
   ],
   "source": [
    "print(df[\"Dnais_Cj\"].dtype)\n",
    "print(df[\"Gen_Demande\"].dtype)\n",
    "print(df[\"Dnais_Cj\"].head(5))\n",
    "print(df[\"Gen_Demande\"].head(5))"
   ]
  },
  {
   "cell_type": "code",
   "execution_count": 56,
   "id": "6ab17926",
   "metadata": {},
   "outputs": [],
   "source": [
    "df[\"Age_Cj\"] = df[\"Gen_Demande\"].dt.year - df[\"Dnais_Cj\"].dt.year"
   ]
  },
  {
   "cell_type": "code",
   "execution_count": 57,
   "id": "1fbe25ac",
   "metadata": {},
   "outputs": [
    {
     "data": {
      "text/plain": [
       "0         NaN\n",
       "1         NaN\n",
       "2        69.0\n",
       "3         NaN\n",
       "4        62.0\n",
       "         ... \n",
       "40342     NaN\n",
       "40343     NaN\n",
       "40344     NaN\n",
       "40345     NaN\n",
       "40346     NaN\n",
       "Name: Age_Cj, Length: 40347, dtype: float64"
      ]
     },
     "execution_count": 57,
     "metadata": {},
     "output_type": "execute_result"
    }
   ],
   "source": [
    "df[\"Age_Cj\"]"
   ]
  },
  {
   "cell_type": "markdown",
   "id": "c16d8ea7",
   "metadata": {},
   "source": [
    "### Ancprof_Cj"
   ]
  },
  {
   "cell_type": "markdown",
   "id": "5b879dfe",
   "metadata": {},
   "source": [
    "Create date variable Ancprof_Cj (professional seniority) using variable MCLICANCPROF__2 (year partner professional activity started)."
   ]
  },
  {
   "cell_type": "code",
   "execution_count": 58,
   "id": "daccc591",
   "metadata": {},
   "outputs": [],
   "source": [
    "pd.to_numeric(df[\"MCLICANCPROF__2\"], errors = 'coerce')\n",
    "\n",
    "def annee_complete(x) :\n",
    "    if x[\"MCLICANCPROF__2\"] > 23 :\n",
    "        return 1900 + x[\"MCLICANCPROF__2\"]\n",
    "    else :\n",
    "        return 2000 + x[\"MCLICANCPROF__2\"]\n",
    "\n",
    "df[\"Ancprof_Cj\"] = np.where(df[\"MCLICANCPROF__2\"] == pd.NaT, pd.NaT, df.apply (lambda x : annee_complete(x), axis = 1))"
   ]
  },
  {
   "cell_type": "code",
   "execution_count": 59,
   "id": "3846f2d5",
   "metadata": {},
   "outputs": [
    {
     "data": {
      "text/plain": [
       "np.int64(38947)"
      ]
     },
     "execution_count": 59,
     "metadata": {},
     "output_type": "execute_result"
    }
   ],
   "source": [
    "df[\"Ancprof_Cj\"].isna().sum()"
   ]
  },
  {
   "cell_type": "markdown",
   "id": "cb2de6a0",
   "metadata": {},
   "source": [
    "### Ancien_Prof_Cj"
   ]
  },
  {
   "cell_type": "markdown",
   "id": "16a7675d",
   "metadata": {},
   "source": [
    "Create variable Ancien_Prof_Cj (years of partners professional seniority) use variables Ancprof_Cj and Gen_Demande (difference in years)."
   ]
  },
  {
   "cell_type": "code",
   "execution_count": 60,
   "id": "ece68a63",
   "metadata": {},
   "outputs": [],
   "source": [
    "df[\"Ancien_Prof_Cj\"] = pd.to_numeric(df[\"Gen_Demande\"].dt.year - df[\"Ancprof_Cj\"], errors = 'coerce')"
   ]
  },
  {
   "cell_type": "code",
   "execution_count": 61,
   "id": "a7013550",
   "metadata": {},
   "outputs": [
    {
     "data": {
      "text/plain": [
       "np.int64(38947)"
      ]
     },
     "execution_count": 61,
     "metadata": {},
     "output_type": "execute_result"
    }
   ],
   "source": [
    "df[\"Ancien_Prof_Cj\"].isna().sum()"
   ]
  },
  {
   "cell_type": "markdown",
   "id": "5377f95a",
   "metadata": {},
   "source": [
    "### Ancbanc_Cj"
   ]
  },
  {
   "cell_type": "markdown",
   "id": "5c8ad042",
   "metadata": {},
   "source": [
    "Create variable **Ancbanc_Cj** (date of account openning) using variable **MBQRBOUVCPTE__2** (Year of account openning in format AA)."
   ]
  },
  {
   "cell_type": "code",
   "execution_count": 62,
   "id": "70aebf55",
   "metadata": {},
   "outputs": [
    {
     "data": {
      "text/plain": [
       "np.int64(2491)"
      ]
     },
     "execution_count": 62,
     "metadata": {},
     "output_type": "execute_result"
    }
   ],
   "source": [
    "def annee_complete(x) :\n",
    "    if x[\"MBQRBOUVCPTE__2\"] > 23 :\n",
    "        return 1900 + x[\"MBQRBOUVCPTE__2\"]\n",
    "    else :\n",
    "        return 2000 + x[\"MBQRBOUVCPTE__2\"]\n",
    "\n",
    "year_account = pd.to_numeric(df[\"MBQRBOUVCPTE__2\"], errors = 'coerce')\n",
    "year_account.isna().sum()"
   ]
  },
  {
   "cell_type": "code",
   "execution_count": 63,
   "id": "51fbd778",
   "metadata": {},
   "outputs": [],
   "source": [
    "df[\"Ancbanc_Cj\"] = np.where(year_account == pd.NaT, pd.NaT, df.apply (lambda x : annee_complete(x), axis = 1))"
   ]
  },
  {
   "cell_type": "code",
   "execution_count": 64,
   "id": "c05c4839",
   "metadata": {},
   "outputs": [
    {
     "data": {
      "text/plain": [
       "np.int64(2491)"
      ]
     },
     "execution_count": 64,
     "metadata": {},
     "output_type": "execute_result"
    }
   ],
   "source": [
    "df[\"Ancbanc_Cj\"].isna().sum()"
   ]
  },
  {
   "cell_type": "markdown",
   "id": "09eed2b7",
   "metadata": {},
   "source": [
    "### Ancien_Banc_Cj"
   ]
  },
  {
   "cell_type": "markdown",
   "id": "e59521ff",
   "metadata": {},
   "source": [
    "Create variable Ancien_Banc_Cj (bank account seniority in years) using variables Ancbanc_Cj et Gen_Demande (difference in years)."
   ]
  },
  {
   "cell_type": "code",
   "execution_count": 65,
   "id": "224a0fb5",
   "metadata": {},
   "outputs": [],
   "source": [
    "df[\"Ancien_Banc_Cj\"] = pd.to_numeric(df[\"Gen_Demande\"].dt.year - df[\"Ancbanc_Cj\"], errors = 'coerce')"
   ]
  },
  {
   "cell_type": "code",
   "execution_count": 66,
   "id": "283c6731",
   "metadata": {},
   "outputs": [
    {
     "data": {
      "text/plain": [
       "0        26.0\n",
       "1        33.0\n",
       "2         6.0\n",
       "3        14.0\n",
       "4         5.0\n",
       "         ... \n",
       "40342    17.0\n",
       "40343    17.0\n",
       "40344    16.0\n",
       "40345    16.0\n",
       "40346    27.0\n",
       "Name: Ancien_Banc_Cj, Length: 40347, dtype: float64"
      ]
     },
     "execution_count": 66,
     "metadata": {},
     "output_type": "execute_result"
    }
   ],
   "source": [
    "df[\"Ancien_Banc_Cj\"]"
   ]
  },
  {
   "cell_type": "markdown",
   "id": "963e3789",
   "metadata": {},
   "source": [
    "### Anc_Hab"
   ]
  },
  {
   "cell_type": "markdown",
   "id": "d0283e04",
   "metadata": {},
   "source": [
    "Create variable Anc_Habj (habitation seniority) using variable MCLFCANCHAB1 (year started habitation)."
   ]
  },
  {
   "cell_type": "code",
   "execution_count": 67,
   "id": "52696f78",
   "metadata": {},
   "outputs": [],
   "source": [
    "def annee_complete(x) :\n",
    "    if x[\"MCLFCANCHAB1\"] > 23 :\n",
    "        return 1900 + x[\"MCLFCANCHAB1\"]\n",
    "    else :\n",
    "        return 2000 + x[\"MCLFCANCHAB1\"]"
   ]
  },
  {
   "cell_type": "code",
   "execution_count": 68,
   "id": "37cea8cd",
   "metadata": {},
   "outputs": [],
   "source": [
    "df[\"Anc_Hab\"] = np.where(df[\"MCLFCANCHAB1\"] == pd.NaT, pd.NaT, df.apply (lambda x : annee_complete(x), axis = 1))"
   ]
  },
  {
   "cell_type": "code",
   "execution_count": 69,
   "id": "0d233c6f",
   "metadata": {},
   "outputs": [
    {
     "data": {
      "text/plain": [
       "np.int64(36249)"
      ]
     },
     "execution_count": 69,
     "metadata": {},
     "output_type": "execute_result"
    }
   ],
   "source": [
    "df[\"Anc_Hab\"].isna().sum()"
   ]
  },
  {
   "cell_type": "markdown",
   "id": "a3db267e",
   "metadata": {},
   "source": [
    "### Ancien_Habit"
   ]
  },
  {
   "cell_type": "markdown",
   "id": "5fffff42",
   "metadata": {},
   "source": [
    "Create variable Ancien_Habit (number of habitation years) using variables Anc_Hab and Gen_Demande (difference in years)."
   ]
  },
  {
   "cell_type": "code",
   "execution_count": 70,
   "id": "f05a8fd2",
   "metadata": {},
   "outputs": [],
   "source": [
    "df[\"Ancien_Habit\"] = pd.to_numeric(df[\"Gen_Demande\"].dt.year - df[\"Anc_Hab\"], errors = 'coerce')"
   ]
  },
  {
   "cell_type": "code",
   "execution_count": 71,
   "id": "bcfd6e3c",
   "metadata": {},
   "outputs": [
    {
     "data": {
      "text/plain": [
       "0     NaN\n",
       "1    20.0\n",
       "2    46.0\n",
       "3    25.0\n",
       "4    41.0\n",
       "Name: Ancien_Habit, dtype: float64"
      ]
     },
     "execution_count": 71,
     "metadata": {},
     "output_type": "execute_result"
    }
   ],
   "source": [
    "df[\"Ancien_Habit\"].head()"
   ]
  },
  {
   "cell_type": "markdown",
   "id": "df76add7",
   "metadata": {},
   "source": [
    "### Nb_Enf"
   ]
  },
  {
   "cell_type": "markdown",
   "id": "729e71f5",
   "metadata": {},
   "source": [
    "Create variable Nb_Enf (number of children) converting variable MCLFBENF in numeric format."
   ]
  },
  {
   "cell_type": "code",
   "execution_count": 72,
   "id": "7e1ce4d8",
   "metadata": {},
   "outputs": [],
   "source": [
    "df[\"Nb_Enf\"] = pd.to_numeric(df[\"MCLFBENF\"], errors = 'coerce') "
   ]
  },
  {
   "cell_type": "code",
   "execution_count": 73,
   "id": "ca0077b0",
   "metadata": {},
   "outputs": [
    {
     "data": {
      "text/plain": [
       "np.int64(35727)"
      ]
     },
     "execution_count": 73,
     "metadata": {},
     "output_type": "execute_result"
    }
   ],
   "source": [
    "df[\"Nb_Enf\"].isna().sum()"
   ]
  },
  {
   "cell_type": "markdown",
   "id": "195f2116",
   "metadata": {},
   "source": [
    "### Ressource"
   ]
  },
  {
   "cell_type": "markdown",
   "id": "a7a210d7",
   "metadata": {},
   "source": [
    "\"Create variable Ressource en by summig variables (MCLFMALLOCLOG+MCLFMALLOCFAM+Mrev_Tit+Mrec_Cj).\"\n",
    "\n",
    "Warning : if one of variables above is missing it must be treated as 0."
   ]
  },
  {
   "cell_type": "code",
   "execution_count": 74,
   "id": "0a2f1212",
   "metadata": {},
   "outputs": [
    {
     "data": {
      "text/plain": [
       "Ressource\n",
       "1400.0    2101\n",
       "1700.0    1549\n",
       "2200.0    1401\n",
       "1500.0    1282\n",
       "1600.0    1153\n",
       "Name: count, dtype: int64"
      ]
     },
     "execution_count": 74,
     "metadata": {},
     "output_type": "execute_result"
    }
   ],
   "source": [
    "df[\"Ressource\"] = pd.to_numeric(df[\"MCLFMALLOCFAM\"].fillna(0) +\n",
    "                                df[\"MCLFMALLOCLOG\"].fillna(0) +\n",
    "                                df[\"Mrev_Tit\"].fillna(0) +\n",
    "                                df[\"Mrev_Cj\"].fillna(0) , errors='coerce')\n",
    "\n",
    "df[\"Ressource\"].value_counts().head()"
   ]
  },
  {
   "cell_type": "markdown",
   "id": "6044ead0",
   "metadata": {},
   "source": [
    "### Charge"
   ]
  },
  {
   "cell_type": "markdown",
   "id": "d23eb547",
   "metadata": {},
   "source": [
    "\"Create variable Charge by summing variables (MCLFMFRAISGARD+MCPFMMENSRES1+MCPFMMENSRES2).\"\n",
    "\n",
    "Warning : if one of variables above is missing it must be treated as 0."
   ]
  },
  {
   "cell_type": "code",
   "execution_count": 75,
   "id": "1edd18fa",
   "metadata": {},
   "outputs": [
    {
     "data": {
      "text/plain": [
       "Charge\n",
       "0.0      19778\n",
       "500.0     1099\n",
       "400.0      868\n",
       "600.0      841\n",
       "300.0      841\n",
       "Name: count, dtype: int64"
      ]
     },
     "execution_count": 75,
     "metadata": {},
     "output_type": "execute_result"
    }
   ],
   "source": [
    "df[\"Charge\"] = pd.to_numeric(df[\"MCLFMFRAISGARD\"].fillna(0)\n",
    "                            + df[\"MCPFMMENSRES1\"].fillna(0)\n",
    "                            + df[\"MCPFMMENSRES2\"].fillna(0), errors='coerce')\n",
    "\n",
    "df[\"Charge\"].value_counts().head()"
   ]
  },
  {
   "cell_type": "markdown",
   "id": "b2d85ef0",
   "metadata": {},
   "source": [
    "### RAV"
   ]
  },
  {
   "cell_type": "markdown",
   "id": "e9f8c5f1",
   "metadata": {},
   "source": [
    "Create variable RAV making the difference between variables Ressource and Charge."
   ]
  },
  {
   "cell_type": "code",
   "execution_count": 76,
   "id": "3576593e",
   "metadata": {},
   "outputs": [
    {
     "data": {
      "text/plain": [
       "RAV\n",
       "1400.0    1303\n",
       "1700.0    1015\n",
       "1500.0     894\n",
       "2200.0     848\n",
       "1600.0     827\n",
       "Name: count, dtype: int64"
      ]
     },
     "execution_count": 76,
     "metadata": {},
     "output_type": "execute_result"
    }
   ],
   "source": [
    "df[\"RAV\"] = df[\"Ressource\"] - df[\"Charge\"]\n",
    "\n",
    "df[\"RAV\"].value_counts().head()"
   ]
  },
  {
   "cell_type": "markdown",
   "id": "a8b37674",
   "metadata": {},
   "source": [
    "### Ratio_Ress_RAV"
   ]
  },
  {
   "cell_type": "markdown",
   "id": "420ff4bd",
   "metadata": {},
   "source": [
    "Create variable Ratio_Ress_RAV dividing variables Ressource and RAV."
   ]
  },
  {
   "cell_type": "code",
   "execution_count": 77,
   "id": "4c20da81",
   "metadata": {},
   "outputs": [
    {
     "data": {
      "text/plain": [
       "Ratio_Ress_RAV\n",
       "1.000000    19777\n",
       "1.333333      323\n",
       "1.250000      242\n",
       "1.200000      176\n",
       "1.500000      162\n",
       "Name: count, dtype: int64"
      ]
     },
     "execution_count": 77,
     "metadata": {},
     "output_type": "execute_result"
    }
   ],
   "source": [
    "df[\"Ratio_Ress_RAV\"] = df[\"Ressource\"] / df[\"RAV\"]\n",
    "\n",
    "df[\"Ratio_Ress_RAV\"].value_counts().head()"
   ]
  },
  {
   "cell_type": "markdown",
   "id": "6b9b816b",
   "metadata": {},
   "source": [
    "### RAV_Rev"
   ]
  },
  {
   "cell_type": "markdown",
   "id": "cb1f5805",
   "metadata": {},
   "source": [
    "Create variable RAV_Rev dividing variable RAV and the sum of variables Mrev_Tit and Mrev_Cj."
   ]
  },
  {
   "cell_type": "code",
   "execution_count": 78,
   "id": "338bd580",
   "metadata": {},
   "outputs": [
    {
     "data": {
      "text/plain": [
       "RAV_Rev\n",
       "1.000000    3961\n",
       "1.166667     853\n",
       "1.133333     675\n",
       "1.100000     627\n",
       "1.153846     541\n",
       "            ... \n",
       "1.008347       1\n",
       "0.757273       1\n",
       "0.789091       1\n",
       "0.803493       1\n",
       "0.932297       1\n",
       "Name: count, Length: 9984, dtype: int64"
      ]
     },
     "execution_count": 78,
     "metadata": {},
     "output_type": "execute_result"
    }
   ],
   "source": [
    "df[\"RAV_Rev\"] = df[\"RAV\"] / (df[\"Mrev_Tit\"] + df[\"Mrev_Cj\"])\n",
    "\n",
    "df[\"RAV_Rev\"].value_counts()"
   ]
  },
  {
   "cell_type": "markdown",
   "id": "48416c1b",
   "metadata": {},
   "source": [
    "### Tx_Edt"
   ]
  },
  {
   "cell_type": "markdown",
   "id": "7730f164",
   "metadata": {},
   "source": [
    "Create variable Tx_Edt dividing variables Charge and Ressource."
   ]
  },
  {
   "cell_type": "code",
   "execution_count": 79,
   "id": "5f5cf969",
   "metadata": {},
   "outputs": [
    {
     "data": {
      "text/plain": [
       "Tx_Edt\n",
       "0.000000    19777\n",
       "0.250000      323\n",
       "0.200000      242\n",
       "0.166667      176\n",
       "0.333333      162\n",
       "Name: count, dtype: int64"
      ]
     },
     "execution_count": 79,
     "metadata": {},
     "output_type": "execute_result"
    }
   ],
   "source": [
    "df[\"Tx_Edt\"] = df[\"Charge\"] / df[\"Ressource\"]\n",
    "\n",
    "df[\"Tx_Edt\"].value_counts().head()"
   ]
  },
  {
   "cell_type": "markdown",
   "id": "0f6bbb37",
   "metadata": {},
   "source": [
    "### DMA"
   ]
  },
  {
   "cell_type": "markdown",
   "id": "153b3845",
   "metadata": {},
   "source": [
    "Create variable DMA (in euros) using variable MDCOMDMA (amount DMA in cents mouchards propagation)."
   ]
  },
  {
   "cell_type": "code",
   "execution_count": 80,
   "id": "f9555dfe",
   "metadata": {},
   "outputs": [
    {
     "data": {
      "text/plain": [
       "DMA\n",
       "800.0     40236\n",
       "2000.0       75\n",
       "1500.0       24\n",
       "3000.0        6\n",
       "1600.0        1\n",
       "Name: count, dtype: int64"
      ]
     },
     "execution_count": 80,
     "metadata": {},
     "output_type": "execute_result"
    }
   ],
   "source": [
    "df[\"DMA\"] = df[\"MDCOMDMA\"]/100\n",
    "\n",
    "df[\"DMA\"].value_counts().head()"
   ]
  },
  {
   "cell_type": "markdown",
   "id": "7331c14e",
   "metadata": {},
   "source": [
    "### Mdecouvert"
   ]
  },
  {
   "cell_type": "markdown",
   "id": "a3fefa92",
   "metadata": {},
   "source": [
    "Create variable Mdecouvert (amount of decouvert in cents, it must be converted in euros) using MDPRMDECO."
   ]
  },
  {
   "cell_type": "code",
   "execution_count": 81,
   "id": "c618d552",
   "metadata": {},
   "outputs": [],
   "source": [
    "df[\"Mdecouvert\"] = df[\"MDPRMDECO\"] /100"
   ]
  },
  {
   "cell_type": "markdown",
   "id": "d2bda431",
   "metadata": {},
   "source": [
    "### DEFAUT_B"
   ]
  },
  {
   "cell_type": "markdown",
   "id": "92c80465",
   "metadata": {},
   "source": [
    "Create variable DEFAUT_B (DEFAUT_B=h12_ctx_r3)."
   ]
  },
  {
   "cell_type": "code",
   "execution_count": 82,
   "id": "d18217ae",
   "metadata": {},
   "outputs": [],
   "source": [
    "df[\"Defaut_B\"] = 0\n",
    "for var in [\"HMIN_R3_min\", \"HMIN_CTX_min\"]:\n",
    "    df[\"TEMP\"] = df[var].apply(lambda x: 1  if 0 < x < 13 else 0)\n",
    "    df[\"Defaut_B\"] = df[[\"Defaut_B\",\"TEMP\"]].max(axis=1)\n",
    "df.drop(columns=[\"TEMP\"], inplace=True)"
   ]
  },
  {
   "cell_type": "code",
   "execution_count": 83,
   "id": "1ee18d05",
   "metadata": {},
   "outputs": [],
   "source": [
    "df[\"Defaut_C\"] = np.where (df[\"HMIN_R3_min\"] <= 12, 1, 0)"
   ]
  },
  {
   "cell_type": "code",
   "execution_count": 84,
   "id": "b7750fc4",
   "metadata": {},
   "outputs": [
    {
     "data": {
      "text/plain": [
       "Defaut_C\n",
       "0    39128\n",
       "1     1219\n",
       "Name: count, dtype: int64"
      ]
     },
     "execution_count": 84,
     "metadata": {},
     "output_type": "execute_result"
    }
   ],
   "source": [
    "df[\"Defaut_C\"].value_counts()"
   ]
  },
  {
   "cell_type": "code",
   "execution_count": 85,
   "id": "6cdf89cc",
   "metadata": {},
   "outputs": [
    {
     "data": {
      "text/plain": [
       "Defaut_B\n",
       "0    39096\n",
       "1     1251\n",
       "Name: count, dtype: int64"
      ]
     },
     "execution_count": 85,
     "metadata": {},
     "output_type": "execute_result"
    }
   ],
   "source": [
    "df[\"Defaut_B\"].value_counts()"
   ]
  },
  {
   "cell_type": "markdown",
   "id": "b9d9ab0c",
   "metadata": {},
   "source": [
    "### MP & BP"
   ]
  },
  {
   "cell_type": "markdown",
   "id": "dd3dc9bc",
   "metadata": {},
   "source": [
    "Create variable MP after creating late payments flags per horizons.\n",
    "\n",
    "Create variable MP (bad payer) : if DEFAUT_B=1 then MP=1 else 0."
   ]
  },
  {
   "cell_type": "markdown",
   "id": "532ff47d",
   "metadata": {},
   "source": [
    "Create variable BP after creating late payments per horizons module risk of sctools can be used for this.\n",
    "\n",
    "Create variable BP (good payer) : if DEFAUT_B=0 then BP=1 else 0."
   ]
  },
  {
   "cell_type": "code",
   "execution_count": 86,
   "id": "2c1f193f",
   "metadata": {},
   "outputs": [],
   "source": [
    "df[\"MP\"] = np.where(df[\"Defaut_B\"]==1, 1, 0 )\n",
    "\n",
    "df[\"BP\"] = np.where(df[\"Defaut_B\"]==1, 0, 1 )"
   ]
  },
  {
   "cell_type": "markdown",
   "id": "c307d079",
   "metadata": {},
   "source": [
    "## Save"
   ]
  },
  {
   "cell_type": "code",
   "execution_count": 88,
   "id": "a330ae07",
   "metadata": {},
   "outputs": [],
   "source": [
    "df.to_csv(\"../data/feature_engineered_data.csv\", index=False)"
   ]
  },
  {
   "cell_type": "code",
   "execution_count": null,
   "id": "7fd81a3f",
   "metadata": {},
   "outputs": [],
   "source": []
  }
 ],
 "metadata": {
  "kernelspec": {
   "display_name": ".venv",
   "language": "python",
   "name": "python3"
  },
  "language_info": {
   "codemirror_mode": {
    "name": "ipython",
    "version": 3
   },
   "file_extension": ".py",
   "mimetype": "text/x-python",
   "name": "python",
   "nbconvert_exporter": "python",
   "pygments_lexer": "ipython3",
   "version": "3.11.9"
  }
 },
 "nbformat": 4,
 "nbformat_minor": 5
}
