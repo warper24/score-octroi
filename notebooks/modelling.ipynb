{
 "cells": [
  {
   "cell_type": "code",
   "execution_count": 62,
   "id": "b44adf7d",
   "metadata": {},
   "outputs": [
    {
     "name": "stdout",
     "output_type": "stream",
     "text": [
      "The autoreload extension is already loaded. To reload it, use:\n",
      "  %reload_ext autoreload\n"
     ]
    }
   ],
   "source": [
    "import pandas as pd\n",
    "import numpy as np\n",
    "import plotly.express as px\n",
    "from sklearn.ensemble import RandomForestClassifier, GradientBoostingClassifier\n",
    "from xgboost import XGBClassifier\n",
    "from sklearn.model_selection import RandomizedSearchCV, StratifiedKFold\n",
    "from scipy.stats import randint, uniform, loguniform\n",
    "from sklearn.inspection import permutation_importance\n",
    "from sklearn.metrics import roc_auc_score, precision_score, recall_score\n",
    "import lightgbm as lgb\n",
    "\n",
    "%load_ext autoreload\n",
    "%autoreload 2\n",
    "%reload_ext autoreload"
   ]
  },
  {
   "cell_type": "markdown",
   "id": "f15c628e",
   "metadata": {},
   "source": [
    "## Load Data"
   ]
  },
  {
   "cell_type": "code",
   "execution_count": 63,
   "id": "5d135e15",
   "metadata": {},
   "outputs": [],
   "source": [
    "df = pd.read_csv(\"../data/model_data.csv\", low_memory=False)"
   ]
  },
  {
   "cell_type": "code",
   "execution_count": 64,
   "id": "81316e07",
   "metadata": {},
   "outputs": [],
   "source": [
    "df = df[[\n",
    "    \"ZCOM_SR_CL_MIMPOTS\",\n",
    "    \"Mrev_Tit\",\n",
    "    \"Nb_Enf\",\n",
    "    \"Ressource\",\n",
    "    \"Charge\",\n",
    "    \"Ancbanc_Tit\",\n",
    "    \"DMA\",\n",
    "    \"MDPRBDUREE\",\n",
    "    \"Mdecouvert\",\n",
    "    \"Ancien_Banc_Tit\",\n",
    "    \"Ancien_Prof_Tit\",\n",
    "    \"RAV\",\n",
    "    \"Ratio_Ress_RAV\",\n",
    "    \"RAV_Rev\",\n",
    "    \"Tx_Edt\",\n",
    "    \"Age_Tit\",\n",
    "    \"Flag_CTX\",\n",
    "    \"Flag_Actif\",\n",
    "    \"Fraudeur\",\n",
    "    \"ACP\",\n",
    "    \"SS\",\n",
    "    \"REF\",\n",
    "    \"Flag_Finance\",\n",
    "    \"Decision_Finale\",\n",
    "    \"MCLFCHAB1\",\n",
    "    \"MCLFCSITFAM\",\n",
    "    \"CSP_Tit\",\n",
    "    \"MDPRCPRODCOM\",\n",
    "    \"MDPRCTYPEPROD\",\n",
    "    \"BP\"\n",
    "]]"
   ]
  },
  {
   "cell_type": "code",
   "execution_count": null,
   "id": "626943cb",
   "metadata": {},
   "outputs": [
    {
     "name": "stdout",
     "output_type": "stream",
     "text": [
      "Nombre de lignes: 17978\n"
     ]
    },
    {
     "data": {
      "text/html": [
       "<div>\n",
       "<style scoped>\n",
       "    .dataframe tbody tr th:only-of-type {\n",
       "        vertical-align: middle;\n",
       "    }\n",
       "\n",
       "    .dataframe tbody tr th {\n",
       "        vertical-align: top;\n",
       "    }\n",
       "\n",
       "    .dataframe thead th {\n",
       "        text-align: right;\n",
       "    }\n",
       "</style>\n",
       "<table border=\"1\" class=\"dataframe\">\n",
       "  <thead>\n",
       "    <tr style=\"text-align: right;\">\n",
       "      <th></th>\n",
       "      <th>nb_na</th>\n",
       "      <th>pct_na</th>\n",
       "    </tr>\n",
       "  </thead>\n",
       "  <tbody>\n",
       "    <tr>\n",
       "      <th>ZCOM_SR_CL_MIMPOTS</th>\n",
       "      <td>0</td>\n",
       "      <td>0.0</td>\n",
       "    </tr>\n",
       "    <tr>\n",
       "      <th>Mrev_Tit</th>\n",
       "      <td>0</td>\n",
       "      <td>0.0</td>\n",
       "    </tr>\n",
       "    <tr>\n",
       "      <th>Nb_Enf</th>\n",
       "      <td>0</td>\n",
       "      <td>0.0</td>\n",
       "    </tr>\n",
       "    <tr>\n",
       "      <th>Ressource</th>\n",
       "      <td>0</td>\n",
       "      <td>0.0</td>\n",
       "    </tr>\n",
       "    <tr>\n",
       "      <th>Charge</th>\n",
       "      <td>0</td>\n",
       "      <td>0.0</td>\n",
       "    </tr>\n",
       "    <tr>\n",
       "      <th>Ancbanc_Tit</th>\n",
       "      <td>0</td>\n",
       "      <td>0.0</td>\n",
       "    </tr>\n",
       "    <tr>\n",
       "      <th>DMA</th>\n",
       "      <td>0</td>\n",
       "      <td>0.0</td>\n",
       "    </tr>\n",
       "    <tr>\n",
       "      <th>MDPRBDUREE</th>\n",
       "      <td>0</td>\n",
       "      <td>0.0</td>\n",
       "    </tr>\n",
       "    <tr>\n",
       "      <th>Mdecouvert</th>\n",
       "      <td>0</td>\n",
       "      <td>0.0</td>\n",
       "    </tr>\n",
       "    <tr>\n",
       "      <th>Ancien_Banc_Tit</th>\n",
       "      <td>0</td>\n",
       "      <td>0.0</td>\n",
       "    </tr>\n",
       "    <tr>\n",
       "      <th>Ancien_Prof_Tit</th>\n",
       "      <td>0</td>\n",
       "      <td>0.0</td>\n",
       "    </tr>\n",
       "    <tr>\n",
       "      <th>RAV</th>\n",
       "      <td>0</td>\n",
       "      <td>0.0</td>\n",
       "    </tr>\n",
       "    <tr>\n",
       "      <th>Ratio_Ress_RAV</th>\n",
       "      <td>0</td>\n",
       "      <td>0.0</td>\n",
       "    </tr>\n",
       "    <tr>\n",
       "      <th>RAV_Rev</th>\n",
       "      <td>0</td>\n",
       "      <td>0.0</td>\n",
       "    </tr>\n",
       "    <tr>\n",
       "      <th>Tx_Edt</th>\n",
       "      <td>0</td>\n",
       "      <td>0.0</td>\n",
       "    </tr>\n",
       "    <tr>\n",
       "      <th>Age_Tit</th>\n",
       "      <td>0</td>\n",
       "      <td>0.0</td>\n",
       "    </tr>\n",
       "    <tr>\n",
       "      <th>Flag_CTX</th>\n",
       "      <td>0</td>\n",
       "      <td>0.0</td>\n",
       "    </tr>\n",
       "    <tr>\n",
       "      <th>Flag_Actif</th>\n",
       "      <td>0</td>\n",
       "      <td>0.0</td>\n",
       "    </tr>\n",
       "    <tr>\n",
       "      <th>Fraudeur</th>\n",
       "      <td>0</td>\n",
       "      <td>0.0</td>\n",
       "    </tr>\n",
       "    <tr>\n",
       "      <th>ACP</th>\n",
       "      <td>0</td>\n",
       "      <td>0.0</td>\n",
       "    </tr>\n",
       "    <tr>\n",
       "      <th>SS</th>\n",
       "      <td>0</td>\n",
       "      <td>0.0</td>\n",
       "    </tr>\n",
       "    <tr>\n",
       "      <th>REF</th>\n",
       "      <td>0</td>\n",
       "      <td>0.0</td>\n",
       "    </tr>\n",
       "    <tr>\n",
       "      <th>Flag_Finance</th>\n",
       "      <td>0</td>\n",
       "      <td>0.0</td>\n",
       "    </tr>\n",
       "    <tr>\n",
       "      <th>Decision_Finale</th>\n",
       "      <td>0</td>\n",
       "      <td>0.0</td>\n",
       "    </tr>\n",
       "    <tr>\n",
       "      <th>MCLFCHAB1</th>\n",
       "      <td>0</td>\n",
       "      <td>0.0</td>\n",
       "    </tr>\n",
       "    <tr>\n",
       "      <th>MCLFCSITFAM</th>\n",
       "      <td>0</td>\n",
       "      <td>0.0</td>\n",
       "    </tr>\n",
       "    <tr>\n",
       "      <th>CSP_Tit</th>\n",
       "      <td>0</td>\n",
       "      <td>0.0</td>\n",
       "    </tr>\n",
       "    <tr>\n",
       "      <th>MDPRCPRODCOM</th>\n",
       "      <td>0</td>\n",
       "      <td>0.0</td>\n",
       "    </tr>\n",
       "    <tr>\n",
       "      <th>MDPRCTYPEPROD</th>\n",
       "      <td>0</td>\n",
       "      <td>0.0</td>\n",
       "    </tr>\n",
       "    <tr>\n",
       "      <th>BP</th>\n",
       "      <td>0</td>\n",
       "      <td>0.0</td>\n",
       "    </tr>\n",
       "  </tbody>\n",
       "</table>\n",
       "</div>"
      ],
      "text/plain": [
       "                    nb_na  pct_na\n",
       "ZCOM_SR_CL_MIMPOTS      0     0.0\n",
       "Mrev_Tit                0     0.0\n",
       "Nb_Enf                  0     0.0\n",
       "Ressource               0     0.0\n",
       "Charge                  0     0.0\n",
       "Ancbanc_Tit             0     0.0\n",
       "DMA                     0     0.0\n",
       "MDPRBDUREE              0     0.0\n",
       "Mdecouvert              0     0.0\n",
       "Ancien_Banc_Tit         0     0.0\n",
       "Ancien_Prof_Tit         0     0.0\n",
       "RAV                     0     0.0\n",
       "Ratio_Ress_RAV          0     0.0\n",
       "RAV_Rev                 0     0.0\n",
       "Tx_Edt                  0     0.0\n",
       "Age_Tit                 0     0.0\n",
       "Flag_CTX                0     0.0\n",
       "Flag_Actif              0     0.0\n",
       "Fraudeur                0     0.0\n",
       "ACP                     0     0.0\n",
       "SS                      0     0.0\n",
       "REF                     0     0.0\n",
       "Flag_Finance            0     0.0\n",
       "Decision_Finale         0     0.0\n",
       "MCLFCHAB1               0     0.0\n",
       "MCLFCSITFAM             0     0.0\n",
       "CSP_Tit                 0     0.0\n",
       "MDPRCPRODCOM            0     0.0\n",
       "MDPRCTYPEPROD           0     0.0\n",
       "BP                      0     0.0"
      ]
     },
     "metadata": {},
     "output_type": "display_data"
    },
    {
     "name": "stdout",
     "output_type": "stream",
     "text": [
      "\n",
      "Variables avec au moins une valeur manquante:\n",
      "Empty DataFrame\n",
      "Columns: [nb_na, pct_na]\n",
      "Index: []\n"
     ]
    }
   ],
   "source": [
    "na_counts = df.isna().sum()\n",
    "na_pct = (na_counts / len(df) * 100).round(2)\n",
    "missing_summary = (\n",
    "    pd.DataFrame({'nb_na': na_counts, 'pct_na': na_pct})\n",
    "      .sort_values('nb_na', ascending=False)\n",
    ")\n",
    "print(f\"Nombre de lignes: {len(df)}\")\n",
    "display(missing_summary)"
   ]
  },
  {
   "cell_type": "markdown",
   "id": "f19cd35e",
   "metadata": {},
   "source": [
    "## Preprocessing"
   ]
  },
  {
   "cell_type": "markdown",
   "id": "d8810c12",
   "metadata": {},
   "source": [
    "### Numerical"
   ]
  },
  {
   "cell_type": "code",
   "execution_count": null,
   "id": "74b40608",
   "metadata": {},
   "outputs": [
    {
     "name": "stdout",
     "output_type": "stream",
     "text": [
      "Résumé IQR (top 10) (BP exclue) :\n"
     ]
    },
    {
     "data": {
      "text/html": [
       "<div>\n",
       "<style scoped>\n",
       "    .dataframe tbody tr th:only-of-type {\n",
       "        vertical-align: middle;\n",
       "    }\n",
       "\n",
       "    .dataframe tbody tr th {\n",
       "        vertical-align: top;\n",
       "    }\n",
       "\n",
       "    .dataframe thead th {\n",
       "        text-align: right;\n",
       "    }\n",
       "</style>\n",
       "<table border=\"1\" class=\"dataframe\">\n",
       "  <thead>\n",
       "    <tr style=\"text-align: right;\">\n",
       "      <th></th>\n",
       "      <th>variable</th>\n",
       "      <th>Q1</th>\n",
       "      <th>Q3</th>\n",
       "      <th>IQR</th>\n",
       "      <th>borne_inf</th>\n",
       "      <th>borne_sup</th>\n",
       "      <th>nb_outliers</th>\n",
       "      <th>pct_outliers</th>\n",
       "    </tr>\n",
       "  </thead>\n",
       "  <tbody>\n",
       "    <tr>\n",
       "      <th>0</th>\n",
       "      <td>Nb_Enf</td>\n",
       "      <td>0.000000</td>\n",
       "      <td>0.00</td>\n",
       "      <td>0.000000</td>\n",
       "      <td>0.000000</td>\n",
       "      <td>0.000000</td>\n",
       "      <td>1096</td>\n",
       "      <td>6.10</td>\n",
       "    </tr>\n",
       "    <tr>\n",
       "      <th>1</th>\n",
       "      <td>ZCOM_SR_CL_MIMPOTS</td>\n",
       "      <td>0.000000</td>\n",
       "      <td>160.00</td>\n",
       "      <td>160.000000</td>\n",
       "      <td>-320.000000</td>\n",
       "      <td>480.000000</td>\n",
       "      <td>899</td>\n",
       "      <td>5.00</td>\n",
       "    </tr>\n",
       "    <tr>\n",
       "      <th>2</th>\n",
       "      <td>RAV</td>\n",
       "      <td>1300.000000</td>\n",
       "      <td>2600.00</td>\n",
       "      <td>1300.000000</td>\n",
       "      <td>-1300.000000</td>\n",
       "      <td>5200.000000</td>\n",
       "      <td>626</td>\n",
       "      <td>3.48</td>\n",
       "    </tr>\n",
       "    <tr>\n",
       "      <th>3</th>\n",
       "      <td>Ressource</td>\n",
       "      <td>1470.000000</td>\n",
       "      <td>2890.00</td>\n",
       "      <td>1420.000000</td>\n",
       "      <td>-1370.000000</td>\n",
       "      <td>5730.000000</td>\n",
       "      <td>608</td>\n",
       "      <td>3.38</td>\n",
       "    </tr>\n",
       "    <tr>\n",
       "      <th>4</th>\n",
       "      <td>Flag_CTX</td>\n",
       "      <td>0.000000</td>\n",
       "      <td>0.00</td>\n",
       "      <td>0.000000</td>\n",
       "      <td>0.000000</td>\n",
       "      <td>0.000000</td>\n",
       "      <td>484</td>\n",
       "      <td>2.69</td>\n",
       "    </tr>\n",
       "    <tr>\n",
       "      <th>5</th>\n",
       "      <td>Mrev_Tit</td>\n",
       "      <td>1200.000000</td>\n",
       "      <td>2200.00</td>\n",
       "      <td>1000.000000</td>\n",
       "      <td>-800.000000</td>\n",
       "      <td>4200.000000</td>\n",
       "      <td>407</td>\n",
       "      <td>2.26</td>\n",
       "    </tr>\n",
       "    <tr>\n",
       "      <th>6</th>\n",
       "      <td>Ratio_Ress_RAV</td>\n",
       "      <td>1.000000</td>\n",
       "      <td>1.25</td>\n",
       "      <td>0.250000</td>\n",
       "      <td>0.500000</td>\n",
       "      <td>1.750000</td>\n",
       "      <td>367</td>\n",
       "      <td>2.04</td>\n",
       "    </tr>\n",
       "    <tr>\n",
       "      <th>7</th>\n",
       "      <td>Ancien_Prof_Tit</td>\n",
       "      <td>3.000000</td>\n",
       "      <td>17.00</td>\n",
       "      <td>14.000000</td>\n",
       "      <td>-25.000000</td>\n",
       "      <td>45.000000</td>\n",
       "      <td>361</td>\n",
       "      <td>2.01</td>\n",
       "    </tr>\n",
       "    <tr>\n",
       "      <th>8</th>\n",
       "      <td>Charge</td>\n",
       "      <td>0.000000</td>\n",
       "      <td>454.00</td>\n",
       "      <td>454.000000</td>\n",
       "      <td>-908.000000</td>\n",
       "      <td>1362.000000</td>\n",
       "      <td>262</td>\n",
       "      <td>1.46</td>\n",
       "    </tr>\n",
       "    <tr>\n",
       "      <th>9</th>\n",
       "      <td>RAV_Rev</td>\n",
       "      <td>0.895821</td>\n",
       "      <td>1.10</td>\n",
       "      <td>0.204179</td>\n",
       "      <td>0.487463</td>\n",
       "      <td>1.508358</td>\n",
       "      <td>217</td>\n",
       "      <td>1.21</td>\n",
       "    </tr>\n",
       "  </tbody>\n",
       "</table>\n",
       "</div>"
      ],
      "text/plain": [
       "             variable           Q1       Q3          IQR    borne_inf  \\\n",
       "0              Nb_Enf     0.000000     0.00     0.000000     0.000000   \n",
       "1  ZCOM_SR_CL_MIMPOTS     0.000000   160.00   160.000000  -320.000000   \n",
       "2                 RAV  1300.000000  2600.00  1300.000000 -1300.000000   \n",
       "3           Ressource  1470.000000  2890.00  1420.000000 -1370.000000   \n",
       "4            Flag_CTX     0.000000     0.00     0.000000     0.000000   \n",
       "5            Mrev_Tit  1200.000000  2200.00  1000.000000  -800.000000   \n",
       "6      Ratio_Ress_RAV     1.000000     1.25     0.250000     0.500000   \n",
       "7     Ancien_Prof_Tit     3.000000    17.00    14.000000   -25.000000   \n",
       "8              Charge     0.000000   454.00   454.000000  -908.000000   \n",
       "9             RAV_Rev     0.895821     1.10     0.204179     0.487463   \n",
       "\n",
       "     borne_sup  nb_outliers  pct_outliers  \n",
       "0     0.000000         1096          6.10  \n",
       "1   480.000000          899          5.00  \n",
       "2  5200.000000          626          3.48  \n",
       "3  5730.000000          608          3.38  \n",
       "4     0.000000          484          2.69  \n",
       "5  4200.000000          407          2.26  \n",
       "6     1.750000          367          2.04  \n",
       "7    45.000000          361          2.01  \n",
       "8  1362.000000          262          1.46  \n",
       "9     1.508358          217          1.21  "
      ]
     },
     "metadata": {},
     "output_type": "display_data"
    },
    {
     "name": "stdout",
     "output_type": "stream",
     "text": [
      "\n",
      "Nombre de lignes avec ≥1 outlier (hors 'BP') : 3504 (19.49%)\n"
     ]
    }
   ],
   "source": [
    "# Détection des outliers via IQR en excluant la variable cible 'MP'\n",
    "target_var = \"BP\"\n",
    "numeric_cols = df.select_dtypes(include='number').columns.tolist()\n",
    "numeric_cols = [c for c in numeric_cols if c != target_var]\n",
    "num = df[numeric_cols]\n",
    "\n",
    "q1 = num.quantile(0.25)\n",
    "q3 = num.quantile(0.75)\n",
    "iqr = q3 - q1\n",
    "\n",
    "lower = q1 - 2* iqr\n",
    "upper = q3 + 2 * iqr\n",
    "outlier_mask = (num.lt(lower)) | (num.gt(upper))\n",
    "outlier_counts = outlier_mask.sum()\n",
    "\n",
    "iqr_stats = (\n",
    "    pd.DataFrame({\n",
    "        \"variable\": num.columns,\n",
    "        \"Q1\": q1.values,\n",
    "        \"Q3\": q3.values,\n",
    "        \"IQR\": iqr.values,\n",
    "        \"borne_inf\": lower.values,\n",
    "        \"borne_sup\": upper.values,\n",
    "        \"nb_outliers\": outlier_counts.values,\n",
    "        \"pct_outliers\": (outlier_counts.values / len(df) * 100).round(2)\n",
    "    })\n",
    "    .sort_values(\"pct_outliers\", ascending=False)\n",
    "    .reset_index(drop=True)\n",
    ")\n",
    "\n",
    "df_iqr_clean = df.copy()\n",
    "for col in num.columns:\n",
    "    df_iqr_clean[col] = df_iqr_clean[col].clip(lower=lower[col], upper=upper[col])\n",
    "\n",
    "outlier_rows_mask = outlier_mask.any(axis=1)\n",
    "\n",
    "print(\"Résumé IQR (top 10) (BP exclue) :\")\n",
    "display(iqr_stats.head(10))"
   ]
  },
  {
   "cell_type": "code",
   "execution_count": 72,
   "id": "d10a5913",
   "metadata": {},
   "outputs": [],
   "source": [
    "df = df_iqr_clean"
   ]
  },
  {
   "cell_type": "code",
   "execution_count": null,
   "id": "b038dc31",
   "metadata": {},
   "outputs": [
    {
     "name": "stdout",
     "output_type": "stream",
     "text": [
      "Résumé du remplacement des outliers par la médiane :\n"
     ]
    },
    {
     "data": {
      "text/html": [
       "<div>\n",
       "<style scoped>\n",
       "    .dataframe tbody tr th:only-of-type {\n",
       "        vertical-align: middle;\n",
       "    }\n",
       "\n",
       "    .dataframe tbody tr th {\n",
       "        vertical-align: top;\n",
       "    }\n",
       "\n",
       "    .dataframe thead th {\n",
       "        text-align: right;\n",
       "    }\n",
       "</style>\n",
       "<table border=\"1\" class=\"dataframe\">\n",
       "  <thead>\n",
       "    <tr style=\"text-align: right;\">\n",
       "      <th></th>\n",
       "      <th>variable</th>\n",
       "      <th>nb_outliers_remplaces</th>\n",
       "      <th>pct_lignes</th>\n",
       "    </tr>\n",
       "  </thead>\n",
       "  <tbody>\n",
       "    <tr>\n",
       "      <th>0</th>\n",
       "      <td>Nb_Enf</td>\n",
       "      <td>0</td>\n",
       "      <td>0.0</td>\n",
       "    </tr>\n",
       "    <tr>\n",
       "      <th>1</th>\n",
       "      <td>ZCOM_SR_CL_MIMPOTS</td>\n",
       "      <td>0</td>\n",
       "      <td>0.0</td>\n",
       "    </tr>\n",
       "    <tr>\n",
       "      <th>2</th>\n",
       "      <td>RAV</td>\n",
       "      <td>0</td>\n",
       "      <td>0.0</td>\n",
       "    </tr>\n",
       "    <tr>\n",
       "      <th>3</th>\n",
       "      <td>Ressource</td>\n",
       "      <td>0</td>\n",
       "      <td>0.0</td>\n",
       "    </tr>\n",
       "    <tr>\n",
       "      <th>4</th>\n",
       "      <td>Flag_CTX</td>\n",
       "      <td>0</td>\n",
       "      <td>0.0</td>\n",
       "    </tr>\n",
       "    <tr>\n",
       "      <th>5</th>\n",
       "      <td>Mrev_Tit</td>\n",
       "      <td>0</td>\n",
       "      <td>0.0</td>\n",
       "    </tr>\n",
       "    <tr>\n",
       "      <th>6</th>\n",
       "      <td>Ratio_Ress_RAV</td>\n",
       "      <td>0</td>\n",
       "      <td>0.0</td>\n",
       "    </tr>\n",
       "    <tr>\n",
       "      <th>7</th>\n",
       "      <td>Ancien_Prof_Tit</td>\n",
       "      <td>0</td>\n",
       "      <td>0.0</td>\n",
       "    </tr>\n",
       "    <tr>\n",
       "      <th>8</th>\n",
       "      <td>Charge</td>\n",
       "      <td>0</td>\n",
       "      <td>0.0</td>\n",
       "    </tr>\n",
       "    <tr>\n",
       "      <th>9</th>\n",
       "      <td>RAV_Rev</td>\n",
       "      <td>0</td>\n",
       "      <td>0.0</td>\n",
       "    </tr>\n",
       "  </tbody>\n",
       "</table>\n",
       "</div>"
      ],
      "text/plain": [
       "             variable  nb_outliers_remplaces  pct_lignes\n",
       "0              Nb_Enf                      0         0.0\n",
       "1  ZCOM_SR_CL_MIMPOTS                      0         0.0\n",
       "2                 RAV                      0         0.0\n",
       "3           Ressource                      0         0.0\n",
       "4            Flag_CTX                      0         0.0\n",
       "5            Mrev_Tit                      0         0.0\n",
       "6      Ratio_Ress_RAV                      0         0.0\n",
       "7     Ancien_Prof_Tit                      0         0.0\n",
       "8              Charge                      0         0.0\n",
       "9             RAV_Rev                      0         0.0"
      ]
     },
     "metadata": {},
     "output_type": "display_data"
    }
   ],
   "source": [
    "# Remplacement des outliers (d'après iqr_stats) par la médiane de chaque variable numérique\n",
    "df_median_clean = df.copy()\n",
    "remplacements = []\n",
    "n = len(df)\n",
    "for row in iqr_stats.itertuples(index=False):\n",
    "    var = row.variable\n",
    "    low, high = row.borne_inf, row.borne_sup\n",
    "\n",
    "    mask_out = (df[var] < low) | (df[var] > high)\n",
    "    n_out = int(mask_out.sum())\n",
    "\n",
    "    if n_out:\n",
    "        median_val = df[var].median()\n",
    "        df_median_clean.loc[mask_out, var] = median_val\n",
    "\n",
    "    remplacements.append({\n",
    "        \"variable\": var,\n",
    "        \"nb_outliers_remplaces\": n_out,\n",
    "        \"pct_lignes\": round(100 * n_out / n, 2)\n",
    "    })\n",
    "\n",
    "outlier_replacement_summary = (\n",
    "    pd.DataFrame(remplacements)\n",
    "      .sort_values(\"nb_outliers_remplaces\", ascending=False)\n",
    "      .reset_index(drop=True)\n",
    ")\n",
    "\n",
    "print(\"Résumé du remplacement des outliers par la médiane :\")\n",
    "display(outlier_replacement_summary.head(10))"
   ]
  },
  {
   "cell_type": "code",
   "execution_count": 74,
   "id": "033015a1",
   "metadata": {},
   "outputs": [],
   "source": [
    "df = df_median_clean"
   ]
  },
  {
   "cell_type": "markdown",
   "id": "5e53fa91",
   "metadata": {},
   "source": [
    "### Categorical"
   ]
  },
  {
   "cell_type": "code",
   "execution_count": null,
   "id": "08dbcdc3",
   "metadata": {},
   "outputs": [
    {
     "data": {
      "text/html": [
       "<div>\n",
       "<style scoped>\n",
       "    .dataframe tbody tr th:only-of-type {\n",
       "        vertical-align: middle;\n",
       "    }\n",
       "\n",
       "    .dataframe tbody tr th {\n",
       "        vertical-align: top;\n",
       "    }\n",
       "\n",
       "    .dataframe thead th {\n",
       "        text-align: right;\n",
       "    }\n",
       "</style>\n",
       "<table border=\"1\" class=\"dataframe\">\n",
       "  <thead>\n",
       "    <tr style=\"text-align: right;\">\n",
       "      <th></th>\n",
       "      <th>variable</th>\n",
       "      <th>nb_mod_avant</th>\n",
       "      <th>nb_mod_apres</th>\n",
       "      <th>modalites_regroupees</th>\n",
       "    </tr>\n",
       "  </thead>\n",
       "  <tbody>\n",
       "    <tr>\n",
       "      <th>0</th>\n",
       "      <td>Decision_Finale</td>\n",
       "      <td>1</td>\n",
       "      <td>1</td>\n",
       "      <td>[]</td>\n",
       "    </tr>\n",
       "    <tr>\n",
       "      <th>1</th>\n",
       "      <td>MCLFCHAB1</td>\n",
       "      <td>8</td>\n",
       "      <td>5</td>\n",
       "      <td>[Missing, E, X, D]</td>\n",
       "    </tr>\n",
       "    <tr>\n",
       "      <th>2</th>\n",
       "      <td>MCLFCSITFAM</td>\n",
       "      <td>8</td>\n",
       "      <td>4</td>\n",
       "      <td>[D, V, Missing, X, 0]</td>\n",
       "    </tr>\n",
       "    <tr>\n",
       "      <th>3</th>\n",
       "      <td>CSP_Tit</td>\n",
       "      <td>15</td>\n",
       "      <td>5</td>\n",
       "      <td>[Trader, Missing, Military, Unemployed, libera...</td>\n",
       "    </tr>\n",
       "    <tr>\n",
       "      <th>4</th>\n",
       "      <td>MDPRCPRODCOM</td>\n",
       "      <td>1</td>\n",
       "      <td>1</td>\n",
       "      <td>[]</td>\n",
       "    </tr>\n",
       "    <tr>\n",
       "      <th>5</th>\n",
       "      <td>MDPRCTYPEPROD</td>\n",
       "      <td>1</td>\n",
       "      <td>1</td>\n",
       "      <td>[]</td>\n",
       "    </tr>\n",
       "  </tbody>\n",
       "</table>\n",
       "</div>"
      ],
      "text/plain": [
       "          variable  nb_mod_avant  nb_mod_apres  \\\n",
       "0  Decision_Finale             1             1   \n",
       "1        MCLFCHAB1             8             5   \n",
       "2      MCLFCSITFAM             8             4   \n",
       "3          CSP_Tit            15             5   \n",
       "4     MDPRCPRODCOM             1             1   \n",
       "5    MDPRCTYPEPROD             1             1   \n",
       "\n",
       "                                modalites_regroupees  \n",
       "0                                                 []  \n",
       "1                                 [Missing, E, X, D]  \n",
       "2                              [D, V, Missing, X, 0]  \n",
       "3  [Trader, Missing, Military, Unemployed, libera...  \n",
       "4                                                 []  \n",
       "5                                                 []  "
      ]
     },
     "metadata": {},
     "output_type": "display_data"
    },
    {
     "name": "stdout",
     "output_type": "stream",
     "text": [
      "\n",
      "Decision_Finale (après regroupement)\n"
     ]
    },
    {
     "data": {
      "text/plain": [
       "Decision_Finale\n",
       "ACP    1.0\n",
       "Name: proportion, dtype: float64"
      ]
     },
     "metadata": {},
     "output_type": "display_data"
    },
    {
     "name": "stdout",
     "output_type": "stream",
     "text": [
      "\n",
      "MCLFCHAB1 (après regroupement)\n"
     ]
    },
    {
     "data": {
      "text/plain": [
       "MCLFCHAB1\n",
       "L         0.3809\n",
       "P         0.3792\n",
       "F         0.1537\n",
       "A         0.0674\n",
       "others    0.0188\n",
       "Name: proportion, dtype: float64"
      ]
     },
     "metadata": {},
     "output_type": "display_data"
    },
    {
     "name": "stdout",
     "output_type": "stream",
     "text": [
      "\n",
      "MCLFCSITFAM (après regroupement)\n"
     ]
    },
    {
     "data": {
      "text/plain": [
       "MCLFCSITFAM\n",
       "C         0.5651\n",
       "M         0.2846\n",
       "K         0.0842\n",
       "others    0.0661\n",
       "Name: proportion, dtype: float64"
      ]
     },
     "metadata": {},
     "output_type": "display_data"
    },
    {
     "name": "stdout",
     "output_type": "stream",
     "text": [
      "\n",
      "CSP_Tit (après regroupement)\n"
     ]
    },
    {
     "data": {
      "text/plain": [
       "CSP_Tit\n",
       "Employee               0.6902\n",
       "Retired                0.1123\n",
       "Managerial position    0.0913\n",
       "worker                 0.0694\n",
       "others                 0.0368\n",
       "Name: proportion, dtype: float64"
      ]
     },
     "metadata": {},
     "output_type": "display_data"
    },
    {
     "name": "stdout",
     "output_type": "stream",
     "text": [
      "\n",
      "MDPRCPRODCOM (après regroupement)\n"
     ]
    },
    {
     "data": {
      "text/plain": [
       "MDPRCPRODCOM\n",
       "AD7    1.0\n",
       "Name: proportion, dtype: float64"
      ]
     },
     "metadata": {},
     "output_type": "display_data"
    },
    {
     "name": "stdout",
     "output_type": "stream",
     "text": [
      "\n",
      "MDPRCTYPEPROD (après regroupement)\n"
     ]
    },
    {
     "data": {
      "text/plain": [
       "MDPRCTYPEPROD\n",
       "CP    1.0\n",
       "Name: proportion, dtype: float64"
      ]
     },
     "metadata": {},
     "output_type": "display_data"
    }
   ],
   "source": [
    "# Regroupement des modalités rares (<5%) en 'others' pour chaque variable catégorielle\n",
    "\n",
    "threshold = 0.05\n",
    "cat_cols = df.select_dtypes(include='object').columns\n",
    "\n",
    "freqs = {col: df[col].value_counts(normalize=True, dropna=True) for col in cat_cols}\n",
    "collapsed_levels = {\n",
    "    col: freq.index[freq < threshold].tolist()\n",
    "    for col, freq in freqs.items()\n",
    "}\n",
    "\n",
    "df_cat_grouped = df.copy()\n",
    "for col, rare in collapsed_levels.items():\n",
    "    if rare:\n",
    "        df_cat_grouped[col] = df_cat_grouped[col].where(~df_cat_grouped[col].isin(rare), 'others')\n",
    "\n",
    "cat_grouping_summary = pd.DataFrame([\n",
    "    {\n",
    "        \"variable\": col,\n",
    "        \"nb_mod_avant\": df[col].nunique(dropna=True),\n",
    "        \"nb_mod_apres\": df_cat_grouped[col].nunique(dropna=True),\n",
    "        \"modalites_regroupees\": collapsed_levels[col]\n",
    "    }\n",
    "    for col in cat_cols\n",
    "])\n",
    "\n",
    "display(cat_grouping_summary)"
   ]
  },
  {
   "cell_type": "code",
   "execution_count": 78,
   "id": "3863193b",
   "metadata": {},
   "outputs": [],
   "source": [
    "df = df_cat_grouped"
   ]
  },
  {
   "cell_type": "code",
   "execution_count": null,
   "id": "0683eccd",
   "metadata": {},
   "outputs": [
    {
     "name": "stdout",
     "output_type": "stream",
     "text": [
      "Shape avant: (17978, 30) | après encodage: (17978, 35)\n"
     ]
    },
    {
     "data": {
      "text/html": [
       "<div>\n",
       "<style scoped>\n",
       "    .dataframe tbody tr th:only-of-type {\n",
       "        vertical-align: middle;\n",
       "    }\n",
       "\n",
       "    .dataframe tbody tr th {\n",
       "        vertical-align: top;\n",
       "    }\n",
       "\n",
       "    .dataframe thead th {\n",
       "        text-align: right;\n",
       "    }\n",
       "</style>\n",
       "<table border=\"1\" class=\"dataframe\">\n",
       "  <thead>\n",
       "    <tr style=\"text-align: right;\">\n",
       "      <th></th>\n",
       "      <th>ZCOM_SR_CL_MIMPOTS</th>\n",
       "      <th>Mrev_Tit</th>\n",
       "      <th>Nb_Enf</th>\n",
       "      <th>Ressource</th>\n",
       "      <th>Charge</th>\n",
       "      <th>Ancbanc_Tit</th>\n",
       "      <th>DMA</th>\n",
       "      <th>MDPRBDUREE</th>\n",
       "      <th>Mdecouvert</th>\n",
       "      <th>Ancien_Banc_Tit</th>\n",
       "      <th>...</th>\n",
       "      <th>MCLFCHAB1_L</th>\n",
       "      <th>MCLFCHAB1_P</th>\n",
       "      <th>MCLFCHAB1_others</th>\n",
       "      <th>MCLFCSITFAM_K</th>\n",
       "      <th>MCLFCSITFAM_M</th>\n",
       "      <th>MCLFCSITFAM_others</th>\n",
       "      <th>CSP_Tit_Managerial position</th>\n",
       "      <th>CSP_Tit_Retired</th>\n",
       "      <th>CSP_Tit_others</th>\n",
       "      <th>CSP_Tit_worker</th>\n",
       "    </tr>\n",
       "  </thead>\n",
       "  <tbody>\n",
       "    <tr>\n",
       "      <th>0</th>\n",
       "      <td>69.0</td>\n",
       "      <td>1600.0</td>\n",
       "      <td>0.0</td>\n",
       "      <td>1800.0</td>\n",
       "      <td>40.0</td>\n",
       "      <td>1991.0</td>\n",
       "      <td>800.0</td>\n",
       "      <td>0</td>\n",
       "      <td>800.0</td>\n",
       "      <td>23.0</td>\n",
       "      <td>...</td>\n",
       "      <td>1.0</td>\n",
       "      <td>0.0</td>\n",
       "      <td>0.0</td>\n",
       "      <td>0.0</td>\n",
       "      <td>0.0</td>\n",
       "      <td>0.0</td>\n",
       "      <td>0.0</td>\n",
       "      <td>0.0</td>\n",
       "      <td>0.0</td>\n",
       "      <td>0.0</td>\n",
       "    </tr>\n",
       "    <tr>\n",
       "      <th>1</th>\n",
       "      <td>140.0</td>\n",
       "      <td>2300.0</td>\n",
       "      <td>0.0</td>\n",
       "      <td>3100.0</td>\n",
       "      <td>0.0</td>\n",
       "      <td>2005.0</td>\n",
       "      <td>800.0</td>\n",
       "      <td>0</td>\n",
       "      <td>800.0</td>\n",
       "      <td>9.0</td>\n",
       "      <td>...</td>\n",
       "      <td>0.0</td>\n",
       "      <td>0.0</td>\n",
       "      <td>0.0</td>\n",
       "      <td>0.0</td>\n",
       "      <td>1.0</td>\n",
       "      <td>0.0</td>\n",
       "      <td>0.0</td>\n",
       "      <td>1.0</td>\n",
       "      <td>0.0</td>\n",
       "      <td>0.0</td>\n",
       "    </tr>\n",
       "    <tr>\n",
       "      <th>2</th>\n",
       "      <td>480.0</td>\n",
       "      <td>4200.0</td>\n",
       "      <td>0.0</td>\n",
       "      <td>4400.0</td>\n",
       "      <td>0.0</td>\n",
       "      <td>1980.0</td>\n",
       "      <td>800.0</td>\n",
       "      <td>0</td>\n",
       "      <td>800.0</td>\n",
       "      <td>34.0</td>\n",
       "      <td>...</td>\n",
       "      <td>0.0</td>\n",
       "      <td>1.0</td>\n",
       "      <td>0.0</td>\n",
       "      <td>0.0</td>\n",
       "      <td>0.0</td>\n",
       "      <td>0.0</td>\n",
       "      <td>0.0</td>\n",
       "      <td>0.0</td>\n",
       "      <td>0.0</td>\n",
       "      <td>0.0</td>\n",
       "    </tr>\n",
       "    <tr>\n",
       "      <th>3</th>\n",
       "      <td>472.0</td>\n",
       "      <td>3800.0</td>\n",
       "      <td>0.0</td>\n",
       "      <td>4000.0</td>\n",
       "      <td>600.0</td>\n",
       "      <td>1987.0</td>\n",
       "      <td>800.0</td>\n",
       "      <td>0</td>\n",
       "      <td>800.0</td>\n",
       "      <td>27.0</td>\n",
       "      <td>...</td>\n",
       "      <td>1.0</td>\n",
       "      <td>0.0</td>\n",
       "      <td>0.0</td>\n",
       "      <td>0.0</td>\n",
       "      <td>0.0</td>\n",
       "      <td>0.0</td>\n",
       "      <td>0.0</td>\n",
       "      <td>0.0</td>\n",
       "      <td>0.0</td>\n",
       "      <td>0.0</td>\n",
       "    </tr>\n",
       "    <tr>\n",
       "      <th>4</th>\n",
       "      <td>57.0</td>\n",
       "      <td>1522.0</td>\n",
       "      <td>0.0</td>\n",
       "      <td>1722.0</td>\n",
       "      <td>460.0</td>\n",
       "      <td>2000.0</td>\n",
       "      <td>800.0</td>\n",
       "      <td>0</td>\n",
       "      <td>800.0</td>\n",
       "      <td>14.0</td>\n",
       "      <td>...</td>\n",
       "      <td>1.0</td>\n",
       "      <td>0.0</td>\n",
       "      <td>0.0</td>\n",
       "      <td>0.0</td>\n",
       "      <td>0.0</td>\n",
       "      <td>0.0</td>\n",
       "      <td>0.0</td>\n",
       "      <td>0.0</td>\n",
       "      <td>0.0</td>\n",
       "      <td>0.0</td>\n",
       "    </tr>\n",
       "  </tbody>\n",
       "</table>\n",
       "<p>5 rows × 35 columns</p>\n",
       "</div>"
      ],
      "text/plain": [
       "   ZCOM_SR_CL_MIMPOTS  Mrev_Tit  Nb_Enf  Ressource  Charge  Ancbanc_Tit  \\\n",
       "0                69.0    1600.0     0.0     1800.0    40.0       1991.0   \n",
       "1               140.0    2300.0     0.0     3100.0     0.0       2005.0   \n",
       "2               480.0    4200.0     0.0     4400.0     0.0       1980.0   \n",
       "3               472.0    3800.0     0.0     4000.0   600.0       1987.0   \n",
       "4                57.0    1522.0     0.0     1722.0   460.0       2000.0   \n",
       "\n",
       "     DMA  MDPRBDUREE  Mdecouvert  Ancien_Banc_Tit  ...  MCLFCHAB1_L  \\\n",
       "0  800.0           0       800.0             23.0  ...          1.0   \n",
       "1  800.0           0       800.0              9.0  ...          0.0   \n",
       "2  800.0           0       800.0             34.0  ...          0.0   \n",
       "3  800.0           0       800.0             27.0  ...          1.0   \n",
       "4  800.0           0       800.0             14.0  ...          1.0   \n",
       "\n",
       "   MCLFCHAB1_P  MCLFCHAB1_others  MCLFCSITFAM_K  MCLFCSITFAM_M  \\\n",
       "0          0.0               0.0            0.0            0.0   \n",
       "1          0.0               0.0            0.0            1.0   \n",
       "2          1.0               0.0            0.0            0.0   \n",
       "3          0.0               0.0            0.0            0.0   \n",
       "4          0.0               0.0            0.0            0.0   \n",
       "\n",
       "   MCLFCSITFAM_others  CSP_Tit_Managerial position  CSP_Tit_Retired  \\\n",
       "0                 0.0                          0.0              0.0   \n",
       "1                 0.0                          0.0              1.0   \n",
       "2                 0.0                          0.0              0.0   \n",
       "3                 0.0                          0.0              0.0   \n",
       "4                 0.0                          0.0              0.0   \n",
       "\n",
       "   CSP_Tit_others  CSP_Tit_worker  \n",
       "0             0.0             0.0  \n",
       "1             0.0             0.0  \n",
       "2             0.0             0.0  \n",
       "3             0.0             0.0  \n",
       "4             0.0             0.0  \n",
       "\n",
       "[5 rows x 35 columns]"
      ]
     },
     "metadata": {},
     "output_type": "display_data"
    }
   ],
   "source": [
    "from sklearn.preprocessing import OneHotEncoder\n",
    "\n",
    "encoder = OneHotEncoder(\n",
    "    drop='first',\n",
    "    handle_unknown='ignore',\n",
    "    sparse_output=False\n",
    ")\n",
    "\n",
    "X_cat = encoder.fit_transform(df_cat_grouped[cat_cols])\n",
    "encoded_cols = encoder.get_feature_names_out(cat_cols)\n",
    "\n",
    "df_ohe = pd.DataFrame(X_cat, columns=encoded_cols, index=df_cat_grouped.index)\n",
    "df_encoded = pd.concat([df_cat_grouped.drop(columns=cat_cols), df_ohe], axis=1)\n",
    "\n",
    "print(f\"Shape avant: {df_cat_grouped.shape} | après encodage: {df_encoded.shape}\")\n",
    "display(df_encoded.head())"
   ]
  },
  {
   "cell_type": "code",
   "execution_count": null,
   "id": "815b1dc6",
   "metadata": {},
   "outputs": [
    {
     "data": {
      "text/plain": [
       "Index(['ZCOM_SR_CL_MIMPOTS', 'Mrev_Tit', 'Nb_Enf', 'Ressource', 'Charge',\n",
       "       'Ancbanc_Tit', 'DMA', 'MDPRBDUREE', 'Mdecouvert', 'Ancien_Banc_Tit',\n",
       "       'Ancien_Prof_Tit', 'RAV', 'Ratio_Ress_RAV', 'RAV_Rev', 'Tx_Edt',\n",
       "       'Age_Tit', 'Flag_CTX', 'Flag_Actif', 'Fraudeur', 'ACP', 'SS', 'REF',\n",
       "       'Flag_Finance', 'BP', 'MCLFCHAB1_F', 'MCLFCHAB1_L', 'MCLFCHAB1_P',\n",
       "       'MCLFCHAB1_others', 'MCLFCSITFAM_K', 'MCLFCSITFAM_M',\n",
       "       'MCLFCSITFAM_others', 'CSP_Tit_Managerial position', 'CSP_Tit_Retired',\n",
       "       'CSP_Tit_others', 'CSP_Tit_worker'],\n",
       "      dtype='object')"
      ]
     },
     "execution_count": 81,
     "metadata": {},
     "output_type": "execute_result"
    }
   ],
   "source": [
    "df_OHE = df_encoded"
   ]
  },
  {
   "cell_type": "markdown",
   "id": "4addfa62",
   "metadata": {},
   "source": [
    "## Variables selection"
   ]
  },
  {
   "cell_type": "markdown",
   "id": "d8176ee3",
   "metadata": {},
   "source": [
    "### PFI"
   ]
  },
  {
   "cell_type": "code",
   "execution_count": 19,
   "id": "65389f82",
   "metadata": {},
   "outputs": [],
   "source": [
    "rf_params = dict(\n",
    "    n_estimators=200,\n",
    "    max_depth=6,\n",
    "    min_samples_split=5,\n",
    "    min_samples_leaf=2,\n",
    "    max_features=0.8,\n",
    "    n_jobs=-1,\n",
    "    random_state=42\n",
    ")"
   ]
  },
  {
   "cell_type": "code",
   "execution_count": null,
   "id": "561469a1",
   "metadata": {},
   "outputs": [
    {
     "name": "stdout",
     "output_type": "stream",
     "text": [
      "AUC validation moyenne (3 folds) : 0.7162 ± 0.0290\n",
      "Precision validation moyenne (3 folds) : 0.9634 ± 0.0001\n",
      "Recall validation moyenne (3 folds) : 1.0000 ± 0.0000\n"
     ]
    },
    {
     "data": {
      "text/html": [
       "<div>\n",
       "<style scoped>\n",
       "    .dataframe tbody tr th:only-of-type {\n",
       "        vertical-align: middle;\n",
       "    }\n",
       "\n",
       "    .dataframe tbody tr th {\n",
       "        vertical-align: top;\n",
       "    }\n",
       "\n",
       "    .dataframe thead th {\n",
       "        text-align: right;\n",
       "    }\n",
       "</style>\n",
       "<table border=\"1\" class=\"dataframe\">\n",
       "  <thead>\n",
       "    <tr style=\"text-align: right;\">\n",
       "      <th></th>\n",
       "      <th>feature</th>\n",
       "      <th>importance_mean</th>\n",
       "      <th>importance_std</th>\n",
       "    </tr>\n",
       "  </thead>\n",
       "  <tbody>\n",
       "    <tr>\n",
       "      <th>0</th>\n",
       "      <td>Ressource</td>\n",
       "      <td>0.133031</td>\n",
       "      <td>0.036531</td>\n",
       "    </tr>\n",
       "    <tr>\n",
       "      <th>1</th>\n",
       "      <td>Age_Tit</td>\n",
       "      <td>0.079192</td>\n",
       "      <td>0.030362</td>\n",
       "    </tr>\n",
       "    <tr>\n",
       "      <th>2</th>\n",
       "      <td>RAV</td>\n",
       "      <td>0.049276</td>\n",
       "      <td>0.010743</td>\n",
       "    </tr>\n",
       "    <tr>\n",
       "      <th>3</th>\n",
       "      <td>Mrev_Tit</td>\n",
       "      <td>0.032055</td>\n",
       "      <td>0.008999</td>\n",
       "    </tr>\n",
       "    <tr>\n",
       "      <th>4</th>\n",
       "      <td>Ancien_Banc_Tit</td>\n",
       "      <td>0.029123</td>\n",
       "      <td>0.011929</td>\n",
       "    </tr>\n",
       "    <tr>\n",
       "      <th>5</th>\n",
       "      <td>ZCOM_SR_CL_MIMPOTS</td>\n",
       "      <td>0.022893</td>\n",
       "      <td>0.002734</td>\n",
       "    </tr>\n",
       "    <tr>\n",
       "      <th>6</th>\n",
       "      <td>RAV_Rev</td>\n",
       "      <td>0.022721</td>\n",
       "      <td>0.006711</td>\n",
       "    </tr>\n",
       "    <tr>\n",
       "      <th>7</th>\n",
       "      <td>Tx_Edt</td>\n",
       "      <td>0.022465</td>\n",
       "      <td>0.005001</td>\n",
       "    </tr>\n",
       "    <tr>\n",
       "      <th>8</th>\n",
       "      <td>Charge</td>\n",
       "      <td>0.020603</td>\n",
       "      <td>0.004387</td>\n",
       "    </tr>\n",
       "    <tr>\n",
       "      <th>9</th>\n",
       "      <td>Ancbanc_Tit</td>\n",
       "      <td>0.020225</td>\n",
       "      <td>0.004415</td>\n",
       "    </tr>\n",
       "    <tr>\n",
       "      <th>10</th>\n",
       "      <td>Ancien_Prof_Tit</td>\n",
       "      <td>0.016617</td>\n",
       "      <td>0.002059</td>\n",
       "    </tr>\n",
       "    <tr>\n",
       "      <th>11</th>\n",
       "      <td>Ratio_Ress_RAV</td>\n",
       "      <td>0.014732</td>\n",
       "      <td>0.005148</td>\n",
       "    </tr>\n",
       "    <tr>\n",
       "      <th>12</th>\n",
       "      <td>MCLFCHAB1_L</td>\n",
       "      <td>0.012155</td>\n",
       "      <td>0.002645</td>\n",
       "    </tr>\n",
       "    <tr>\n",
       "      <th>13</th>\n",
       "      <td>CSP_Tit_others</td>\n",
       "      <td>0.008908</td>\n",
       "      <td>0.003337</td>\n",
       "    </tr>\n",
       "    <tr>\n",
       "      <th>14</th>\n",
       "      <td>MCLFCHAB1_F</td>\n",
       "      <td>0.003562</td>\n",
       "      <td>0.001727</td>\n",
       "    </tr>\n",
       "    <tr>\n",
       "      <th>15</th>\n",
       "      <td>MCLFCSITFAM_M</td>\n",
       "      <td>0.003406</td>\n",
       "      <td>0.002553</td>\n",
       "    </tr>\n",
       "    <tr>\n",
       "      <th>16</th>\n",
       "      <td>MCLFCHAB1_P</td>\n",
       "      <td>0.003086</td>\n",
       "      <td>0.001298</td>\n",
       "    </tr>\n",
       "    <tr>\n",
       "      <th>17</th>\n",
       "      <td>CSP_Tit_Managerial position</td>\n",
       "      <td>0.002246</td>\n",
       "      <td>0.001612</td>\n",
       "    </tr>\n",
       "    <tr>\n",
       "      <th>18</th>\n",
       "      <td>MCLFCSITFAM_K</td>\n",
       "      <td>0.002062</td>\n",
       "      <td>0.001646</td>\n",
       "    </tr>\n",
       "    <tr>\n",
       "      <th>19</th>\n",
       "      <td>CSP_Tit_worker</td>\n",
       "      <td>0.001986</td>\n",
       "      <td>0.001335</td>\n",
       "    </tr>\n",
       "    <tr>\n",
       "      <th>20</th>\n",
       "      <td>MCLFCSITFAM_others</td>\n",
       "      <td>0.001864</td>\n",
       "      <td>0.001366</td>\n",
       "    </tr>\n",
       "    <tr>\n",
       "      <th>21</th>\n",
       "      <td>CSP_Tit_Retired</td>\n",
       "      <td>0.000169</td>\n",
       "      <td>0.000116</td>\n",
       "    </tr>\n",
       "    <tr>\n",
       "      <th>22</th>\n",
       "      <td>MCLFCHAB1_others</td>\n",
       "      <td>0.000016</td>\n",
       "      <td>0.000021</td>\n",
       "    </tr>\n",
       "    <tr>\n",
       "      <th>23</th>\n",
       "      <td>ACP</td>\n",
       "      <td>0.000000</td>\n",
       "      <td>0.000000</td>\n",
       "    </tr>\n",
       "    <tr>\n",
       "      <th>24</th>\n",
       "      <td>DMA</td>\n",
       "      <td>0.000000</td>\n",
       "      <td>0.000000</td>\n",
       "    </tr>\n",
       "    <tr>\n",
       "      <th>25</th>\n",
       "      <td>Flag_Finance</td>\n",
       "      <td>0.000000</td>\n",
       "      <td>0.000000</td>\n",
       "    </tr>\n",
       "    <tr>\n",
       "      <th>26</th>\n",
       "      <td>Fraudeur</td>\n",
       "      <td>0.000000</td>\n",
       "      <td>0.000000</td>\n",
       "    </tr>\n",
       "    <tr>\n",
       "      <th>27</th>\n",
       "      <td>Flag_Actif</td>\n",
       "      <td>0.000000</td>\n",
       "      <td>0.000000</td>\n",
       "    </tr>\n",
       "    <tr>\n",
       "      <th>28</th>\n",
       "      <td>Flag_CTX</td>\n",
       "      <td>0.000000</td>\n",
       "      <td>0.000000</td>\n",
       "    </tr>\n",
       "    <tr>\n",
       "      <th>29</th>\n",
       "      <td>MDPRBDUREE</td>\n",
       "      <td>0.000000</td>\n",
       "      <td>0.000000</td>\n",
       "    </tr>\n",
       "    <tr>\n",
       "      <th>30</th>\n",
       "      <td>Nb_Enf</td>\n",
       "      <td>0.000000</td>\n",
       "      <td>0.000000</td>\n",
       "    </tr>\n",
       "    <tr>\n",
       "      <th>31</th>\n",
       "      <td>Mdecouvert</td>\n",
       "      <td>0.000000</td>\n",
       "      <td>0.000000</td>\n",
       "    </tr>\n",
       "    <tr>\n",
       "      <th>32</th>\n",
       "      <td>REF</td>\n",
       "      <td>0.000000</td>\n",
       "      <td>0.000000</td>\n",
       "    </tr>\n",
       "    <tr>\n",
       "      <th>33</th>\n",
       "      <td>SS</td>\n",
       "      <td>0.000000</td>\n",
       "      <td>0.000000</td>\n",
       "    </tr>\n",
       "  </tbody>\n",
       "</table>\n",
       "</div>"
      ],
      "text/plain": [
       "                        feature  importance_mean  importance_std\n",
       "0                     Ressource         0.133031        0.036531\n",
       "1                       Age_Tit         0.079192        0.030362\n",
       "2                           RAV         0.049276        0.010743\n",
       "3                      Mrev_Tit         0.032055        0.008999\n",
       "4               Ancien_Banc_Tit         0.029123        0.011929\n",
       "5            ZCOM_SR_CL_MIMPOTS         0.022893        0.002734\n",
       "6                       RAV_Rev         0.022721        0.006711\n",
       "7                        Tx_Edt         0.022465        0.005001\n",
       "8                        Charge         0.020603        0.004387\n",
       "9                   Ancbanc_Tit         0.020225        0.004415\n",
       "10              Ancien_Prof_Tit         0.016617        0.002059\n",
       "11               Ratio_Ress_RAV         0.014732        0.005148\n",
       "12                  MCLFCHAB1_L         0.012155        0.002645\n",
       "13               CSP_Tit_others         0.008908        0.003337\n",
       "14                  MCLFCHAB1_F         0.003562        0.001727\n",
       "15                MCLFCSITFAM_M         0.003406        0.002553\n",
       "16                  MCLFCHAB1_P         0.003086        0.001298\n",
       "17  CSP_Tit_Managerial position         0.002246        0.001612\n",
       "18                MCLFCSITFAM_K         0.002062        0.001646\n",
       "19               CSP_Tit_worker         0.001986        0.001335\n",
       "20           MCLFCSITFAM_others         0.001864        0.001366\n",
       "21              CSP_Tit_Retired         0.000169        0.000116\n",
       "22             MCLFCHAB1_others         0.000016        0.000021\n",
       "23                          ACP         0.000000        0.000000\n",
       "24                          DMA         0.000000        0.000000\n",
       "25                 Flag_Finance         0.000000        0.000000\n",
       "26                     Fraudeur         0.000000        0.000000\n",
       "27                   Flag_Actif         0.000000        0.000000\n",
       "28                     Flag_CTX         0.000000        0.000000\n",
       "29                   MDPRBDUREE         0.000000        0.000000\n",
       "30                       Nb_Enf         0.000000        0.000000\n",
       "31                   Mdecouvert         0.000000        0.000000\n",
       "32                          REF         0.000000        0.000000\n",
       "33                           SS         0.000000        0.000000"
      ]
     },
     "metadata": {},
     "output_type": "display_data"
    }
   ],
   "source": [
    "# Permutation Feature Importance (RF, CV=3) sur df_OHE avec métrique AUC (roc_auc)         \n",
    "TARGET_COL = \"BP\"\n",
    "y = df_OHE[TARGET_COL]\n",
    "X = df_OHE.drop(columns=[TARGET_COL])\n",
    "cv = StratifiedKFold(n_splits=3, shuffle=True, random_state=42)\n",
    "\n",
    "rf_params = dict(\n",
    "    n_estimators=200,\n",
    "    max_depth=6,\n",
    "    min_samples_split=5,\n",
    "    min_samples_leaf=2,\n",
    "    max_features=0.8,\n",
    "    n_jobs=-1,\n",
    "    random_state=42\n",
    ")\n",
    "\n",
    "fold_imps = []\n",
    "auc_folds = []\n",
    "prec_folds = []\n",
    "recall_folds = []\n",
    "\n",
    "for fold, (tr, va) in enumerate(cv.split(X, y), start=1):\n",
    "    X_tr, X_va = X.iloc[tr], X.iloc[va]\n",
    "    y_tr, y_va = y.iloc[tr], y.iloc[va]\n",
    "\n",
    "    if y_va.nunique() < 2:\n",
    "        continue\n",
    "\n",
    "    model = RandomForestClassifier(**rf_params)\n",
    "    model.fit(X_tr, y_tr)\n",
    "\n",
    "    y_proba = model.predict_proba(X_va)[:, 1]\n",
    "    y_pred = model.predict(X_va)\n",
    "    auc = roc_auc_score(y_va, y_proba)\n",
    "    precision = precision_score(y_va, y_pred)\n",
    "    recall = recall_score(y_va, y_pred)\n",
    "    \n",
    "    auc_folds.append(auc)\n",
    "    prec_folds.append(precision)\n",
    "    recall_folds.append(recall)\n",
    "\n",
    "    pfi = permutation_importance(\n",
    "        model,\n",
    "        X_tr,\n",
    "        y_tr,\n",
    "        n_repeats=40,\n",
    "        scoring=\"roc_auc\",\n",
    "        random_state=42,\n",
    "        n_jobs=-1\n",
    "    )\n",
    "\n",
    "    df_fold = pd.DataFrame({\n",
    "        \"feature\": X.columns,\n",
    "        \"importance_mean\": pfi.importances_mean,\n",
    "        \"importance_std\": pfi.importances_std,\n",
    "        \"fold\": fold,\n",
    "        \"val_auc\": auc,\n",
    "    })\n",
    "    fold_imps.append(df_fold)\n",
    "\n",
    "if not fold_imps:\n",
    "    raise RuntimeError(\"Aucun fold valide pour la PFI.\")\n",
    "\n",
    "pfi_cv = pd.concat(fold_imps, ignore_index=True)\n",
    "\n",
    "pfi_cv_summary = (pfi_cv\n",
    "                  .groupby(\"feature\", as_index=False)\n",
    "                  .agg(importance_mean=(\"importance_mean\", \"mean\"),\n",
    "                       importance_std=(\"importance_mean\", \"std\"))\n",
    "                  .sort_values(\"importance_mean\", ascending=False)\n",
    "                  .reset_index(drop=True))\n",
    "\n",
    "print(f\"AUC validation moyenne (3 folds) : {np.mean(auc_folds):.4f} ± {np.std(auc_folds):.4f}\")\n",
    "print(f\"Precision validation moyenne (3 folds) : {np.mean(prec_folds):.4f} ± {np.std(prec_folds):.4f}\")\n",
    "print(f\"Recall validation moyenne (3 folds) : {np.mean(recall_folds):.4f} ± {np.std(recall_folds):.4f}\")\n",
    "display(pfi_cv_summary)\n"
   ]
  },
  {
   "cell_type": "markdown",
   "id": "49520ed0",
   "metadata": {},
   "source": [
    "### Feature importance"
   ]
  },
  {
   "cell_type": "code",
   "execution_count": null,
   "id": "49000ee1",
   "metadata": {},
   "outputs": [],
   "source": [
    "rf_params = dict(\n",
    "    n_estimators=200,\n",
    "    max_depth=6,\n",
    "    min_samples_split=5,\n",
    "    min_samples_leaf=2,\n",
    "    max_features=0.8,\n",
    "    n_jobs=-1,\n",
    "    random_state=42\n",
    ")"
   ]
  },
  {
   "cell_type": "code",
   "execution_count": null,
   "id": "83b543e8",
   "metadata": {},
   "outputs": [
    {
     "data": {
      "text/html": [
       "<div>\n",
       "<style scoped>\n",
       "    .dataframe tbody tr th:only-of-type {\n",
       "        vertical-align: middle;\n",
       "    }\n",
       "\n",
       "    .dataframe tbody tr th {\n",
       "        vertical-align: top;\n",
       "    }\n",
       "\n",
       "    .dataframe thead th {\n",
       "        text-align: right;\n",
       "    }\n",
       "</style>\n",
       "<table border=\"1\" class=\"dataframe\">\n",
       "  <thead>\n",
       "    <tr style=\"text-align: right;\">\n",
       "      <th></th>\n",
       "      <th>feature</th>\n",
       "      <th>importance</th>\n",
       "    </tr>\n",
       "  </thead>\n",
       "  <tbody>\n",
       "    <tr>\n",
       "      <th>0</th>\n",
       "      <td>Age_Tit</td>\n",
       "      <td>0.185367</td>\n",
       "    </tr>\n",
       "    <tr>\n",
       "      <th>1</th>\n",
       "      <td>Ressource</td>\n",
       "      <td>0.147655</td>\n",
       "    </tr>\n",
       "    <tr>\n",
       "      <th>2</th>\n",
       "      <td>Ancien_Banc_Tit</td>\n",
       "      <td>0.093297</td>\n",
       "    </tr>\n",
       "    <tr>\n",
       "      <th>3</th>\n",
       "      <td>RAV</td>\n",
       "      <td>0.092432</td>\n",
       "    </tr>\n",
       "    <tr>\n",
       "      <th>4</th>\n",
       "      <td>RAV_Rev</td>\n",
       "      <td>0.068791</td>\n",
       "    </tr>\n",
       "    <tr>\n",
       "      <th>5</th>\n",
       "      <td>Ancbanc_Tit</td>\n",
       "      <td>0.068642</td>\n",
       "    </tr>\n",
       "    <tr>\n",
       "      <th>6</th>\n",
       "      <td>Mrev_Tit</td>\n",
       "      <td>0.061327</td>\n",
       "    </tr>\n",
       "    <tr>\n",
       "      <th>7</th>\n",
       "      <td>Ancien_Prof_Tit</td>\n",
       "      <td>0.060242</td>\n",
       "    </tr>\n",
       "    <tr>\n",
       "      <th>8</th>\n",
       "      <td>ZCOM_SR_CL_MIMPOTS</td>\n",
       "      <td>0.051150</td>\n",
       "    </tr>\n",
       "    <tr>\n",
       "      <th>9</th>\n",
       "      <td>Charge</td>\n",
       "      <td>0.048160</td>\n",
       "    </tr>\n",
       "    <tr>\n",
       "      <th>10</th>\n",
       "      <td>Ratio_Ress_RAV</td>\n",
       "      <td>0.029968</td>\n",
       "    </tr>\n",
       "    <tr>\n",
       "      <th>11</th>\n",
       "      <td>Tx_Edt</td>\n",
       "      <td>0.029226</td>\n",
       "    </tr>\n",
       "    <tr>\n",
       "      <th>12</th>\n",
       "      <td>CSP_Tit_others</td>\n",
       "      <td>0.011278</td>\n",
       "    </tr>\n",
       "    <tr>\n",
       "      <th>13</th>\n",
       "      <td>CSP_Tit_worker</td>\n",
       "      <td>0.009030</td>\n",
       "    </tr>\n",
       "    <tr>\n",
       "      <th>14</th>\n",
       "      <td>MCLFCHAB1_L</td>\n",
       "      <td>0.008545</td>\n",
       "    </tr>\n",
       "    <tr>\n",
       "      <th>15</th>\n",
       "      <td>MCLFCHAB1_P</td>\n",
       "      <td>0.008298</td>\n",
       "    </tr>\n",
       "    <tr>\n",
       "      <th>16</th>\n",
       "      <td>MCLFCHAB1_F</td>\n",
       "      <td>0.006404</td>\n",
       "    </tr>\n",
       "    <tr>\n",
       "      <th>17</th>\n",
       "      <td>CSP_Tit_Managerial position</td>\n",
       "      <td>0.005287</td>\n",
       "    </tr>\n",
       "    <tr>\n",
       "      <th>18</th>\n",
       "      <td>MCLFCSITFAM_M</td>\n",
       "      <td>0.005012</td>\n",
       "    </tr>\n",
       "    <tr>\n",
       "      <th>19</th>\n",
       "      <td>MCLFCSITFAM_others</td>\n",
       "      <td>0.004664</td>\n",
       "    </tr>\n",
       "    <tr>\n",
       "      <th>20</th>\n",
       "      <td>MCLFCSITFAM_K</td>\n",
       "      <td>0.004518</td>\n",
       "    </tr>\n",
       "    <tr>\n",
       "      <th>21</th>\n",
       "      <td>CSP_Tit_Retired</td>\n",
       "      <td>0.000708</td>\n",
       "    </tr>\n",
       "    <tr>\n",
       "      <th>22</th>\n",
       "      <td>Nb_Enf</td>\n",
       "      <td>0.000000</td>\n",
       "    </tr>\n",
       "    <tr>\n",
       "      <th>23</th>\n",
       "      <td>DMA</td>\n",
       "      <td>0.000000</td>\n",
       "    </tr>\n",
       "    <tr>\n",
       "      <th>24</th>\n",
       "      <td>MDPRBDUREE</td>\n",
       "      <td>0.000000</td>\n",
       "    </tr>\n",
       "    <tr>\n",
       "      <th>25</th>\n",
       "      <td>Mdecouvert</td>\n",
       "      <td>0.000000</td>\n",
       "    </tr>\n",
       "    <tr>\n",
       "      <th>26</th>\n",
       "      <td>Flag_Actif</td>\n",
       "      <td>0.000000</td>\n",
       "    </tr>\n",
       "    <tr>\n",
       "      <th>27</th>\n",
       "      <td>Flag_CTX</td>\n",
       "      <td>0.000000</td>\n",
       "    </tr>\n",
       "    <tr>\n",
       "      <th>28</th>\n",
       "      <td>Flag_Finance</td>\n",
       "      <td>0.000000</td>\n",
       "    </tr>\n",
       "    <tr>\n",
       "      <th>29</th>\n",
       "      <td>REF</td>\n",
       "      <td>0.000000</td>\n",
       "    </tr>\n",
       "    <tr>\n",
       "      <th>30</th>\n",
       "      <td>Fraudeur</td>\n",
       "      <td>0.000000</td>\n",
       "    </tr>\n",
       "    <tr>\n",
       "      <th>31</th>\n",
       "      <td>ACP</td>\n",
       "      <td>0.000000</td>\n",
       "    </tr>\n",
       "    <tr>\n",
       "      <th>32</th>\n",
       "      <td>SS</td>\n",
       "      <td>0.000000</td>\n",
       "    </tr>\n",
       "    <tr>\n",
       "      <th>33</th>\n",
       "      <td>MCLFCHAB1_others</td>\n",
       "      <td>0.000000</td>\n",
       "    </tr>\n",
       "  </tbody>\n",
       "</table>\n",
       "</div>"
      ],
      "text/plain": [
       "                        feature  importance\n",
       "0                       Age_Tit    0.185367\n",
       "1                     Ressource    0.147655\n",
       "2               Ancien_Banc_Tit    0.093297\n",
       "3                           RAV    0.092432\n",
       "4                       RAV_Rev    0.068791\n",
       "5                   Ancbanc_Tit    0.068642\n",
       "6                      Mrev_Tit    0.061327\n",
       "7               Ancien_Prof_Tit    0.060242\n",
       "8            ZCOM_SR_CL_MIMPOTS    0.051150\n",
       "9                        Charge    0.048160\n",
       "10               Ratio_Ress_RAV    0.029968\n",
       "11                       Tx_Edt    0.029226\n",
       "12               CSP_Tit_others    0.011278\n",
       "13               CSP_Tit_worker    0.009030\n",
       "14                  MCLFCHAB1_L    0.008545\n",
       "15                  MCLFCHAB1_P    0.008298\n",
       "16                  MCLFCHAB1_F    0.006404\n",
       "17  CSP_Tit_Managerial position    0.005287\n",
       "18                MCLFCSITFAM_M    0.005012\n",
       "19           MCLFCSITFAM_others    0.004664\n",
       "20                MCLFCSITFAM_K    0.004518\n",
       "21              CSP_Tit_Retired    0.000708\n",
       "22                       Nb_Enf    0.000000\n",
       "23                          DMA    0.000000\n",
       "24                   MDPRBDUREE    0.000000\n",
       "25                   Mdecouvert    0.000000\n",
       "26                   Flag_Actif    0.000000\n",
       "27                     Flag_CTX    0.000000\n",
       "28                 Flag_Finance    0.000000\n",
       "29                          REF    0.000000\n",
       "30                     Fraudeur    0.000000\n",
       "31                          ACP    0.000000\n",
       "32                           SS    0.000000\n",
       "33             MCLFCHAB1_others    0.000000"
      ]
     },
     "metadata": {},
     "output_type": "display_data"
    },
    {
     "data": {
      "application/vnd.plotly.v1+json": {
       "config": {
        "plotlyServerURL": "https://plot.ly"
       },
       "data": [
        {
         "hovertemplate": "importance=%{x}<br>feature=%{y}<extra></extra>",
         "legendgroup": "",
         "marker": {
          "color": "#636efa",
          "pattern": {
           "shape": ""
          }
         },
         "name": "",
         "orientation": "h",
         "showlegend": false,
         "textposition": "auto",
         "type": "bar",
         "x": {
          "bdata": "ksaY9Bm6xz/jEy8RYObCP2gP6ddM4rc/nR4vsqSptz9Y6Zw2TpyxP5EZQ6J+krE/Esci/Udmrz9gjWdc/teuP8qxqG9MMKo/+yfMAXKoqD/W1G8d0q+eP+pNh4dj7Z0/Kqk/sgYZhz9Kup0kPH6CP/1f8mLvf4E/tbLpSYn+gD/a7oA8kTp6P1ZSdrWLp3U/TAFyamqHdD8daX9vrRpzP8YYD31JgXI/46kH2jY3Rz8AAAAAAAAAAAAAAAAAAAAAAAAAAAAAAAAAAAAAAAAAAAAAAAAAAAAAAAAAAAAAAAAAAAAAAAAAAAAAAAAAAAAAAAAAAAAAAAAAAAAAAAAAAAAAAAAAAAAAAAAAAAAAAAA=",
          "dtype": "f8"
         },
         "xaxis": "x",
         "y": [
          "Age_Tit",
          "Ressource",
          "Ancien_Banc_Tit",
          "RAV",
          "RAV_Rev",
          "Ancbanc_Tit",
          "Mrev_Tit",
          "Ancien_Prof_Tit",
          "ZCOM_SR_CL_MIMPOTS",
          "Charge",
          "Ratio_Ress_RAV",
          "Tx_Edt",
          "CSP_Tit_others",
          "CSP_Tit_worker",
          "MCLFCHAB1_L",
          "MCLFCHAB1_P",
          "MCLFCHAB1_F",
          "CSP_Tit_Managerial position",
          "MCLFCSITFAM_M",
          "MCLFCSITFAM_others",
          "MCLFCSITFAM_K",
          "CSP_Tit_Retired",
          "Nb_Enf",
          "DMA",
          "MDPRBDUREE",
          "Mdecouvert",
          "Flag_Actif",
          "Flag_CTX",
          "Flag_Finance",
          "REF",
          "Fraudeur",
          "ACP",
          "SS",
          "MCLFCHAB1_others"
         ],
         "yaxis": "y"
        }
       ],
       "layout": {
        "barmode": "relative",
        "height": 800,
        "legend": {
         "tracegroupgap": 0
        },
        "template": {
         "data": {
          "bar": [
           {
            "error_x": {
             "color": "#2a3f5f"
            },
            "error_y": {
             "color": "#2a3f5f"
            },
            "marker": {
             "line": {
              "color": "#E5ECF6",
              "width": 0.5
             },
             "pattern": {
              "fillmode": "overlay",
              "size": 10,
              "solidity": 0.2
             }
            },
            "type": "bar"
           }
          ],
          "barpolar": [
           {
            "marker": {
             "line": {
              "color": "#E5ECF6",
              "width": 0.5
             },
             "pattern": {
              "fillmode": "overlay",
              "size": 10,
              "solidity": 0.2
             }
            },
            "type": "barpolar"
           }
          ],
          "carpet": [
           {
            "aaxis": {
             "endlinecolor": "#2a3f5f",
             "gridcolor": "white",
             "linecolor": "white",
             "minorgridcolor": "white",
             "startlinecolor": "#2a3f5f"
            },
            "baxis": {
             "endlinecolor": "#2a3f5f",
             "gridcolor": "white",
             "linecolor": "white",
             "minorgridcolor": "white",
             "startlinecolor": "#2a3f5f"
            },
            "type": "carpet"
           }
          ],
          "choropleth": [
           {
            "colorbar": {
             "outlinewidth": 0,
             "ticks": ""
            },
            "type": "choropleth"
           }
          ],
          "contour": [
           {
            "colorbar": {
             "outlinewidth": 0,
             "ticks": ""
            },
            "colorscale": [
             [
              0,
              "#0d0887"
             ],
             [
              0.1111111111111111,
              "#46039f"
             ],
             [
              0.2222222222222222,
              "#7201a8"
             ],
             [
              0.3333333333333333,
              "#9c179e"
             ],
             [
              0.4444444444444444,
              "#bd3786"
             ],
             [
              0.5555555555555556,
              "#d8576b"
             ],
             [
              0.6666666666666666,
              "#ed7953"
             ],
             [
              0.7777777777777778,
              "#fb9f3a"
             ],
             [
              0.8888888888888888,
              "#fdca26"
             ],
             [
              1,
              "#f0f921"
             ]
            ],
            "type": "contour"
           }
          ],
          "contourcarpet": [
           {
            "colorbar": {
             "outlinewidth": 0,
             "ticks": ""
            },
            "type": "contourcarpet"
           }
          ],
          "heatmap": [
           {
            "colorbar": {
             "outlinewidth": 0,
             "ticks": ""
            },
            "colorscale": [
             [
              0,
              "#0d0887"
             ],
             [
              0.1111111111111111,
              "#46039f"
             ],
             [
              0.2222222222222222,
              "#7201a8"
             ],
             [
              0.3333333333333333,
              "#9c179e"
             ],
             [
              0.4444444444444444,
              "#bd3786"
             ],
             [
              0.5555555555555556,
              "#d8576b"
             ],
             [
              0.6666666666666666,
              "#ed7953"
             ],
             [
              0.7777777777777778,
              "#fb9f3a"
             ],
             [
              0.8888888888888888,
              "#fdca26"
             ],
             [
              1,
              "#f0f921"
             ]
            ],
            "type": "heatmap"
           }
          ],
          "histogram": [
           {
            "marker": {
             "pattern": {
              "fillmode": "overlay",
              "size": 10,
              "solidity": 0.2
             }
            },
            "type": "histogram"
           }
          ],
          "histogram2d": [
           {
            "colorbar": {
             "outlinewidth": 0,
             "ticks": ""
            },
            "colorscale": [
             [
              0,
              "#0d0887"
             ],
             [
              0.1111111111111111,
              "#46039f"
             ],
             [
              0.2222222222222222,
              "#7201a8"
             ],
             [
              0.3333333333333333,
              "#9c179e"
             ],
             [
              0.4444444444444444,
              "#bd3786"
             ],
             [
              0.5555555555555556,
              "#d8576b"
             ],
             [
              0.6666666666666666,
              "#ed7953"
             ],
             [
              0.7777777777777778,
              "#fb9f3a"
             ],
             [
              0.8888888888888888,
              "#fdca26"
             ],
             [
              1,
              "#f0f921"
             ]
            ],
            "type": "histogram2d"
           }
          ],
          "histogram2dcontour": [
           {
            "colorbar": {
             "outlinewidth": 0,
             "ticks": ""
            },
            "colorscale": [
             [
              0,
              "#0d0887"
             ],
             [
              0.1111111111111111,
              "#46039f"
             ],
             [
              0.2222222222222222,
              "#7201a8"
             ],
             [
              0.3333333333333333,
              "#9c179e"
             ],
             [
              0.4444444444444444,
              "#bd3786"
             ],
             [
              0.5555555555555556,
              "#d8576b"
             ],
             [
              0.6666666666666666,
              "#ed7953"
             ],
             [
              0.7777777777777778,
              "#fb9f3a"
             ],
             [
              0.8888888888888888,
              "#fdca26"
             ],
             [
              1,
              "#f0f921"
             ]
            ],
            "type": "histogram2dcontour"
           }
          ],
          "mesh3d": [
           {
            "colorbar": {
             "outlinewidth": 0,
             "ticks": ""
            },
            "type": "mesh3d"
           }
          ],
          "parcoords": [
           {
            "line": {
             "colorbar": {
              "outlinewidth": 0,
              "ticks": ""
             }
            },
            "type": "parcoords"
           }
          ],
          "pie": [
           {
            "automargin": true,
            "type": "pie"
           }
          ],
          "scatter": [
           {
            "fillpattern": {
             "fillmode": "overlay",
             "size": 10,
             "solidity": 0.2
            },
            "type": "scatter"
           }
          ],
          "scatter3d": [
           {
            "line": {
             "colorbar": {
              "outlinewidth": 0,
              "ticks": ""
             }
            },
            "marker": {
             "colorbar": {
              "outlinewidth": 0,
              "ticks": ""
             }
            },
            "type": "scatter3d"
           }
          ],
          "scattercarpet": [
           {
            "marker": {
             "colorbar": {
              "outlinewidth": 0,
              "ticks": ""
             }
            },
            "type": "scattercarpet"
           }
          ],
          "scattergeo": [
           {
            "marker": {
             "colorbar": {
              "outlinewidth": 0,
              "ticks": ""
             }
            },
            "type": "scattergeo"
           }
          ],
          "scattergl": [
           {
            "marker": {
             "colorbar": {
              "outlinewidth": 0,
              "ticks": ""
             }
            },
            "type": "scattergl"
           }
          ],
          "scattermap": [
           {
            "marker": {
             "colorbar": {
              "outlinewidth": 0,
              "ticks": ""
             }
            },
            "type": "scattermap"
           }
          ],
          "scattermapbox": [
           {
            "marker": {
             "colorbar": {
              "outlinewidth": 0,
              "ticks": ""
             }
            },
            "type": "scattermapbox"
           }
          ],
          "scatterpolar": [
           {
            "marker": {
             "colorbar": {
              "outlinewidth": 0,
              "ticks": ""
             }
            },
            "type": "scatterpolar"
           }
          ],
          "scatterpolargl": [
           {
            "marker": {
             "colorbar": {
              "outlinewidth": 0,
              "ticks": ""
             }
            },
            "type": "scatterpolargl"
           }
          ],
          "scatterternary": [
           {
            "marker": {
             "colorbar": {
              "outlinewidth": 0,
              "ticks": ""
             }
            },
            "type": "scatterternary"
           }
          ],
          "surface": [
           {
            "colorbar": {
             "outlinewidth": 0,
             "ticks": ""
            },
            "colorscale": [
             [
              0,
              "#0d0887"
             ],
             [
              0.1111111111111111,
              "#46039f"
             ],
             [
              0.2222222222222222,
              "#7201a8"
             ],
             [
              0.3333333333333333,
              "#9c179e"
             ],
             [
              0.4444444444444444,
              "#bd3786"
             ],
             [
              0.5555555555555556,
              "#d8576b"
             ],
             [
              0.6666666666666666,
              "#ed7953"
             ],
             [
              0.7777777777777778,
              "#fb9f3a"
             ],
             [
              0.8888888888888888,
              "#fdca26"
             ],
             [
              1,
              "#f0f921"
             ]
            ],
            "type": "surface"
           }
          ],
          "table": [
           {
            "cells": {
             "fill": {
              "color": "#EBF0F8"
             },
             "line": {
              "color": "white"
             }
            },
            "header": {
             "fill": {
              "color": "#C8D4E3"
             },
             "line": {
              "color": "white"
             }
            },
            "type": "table"
           }
          ]
         },
         "layout": {
          "annotationdefaults": {
           "arrowcolor": "#2a3f5f",
           "arrowhead": 0,
           "arrowwidth": 1
          },
          "autotypenumbers": "strict",
          "coloraxis": {
           "colorbar": {
            "outlinewidth": 0,
            "ticks": ""
           }
          },
          "colorscale": {
           "diverging": [
            [
             0,
             "#8e0152"
            ],
            [
             0.1,
             "#c51b7d"
            ],
            [
             0.2,
             "#de77ae"
            ],
            [
             0.3,
             "#f1b6da"
            ],
            [
             0.4,
             "#fde0ef"
            ],
            [
             0.5,
             "#f7f7f7"
            ],
            [
             0.6,
             "#e6f5d0"
            ],
            [
             0.7,
             "#b8e186"
            ],
            [
             0.8,
             "#7fbc41"
            ],
            [
             0.9,
             "#4d9221"
            ],
            [
             1,
             "#276419"
            ]
           ],
           "sequential": [
            [
             0,
             "#0d0887"
            ],
            [
             0.1111111111111111,
             "#46039f"
            ],
            [
             0.2222222222222222,
             "#7201a8"
            ],
            [
             0.3333333333333333,
             "#9c179e"
            ],
            [
             0.4444444444444444,
             "#bd3786"
            ],
            [
             0.5555555555555556,
             "#d8576b"
            ],
            [
             0.6666666666666666,
             "#ed7953"
            ],
            [
             0.7777777777777778,
             "#fb9f3a"
            ],
            [
             0.8888888888888888,
             "#fdca26"
            ],
            [
             1,
             "#f0f921"
            ]
           ],
           "sequentialminus": [
            [
             0,
             "#0d0887"
            ],
            [
             0.1111111111111111,
             "#46039f"
            ],
            [
             0.2222222222222222,
             "#7201a8"
            ],
            [
             0.3333333333333333,
             "#9c179e"
            ],
            [
             0.4444444444444444,
             "#bd3786"
            ],
            [
             0.5555555555555556,
             "#d8576b"
            ],
            [
             0.6666666666666666,
             "#ed7953"
            ],
            [
             0.7777777777777778,
             "#fb9f3a"
            ],
            [
             0.8888888888888888,
             "#fdca26"
            ],
            [
             1,
             "#f0f921"
            ]
           ]
          },
          "colorway": [
           "#636efa",
           "#EF553B",
           "#00cc96",
           "#ab63fa",
           "#FFA15A",
           "#19d3f3",
           "#FF6692",
           "#B6E880",
           "#FF97FF",
           "#FECB52"
          ],
          "font": {
           "color": "#2a3f5f"
          },
          "geo": {
           "bgcolor": "white",
           "lakecolor": "white",
           "landcolor": "#E5ECF6",
           "showlakes": true,
           "showland": true,
           "subunitcolor": "white"
          },
          "hoverlabel": {
           "align": "left"
          },
          "hovermode": "closest",
          "mapbox": {
           "style": "light"
          },
          "paper_bgcolor": "white",
          "plot_bgcolor": "#E5ECF6",
          "polar": {
           "angularaxis": {
            "gridcolor": "white",
            "linecolor": "white",
            "ticks": ""
           },
           "bgcolor": "#E5ECF6",
           "radialaxis": {
            "gridcolor": "white",
            "linecolor": "white",
            "ticks": ""
           }
          },
          "scene": {
           "xaxis": {
            "backgroundcolor": "#E5ECF6",
            "gridcolor": "white",
            "gridwidth": 2,
            "linecolor": "white",
            "showbackground": true,
            "ticks": "",
            "zerolinecolor": "white"
           },
           "yaxis": {
            "backgroundcolor": "#E5ECF6",
            "gridcolor": "white",
            "gridwidth": 2,
            "linecolor": "white",
            "showbackground": true,
            "ticks": "",
            "zerolinecolor": "white"
           },
           "zaxis": {
            "backgroundcolor": "#E5ECF6",
            "gridcolor": "white",
            "gridwidth": 2,
            "linecolor": "white",
            "showbackground": true,
            "ticks": "",
            "zerolinecolor": "white"
           }
          },
          "shapedefaults": {
           "line": {
            "color": "#2a3f5f"
           }
          },
          "ternary": {
           "aaxis": {
            "gridcolor": "white",
            "linecolor": "white",
            "ticks": ""
           },
           "baxis": {
            "gridcolor": "white",
            "linecolor": "white",
            "ticks": ""
           },
           "bgcolor": "#E5ECF6",
           "caxis": {
            "gridcolor": "white",
            "linecolor": "white",
            "ticks": ""
           }
          },
          "title": {
           "x": 0.05
          },
          "xaxis": {
           "automargin": true,
           "gridcolor": "white",
           "linecolor": "white",
           "ticks": "",
           "title": {
            "standoff": 15
           },
           "zerolinecolor": "white",
           "zerolinewidth": 2
          },
          "yaxis": {
           "automargin": true,
           "gridcolor": "white",
           "linecolor": "white",
           "ticks": "",
           "title": {
            "standoff": 15
           },
           "zerolinecolor": "white",
           "zerolinewidth": 2
          }
         }
        },
        "title": {
         "text": "RandomForest feature importances"
        },
        "xaxis": {
         "anchor": "y",
         "domain": [
          0,
          1
         ],
         "title": {
          "text": "importance"
         }
        },
        "yaxis": {
         "anchor": "x",
         "autorange": "reversed",
         "domain": [
          0,
          1
         ],
         "title": {
          "text": "feature"
         }
        }
       }
      }
     },
     "metadata": {},
     "output_type": "display_data"
    }
   ],
   "source": [
    "# Importance intégrée RandomForest (feature_importances_)\n",
    "TARGET_COL = \"BP\"\n",
    "X = df_OHE.drop(columns=[TARGET_COL])\n",
    "y = df_OHE[TARGET_COL]\n",
    "\n",
    "model = RandomForestClassifier(**rf_params)\n",
    "model.fit(X, y)\n",
    "\n",
    "importances = model.feature_importances_\n",
    "fi_df = (\n",
    "    pd.DataFrame({\n",
    "        \"feature\": X.columns,\n",
    "        \"importance\": importances\n",
    "    })\n",
    "    .sort_values(\"importance\", ascending=False)\n",
    "    .reset_index(drop=True)\n",
    "\n",
    "display(fi_df)\n",
    "fig = px.bar(fi_df,\n",
    "             x=\"importance\",\n",
    "             y=\"feature\",\n",
    "             orientation=\"h\",\n",
    "             title=\"RandomForest feature importances\",\n",
    "             height=800)\n",
    "fig.update_layout(yaxis=dict(autorange=\"reversed\"))\n",
    "fig.show()"
   ]
  },
  {
   "cell_type": "code",
   "execution_count": null,
   "id": "3f745906",
   "metadata": {},
   "outputs": [
    {
     "name": "stdout",
     "output_type": "stream",
     "text": [
      "Nombre optimal de variables (RFECV) : 26\n",
      "Features sélectionnées (26) : ['ZCOM_SR_CL_MIMPOTS', 'Mrev_Tit', 'Ressource', 'Charge', 'Ancbanc_Tit', 'Ancien_Banc_Tit', 'Ancien_Prof_Tit', 'RAV', 'Ratio_Ress_RAV', 'RAV_Rev', 'Tx_Edt', 'Age_Tit', 'SS', 'REF', 'Flag_Finance', 'MCLFCHAB1_F', 'MCLFCHAB1_L', 'MCLFCHAB1_P', 'MCLFCHAB1_others', 'MCLFCSITFAM_K', 'MCLFCSITFAM_M', 'MCLFCSITFAM_others', 'CSP_Tit_Managerial position', 'CSP_Tit_Retired', 'CSP_Tit_others', 'CSP_Tit_worker']\n"
     ]
    },
    {
     "data": {
      "text/html": [
       "<div>\n",
       "<style scoped>\n",
       "    .dataframe tbody tr th:only-of-type {\n",
       "        vertical-align: middle;\n",
       "    }\n",
       "\n",
       "    .dataframe tbody tr th {\n",
       "        vertical-align: top;\n",
       "    }\n",
       "\n",
       "    .dataframe thead th {\n",
       "        text-align: right;\n",
       "    }\n",
       "</style>\n",
       "<table border=\"1\" class=\"dataframe\">\n",
       "  <thead>\n",
       "    <tr style=\"text-align: right;\">\n",
       "      <th></th>\n",
       "      <th>feature</th>\n",
       "      <th>rank</th>\n",
       "      <th>selected</th>\n",
       "    </tr>\n",
       "  </thead>\n",
       "  <tbody>\n",
       "    <tr>\n",
       "      <th>0</th>\n",
       "      <td>Age_Tit</td>\n",
       "      <td>1</td>\n",
       "      <td>True</td>\n",
       "    </tr>\n",
       "    <tr>\n",
       "      <th>1</th>\n",
       "      <td>Ancbanc_Tit</td>\n",
       "      <td>1</td>\n",
       "      <td>True</td>\n",
       "    </tr>\n",
       "    <tr>\n",
       "      <th>2</th>\n",
       "      <td>Ancien_Banc_Tit</td>\n",
       "      <td>1</td>\n",
       "      <td>True</td>\n",
       "    </tr>\n",
       "    <tr>\n",
       "      <th>3</th>\n",
       "      <td>Ancien_Prof_Tit</td>\n",
       "      <td>1</td>\n",
       "      <td>True</td>\n",
       "    </tr>\n",
       "    <tr>\n",
       "      <th>4</th>\n",
       "      <td>CSP_Tit_Managerial position</td>\n",
       "      <td>1</td>\n",
       "      <td>True</td>\n",
       "    </tr>\n",
       "    <tr>\n",
       "      <th>5</th>\n",
       "      <td>CSP_Tit_Retired</td>\n",
       "      <td>1</td>\n",
       "      <td>True</td>\n",
       "    </tr>\n",
       "    <tr>\n",
       "      <th>6</th>\n",
       "      <td>CSP_Tit_others</td>\n",
       "      <td>1</td>\n",
       "      <td>True</td>\n",
       "    </tr>\n",
       "    <tr>\n",
       "      <th>7</th>\n",
       "      <td>CSP_Tit_worker</td>\n",
       "      <td>1</td>\n",
       "      <td>True</td>\n",
       "    </tr>\n",
       "    <tr>\n",
       "      <th>8</th>\n",
       "      <td>Charge</td>\n",
       "      <td>1</td>\n",
       "      <td>True</td>\n",
       "    </tr>\n",
       "    <tr>\n",
       "      <th>9</th>\n",
       "      <td>Flag_Finance</td>\n",
       "      <td>1</td>\n",
       "      <td>True</td>\n",
       "    </tr>\n",
       "    <tr>\n",
       "      <th>10</th>\n",
       "      <td>MCLFCHAB1_F</td>\n",
       "      <td>1</td>\n",
       "      <td>True</td>\n",
       "    </tr>\n",
       "    <tr>\n",
       "      <th>11</th>\n",
       "      <td>MCLFCHAB1_L</td>\n",
       "      <td>1</td>\n",
       "      <td>True</td>\n",
       "    </tr>\n",
       "    <tr>\n",
       "      <th>12</th>\n",
       "      <td>MCLFCHAB1_P</td>\n",
       "      <td>1</td>\n",
       "      <td>True</td>\n",
       "    </tr>\n",
       "    <tr>\n",
       "      <th>13</th>\n",
       "      <td>MCLFCHAB1_others</td>\n",
       "      <td>1</td>\n",
       "      <td>True</td>\n",
       "    </tr>\n",
       "    <tr>\n",
       "      <th>14</th>\n",
       "      <td>MCLFCSITFAM_K</td>\n",
       "      <td>1</td>\n",
       "      <td>True</td>\n",
       "    </tr>\n",
       "    <tr>\n",
       "      <th>15</th>\n",
       "      <td>MCLFCSITFAM_M</td>\n",
       "      <td>1</td>\n",
       "      <td>True</td>\n",
       "    </tr>\n",
       "    <tr>\n",
       "      <th>16</th>\n",
       "      <td>MCLFCSITFAM_others</td>\n",
       "      <td>1</td>\n",
       "      <td>True</td>\n",
       "    </tr>\n",
       "    <tr>\n",
       "      <th>17</th>\n",
       "      <td>Mrev_Tit</td>\n",
       "      <td>1</td>\n",
       "      <td>True</td>\n",
       "    </tr>\n",
       "    <tr>\n",
       "      <th>18</th>\n",
       "      <td>RAV</td>\n",
       "      <td>1</td>\n",
       "      <td>True</td>\n",
       "    </tr>\n",
       "    <tr>\n",
       "      <th>19</th>\n",
       "      <td>RAV_Rev</td>\n",
       "      <td>1</td>\n",
       "      <td>True</td>\n",
       "    </tr>\n",
       "    <tr>\n",
       "      <th>20</th>\n",
       "      <td>REF</td>\n",
       "      <td>1</td>\n",
       "      <td>True</td>\n",
       "    </tr>\n",
       "    <tr>\n",
       "      <th>21</th>\n",
       "      <td>Ratio_Ress_RAV</td>\n",
       "      <td>1</td>\n",
       "      <td>True</td>\n",
       "    </tr>\n",
       "    <tr>\n",
       "      <th>22</th>\n",
       "      <td>Ressource</td>\n",
       "      <td>1</td>\n",
       "      <td>True</td>\n",
       "    </tr>\n",
       "    <tr>\n",
       "      <th>23</th>\n",
       "      <td>SS</td>\n",
       "      <td>1</td>\n",
       "      <td>True</td>\n",
       "    </tr>\n",
       "    <tr>\n",
       "      <th>24</th>\n",
       "      <td>Tx_Edt</td>\n",
       "      <td>1</td>\n",
       "      <td>True</td>\n",
       "    </tr>\n",
       "    <tr>\n",
       "      <th>25</th>\n",
       "      <td>ZCOM_SR_CL_MIMPOTS</td>\n",
       "      <td>1</td>\n",
       "      <td>True</td>\n",
       "    </tr>\n",
       "    <tr>\n",
       "      <th>26</th>\n",
       "      <td>ACP</td>\n",
       "      <td>2</td>\n",
       "      <td>False</td>\n",
       "    </tr>\n",
       "    <tr>\n",
       "      <th>27</th>\n",
       "      <td>Fraudeur</td>\n",
       "      <td>3</td>\n",
       "      <td>False</td>\n",
       "    </tr>\n",
       "    <tr>\n",
       "      <th>28</th>\n",
       "      <td>Flag_Actif</td>\n",
       "      <td>4</td>\n",
       "      <td>False</td>\n",
       "    </tr>\n",
       "    <tr>\n",
       "      <th>29</th>\n",
       "      <td>Flag_CTX</td>\n",
       "      <td>5</td>\n",
       "      <td>False</td>\n",
       "    </tr>\n",
       "    <tr>\n",
       "      <th>30</th>\n",
       "      <td>DMA</td>\n",
       "      <td>6</td>\n",
       "      <td>False</td>\n",
       "    </tr>\n",
       "    <tr>\n",
       "      <th>31</th>\n",
       "      <td>Mdecouvert</td>\n",
       "      <td>7</td>\n",
       "      <td>False</td>\n",
       "    </tr>\n",
       "    <tr>\n",
       "      <th>32</th>\n",
       "      <td>MDPRBDUREE</td>\n",
       "      <td>8</td>\n",
       "      <td>False</td>\n",
       "    </tr>\n",
       "    <tr>\n",
       "      <th>33</th>\n",
       "      <td>Nb_Enf</td>\n",
       "      <td>9</td>\n",
       "      <td>False</td>\n",
       "    </tr>\n",
       "  </tbody>\n",
       "</table>\n",
       "</div>"
      ],
      "text/plain": [
       "                        feature  rank  selected\n",
       "0                       Age_Tit     1      True\n",
       "1                   Ancbanc_Tit     1      True\n",
       "2               Ancien_Banc_Tit     1      True\n",
       "3               Ancien_Prof_Tit     1      True\n",
       "4   CSP_Tit_Managerial position     1      True\n",
       "5               CSP_Tit_Retired     1      True\n",
       "6                CSP_Tit_others     1      True\n",
       "7                CSP_Tit_worker     1      True\n",
       "8                        Charge     1      True\n",
       "9                  Flag_Finance     1      True\n",
       "10                  MCLFCHAB1_F     1      True\n",
       "11                  MCLFCHAB1_L     1      True\n",
       "12                  MCLFCHAB1_P     1      True\n",
       "13             MCLFCHAB1_others     1      True\n",
       "14                MCLFCSITFAM_K     1      True\n",
       "15                MCLFCSITFAM_M     1      True\n",
       "16           MCLFCSITFAM_others     1      True\n",
       "17                     Mrev_Tit     1      True\n",
       "18                          RAV     1      True\n",
       "19                      RAV_Rev     1      True\n",
       "20                          REF     1      True\n",
       "21               Ratio_Ress_RAV     1      True\n",
       "22                    Ressource     1      True\n",
       "23                           SS     1      True\n",
       "24                       Tx_Edt     1      True\n",
       "25           ZCOM_SR_CL_MIMPOTS     1      True\n",
       "26                          ACP     2     False\n",
       "27                     Fraudeur     3     False\n",
       "28                   Flag_Actif     4     False\n",
       "29                     Flag_CTX     5     False\n",
       "30                          DMA     6     False\n",
       "31                   Mdecouvert     7     False\n",
       "32                   MDPRBDUREE     8     False\n",
       "33                       Nb_Enf     9     False"
      ]
     },
     "metadata": {},
     "output_type": "display_data"
    }
   ],
   "source": [
    "# Sélection de variables par RFE\n",
    "from sklearn.feature_selection import RFECV\n",
    "\n",
    "TARGET_COL = \"BP\"\n",
    "\n",
    "y = df_OHE[TARGET_COL]\n",
    "X = df_OHE.drop(columns=[TARGET_COL])\n",
    "\n",
    "rf_params_rfe = rf_params.copy()\n",
    "rf_params_rfe.setdefault(\"class_weight\", \"balanced\")\n",
    "\n",
    "estimator_rfe = RandomForestClassifier(**rf_params_rfe)\n",
    "\n",
    "cv = StratifiedKFold(n_splits=5, shuffle=True, random_state=42)\n",
    "\n",
    "rfecv = RFECV(\n",
    "    estimator=estimator_rfe,\n",
    "    step=1,\n",
    "    scoring=\"roc_auc\",\n",
    "    cv=cv,\n",
    "    n_jobs=-1,\n",
    "    min_features_to_select=3\n",
    ")\n",
    "\n",
    "rfecv.fit(X, y)\n",
    "\n",
    "selected_features = X.columns[rfecv.support_].tolist()\n",
    "rfe_results = (\n",
    "    pd.DataFrame({\n",
    "        \"feature\": X.columns,\n",
    "        \"rank\": rfecv.ranking_,\n",
    "        \"selected\": rfecv.support_\n",
    "    })\n",
    "    .sort_values([\"selected\", \"rank\", \"feature\"], ascending=[False, True, True])\n",
    "    .reset_index(drop=True)\n",
    ")\n",
    "\n",
    "print(f\"Nombre optimal de variables (RFECV) : {rfecv.n_features_}\")\n",
    "if hasattr(rfecv, \"grid_scores_\"):\n",
    "    print(f\"Score CV moyen (ROC AUC) au nombre optimal : {rfecv.grid_scores_[rfecv.n_features_-1]:.4f}\")\n",
    "\n",
    "print(f\"Features sélectionnées ({len(selected_features)}) : {selected_features}\")\n",
    "display(rfe_results)\n",
    "X_boruta_selected = X[selected_features]"
   ]
  },
  {
   "cell_type": "markdown",
   "id": "6ccfef9e",
   "metadata": {},
   "source": [
    "## Modelling"
   ]
  },
  {
   "cell_type": "code",
   "execution_count": 91,
   "id": "1212a55f",
   "metadata": {},
   "outputs": [],
   "source": [
    "var_model = [\n",
    "    \"Age_Tit\",\n",
    "    \"Ressource\",\n",
    "    \"Ancien_Banc_Tit\",\n",
    "    \"RAV\",\n",
    "    \"RAV_Rev\",\n",
    "    \"Ancbanc_Tit\",\n",
    "    \"Mrev_Tit\",\n",
    "    \"Ancien_Prof_Tit\",\n",
    "    \"ZCOM_SR_CL_MIMPOTS\",\n",
    "    \"Charge\",\n",
    "    \"Ratio_Ress_RAV\",\n",
    "    \"Tx_Edt\",\n",
    "    \"MCLFCHAB1_L\",\n",
    "    \"CSP_Tit_worker\",\n",
    "    \"CSP_Tit_others\",\n",
    "    \"MCLFCHAB1_P\",\n",
    "    \"MCLFCHAB1_F\",\n",
    "    \"MCLFCSITFAM_K\",\n",
    "    \"MCLFCSITFAM_M\",\n",
    "    \"CSP_Tit_Managerial position\",\n",
    "    \"MCLFCSITFAM_others\",\n",
    "    \"CSP_Tit_Retired\",\n",
    "    \"MCLFCHAB1_others\"\n",
    "]\n",
    "target = \"BP\""
   ]
  },
  {
   "cell_type": "markdown",
   "id": "538ba4fe",
   "metadata": {},
   "source": [
    "## Split & Benchmark\n",
    "\n",
    "Préparation des jeux d'entraînement (70%) et test (30%) sur les variables listées dans `var_model` pour la cible `target`."
   ]
  },
  {
   "cell_type": "code",
   "execution_count": 93,
   "id": "820b20fd",
   "metadata": {},
   "outputs": [],
   "source": [
    "from sklearn.model_selection import train_test_split\n",
    "from sklearn.ensemble import RandomForestClassifier\n",
    "from sklearn.metrics import roc_auc_score"
   ]
  },
  {
   "cell_type": "code",
   "execution_count": null,
   "id": "cc1de62f",
   "metadata": {},
   "outputs": [],
   "source": [
    "def gini_from_auc(auc: float) -> float:\n",
    "    return 2 * auc - 1\n",
    "\n",
    "def compute_psi(expected, actual, n_bins=10, eps=1e-6):\n",
    "    exp = pd.Series(expected).clip(0, 1)\n",
    "    act = pd.Series(actual).clip(0, 1)\n",
    "    q = min(n_bins, max(2, exp.nunique()))\n",
    "    _, bins = pd.qcut(exp, q=q, retbins=True, duplicates='drop')\n",
    "    bins[0] = min(bins[0], exp.min(), act.min())\n",
    "    bins[-1] = max(bins[-1], exp.max(), act.max())\n",
    "\n",
    "    exp_bins = pd.cut(exp, bins=bins, include_lowest=True)\n",
    "    act_bins = pd.cut(act, bins=bins, include_lowest=True)\n",
    "\n",
    "    exp_rate = (exp_bins.value_counts(sort=False) / len(exp)).replace(0, eps)\n",
    "    act_rate = (act_bins.value_counts(sort=False) / len(act)).replace(0, eps)\n",
    "\n",
    "    psi = ((exp_rate - act_rate) * np.log(exp_rate / act_rate)).sum()\n",
    "    return float(psi)"
   ]
  },
  {
   "cell_type": "code",
   "execution_count": 95,
   "id": "349e4511",
   "metadata": {},
   "outputs": [
    {
     "name": "stdout",
     "output_type": "stream",
     "text": [
      "Shape train: (12584, 23) | test: (5394, 23)\n",
      "Répartition classe train: {1: 0.963, 0: 0.037}\n",
      "Répartition classe test : {1: 0.963, 0: 0.037}\n"
     ]
    }
   ],
   "source": [
    "X_full = df_OHE[var_model].copy()\n",
    "y_full = df_OHE[target].copy()\n",
    "\n",
    "# Split 70/30 stratifié\n",
    "X_train, X_test, y_train, y_test = train_test_split(\n",
    "    X_full, y_full, test_size=0.30, stratify=y_full, random_state=42\n",
    ")\n",
    "\n",
    "print(f'Shape train: {X_train.shape} | test: {X_test.shape}')\n",
    "print('Répartition classe train:', y_train.value_counts(normalize=True).round(3).to_dict())\n",
    "print('Répartition classe test :', y_test.value_counts(normalize=True).round(3).to_dict())\n"
   ]
  },
  {
   "cell_type": "code",
   "execution_count": 96,
   "id": "fbd03330",
   "metadata": {},
   "outputs": [
    {
     "name": "stdout",
     "output_type": "stream",
     "text": [
      "Benchmark RF - AUC train: 0.8734 | GINI train: 0.7467\n",
      "Benchmark RF - AUC test : 0.7444 | GINI test : 0.4888\n"
     ]
    }
   ],
   "source": [
    "# RF Baseline Model (hyperparams simples et fixes)\n",
    "rf_benchmark = RandomForestClassifier(\n",
    "    n_estimators=200,\n",
    "    max_depth=6,\n",
    "    min_samples_split=5,\n",
    "    min_samples_leaf=3,\n",
    "    max_features=0.8,\n",
    "    random_state=42,\n",
    "    n_jobs=-1\n",
    ")\n",
    "rf_benchmark.fit(X_train, y_train)\n",
    "\n",
    "train_auc = roc_auc_score(y_train, rf_benchmark.predict_proba(X_train)[:,1])\n",
    "train_gini = gini_from_auc(train_auc)\n",
    "\n",
    "test_auc = roc_auc_score(y_test, rf_benchmark.predict_proba(X_test)[:,1])\n",
    "test_gini = gini_from_auc(test_auc)\n",
    "\n",
    "print(f'Benchmark RF - AUC train: {train_auc:.4f} | GINI train: {train_gini:.4f}')\n",
    "print(f'Benchmark RF - AUC test : {test_auc:.4f} | GINI test : {test_gini:.4f}')\n",
    "\n",
    "benchmark_results = pd.DataFrame([\n",
    "    {'model':'RF_BENCH', 'auc_test': test_auc, 'gini_test': test_gini}\n",
    "])"
   ]
  },
  {
   "cell_type": "markdown",
   "id": "187682ef",
   "metadata": {},
   "source": [
    "### Gradient Boosting (RandomizedSearch CV=5)"
   ]
  },
  {
   "cell_type": "code",
   "execution_count": 97,
   "id": "55232a68",
   "metadata": {},
   "outputs": [],
   "source": [
    "cv5 = StratifiedKFold(n_splits=5, shuffle=True, random_state=42)"
   ]
  },
  {
   "cell_type": "code",
   "execution_count": 98,
   "id": "f2da391b",
   "metadata": {},
   "outputs": [
    {
     "name": "stdout",
     "output_type": "stream",
     "text": [
      "Fitting 5 folds for each of 50 candidates, totalling 250 fits\n",
      "Best GB (RS) params: {'ccp_alpha': np.float64(4.2051564509138674e-06), 'learning_rate': np.float64(0.01174843954800703), 'max_depth': 2, 'max_features': None, 'min_impurity_decrease': np.float64(1.1462107403425014e-05), 'min_samples_leaf': 10, 'min_samples_split': 29, 'n_estimators': 799, 'n_iter_no_change': 10, 'subsample': np.float64(0.6831809216468459), 'tol': 0.0001, 'validation_fraction': np.float64(0.1912139968434072)}\n",
      "Best CV AUC (RS): 0.7196004913854408\n",
      "GradientBoosting RS Test AUC: 0.7472 | GINI: 0.4943\n"
     ]
    }
   ],
   "source": [
    "# Grille pour RandomizedSearchCV\n",
    "param_dist_gb_rs = {\n",
    "    \"n_estimators\": randint(100, 1201),\n",
    "    \"learning_rate\": loguniform(1e-3, 3e-1),\n",
    "    \"max_depth\": randint(2, 9),\n",
    "    \"subsample\": uniform(0.5, 0.5),\n",
    "    \"max_features\": [\"sqrt\", \"log2\", None, 0.5, 0.7, 0.9],\n",
    "    \"min_samples_split\": randint(2, 31),\n",
    "    \"min_samples_leaf\": randint(1, 21),\n",
    "    \"min_impurity_decrease\": loguniform(1e-8, 1e-3),\n",
    "    \"ccp_alpha\": loguniform(1e-8, 1e-3),\n",
    "    \"validation_fraction\": uniform(0.1, 0.2),\n",
    "    \"n_iter_no_change\": [10],\n",
    "    \"tol\": [1e-4],\n",
    "}\n",
    "# Recherche avec RandomizedSearchCV sur GradientBoostingClassifier\n",
    "gb_rs = GradientBoostingClassifier(random_state=42)\n",
    "gb_random_search = RandomizedSearchCV(\n",
    "    estimator=gb_rs,\n",
    "    param_distributions=param_dist_gb_rs,\n",
    "    n_iter=50,\n",
    "    scoring='roc_auc',\n",
    "    cv=cv5,\n",
    "    random_state=42,\n",
    "    n_jobs=-1,\n",
    "    verbose=1,\n",
    "    refit=True\n",
    ")\n",
    "gb_random_search.fit(X_train, y_train)\n",
    "print('Best GB (RS) params:', gb_random_search.best_params_)\n",
    "print('Best CV AUC (RS):', gb_random_search.best_score_)\n",
    "\n",
    "gb_best_rs = gb_random_search.best_estimator_\n",
    "auc_gb_rs_test = roc_auc_score(y_test, gb_best_rs.predict_proba(X_test)[:, 1])\n",
    "gini_gb_rs_test = gini_from_auc(auc_gb_rs_test)\n",
    "print(f'GradientBoosting RS Test AUC: {auc_gb_rs_test:.4f} | GINI: {gini_gb_rs_test:.4f}')\n",
    "\n",
    "benchmark_results = pd.concat([\n",
    "    benchmark_results,\n",
    "    pd.DataFrame([{'model': 'GB_RS', 'auc_test': auc_gb_rs_test, 'gini_test': gini_gb_rs_test}])\n",
    "], ignore_index=True)"
   ]
  },
  {
   "cell_type": "markdown",
   "id": "c0f9d733",
   "metadata": {},
   "source": [
    "### LightGBM (RandomizedSearch CV=5)"
   ]
  },
  {
   "cell_type": "code",
   "execution_count": 99,
   "id": "d5b636ae",
   "metadata": {},
   "outputs": [
    {
     "name": "stdout",
     "output_type": "stream",
     "text": [
      "Fitting 5 folds for each of 50 candidates, totalling 250 fits\n",
      "[LightGBM] [Warning] Found whitespace in feature_names, replace with underlines\n",
      "[LightGBM] [Info] Number of positive: 12123, number of negative: 461\n",
      "[LightGBM] [Info] Auto-choosing col-wise multi-threading, the overhead of testing was 0.002044 seconds.\n",
      "You can set `force_col_wise=true` to remove the overhead.\n",
      "[LightGBM] [Info] Total Bins 2241\n",
      "[LightGBM] [Info] Number of data points in the train set: 12584, number of used features: 23\n",
      "[LightGBM] [Warning] Found whitespace in feature_names, replace with underlines\n",
      "[LightGBM] [Info] [binary:BoostFromScore]: pavg=0.963366 -> initscore=3.269462\n",
      "[LightGBM] [Info] Start training from score 3.269462\n",
      "[LightGBM] [Warning] No further splits with positive gain, best gain: -inf\n",
      "[LightGBM] [Warning] No further splits with positive gain, best gain: -inf\n",
      "[LightGBM] [Warning] No further splits with positive gain, best gain: -inf\n",
      "[LightGBM] [Warning] No further splits with positive gain, best gain: -inf\n",
      "[LightGBM] [Warning] No further splits with positive gain, best gain: -inf\n",
      "[LightGBM] [Warning] No further splits with positive gain, best gain: -inf\n",
      "[LightGBM] [Warning] No further splits with positive gain, best gain: -inf\n",
      "[LightGBM] [Warning] No further splits with positive gain, best gain: -inf\n",
      "[LightGBM] [Warning] No further splits with positive gain, best gain: -inf\n",
      "[LightGBM] [Warning] No further splits with positive gain, best gain: -inf\n",
      "[LightGBM] [Warning] No further splits with positive gain, best gain: -inf\n",
      "[LightGBM] [Warning] No further splits with positive gain, best gain: -inf\n",
      "[LightGBM] [Warning] No further splits with positive gain, best gain: -inf\n",
      "[LightGBM] [Warning] No further splits with positive gain, best gain: -inf\n",
      "[LightGBM] [Warning] No further splits with positive gain, best gain: -inf\n",
      "[LightGBM] [Warning] No further splits with positive gain, best gain: -inf\n",
      "[LightGBM] [Warning] No further splits with positive gain, best gain: -inf\n",
      "[LightGBM] [Warning] No further splits with positive gain, best gain: -inf\n",
      "[LightGBM] [Warning] No further splits with positive gain, best gain: -inf\n",
      "[LightGBM] [Warning] No further splits with positive gain, best gain: -inf\n",
      "[LightGBM] [Warning] No further splits with positive gain, best gain: -inf\n",
      "[LightGBM] [Warning] No further splits with positive gain, best gain: -inf\n",
      "[LightGBM] [Warning] No further splits with positive gain, best gain: -inf\n",
      "[LightGBM] [Warning] No further splits with positive gain, best gain: -inf\n",
      "[LightGBM] [Warning] No further splits with positive gain, best gain: -inf\n",
      "[LightGBM] [Warning] No further splits with positive gain, best gain: -inf\n",
      "[LightGBM] [Warning] No further splits with positive gain, best gain: -inf\n",
      "[LightGBM] [Warning] No further splits with positive gain, best gain: -inf\n",
      "[LightGBM] [Warning] No further splits with positive gain, best gain: -inf\n",
      "[LightGBM] [Warning] No further splits with positive gain, best gain: -inf\n",
      "[LightGBM] [Warning] No further splits with positive gain, best gain: -inf\n",
      "[LightGBM] [Warning] No further splits with positive gain, best gain: -inf\n",
      "[LightGBM] [Warning] No further splits with positive gain, best gain: -inf\n",
      "[LightGBM] [Warning] No further splits with positive gain, best gain: -inf\n",
      "[LightGBM] [Warning] No further splits with positive gain, best gain: -inf\n",
      "[LightGBM] [Warning] No further splits with positive gain, best gain: -inf\n",
      "[LightGBM] [Warning] No further splits with positive gain, best gain: -inf\n",
      "[LightGBM] [Warning] No further splits with positive gain, best gain: -inf\n",
      "[LightGBM] [Warning] No further splits with positive gain, best gain: -inf\n",
      "[LightGBM] [Warning] No further splits with positive gain, best gain: -inf\n",
      "[LightGBM] [Warning] No further splits with positive gain, best gain: -inf\n",
      "[LightGBM] [Warning] No further splits with positive gain, best gain: -inf\n",
      "[LightGBM] [Warning] No further splits with positive gain, best gain: -inf\n",
      "[LightGBM] [Warning] No further splits with positive gain, best gain: -inf\n",
      "[LightGBM] [Warning] No further splits with positive gain, best gain: -inf\n",
      "[LightGBM] [Warning] No further splits with positive gain, best gain: -inf\n",
      "[LightGBM] [Warning] No further splits with positive gain, best gain: -inf\n",
      "[LightGBM] [Warning] No further splits with positive gain, best gain: -inf\n",
      "[LightGBM] [Warning] No further splits with positive gain, best gain: -inf\n",
      "[LightGBM] [Warning] No further splits with positive gain, best gain: -inf\n",
      "[LightGBM] [Warning] No further splits with positive gain, best gain: -inf\n",
      "[LightGBM] [Warning] No further splits with positive gain, best gain: -inf\n",
      "[LightGBM] [Warning] No further splits with positive gain, best gain: -inf\n",
      "[LightGBM] [Warning] No further splits with positive gain, best gain: -inf\n",
      "[LightGBM] [Warning] No further splits with positive gain, best gain: -inf\n",
      "[LightGBM] [Warning] No further splits with positive gain, best gain: -inf\n",
      "[LightGBM] [Warning] No further splits with positive gain, best gain: -inf\n",
      "[LightGBM] [Warning] No further splits with positive gain, best gain: -inf\n",
      "[LightGBM] [Warning] No further splits with positive gain, best gain: -inf\n",
      "[LightGBM] [Warning] No further splits with positive gain, best gain: -inf\n",
      "[LightGBM] [Warning] No further splits with positive gain, best gain: -inf\n",
      "[LightGBM] [Warning] No further splits with positive gain, best gain: -inf\n",
      "[LightGBM] [Warning] No further splits with positive gain, best gain: -inf\n",
      "[LightGBM] [Warning] No further splits with positive gain, best gain: -inf\n",
      "[LightGBM] [Warning] No further splits with positive gain, best gain: -inf\n",
      "[LightGBM] [Warning] No further splits with positive gain, best gain: -inf\n",
      "[LightGBM] [Warning] No further splits with positive gain, best gain: -inf\n",
      "[LightGBM] [Warning] No further splits with positive gain, best gain: -inf\n",
      "[LightGBM] [Warning] No further splits with positive gain, best gain: -inf\n",
      "[LightGBM] [Warning] No further splits with positive gain, best gain: -inf\n",
      "[LightGBM] [Warning] No further splits with positive gain, best gain: -inf\n",
      "[LightGBM] [Warning] No further splits with positive gain, best gain: -inf\n",
      "[LightGBM] [Warning] No further splits with positive gain, best gain: -inf\n",
      "[LightGBM] [Warning] No further splits with positive gain, best gain: -inf\n",
      "[LightGBM] [Warning] No further splits with positive gain, best gain: -inf\n",
      "[LightGBM] [Warning] No further splits with positive gain, best gain: -inf\n",
      "[LightGBM] [Warning] No further splits with positive gain, best gain: -inf\n",
      "[LightGBM] [Warning] No further splits with positive gain, best gain: -inf\n",
      "[LightGBM] [Warning] No further splits with positive gain, best gain: -inf\n",
      "[LightGBM] [Warning] No further splits with positive gain, best gain: -inf\n",
      "[LightGBM] [Warning] No further splits with positive gain, best gain: -inf\n",
      "[LightGBM] [Warning] No further splits with positive gain, best gain: -inf\n",
      "[LightGBM] [Warning] No further splits with positive gain, best gain: -inf\n",
      "[LightGBM] [Warning] No further splits with positive gain, best gain: -inf\n",
      "[LightGBM] [Warning] No further splits with positive gain, best gain: -inf\n",
      "[LightGBM] [Warning] No further splits with positive gain, best gain: -inf\n",
      "[LightGBM] [Warning] No further splits with positive gain, best gain: -inf\n",
      "[LightGBM] [Warning] No further splits with positive gain, best gain: -inf\n",
      "[LightGBM] [Warning] No further splits with positive gain, best gain: -inf\n",
      "[LightGBM] [Warning] No further splits with positive gain, best gain: -inf\n",
      "[LightGBM] [Warning] No further splits with positive gain, best gain: -inf\n",
      "[LightGBM] [Warning] No further splits with positive gain, best gain: -inf\n",
      "[LightGBM] [Warning] No further splits with positive gain, best gain: -inf\n",
      "[LightGBM] [Warning] No further splits with positive gain, best gain: -inf\n",
      "[LightGBM] [Warning] No further splits with positive gain, best gain: -inf\n",
      "[LightGBM] [Warning] No further splits with positive gain, best gain: -inf\n",
      "[LightGBM] [Warning] No further splits with positive gain, best gain: -inf\n",
      "[LightGBM] [Warning] No further splits with positive gain, best gain: -inf\n",
      "[LightGBM] [Warning] No further splits with positive gain, best gain: -inf\n",
      "[LightGBM] [Warning] No further splits with positive gain, best gain: -inf\n",
      "[LightGBM] [Warning] No further splits with positive gain, best gain: -inf\n",
      "[LightGBM] [Warning] No further splits with positive gain, best gain: -inf\n",
      "[LightGBM] [Warning] No further splits with positive gain, best gain: -inf\n",
      "[LightGBM] [Warning] No further splits with positive gain, best gain: -inf\n",
      "[LightGBM] [Warning] No further splits with positive gain, best gain: -inf\n",
      "[LightGBM] [Warning] No further splits with positive gain, best gain: -inf\n",
      "[LightGBM] [Warning] No further splits with positive gain, best gain: -inf\n",
      "[LightGBM] [Warning] No further splits with positive gain, best gain: -inf\n",
      "[LightGBM] [Warning] No further splits with positive gain, best gain: -inf\n",
      "[LightGBM] [Warning] No further splits with positive gain, best gain: -inf\n",
      "[LightGBM] [Warning] No further splits with positive gain, best gain: -inf\n",
      "[LightGBM] [Warning] No further splits with positive gain, best gain: -inf\n",
      "[LightGBM] [Warning] No further splits with positive gain, best gain: -inf\n",
      "[LightGBM] [Warning] No further splits with positive gain, best gain: -inf\n",
      "[LightGBM] [Warning] No further splits with positive gain, best gain: -inf\n",
      "[LightGBM] [Warning] No further splits with positive gain, best gain: -inf\n",
      "[LightGBM] [Warning] No further splits with positive gain, best gain: -inf\n",
      "[LightGBM] [Warning] No further splits with positive gain, best gain: -inf\n",
      "[LightGBM] [Warning] No further splits with positive gain, best gain: -inf\n",
      "[LightGBM] [Warning] No further splits with positive gain, best gain: -inf\n",
      "[LightGBM] [Warning] No further splits with positive gain, best gain: -inf\n",
      "[LightGBM] [Warning] No further splits with positive gain, best gain: -inf\n",
      "[LightGBM] [Warning] No further splits with positive gain, best gain: -inf\n",
      "[LightGBM] [Warning] No further splits with positive gain, best gain: -inf\n",
      "[LightGBM] [Warning] No further splits with positive gain, best gain: -inf\n",
      "[LightGBM] [Warning] No further splits with positive gain, best gain: -inf\n",
      "[LightGBM] [Warning] No further splits with positive gain, best gain: -inf\n",
      "[LightGBM] [Warning] No further splits with positive gain, best gain: -inf\n",
      "[LightGBM] [Warning] No further splits with positive gain, best gain: -inf\n",
      "[LightGBM] [Warning] No further splits with positive gain, best gain: -inf\n",
      "[LightGBM] [Warning] No further splits with positive gain, best gain: -inf\n",
      "[LightGBM] [Warning] No further splits with positive gain, best gain: -inf\n",
      "[LightGBM] [Warning] No further splits with positive gain, best gain: -inf\n",
      "[LightGBM] [Warning] No further splits with positive gain, best gain: -inf\n",
      "[LightGBM] [Warning] No further splits with positive gain, best gain: -inf\n",
      "[LightGBM] [Warning] No further splits with positive gain, best gain: -inf\n",
      "[LightGBM] [Warning] No further splits with positive gain, best gain: -inf\n",
      "[LightGBM] [Warning] No further splits with positive gain, best gain: -inf\n",
      "[LightGBM] [Warning] No further splits with positive gain, best gain: -inf\n",
      "[LightGBM] [Warning] No further splits with positive gain, best gain: -inf\n",
      "[LightGBM] [Warning] No further splits with positive gain, best gain: -inf\n",
      "[LightGBM] [Warning] No further splits with positive gain, best gain: -inf\n",
      "[LightGBM] [Warning] No further splits with positive gain, best gain: -inf\n",
      "[LightGBM] [Warning] No further splits with positive gain, best gain: -inf\n",
      "[LightGBM] [Warning] No further splits with positive gain, best gain: -inf\n",
      "[LightGBM] [Warning] No further splits with positive gain, best gain: -inf\n",
      "[LightGBM] [Warning] No further splits with positive gain, best gain: -inf\n",
      "[LightGBM] [Warning] No further splits with positive gain, best gain: -inf\n",
      "[LightGBM] [Warning] No further splits with positive gain, best gain: -inf\n",
      "[LightGBM] [Warning] No further splits with positive gain, best gain: -inf\n",
      "[LightGBM] [Warning] No further splits with positive gain, best gain: -inf\n",
      "[LightGBM] [Warning] No further splits with positive gain, best gain: -inf\n",
      "[LightGBM] [Warning] No further splits with positive gain, best gain: -inf\n",
      "[LightGBM] [Warning] No further splits with positive gain, best gain: -inf\n",
      "[LightGBM] [Warning] No further splits with positive gain, best gain: -inf\n",
      "[LightGBM] [Warning] No further splits with positive gain, best gain: -inf\n",
      "[LightGBM] [Warning] No further splits with positive gain, best gain: -inf\n",
      "[LightGBM] [Warning] No further splits with positive gain, best gain: -inf\n",
      "[LightGBM] [Warning] No further splits with positive gain, best gain: -inf\n",
      "[LightGBM] [Warning] No further splits with positive gain, best gain: -inf\n",
      "[LightGBM] [Warning] No further splits with positive gain, best gain: -inf\n",
      "[LightGBM] [Warning] No further splits with positive gain, best gain: -inf\n",
      "[LightGBM] [Warning] No further splits with positive gain, best gain: -inf\n",
      "[LightGBM] [Warning] No further splits with positive gain, best gain: -inf\n",
      "[LightGBM] [Warning] No further splits with positive gain, best gain: -inf\n",
      "[LightGBM] [Warning] No further splits with positive gain, best gain: -inf\n",
      "[LightGBM] [Warning] No further splits with positive gain, best gain: -inf\n",
      "[LightGBM] [Warning] No further splits with positive gain, best gain: -inf\n",
      "[LightGBM] [Warning] No further splits with positive gain, best gain: -inf\n",
      "[LightGBM] [Warning] No further splits with positive gain, best gain: -inf\n",
      "[LightGBM] [Warning] No further splits with positive gain, best gain: -inf\n",
      "[LightGBM] [Warning] No further splits with positive gain, best gain: -inf\n",
      "[LightGBM] [Warning] No further splits with positive gain, best gain: -inf\n",
      "[LightGBM] [Warning] No further splits with positive gain, best gain: -inf\n",
      "[LightGBM] [Warning] No further splits with positive gain, best gain: -inf\n",
      "[LightGBM] [Warning] No further splits with positive gain, best gain: -inf\n",
      "[LightGBM] [Warning] No further splits with positive gain, best gain: -inf\n",
      "[LightGBM] [Warning] No further splits with positive gain, best gain: -inf\n",
      "[LightGBM] [Warning] No further splits with positive gain, best gain: -inf\n",
      "[LightGBM] [Warning] No further splits with positive gain, best gain: -inf\n",
      "[LightGBM] [Warning] No further splits with positive gain, best gain: -inf\n",
      "[LightGBM] [Warning] No further splits with positive gain, best gain: -inf\n",
      "[LightGBM] [Warning] No further splits with positive gain, best gain: -inf\n",
      "[LightGBM] [Warning] No further splits with positive gain, best gain: -inf\n",
      "[LightGBM] [Warning] No further splits with positive gain, best gain: -inf\n",
      "[LightGBM] [Warning] No further splits with positive gain, best gain: -inf\n",
      "[LightGBM] [Warning] No further splits with positive gain, best gain: -inf\n",
      "[LightGBM] [Warning] No further splits with positive gain, best gain: -inf\n",
      "[LightGBM] [Warning] No further splits with positive gain, best gain: -inf\n",
      "[LightGBM] [Warning] No further splits with positive gain, best gain: -inf\n",
      "[LightGBM] [Warning] No further splits with positive gain, best gain: -inf\n",
      "[LightGBM] [Warning] No further splits with positive gain, best gain: -inf\n",
      "[LightGBM] [Warning] No further splits with positive gain, best gain: -inf\n",
      "[LightGBM] [Warning] No further splits with positive gain, best gain: -inf\n",
      "[LightGBM] [Warning] No further splits with positive gain, best gain: -inf\n",
      "[LightGBM] [Warning] No further splits with positive gain, best gain: -inf\n",
      "[LightGBM] [Warning] No further splits with positive gain, best gain: -inf\n",
      "[LightGBM] [Warning] No further splits with positive gain, best gain: -inf\n",
      "[LightGBM] [Warning] No further splits with positive gain, best gain: -inf\n",
      "[LightGBM] [Warning] No further splits with positive gain, best gain: -inf\n",
      "[LightGBM] [Warning] No further splits with positive gain, best gain: -inf\n",
      "[LightGBM] [Warning] No further splits with positive gain, best gain: -inf\n",
      "[LightGBM] [Warning] No further splits with positive gain, best gain: -inf\n",
      "[LightGBM] [Warning] No further splits with positive gain, best gain: -inf\n",
      "Best params (RandomizedSearch LGBM):\n",
      "{'colsample_bytree': np.float64(0.7117354711540593), 'learning_rate': np.float64(0.02560316638982875), 'max_depth': 5, 'min_child_samples': 103, 'min_split_gain': np.float64(0.00447167990123131), 'n_estimators': 1777, 'num_leaves': 246, 'reg_alpha': np.float64(0.20997909005644638), 'reg_lambda': np.float64(29.7306980324198), 'scale_pos_weight': 1.0, 'subsample': np.float64(0.61929842989517)}\n",
      "Best CV AUC: 0.720596\n",
      "LGBM RandomizedSearch Test AUC: 0.743761 | GINI: 0.487523\n"
     ]
    }
   ],
   "source": [
    "pos = y_train.sum()\n",
    "neg = len(y_train) - pos\n",
    "if neg == 0 or pos == 0:\n",
    "    scale_pos_weight_candidates = [1.0]\n",
    "else:\n",
    "    spw = neg / pos\n",
    "    scale_pos_weight_candidates = [1.0, round(spw, 2), round(np.sqrt(spw), 2)]\n",
    "\n",
    "param_dist_lgbm_rs = {\n",
    "    \"learning_rate\": loguniform(1e-3, 3e-1),\n",
    "    \"num_leaves\": randint(16, 256),\n",
    "    \"max_depth\": randint(3, 13),\n",
    "    \"min_child_samples\": randint(5, 150),\n",
    "    \"subsample\": uniform(0.5, 0.5),\n",
    "    \"colsample_bytree\": uniform(0.5, 0.5),\n",
    "    \"reg_alpha\": loguniform(1e-3, 10),     \n",
    "    \"reg_lambda\": loguniform(1, 50),\n",
    "    \"min_split_gain\": loguniform(1e-4, 1),\n",
    "    \"n_estimators\": randint(800, 3001),\n",
    "    \"scale_pos_weight\": scale_pos_weight_candidates\n",
    "}\n",
    "\n",
    "lgb_rs_estimator = lgb.LGBMClassifier(\n",
    "    objective=\"binary\",\n",
    "    boosting_type=\"gbdt\",\n",
    "    random_state=42,\n",
    "    n_jobs=-1,\n",
    ")\n",
    "\n",
    "lgb_rs_search = RandomizedSearchCV(\n",
    "    estimator=lgb_rs_estimator,\n",
    "    param_distributions=param_dist_lgbm_rs,\n",
    "    n_iter=50,\n",
    "    scoring=\"roc_auc\",\n",
    "    cv=cv5,\n",
    "    random_state=42,\n",
    "    n_jobs=-1,\n",
    "    verbose=1,\n",
    "    refit=True\n",
    ")\n",
    "\n",
    "fit_kwargs = {}\n",
    "if y_test.nunique() == 2:\n",
    "    fit_kwargs = {\n",
    "        \"eval_set\": [(X_test, y_test)],\n",
    "        \"eval_metric\": \"auc\",\n",
    "        \"callbacks\": [lgb.early_stopping(100, verbose=False)]\n",
    "    }\n",
    "\n",
    "lgb_rs_search.fit(X_train, y_train, **fit_kwargs)\n",
    "\n",
    "print(\"Best params (RandomizedSearch LGBM):\")\n",
    "print(lgb_rs_search.best_params_)\n",
    "print(f\"Best CV AUC: {lgb_rs_search.best_score_:.6f}\")\n",
    "\n",
    "lgb_best_rs = lgb_rs_search.best_estimator_\n",
    "\n",
    "auc_lgb_rs_test = roc_auc_score(y_test, lgb_best_rs.predict_proba(X_test)[:, 1])\n",
    "gini_lgb_rs_test = gini_from_auc(auc_lgb_rs_test)\n",
    "print(f\"LGBM RandomizedSearch Test AUC: {auc_lgb_rs_test:.6f} | GINI: {gini_lgb_rs_test:.6f}\")\n",
    "\n",
    "# Ajout au tableau de benchmark\n",
    "benchmark_results = pd.concat([\n",
    "    benchmark_results,\n",
    "    pd.DataFrame([{'model': 'LGBM_RS', 'auc_test': auc_lgb_rs_test, 'gini_test': gini_lgb_rs_test}])\n",
    "], ignore_index=True)"
   ]
  },
  {
   "cell_type": "markdown",
   "id": "ed7dd6f5",
   "metadata": {},
   "source": [
    "### XGBoost (RandomizedSearch CV=5)"
   ]
  },
  {
   "cell_type": "code",
   "execution_count": null,
   "id": "d2300b67",
   "metadata": {},
   "outputs": [
    {
     "name": "stdout",
     "output_type": "stream",
     "text": [
      "Fitting 5 folds for each of 50 candidates, totalling 250 fits\n",
      "Best params (XGB RandomizedSearch):\n",
      "{'colsample_bytree': np.float64(0.7140920741586572), 'gamma': np.float64(3.485635733898968), 'learning_rate': np.float64(0.24378306148710702), 'max_depth': 3, 'min_child_weight': np.float64(0.6602056346518101), 'n_estimators': 652, 'reg_alpha': np.float64(0.008423423635296962), 'reg_lambda': np.float64(32.61742982597365), 'scale_pos_weight': np.float64(0.2), 'subsample': np.float64(0.5847463733430462), 'tree_method': 'hist'}\n",
      "Best CV AUC: 0.723781\n",
      "XGB RS Test AUC: 0.744137 | GINI: 0.488274\n"
     ]
    }
   ],
   "source": [
    "neg = (y_train == 0).sum()\n",
    "pos = (y_train == 1).sum()\n",
    "if pos == 0 or neg == 0:\n",
    "    spw_candidates = [1.0]\n",
    "else:\n",
    "    ratio = neg / pos\n",
    "    spw_candidates = [1.0, round(ratio, 2), round(np.sqrt(ratio), 2)]\n",
    "\n",
    "param_dist = {\n",
    "    \"learning_rate\": loguniform(1e-3, 3e-1),\n",
    "    \"max_depth\": randint(3, 11),\n",
    "    \"min_child_weight\": loguniform(0.5, 20),\n",
    "    \"subsample\": uniform(0.5, 0.5),\n",
    "    \"colsample_bytree\": uniform(0.5, 0.5),\n",
    "    \"gamma\": loguniform(1e-4, 5),\n",
    "    \"reg_alpha\": loguniform(1e-4, 10),\n",
    "    \"reg_lambda\": loguniform(1, 60),\n",
    "    \"n_estimators\": randint(400, 2201),\n",
    "    \"scale_pos_weight\": spw_candidates,\n",
    "    \"tree_method\": [\"hist\"]\n",
    "}\n",
    "\n",
    "xgb_est = XGBClassifier(\n",
    "    objective=\"binary:logistic\",\n",
    "    eval_metric=\"auc\",\n",
    "    use_label_encoder=False,\n",
    "    random_state=42,\n",
    "    verbosity=0,\n",
    "    n_jobs=-1\n",
    ")\n",
    "xgb_search = RandomizedSearchCV(\n",
    "    estimator=xgb_est,\n",
    "    param_distributions=param_dist,\n",
    "    n_iter=50,\n",
    "    scoring=\"roc_auc\",\n",
    "    cv=cv5,\n",
    "    random_state=42,\n",
    "    n_jobs=-1,\n",
    "    verbose=1,\n",
    "    refit=True\n",
    ")\n",
    "fit_kwargs = {}\n",
    "if 'X_test' in globals() and 'y_test' in globals() and y_test.nunique() == 2:\n",
    "    fit_kwargs = {\"eval_set\": [(X_test, y_test)], \"verbose\": False}\n",
    "xgb_search.fit(X_train, y_train, **fit_kwargs)\n",
    "print(\"Best params (XGB RandomizedSearch):\")\n",
    "print(xgb_search.best_params_)\n",
    "print(f\"Best CV AUC: {xgb_search.best_score_:.6f}\")\n",
    "xgb_best_rs_model = xgb_search.best_estimator_\n",
    "xgb_best_rs = xgb_best_rs_model\n",
    "\n",
    "# Évaluation et mise à jour du benchmark\n",
    "auc_xgb_rs_test = roc_auc_score(y_test, xgb_best_rs_model.predict_proba(X_test)[:, 1])\n",
    "gini_xgb_rs_test = gini_from_auc(auc_xgb_rs_test)\n",
    "print(f\"XGB RS Test AUC: {auc_xgb_rs_test:.6f} | GINI: {gini_xgb_rs_test:.6f}\")\n",
    "\n",
    "benchmark_results = pd.concat([\n",
    "    benchmark_results,\n",
    "    pd.DataFrame([{'model': 'XGB_RS', 'auc_test': auc_xgb_rs_test, 'gini_test': gini_xgb_rs_test}])\n",
    "], ignore_index=True)"
   ]
  },
  {
   "cell_type": "markdown",
   "id": "45a3f9e6",
   "metadata": {},
   "source": [
    "### RandomForest (RandomizedSearch CV=5)"
   ]
  },
  {
   "cell_type": "code",
   "execution_count": null,
   "id": "21d4ffda",
   "metadata": {},
   "outputs": [
    {
     "name": "stdout",
     "output_type": "stream",
     "text": [
      "Fitting 5 folds for each of 50 candidates, totalling 250 fits\n",
      "Best params (RF RandomizedSearch):\n",
      "{'bootstrap': True, 'ccp_alpha': np.float64(0.007462532201712407), 'class_weight': 'balanced_subsample', 'criterion': 'entropy', 'max_depth': 28, 'max_features': np.float64(0.3213501749573346), 'max_samples': np.float64(0.6149392754996857), 'min_impurity_decrease': np.float64(0.0005730650526851174), 'min_samples_leaf': 11, 'min_samples_split': 38, 'n_estimators': 1142}\n",
      "Best CV AUC: 0.721352\n",
      "RF RandomizedSearch Test AUC: 0.744085 | GINI: 0.488169\n",
      "\n",
      "Top 10 combinaisons (CV):\n"
     ]
    },
    {
     "data": {
      "text/html": [
       "<div>\n",
       "<style scoped>\n",
       "    .dataframe tbody tr th:only-of-type {\n",
       "        vertical-align: middle;\n",
       "    }\n",
       "\n",
       "    .dataframe tbody tr th {\n",
       "        vertical-align: top;\n",
       "    }\n",
       "\n",
       "    .dataframe thead th {\n",
       "        text-align: right;\n",
       "    }\n",
       "</style>\n",
       "<table border=\"1\" class=\"dataframe\">\n",
       "  <thead>\n",
       "    <tr style=\"text-align: right;\">\n",
       "      <th></th>\n",
       "      <th>mean_test_score</th>\n",
       "      <th>std_test_score</th>\n",
       "      <th>param_n_estimators</th>\n",
       "      <th>param_max_depth</th>\n",
       "      <th>param_min_samples_split</th>\n",
       "      <th>param_min_samples_leaf</th>\n",
       "      <th>param_max_features</th>\n",
       "      <th>param_criterion</th>\n",
       "    </tr>\n",
       "  </thead>\n",
       "  <tbody>\n",
       "    <tr>\n",
       "      <th>36</th>\n",
       "      <td>0.721352</td>\n",
       "      <td>0.014687</td>\n",
       "      <td>1142</td>\n",
       "      <td>28</td>\n",
       "      <td>38</td>\n",
       "      <td>11</td>\n",
       "      <td>0.321350</td>\n",
       "      <td>entropy</td>\n",
       "    </tr>\n",
       "    <tr>\n",
       "      <th>1</th>\n",
       "      <td>0.721009</td>\n",
       "      <td>0.015059</td>\n",
       "      <td>1334</td>\n",
       "      <td>24</td>\n",
       "      <td>22</td>\n",
       "      <td>2</td>\n",
       "      <td>0.339488</td>\n",
       "      <td>log_loss</td>\n",
       "    </tr>\n",
       "    <tr>\n",
       "      <th>24</th>\n",
       "      <td>0.720643</td>\n",
       "      <td>0.014894</td>\n",
       "      <td>1304</td>\n",
       "      <td>7</td>\n",
       "      <td>17</td>\n",
       "      <td>19</td>\n",
       "      <td>0.917845</td>\n",
       "      <td>gini</td>\n",
       "    </tr>\n",
       "    <tr>\n",
       "      <th>26</th>\n",
       "      <td>0.720618</td>\n",
       "      <td>0.014427</td>\n",
       "      <td>1106</td>\n",
       "      <td>5</td>\n",
       "      <td>36</td>\n",
       "      <td>2</td>\n",
       "      <td>0.981565</td>\n",
       "      <td>gini</td>\n",
       "    </tr>\n",
       "    <tr>\n",
       "      <th>30</th>\n",
       "      <td>0.720018</td>\n",
       "      <td>0.014596</td>\n",
       "      <td>429</td>\n",
       "      <td>14</td>\n",
       "      <td>38</td>\n",
       "      <td>3</td>\n",
       "      <td>0.958321</td>\n",
       "      <td>gini</td>\n",
       "    </tr>\n",
       "    <tr>\n",
       "      <th>45</th>\n",
       "      <td>0.719887</td>\n",
       "      <td>0.013758</td>\n",
       "      <td>546</td>\n",
       "      <td>13</td>\n",
       "      <td>30</td>\n",
       "      <td>10</td>\n",
       "      <td>0.959025</td>\n",
       "      <td>log_loss</td>\n",
       "    </tr>\n",
       "    <tr>\n",
       "      <th>7</th>\n",
       "      <td>0.719824</td>\n",
       "      <td>0.015557</td>\n",
       "      <td>1028</td>\n",
       "      <td>10</td>\n",
       "      <td>19</td>\n",
       "      <td>16</td>\n",
       "      <td>0.699311</td>\n",
       "      <td>log_loss</td>\n",
       "    </tr>\n",
       "    <tr>\n",
       "      <th>44</th>\n",
       "      <td>0.718948</td>\n",
       "      <td>0.014632</td>\n",
       "      <td>529</td>\n",
       "      <td>4</td>\n",
       "      <td>36</td>\n",
       "      <td>12</td>\n",
       "      <td>0.318558</td>\n",
       "      <td>log_loss</td>\n",
       "    </tr>\n",
       "    <tr>\n",
       "      <th>37</th>\n",
       "      <td>0.718904</td>\n",
       "      <td>0.014314</td>\n",
       "      <td>972</td>\n",
       "      <td>9</td>\n",
       "      <td>36</td>\n",
       "      <td>15</td>\n",
       "      <td>0.359743</td>\n",
       "      <td>gini</td>\n",
       "    </tr>\n",
       "    <tr>\n",
       "      <th>47</th>\n",
       "      <td>0.718597</td>\n",
       "      <td>0.015209</td>\n",
       "      <td>1450</td>\n",
       "      <td>6</td>\n",
       "      <td>26</td>\n",
       "      <td>4</td>\n",
       "      <td>0.785023</td>\n",
       "      <td>log_loss</td>\n",
       "    </tr>\n",
       "  </tbody>\n",
       "</table>\n",
       "</div>"
      ],
      "text/plain": [
       "    mean_test_score  std_test_score  param_n_estimators  param_max_depth  \\\n",
       "36         0.721352        0.014687                1142               28   \n",
       "1          0.721009        0.015059                1334               24   \n",
       "24         0.720643        0.014894                1304                7   \n",
       "26         0.720618        0.014427                1106                5   \n",
       "30         0.720018        0.014596                 429               14   \n",
       "45         0.719887        0.013758                 546               13   \n",
       "7          0.719824        0.015557                1028               10   \n",
       "44         0.718948        0.014632                 529                4   \n",
       "37         0.718904        0.014314                 972                9   \n",
       "47         0.718597        0.015209                1450                6   \n",
       "\n",
       "    param_min_samples_split  param_min_samples_leaf  param_max_features  \\\n",
       "36                       38                      11            0.321350   \n",
       "1                        22                       2            0.339488   \n",
       "24                       17                      19            0.917845   \n",
       "26                       36                       2            0.981565   \n",
       "30                       38                       3            0.958321   \n",
       "45                       30                      10            0.959025   \n",
       "7                        19                      16            0.699311   \n",
       "44                       36                      12            0.318558   \n",
       "37                       36                      15            0.359743   \n",
       "47                       26                       4            0.785023   \n",
       "\n",
       "   param_criterion  \n",
       "36         entropy  \n",
       "1         log_loss  \n",
       "24            gini  \n",
       "26            gini  \n",
       "30            gini  \n",
       "45        log_loss  \n",
       "7         log_loss  \n",
       "44        log_loss  \n",
       "37            gini  \n",
       "47        log_loss  "
      ]
     },
     "metadata": {},
     "output_type": "display_data"
    }
   ],
   "source": [
    "param_dist_rf_rs = {\n",
    "    \"n_estimators\": randint(150, 1601),            \n",
    "    \"max_depth\": randint(3, 31),          \n",
    "    \"min_samples_split\": randint(2, 41),  \n",
    "    \"min_samples_leaf\": randint(1, 21),\n",
    "    \"max_features\": uniform(0.3, 0.7),    \n",
    "    \"bootstrap\": [True],\n",
    "    \"max_samples\": uniform(0.6, 0.4),              \n",
    "    \"class_weight\": [\"balanced\", \"balanced_subsample\"],\n",
    "    \"criterion\": [\"gini\", \"entropy\", \"log_loss\"],\n",
    "    \"min_impurity_decrease\": loguniform(1e-9, 1e-2),\n",
    "    \"ccp_alpha\": loguniform(1e-9, 1e-2),\n",
    "}\n",
    "\n",
    "rf_rs = RandomizedSearchCV(\n",
    "    estimator=RandomForestClassifier(\n",
    "        n_jobs=-1,\n",
    "        random_state=42\n",
    "    ),\n",
    "    param_distributions=param_dist_rf_rs,\n",
    "    n_iter=50,\n",
    "    scoring=\"roc_auc\",\n",
    "    cv=cv5,\n",
    "    random_state=42,\n",
    "    n_jobs=-1,\n",
    "    verbose=1,\n",
    "    refit=True\n",
    ")\n",
    "\n",
    "rf_rs.fit(X_train, y_train)\n",
    "\n",
    "print(\"Best params (RF RandomizedSearch):\")\n",
    "print(rf_rs.best_params_)\n",
    "print(f\"Best CV AUC: {rf_rs.best_score_:.6f}\")\n",
    "\n",
    "rf_best_rs = rf_rs.best_estimator_\n",
    "\n",
    "auc_rf_rs_test = roc_auc_score(y_test, rf_best_rs.predict_proba(X_test)[:, 1])\n",
    "gini_rf_rs_test = gini_from_auc(auc_rf_rs_test)\n",
    "print(f\"RF RandomizedSearch Test AUC: {auc_rf_rs_test:.6f} | GINI: {gini_rf_rs_test:.6f}\")\n",
    "\n",
    "if 'benchmark_results' in globals():\n",
    "    benchmark_results = pd.concat([\n",
    "        benchmark_results,\n",
    "        pd.DataFrame([{'model': 'RF_RS', 'auc_test': auc_rf_rs_test, 'gini_test': gini_rf_rs_test}])\n",
    "    ], ignore_index=True)\n",
    "else:\n",
    "    benchmark_results = pd.DataFrame([{'model': 'RF_RS', 'auc_test': auc_rf_rs_test, 'gini_test': gini_rf_rs_test}])\n",
    "\n",
    "cv_results_df = (pd.DataFrame(rf_rs.cv_results_)\n",
    "                 .sort_values(\"mean_test_score\", ascending=False)\n",
    "                 .head(10)\n",
    "                 .loc[:, [\"mean_test_score\", \"std_test_score\", \"param_n_estimators\",\n",
    "                          \"param_max_depth\", \"param_min_samples_split\",\n",
    "                          \"param_min_samples_leaf\", \"param_max_features\",\n",
    "                          \"param_criterion\"]])\n",
    "print(\"\\nTop 10 combinaisons (CV):\")\n",
    "display(cv_results_df)"
   ]
  },
  {
   "cell_type": "markdown",
   "id": "173fdf89",
   "metadata": {},
   "source": [
    "### Blending (StackingClassifier RandomizedSearch CV=5)"
   ]
  },
  {
   "cell_type": "code",
   "execution_count": null,
   "id": "8e23a069",
   "metadata": {},
   "outputs": [],
   "source": [
    "from sklearn.ensemble import StackingClassifier\n",
    "from sklearn.linear_model import LogisticRegression\n",
    "\n",
    "base_estimators = []\n",
    "base_estimators.append(('gb', gb_best if 'gb_best' in globals() else GradientBoostingClassifier(random_state=42)))\n",
    "base_estimators.append(('lgb', lgb_best if 'lgb_best' in globals() else lgb.LGBMClassifier(objective='binary', random_state=42, n_jobs=-1)))\n",
    "base_estimators.append(('xgb', xgb_best if 'xgb_best' in globals() else XGBClassifier(objective='binary:logistic', eval_metric='auc', use_label_encoder=False, random_state=42)))\n",
    "base_estimators.append(('rf', rf_best if 'rf_best' in globals() else RandomForestClassifier(random_state=42, n_jobs=-1)))\n",
    "\n",
    "meta_lr = LogisticRegression(max_iter=1000, solver='lbfgs')\n",
    "\n",
    "stack = StackingClassifier(\n",
    "    estimators=base_estimators,\n",
    "    final_estimator=meta_lr,\n",
    "    stack_method='predict_proba',\n",
    "    n_jobs=-1,\n",
    "    passthrough=False\n",
    ")\n",
    "stack_param_grid = {\n",
    "    'final_estimator__C': [0.01, 0.05, 0.1, 0.2, 0.5, 1, 2, 5, 10]\n",
    "}\n",
    "\n",
    "stack_search = GridSearchCV(\n",
    "    estimator=stack,\n",
    "    param_grid=stack_param_grid,\n",
    "    scoring='roc_auc',\n",
    "    cv=cv5,\n",
    "    n_jobs=-1,\n",
    "    verbose=0\n",
    ")\n",
    "\n",
    "stack_search.fit(X_train, y_train)\n",
    "print('Best Stacking params:', stack_search.best_params_)\n",
    "print('Best CV AUC:', stack_search.best_score_)\n",
    "\n",
    "stack_best = stack_search.best_estimator_\n",
    "auc_stack_test = roc_auc_score(y_test, stack_best.predict_proba(X_test)[:,1])\n",
    "gini_stack_test = gini_from_auc(auc_stack_test)\n",
    "print(f'Stacking Test AUC: {auc_stack_test:.4f} | GINI: {gini_stack_test:.4f}')\n",
    "\n",
    "benchmark_results = pd.concat([\n",
    "    benchmark_results,\n",
    "    pd.DataFrame([{'model':'STACK', 'auc_test': auc_stack_test, 'gini_test': gini_stack_test}])\n",
    "], ignore_index=True)\n"
   ]
  },
  {
   "cell_type": "markdown",
   "id": "c1e6d006",
   "metadata": {},
   "source": [
    "### Résultats Comparatifs"
   ]
  },
  {
   "cell_type": "code",
   "execution_count": null,
   "id": "cfc83429",
   "metadata": {},
   "outputs": [
    {
     "name": "stdout",
     "output_type": "stream",
     "text": [
      "Comparaison GINI test et PSI (tri décroissant sur GINI):\n"
     ]
    },
    {
     "data": {
      "text/html": [
       "<div>\n",
       "<style scoped>\n",
       "    .dataframe tbody tr th:only-of-type {\n",
       "        vertical-align: middle;\n",
       "    }\n",
       "\n",
       "    .dataframe tbody tr th {\n",
       "        vertical-align: top;\n",
       "    }\n",
       "\n",
       "    .dataframe thead th {\n",
       "        text-align: right;\n",
       "    }\n",
       "</style>\n",
       "<table border=\"1\" class=\"dataframe\">\n",
       "  <thead>\n",
       "    <tr style=\"text-align: right;\">\n",
       "      <th></th>\n",
       "      <th>model</th>\n",
       "      <th>auc_test</th>\n",
       "      <th>gini_test</th>\n",
       "      <th>improvement_vs_benchmark_pct</th>\n",
       "      <th>psi</th>\n",
       "    </tr>\n",
       "  </thead>\n",
       "  <tbody>\n",
       "    <tr>\n",
       "      <th>0</th>\n",
       "      <td>GB_RS</td>\n",
       "      <td>0.747172</td>\n",
       "      <td>0.494344</td>\n",
       "      <td>2.92</td>\n",
       "      <td>0.002195</td>\n",
       "    </tr>\n",
       "    <tr>\n",
       "      <th>1</th>\n",
       "      <td>XGB</td>\n",
       "      <td>0.746255</td>\n",
       "      <td>0.492511</td>\n",
       "      <td>2.54</td>\n",
       "      <td>0.002153</td>\n",
       "    </tr>\n",
       "    <tr>\n",
       "      <th>2</th>\n",
       "      <td>XGB_RS</td>\n",
       "      <td>0.744680</td>\n",
       "      <td>0.489361</td>\n",
       "      <td>1.89</td>\n",
       "      <td>0.001472</td>\n",
       "    </tr>\n",
       "    <tr>\n",
       "      <th>3</th>\n",
       "      <td>RF_RS</td>\n",
       "      <td>0.742266</td>\n",
       "      <td>0.484532</td>\n",
       "      <td>0.88</td>\n",
       "      <td>0.002277</td>\n",
       "    </tr>\n",
       "    <tr>\n",
       "      <th>4</th>\n",
       "      <td>LGBM_RS</td>\n",
       "      <td>0.742093</td>\n",
       "      <td>0.484186</td>\n",
       "      <td>0.81</td>\n",
       "      <td>0.002872</td>\n",
       "    </tr>\n",
       "    <tr>\n",
       "      <th>5</th>\n",
       "      <td>RF_BENCH</td>\n",
       "      <td>0.740150</td>\n",
       "      <td>0.480301</td>\n",
       "      <td>0.00</td>\n",
       "      <td>0.002624</td>\n",
       "    </tr>\n",
       "    <tr>\n",
       "      <th>6</th>\n",
       "      <td>XGB</td>\n",
       "      <td>0.735946</td>\n",
       "      <td>0.471892</td>\n",
       "      <td>-1.75</td>\n",
       "      <td>0.002153</td>\n",
       "    </tr>\n",
       "    <tr>\n",
       "      <th>7</th>\n",
       "      <td>XGB</td>\n",
       "      <td>0.735946</td>\n",
       "      <td>0.471892</td>\n",
       "      <td>-1.75</td>\n",
       "      <td>0.002153</td>\n",
       "    </tr>\n",
       "    <tr>\n",
       "      <th>8</th>\n",
       "      <td>XGB</td>\n",
       "      <td>0.734134</td>\n",
       "      <td>0.468268</td>\n",
       "      <td>-2.51</td>\n",
       "      <td>0.002153</td>\n",
       "    </tr>\n",
       "    <tr>\n",
       "      <th>9</th>\n",
       "      <td>XGB</td>\n",
       "      <td>0.734082</td>\n",
       "      <td>0.468164</td>\n",
       "      <td>-2.53</td>\n",
       "      <td>0.002153</td>\n",
       "    </tr>\n",
       "    <tr>\n",
       "      <th>10</th>\n",
       "      <td>XGB</td>\n",
       "      <td>0.733859</td>\n",
       "      <td>0.467718</td>\n",
       "      <td>-2.62</td>\n",
       "      <td>0.002153</td>\n",
       "    </tr>\n",
       "    <tr>\n",
       "      <th>11</th>\n",
       "      <td>XGB</td>\n",
       "      <td>0.733859</td>\n",
       "      <td>0.467718</td>\n",
       "      <td>-2.62</td>\n",
       "      <td>0.002153</td>\n",
       "    </tr>\n",
       "    <tr>\n",
       "      <th>12</th>\n",
       "      <td>XGB</td>\n",
       "      <td>0.732083</td>\n",
       "      <td>0.464167</td>\n",
       "      <td>-3.36</td>\n",
       "      <td>0.002153</td>\n",
       "    </tr>\n",
       "    <tr>\n",
       "      <th>13</th>\n",
       "      <td>XGB</td>\n",
       "      <td>0.729577</td>\n",
       "      <td>0.459154</td>\n",
       "      <td>-4.40</td>\n",
       "      <td>0.002153</td>\n",
       "    </tr>\n",
       "    <tr>\n",
       "      <th>14</th>\n",
       "      <td>XGB</td>\n",
       "      <td>0.705332</td>\n",
       "      <td>0.410664</td>\n",
       "      <td>-14.50</td>\n",
       "      <td>0.002153</td>\n",
       "    </tr>\n",
       "    <tr>\n",
       "      <th>15</th>\n",
       "      <td>XGB</td>\n",
       "      <td>0.698809</td>\n",
       "      <td>0.397617</td>\n",
       "      <td>-17.21</td>\n",
       "      <td>0.002153</td>\n",
       "    </tr>\n",
       "    <tr>\n",
       "      <th>16</th>\n",
       "      <td>XGB</td>\n",
       "      <td>0.697595</td>\n",
       "      <td>0.395190</td>\n",
       "      <td>-17.72</td>\n",
       "      <td>0.002153</td>\n",
       "    </tr>\n",
       "  </tbody>\n",
       "</table>\n",
       "</div>"
      ],
      "text/plain": [
       "       model  auc_test  gini_test  improvement_vs_benchmark_pct       psi\n",
       "0      GB_RS  0.747172   0.494344                          2.92  0.002195\n",
       "1        XGB  0.746255   0.492511                          2.54  0.002153\n",
       "2     XGB_RS  0.744680   0.489361                          1.89  0.001472\n",
       "3      RF_RS  0.742266   0.484532                          0.88  0.002277\n",
       "4    LGBM_RS  0.742093   0.484186                          0.81  0.002872\n",
       "5   RF_BENCH  0.740150   0.480301                          0.00  0.002624\n",
       "6        XGB  0.735946   0.471892                         -1.75  0.002153\n",
       "7        XGB  0.735946   0.471892                         -1.75  0.002153\n",
       "8        XGB  0.734134   0.468268                         -2.51  0.002153\n",
       "9        XGB  0.734082   0.468164                         -2.53  0.002153\n",
       "10       XGB  0.733859   0.467718                         -2.62  0.002153\n",
       "11       XGB  0.733859   0.467718                         -2.62  0.002153\n",
       "12       XGB  0.732083   0.464167                         -3.36  0.002153\n",
       "13       XGB  0.729577   0.459154                         -4.40  0.002153\n",
       "14       XGB  0.705332   0.410664                        -14.50  0.002153\n",
       "15       XGB  0.698809   0.397617                        -17.21  0.002153\n",
       "16       XGB  0.697595   0.395190                        -17.72  0.002153"
      ]
     },
     "metadata": {},
     "output_type": "display_data"
    },
    {
     "data": {
      "application/vnd.plotly.v1+json": {
       "config": {
        "plotlyServerURL": "https://plot.ly"
       },
       "data": [
        {
         "hovertemplate": "model=%{x}<br>gini_test=%{text}<extra></extra>",
         "legendgroup": "",
         "marker": {
          "color": "#636efa",
          "pattern": {
           "shape": ""
          }
         },
         "name": "",
         "orientation": "v",
         "showlegend": false,
         "text": {
          "bdata": "EHvur1Wj3z+sk5kPTIXfP8CzH/+vUd8/2G07mJEC3z8UGBRX5/zePyR7kmk+vd4/ZACxXnkz3j9kALFeeTPePyC6+l8a+N0/kAgwHmj23T/8m47lF+/dP/ybjuUX790/2OnxD+i03T/kFv13x2LdPyi345xPSNo/3MpaIo9y2T/ws+CsykrZPw==",
          "dtype": "f8"
         },
         "textposition": "outside",
         "texttemplate": "%{text:.3f}",
         "type": "bar",
         "x": [
          "GB_RS",
          "XGB",
          "XGB_RS",
          "RF_RS",
          "LGBM_RS",
          "RF_BENCH",
          "XGB",
          "XGB",
          "XGB",
          "XGB",
          "XGB",
          "XGB",
          "XGB",
          "XGB",
          "XGB",
          "XGB",
          "XGB"
         ],
         "xaxis": "x",
         "y": {
          "bdata": "EHvur1Wj3z+sk5kPTIXfP8CzH/+vUd8/2G07mJEC3z8UGBRX5/zePyR7kmk+vd4/ZACxXnkz3j9kALFeeTPePyC6+l8a+N0/kAgwHmj23T/8m47lF+/dP/ybjuUX790/2OnxD+i03T/kFv13x2LdPyi345xPSNo/3MpaIo9y2T/ws+CsykrZPw==",
          "dtype": "f8"
         },
         "yaxis": "y"
        }
       ],
       "layout": {
        "barmode": "relative",
        "legend": {
         "tracegroupgap": 0
        },
        "template": {
         "data": {
          "bar": [
           {
            "error_x": {
             "color": "#2a3f5f"
            },
            "error_y": {
             "color": "#2a3f5f"
            },
            "marker": {
             "line": {
              "color": "#E5ECF6",
              "width": 0.5
             },
             "pattern": {
              "fillmode": "overlay",
              "size": 10,
              "solidity": 0.2
             }
            },
            "type": "bar"
           }
          ],
          "barpolar": [
           {
            "marker": {
             "line": {
              "color": "#E5ECF6",
              "width": 0.5
             },
             "pattern": {
              "fillmode": "overlay",
              "size": 10,
              "solidity": 0.2
             }
            },
            "type": "barpolar"
           }
          ],
          "carpet": [
           {
            "aaxis": {
             "endlinecolor": "#2a3f5f",
             "gridcolor": "white",
             "linecolor": "white",
             "minorgridcolor": "white",
             "startlinecolor": "#2a3f5f"
            },
            "baxis": {
             "endlinecolor": "#2a3f5f",
             "gridcolor": "white",
             "linecolor": "white",
             "minorgridcolor": "white",
             "startlinecolor": "#2a3f5f"
            },
            "type": "carpet"
           }
          ],
          "choropleth": [
           {
            "colorbar": {
             "outlinewidth": 0,
             "ticks": ""
            },
            "type": "choropleth"
           }
          ],
          "contour": [
           {
            "colorbar": {
             "outlinewidth": 0,
             "ticks": ""
            },
            "colorscale": [
             [
              0,
              "#0d0887"
             ],
             [
              0.1111111111111111,
              "#46039f"
             ],
             [
              0.2222222222222222,
              "#7201a8"
             ],
             [
              0.3333333333333333,
              "#9c179e"
             ],
             [
              0.4444444444444444,
              "#bd3786"
             ],
             [
              0.5555555555555556,
              "#d8576b"
             ],
             [
              0.6666666666666666,
              "#ed7953"
             ],
             [
              0.7777777777777778,
              "#fb9f3a"
             ],
             [
              0.8888888888888888,
              "#fdca26"
             ],
             [
              1,
              "#f0f921"
             ]
            ],
            "type": "contour"
           }
          ],
          "contourcarpet": [
           {
            "colorbar": {
             "outlinewidth": 0,
             "ticks": ""
            },
            "type": "contourcarpet"
           }
          ],
          "heatmap": [
           {
            "colorbar": {
             "outlinewidth": 0,
             "ticks": ""
            },
            "colorscale": [
             [
              0,
              "#0d0887"
             ],
             [
              0.1111111111111111,
              "#46039f"
             ],
             [
              0.2222222222222222,
              "#7201a8"
             ],
             [
              0.3333333333333333,
              "#9c179e"
             ],
             [
              0.4444444444444444,
              "#bd3786"
             ],
             [
              0.5555555555555556,
              "#d8576b"
             ],
             [
              0.6666666666666666,
              "#ed7953"
             ],
             [
              0.7777777777777778,
              "#fb9f3a"
             ],
             [
              0.8888888888888888,
              "#fdca26"
             ],
             [
              1,
              "#f0f921"
             ]
            ],
            "type": "heatmap"
           }
          ],
          "histogram": [
           {
            "marker": {
             "pattern": {
              "fillmode": "overlay",
              "size": 10,
              "solidity": 0.2
             }
            },
            "type": "histogram"
           }
          ],
          "histogram2d": [
           {
            "colorbar": {
             "outlinewidth": 0,
             "ticks": ""
            },
            "colorscale": [
             [
              0,
              "#0d0887"
             ],
             [
              0.1111111111111111,
              "#46039f"
             ],
             [
              0.2222222222222222,
              "#7201a8"
             ],
             [
              0.3333333333333333,
              "#9c179e"
             ],
             [
              0.4444444444444444,
              "#bd3786"
             ],
             [
              0.5555555555555556,
              "#d8576b"
             ],
             [
              0.6666666666666666,
              "#ed7953"
             ],
             [
              0.7777777777777778,
              "#fb9f3a"
             ],
             [
              0.8888888888888888,
              "#fdca26"
             ],
             [
              1,
              "#f0f921"
             ]
            ],
            "type": "histogram2d"
           }
          ],
          "histogram2dcontour": [
           {
            "colorbar": {
             "outlinewidth": 0,
             "ticks": ""
            },
            "colorscale": [
             [
              0,
              "#0d0887"
             ],
             [
              0.1111111111111111,
              "#46039f"
             ],
             [
              0.2222222222222222,
              "#7201a8"
             ],
             [
              0.3333333333333333,
              "#9c179e"
             ],
             [
              0.4444444444444444,
              "#bd3786"
             ],
             [
              0.5555555555555556,
              "#d8576b"
             ],
             [
              0.6666666666666666,
              "#ed7953"
             ],
             [
              0.7777777777777778,
              "#fb9f3a"
             ],
             [
              0.8888888888888888,
              "#fdca26"
             ],
             [
              1,
              "#f0f921"
             ]
            ],
            "type": "histogram2dcontour"
           }
          ],
          "mesh3d": [
           {
            "colorbar": {
             "outlinewidth": 0,
             "ticks": ""
            },
            "type": "mesh3d"
           }
          ],
          "parcoords": [
           {
            "line": {
             "colorbar": {
              "outlinewidth": 0,
              "ticks": ""
             }
            },
            "type": "parcoords"
           }
          ],
          "pie": [
           {
            "automargin": true,
            "type": "pie"
           }
          ],
          "scatter": [
           {
            "fillpattern": {
             "fillmode": "overlay",
             "size": 10,
             "solidity": 0.2
            },
            "type": "scatter"
           }
          ],
          "scatter3d": [
           {
            "line": {
             "colorbar": {
              "outlinewidth": 0,
              "ticks": ""
             }
            },
            "marker": {
             "colorbar": {
              "outlinewidth": 0,
              "ticks": ""
             }
            },
            "type": "scatter3d"
           }
          ],
          "scattercarpet": [
           {
            "marker": {
             "colorbar": {
              "outlinewidth": 0,
              "ticks": ""
             }
            },
            "type": "scattercarpet"
           }
          ],
          "scattergeo": [
           {
            "marker": {
             "colorbar": {
              "outlinewidth": 0,
              "ticks": ""
             }
            },
            "type": "scattergeo"
           }
          ],
          "scattergl": [
           {
            "marker": {
             "colorbar": {
              "outlinewidth": 0,
              "ticks": ""
             }
            },
            "type": "scattergl"
           }
          ],
          "scattermap": [
           {
            "marker": {
             "colorbar": {
              "outlinewidth": 0,
              "ticks": ""
             }
            },
            "type": "scattermap"
           }
          ],
          "scattermapbox": [
           {
            "marker": {
             "colorbar": {
              "outlinewidth": 0,
              "ticks": ""
             }
            },
            "type": "scattermapbox"
           }
          ],
          "scatterpolar": [
           {
            "marker": {
             "colorbar": {
              "outlinewidth": 0,
              "ticks": ""
             }
            },
            "type": "scatterpolar"
           }
          ],
          "scatterpolargl": [
           {
            "marker": {
             "colorbar": {
              "outlinewidth": 0,
              "ticks": ""
             }
            },
            "type": "scatterpolargl"
           }
          ],
          "scatterternary": [
           {
            "marker": {
             "colorbar": {
              "outlinewidth": 0,
              "ticks": ""
             }
            },
            "type": "scatterternary"
           }
          ],
          "surface": [
           {
            "colorbar": {
             "outlinewidth": 0,
             "ticks": ""
            },
            "colorscale": [
             [
              0,
              "#0d0887"
             ],
             [
              0.1111111111111111,
              "#46039f"
             ],
             [
              0.2222222222222222,
              "#7201a8"
             ],
             [
              0.3333333333333333,
              "#9c179e"
             ],
             [
              0.4444444444444444,
              "#bd3786"
             ],
             [
              0.5555555555555556,
              "#d8576b"
             ],
             [
              0.6666666666666666,
              "#ed7953"
             ],
             [
              0.7777777777777778,
              "#fb9f3a"
             ],
             [
              0.8888888888888888,
              "#fdca26"
             ],
             [
              1,
              "#f0f921"
             ]
            ],
            "type": "surface"
           }
          ],
          "table": [
           {
            "cells": {
             "fill": {
              "color": "#EBF0F8"
             },
             "line": {
              "color": "white"
             }
            },
            "header": {
             "fill": {
              "color": "#C8D4E3"
             },
             "line": {
              "color": "white"
             }
            },
            "type": "table"
           }
          ]
         },
         "layout": {
          "annotationdefaults": {
           "arrowcolor": "#2a3f5f",
           "arrowhead": 0,
           "arrowwidth": 1
          },
          "autotypenumbers": "strict",
          "coloraxis": {
           "colorbar": {
            "outlinewidth": 0,
            "ticks": ""
           }
          },
          "colorscale": {
           "diverging": [
            [
             0,
             "#8e0152"
            ],
            [
             0.1,
             "#c51b7d"
            ],
            [
             0.2,
             "#de77ae"
            ],
            [
             0.3,
             "#f1b6da"
            ],
            [
             0.4,
             "#fde0ef"
            ],
            [
             0.5,
             "#f7f7f7"
            ],
            [
             0.6,
             "#e6f5d0"
            ],
            [
             0.7,
             "#b8e186"
            ],
            [
             0.8,
             "#7fbc41"
            ],
            [
             0.9,
             "#4d9221"
            ],
            [
             1,
             "#276419"
            ]
           ],
           "sequential": [
            [
             0,
             "#0d0887"
            ],
            [
             0.1111111111111111,
             "#46039f"
            ],
            [
             0.2222222222222222,
             "#7201a8"
            ],
            [
             0.3333333333333333,
             "#9c179e"
            ],
            [
             0.4444444444444444,
             "#bd3786"
            ],
            [
             0.5555555555555556,
             "#d8576b"
            ],
            [
             0.6666666666666666,
             "#ed7953"
            ],
            [
             0.7777777777777778,
             "#fb9f3a"
            ],
            [
             0.8888888888888888,
             "#fdca26"
            ],
            [
             1,
             "#f0f921"
            ]
           ],
           "sequentialminus": [
            [
             0,
             "#0d0887"
            ],
            [
             0.1111111111111111,
             "#46039f"
            ],
            [
             0.2222222222222222,
             "#7201a8"
            ],
            [
             0.3333333333333333,
             "#9c179e"
            ],
            [
             0.4444444444444444,
             "#bd3786"
            ],
            [
             0.5555555555555556,
             "#d8576b"
            ],
            [
             0.6666666666666666,
             "#ed7953"
            ],
            [
             0.7777777777777778,
             "#fb9f3a"
            ],
            [
             0.8888888888888888,
             "#fdca26"
            ],
            [
             1,
             "#f0f921"
            ]
           ]
          },
          "colorway": [
           "#636efa",
           "#EF553B",
           "#00cc96",
           "#ab63fa",
           "#FFA15A",
           "#19d3f3",
           "#FF6692",
           "#B6E880",
           "#FF97FF",
           "#FECB52"
          ],
          "font": {
           "color": "#2a3f5f"
          },
          "geo": {
           "bgcolor": "white",
           "lakecolor": "white",
           "landcolor": "#E5ECF6",
           "showlakes": true,
           "showland": true,
           "subunitcolor": "white"
          },
          "hoverlabel": {
           "align": "left"
          },
          "hovermode": "closest",
          "mapbox": {
           "style": "light"
          },
          "paper_bgcolor": "white",
          "plot_bgcolor": "#E5ECF6",
          "polar": {
           "angularaxis": {
            "gridcolor": "white",
            "linecolor": "white",
            "ticks": ""
           },
           "bgcolor": "#E5ECF6",
           "radialaxis": {
            "gridcolor": "white",
            "linecolor": "white",
            "ticks": ""
           }
          },
          "scene": {
           "xaxis": {
            "backgroundcolor": "#E5ECF6",
            "gridcolor": "white",
            "gridwidth": 2,
            "linecolor": "white",
            "showbackground": true,
            "ticks": "",
            "zerolinecolor": "white"
           },
           "yaxis": {
            "backgroundcolor": "#E5ECF6",
            "gridcolor": "white",
            "gridwidth": 2,
            "linecolor": "white",
            "showbackground": true,
            "ticks": "",
            "zerolinecolor": "white"
           },
           "zaxis": {
            "backgroundcolor": "#E5ECF6",
            "gridcolor": "white",
            "gridwidth": 2,
            "linecolor": "white",
            "showbackground": true,
            "ticks": "",
            "zerolinecolor": "white"
           }
          },
          "shapedefaults": {
           "line": {
            "color": "#2a3f5f"
           }
          },
          "ternary": {
           "aaxis": {
            "gridcolor": "white",
            "linecolor": "white",
            "ticks": ""
           },
           "baxis": {
            "gridcolor": "white",
            "linecolor": "white",
            "ticks": ""
           },
           "bgcolor": "#E5ECF6",
           "caxis": {
            "gridcolor": "white",
            "linecolor": "white",
            "ticks": ""
           }
          },
          "title": {
           "x": 0.05
          },
          "xaxis": {
           "automargin": true,
           "gridcolor": "white",
           "linecolor": "white",
           "ticks": "",
           "title": {
            "standoff": 15
           },
           "zerolinecolor": "white",
           "zerolinewidth": 2
          },
          "yaxis": {
           "automargin": true,
           "gridcolor": "white",
           "linecolor": "white",
           "ticks": "",
           "title": {
            "standoff": 15
           },
           "zerolinecolor": "white",
           "zerolinewidth": 2
          }
         }
        },
        "title": {
         "text": "GINI Test par Modèle"
        },
        "xaxis": {
         "anchor": "y",
         "domain": [
          0,
          1
         ],
         "title": {
          "text": "Modèle"
         }
        },
        "yaxis": {
         "anchor": "x",
         "domain": [
          0,
          1
         ],
         "title": {
          "text": "GINI"
         }
        }
       }
      }
     },
     "metadata": {},
     "output_type": "display_data"
    },
    {
     "data": {
      "application/vnd.plotly.v1+json": {
       "config": {
        "plotlyServerURL": "https://plot.ly"
       },
       "data": [
        {
         "hovertemplate": "model=%{x}<br>psi=%{text}<extra></extra>",
         "legendgroup": "",
         "marker": {
          "color": "#636efa",
          "pattern": {
           "shape": ""
          }
         },
         "name": "",
         "orientation": "v",
         "showlegend": false,
         "text": {
          "bdata": "evzepj/7YT9bQdMSK6NhP3uFBfcDHlg/PUUOETenYj8hIF9CBYdnP10Y6UXtfmU/W0HTEiujYT9bQdMSK6NhP1tB0xIro2E/W0HTEiujYT9bQdMSK6NhP1tB0xIro2E/W0HTEiujYT9bQdMSK6NhP1tB0xIro2E/W0HTEiujYT9bQdMSK6NhPw==",
          "dtype": "f8"
         },
         "textposition": "outside",
         "texttemplate": "%{text:.4f}",
         "type": "bar",
         "x": [
          "GB_RS",
          "XGB",
          "XGB_RS",
          "RF_RS",
          "LGBM_RS",
          "RF_BENCH",
          "XGB",
          "XGB",
          "XGB",
          "XGB",
          "XGB",
          "XGB",
          "XGB",
          "XGB",
          "XGB",
          "XGB",
          "XGB"
         ],
         "xaxis": "x",
         "y": {
          "bdata": "evzepj/7YT9bQdMSK6NhP3uFBfcDHlg/PUUOETenYj8hIF9CBYdnP10Y6UXtfmU/W0HTEiujYT9bQdMSK6NhP1tB0xIro2E/W0HTEiujYT9bQdMSK6NhP1tB0xIro2E/W0HTEiujYT9bQdMSK6NhP1tB0xIro2E/W0HTEiujYT9bQdMSK6NhPw==",
          "dtype": "f8"
         },
         "yaxis": "y"
        }
       ],
       "layout": {
        "barmode": "relative",
        "legend": {
         "tracegroupgap": 0
        },
        "template": {
         "data": {
          "bar": [
           {
            "error_x": {
             "color": "#2a3f5f"
            },
            "error_y": {
             "color": "#2a3f5f"
            },
            "marker": {
             "line": {
              "color": "#E5ECF6",
              "width": 0.5
             },
             "pattern": {
              "fillmode": "overlay",
              "size": 10,
              "solidity": 0.2
             }
            },
            "type": "bar"
           }
          ],
          "barpolar": [
           {
            "marker": {
             "line": {
              "color": "#E5ECF6",
              "width": 0.5
             },
             "pattern": {
              "fillmode": "overlay",
              "size": 10,
              "solidity": 0.2
             }
            },
            "type": "barpolar"
           }
          ],
          "carpet": [
           {
            "aaxis": {
             "endlinecolor": "#2a3f5f",
             "gridcolor": "white",
             "linecolor": "white",
             "minorgridcolor": "white",
             "startlinecolor": "#2a3f5f"
            },
            "baxis": {
             "endlinecolor": "#2a3f5f",
             "gridcolor": "white",
             "linecolor": "white",
             "minorgridcolor": "white",
             "startlinecolor": "#2a3f5f"
            },
            "type": "carpet"
           }
          ],
          "choropleth": [
           {
            "colorbar": {
             "outlinewidth": 0,
             "ticks": ""
            },
            "type": "choropleth"
           }
          ],
          "contour": [
           {
            "colorbar": {
             "outlinewidth": 0,
             "ticks": ""
            },
            "colorscale": [
             [
              0,
              "#0d0887"
             ],
             [
              0.1111111111111111,
              "#46039f"
             ],
             [
              0.2222222222222222,
              "#7201a8"
             ],
             [
              0.3333333333333333,
              "#9c179e"
             ],
             [
              0.4444444444444444,
              "#bd3786"
             ],
             [
              0.5555555555555556,
              "#d8576b"
             ],
             [
              0.6666666666666666,
              "#ed7953"
             ],
             [
              0.7777777777777778,
              "#fb9f3a"
             ],
             [
              0.8888888888888888,
              "#fdca26"
             ],
             [
              1,
              "#f0f921"
             ]
            ],
            "type": "contour"
           }
          ],
          "contourcarpet": [
           {
            "colorbar": {
             "outlinewidth": 0,
             "ticks": ""
            },
            "type": "contourcarpet"
           }
          ],
          "heatmap": [
           {
            "colorbar": {
             "outlinewidth": 0,
             "ticks": ""
            },
            "colorscale": [
             [
              0,
              "#0d0887"
             ],
             [
              0.1111111111111111,
              "#46039f"
             ],
             [
              0.2222222222222222,
              "#7201a8"
             ],
             [
              0.3333333333333333,
              "#9c179e"
             ],
             [
              0.4444444444444444,
              "#bd3786"
             ],
             [
              0.5555555555555556,
              "#d8576b"
             ],
             [
              0.6666666666666666,
              "#ed7953"
             ],
             [
              0.7777777777777778,
              "#fb9f3a"
             ],
             [
              0.8888888888888888,
              "#fdca26"
             ],
             [
              1,
              "#f0f921"
             ]
            ],
            "type": "heatmap"
           }
          ],
          "histogram": [
           {
            "marker": {
             "pattern": {
              "fillmode": "overlay",
              "size": 10,
              "solidity": 0.2
             }
            },
            "type": "histogram"
           }
          ],
          "histogram2d": [
           {
            "colorbar": {
             "outlinewidth": 0,
             "ticks": ""
            },
            "colorscale": [
             [
              0,
              "#0d0887"
             ],
             [
              0.1111111111111111,
              "#46039f"
             ],
             [
              0.2222222222222222,
              "#7201a8"
             ],
             [
              0.3333333333333333,
              "#9c179e"
             ],
             [
              0.4444444444444444,
              "#bd3786"
             ],
             [
              0.5555555555555556,
              "#d8576b"
             ],
             [
              0.6666666666666666,
              "#ed7953"
             ],
             [
              0.7777777777777778,
              "#fb9f3a"
             ],
             [
              0.8888888888888888,
              "#fdca26"
             ],
             [
              1,
              "#f0f921"
             ]
            ],
            "type": "histogram2d"
           }
          ],
          "histogram2dcontour": [
           {
            "colorbar": {
             "outlinewidth": 0,
             "ticks": ""
            },
            "colorscale": [
             [
              0,
              "#0d0887"
             ],
             [
              0.1111111111111111,
              "#46039f"
             ],
             [
              0.2222222222222222,
              "#7201a8"
             ],
             [
              0.3333333333333333,
              "#9c179e"
             ],
             [
              0.4444444444444444,
              "#bd3786"
             ],
             [
              0.5555555555555556,
              "#d8576b"
             ],
             [
              0.6666666666666666,
              "#ed7953"
             ],
             [
              0.7777777777777778,
              "#fb9f3a"
             ],
             [
              0.8888888888888888,
              "#fdca26"
             ],
             [
              1,
              "#f0f921"
             ]
            ],
            "type": "histogram2dcontour"
           }
          ],
          "mesh3d": [
           {
            "colorbar": {
             "outlinewidth": 0,
             "ticks": ""
            },
            "type": "mesh3d"
           }
          ],
          "parcoords": [
           {
            "line": {
             "colorbar": {
              "outlinewidth": 0,
              "ticks": ""
             }
            },
            "type": "parcoords"
           }
          ],
          "pie": [
           {
            "automargin": true,
            "type": "pie"
           }
          ],
          "scatter": [
           {
            "fillpattern": {
             "fillmode": "overlay",
             "size": 10,
             "solidity": 0.2
            },
            "type": "scatter"
           }
          ],
          "scatter3d": [
           {
            "line": {
             "colorbar": {
              "outlinewidth": 0,
              "ticks": ""
             }
            },
            "marker": {
             "colorbar": {
              "outlinewidth": 0,
              "ticks": ""
             }
            },
            "type": "scatter3d"
           }
          ],
          "scattercarpet": [
           {
            "marker": {
             "colorbar": {
              "outlinewidth": 0,
              "ticks": ""
             }
            },
            "type": "scattercarpet"
           }
          ],
          "scattergeo": [
           {
            "marker": {
             "colorbar": {
              "outlinewidth": 0,
              "ticks": ""
             }
            },
            "type": "scattergeo"
           }
          ],
          "scattergl": [
           {
            "marker": {
             "colorbar": {
              "outlinewidth": 0,
              "ticks": ""
             }
            },
            "type": "scattergl"
           }
          ],
          "scattermap": [
           {
            "marker": {
             "colorbar": {
              "outlinewidth": 0,
              "ticks": ""
             }
            },
            "type": "scattermap"
           }
          ],
          "scattermapbox": [
           {
            "marker": {
             "colorbar": {
              "outlinewidth": 0,
              "ticks": ""
             }
            },
            "type": "scattermapbox"
           }
          ],
          "scatterpolar": [
           {
            "marker": {
             "colorbar": {
              "outlinewidth": 0,
              "ticks": ""
             }
            },
            "type": "scatterpolar"
           }
          ],
          "scatterpolargl": [
           {
            "marker": {
             "colorbar": {
              "outlinewidth": 0,
              "ticks": ""
             }
            },
            "type": "scatterpolargl"
           }
          ],
          "scatterternary": [
           {
            "marker": {
             "colorbar": {
              "outlinewidth": 0,
              "ticks": ""
             }
            },
            "type": "scatterternary"
           }
          ],
          "surface": [
           {
            "colorbar": {
             "outlinewidth": 0,
             "ticks": ""
            },
            "colorscale": [
             [
              0,
              "#0d0887"
             ],
             [
              0.1111111111111111,
              "#46039f"
             ],
             [
              0.2222222222222222,
              "#7201a8"
             ],
             [
              0.3333333333333333,
              "#9c179e"
             ],
             [
              0.4444444444444444,
              "#bd3786"
             ],
             [
              0.5555555555555556,
              "#d8576b"
             ],
             [
              0.6666666666666666,
              "#ed7953"
             ],
             [
              0.7777777777777778,
              "#fb9f3a"
             ],
             [
              0.8888888888888888,
              "#fdca26"
             ],
             [
              1,
              "#f0f921"
             ]
            ],
            "type": "surface"
           }
          ],
          "table": [
           {
            "cells": {
             "fill": {
              "color": "#EBF0F8"
             },
             "line": {
              "color": "white"
             }
            },
            "header": {
             "fill": {
              "color": "#C8D4E3"
             },
             "line": {
              "color": "white"
             }
            },
            "type": "table"
           }
          ]
         },
         "layout": {
          "annotationdefaults": {
           "arrowcolor": "#2a3f5f",
           "arrowhead": 0,
           "arrowwidth": 1
          },
          "autotypenumbers": "strict",
          "coloraxis": {
           "colorbar": {
            "outlinewidth": 0,
            "ticks": ""
           }
          },
          "colorscale": {
           "diverging": [
            [
             0,
             "#8e0152"
            ],
            [
             0.1,
             "#c51b7d"
            ],
            [
             0.2,
             "#de77ae"
            ],
            [
             0.3,
             "#f1b6da"
            ],
            [
             0.4,
             "#fde0ef"
            ],
            [
             0.5,
             "#f7f7f7"
            ],
            [
             0.6,
             "#e6f5d0"
            ],
            [
             0.7,
             "#b8e186"
            ],
            [
             0.8,
             "#7fbc41"
            ],
            [
             0.9,
             "#4d9221"
            ],
            [
             1,
             "#276419"
            ]
           ],
           "sequential": [
            [
             0,
             "#0d0887"
            ],
            [
             0.1111111111111111,
             "#46039f"
            ],
            [
             0.2222222222222222,
             "#7201a8"
            ],
            [
             0.3333333333333333,
             "#9c179e"
            ],
            [
             0.4444444444444444,
             "#bd3786"
            ],
            [
             0.5555555555555556,
             "#d8576b"
            ],
            [
             0.6666666666666666,
             "#ed7953"
            ],
            [
             0.7777777777777778,
             "#fb9f3a"
            ],
            [
             0.8888888888888888,
             "#fdca26"
            ],
            [
             1,
             "#f0f921"
            ]
           ],
           "sequentialminus": [
            [
             0,
             "#0d0887"
            ],
            [
             0.1111111111111111,
             "#46039f"
            ],
            [
             0.2222222222222222,
             "#7201a8"
            ],
            [
             0.3333333333333333,
             "#9c179e"
            ],
            [
             0.4444444444444444,
             "#bd3786"
            ],
            [
             0.5555555555555556,
             "#d8576b"
            ],
            [
             0.6666666666666666,
             "#ed7953"
            ],
            [
             0.7777777777777778,
             "#fb9f3a"
            ],
            [
             0.8888888888888888,
             "#fdca26"
            ],
            [
             1,
             "#f0f921"
            ]
           ]
          },
          "colorway": [
           "#636efa",
           "#EF553B",
           "#00cc96",
           "#ab63fa",
           "#FFA15A",
           "#19d3f3",
           "#FF6692",
           "#B6E880",
           "#FF97FF",
           "#FECB52"
          ],
          "font": {
           "color": "#2a3f5f"
          },
          "geo": {
           "bgcolor": "white",
           "lakecolor": "white",
           "landcolor": "#E5ECF6",
           "showlakes": true,
           "showland": true,
           "subunitcolor": "white"
          },
          "hoverlabel": {
           "align": "left"
          },
          "hovermode": "closest",
          "mapbox": {
           "style": "light"
          },
          "paper_bgcolor": "white",
          "plot_bgcolor": "#E5ECF6",
          "polar": {
           "angularaxis": {
            "gridcolor": "white",
            "linecolor": "white",
            "ticks": ""
           },
           "bgcolor": "#E5ECF6",
           "radialaxis": {
            "gridcolor": "white",
            "linecolor": "white",
            "ticks": ""
           }
          },
          "scene": {
           "xaxis": {
            "backgroundcolor": "#E5ECF6",
            "gridcolor": "white",
            "gridwidth": 2,
            "linecolor": "white",
            "showbackground": true,
            "ticks": "",
            "zerolinecolor": "white"
           },
           "yaxis": {
            "backgroundcolor": "#E5ECF6",
            "gridcolor": "white",
            "gridwidth": 2,
            "linecolor": "white",
            "showbackground": true,
            "ticks": "",
            "zerolinecolor": "white"
           },
           "zaxis": {
            "backgroundcolor": "#E5ECF6",
            "gridcolor": "white",
            "gridwidth": 2,
            "linecolor": "white",
            "showbackground": true,
            "ticks": "",
            "zerolinecolor": "white"
           }
          },
          "shapedefaults": {
           "line": {
            "color": "#2a3f5f"
           }
          },
          "ternary": {
           "aaxis": {
            "gridcolor": "white",
            "linecolor": "white",
            "ticks": ""
           },
           "baxis": {
            "gridcolor": "white",
            "linecolor": "white",
            "ticks": ""
           },
           "bgcolor": "#E5ECF6",
           "caxis": {
            "gridcolor": "white",
            "linecolor": "white",
            "ticks": ""
           }
          },
          "title": {
           "x": 0.05
          },
          "xaxis": {
           "automargin": true,
           "gridcolor": "white",
           "linecolor": "white",
           "ticks": "",
           "title": {
            "standoff": 15
           },
           "zerolinecolor": "white",
           "zerolinewidth": 2
          },
          "yaxis": {
           "automargin": true,
           "gridcolor": "white",
           "linecolor": "white",
           "ticks": "",
           "title": {
            "standoff": 15
           },
           "zerolinecolor": "white",
           "zerolinewidth": 2
          }
         }
        },
        "title": {
         "text": "PSI (Train vs Test) par Modèle"
        },
        "xaxis": {
         "anchor": "y",
         "domain": [
          0,
          1
         ],
         "title": {
          "text": "Modèle"
         }
        },
        "yaxis": {
         "anchor": "x",
         "domain": [
          0,
          1
         ],
         "title": {
          "text": "PSI"
         }
        }
       }
      }
     },
     "metadata": {},
     "output_type": "display_data"
    }
   ],
   "source": [
    "assert 'benchmark_results' in globals(), 'benchmark_results manquant'\n",
    "assert 'X_train' in globals() and 'X_test' in globals(), 'Splits train/test manquants.'\n",
    "available_models = []\n",
    "if 'rf_benchmark' in globals(): available_models.append(('RF_BENCH', rf_benchmark))\n",
    "if 'gb_best_rs'    in globals(): available_models.append(('GB_RS', gb_best_rs))\n",
    "if 'gb_best'       in globals(): available_models.append(('GB', gb_best))\n",
    "if 'lgb_best_rs'   in globals(): available_models.append(('LGBM_RS', lgb_best_rs))\n",
    "if 'lgb_best'      in globals(): available_models.append(('LGBM', lgb_best))\n",
    "if 'xgb_best_rs'   in globals(): available_models.append(('XGB_RS', xgb_best_rs))\n",
    "if 'xgb_best'      in globals(): available_models.append(('XGB', xgb_best))\n",
    "if 'rf_best_rs'    in globals(): available_models.append(('RF_RS', rf_best_rs))\n",
    "if 'rf_best'       in globals(): available_models.append(('RF_TUNED', rf_best))\n",
    "if 'stack_best'    in globals(): available_models.append(('STACK', stack_best))\n",
    "\n",
    "# Calcul du PSI (train vs test) par modèle\n",
    "psi_rows = []\n",
    "for name, est in available_models:\n",
    "    if hasattr(est, \"predict_proba\"):\n",
    "        p_train = est.predict_proba(X_train)[:, 1]\n",
    "        p_test  = est.predict_proba(X_test)[:, 1]\n",
    "        psi = compute_psi(p_train, p_test, n_bins=10)\n",
    "        psi_rows.append({'model': name, 'psi': round(psi, 6)})\n",
    "\n",
    "psi_df = pd.DataFrame(psi_rows)\n",
    "\n",
    "# Synthèse GINI + amélioration vs benchmark + PSI\n",
    "summary = benchmark_results.sort_values('gini_test', ascending=False).reset_index(drop=True)\n",
    "base_gini = summary.loc[summary.model=='RF_BENCH', 'gini_test'].values[0]\n",
    "summary['improvement_vs_benchmark_pct'] = ((summary['gini_test'] - base_gini) / base_gini * 100).round(2)\n",
    "summary = summary.merge(psi_df, on='model', how='left')\n",
    "\n",
    "print('Comparaison GINI test et PSI (tri décroissant sur GINI):')\n",
    "display(summary)\n",
    "\n",
    "# Graphiques\n",
    "fig = px.bar(summary, x='model', y='gini_test', title='GINI Test par Modèle', text='gini_test')\n",
    "fig.update_traces(texttemplate='%{text:.3f}', textposition='outside')\n",
    "fig.update_layout(yaxis=dict(title='GINI'), xaxis=dict(title='Modèle'))\n",
    "fig.show()\n",
    "\n",
    "fig2 = px.bar(summary, x='model', y='psi', title='PSI (Train vs Test) par Modèle', text='psi')\n",
    "fig2.update_traces(texttemplate='%{text:.4f}', textposition='outside')\n",
    "fig2.update_layout(yaxis=dict(title='PSI'), xaxis=dict(title='Modèle'))\n",
    "fig2.show()"
   ]
  },
  {
   "cell_type": "markdown",
   "id": "57532316",
   "metadata": {},
   "source": [
    "## Final Model XGBoost"
   ]
  },
  {
   "cell_type": "code",
   "execution_count": null,
   "id": "b27f25aa",
   "metadata": {},
   "outputs": [],
   "source": [
    "var_model = [\n",
    "    \"Age_Tit\",\n",
    "    \"Ressource\",\n",
    "    \"Ancien_Banc_Tit\",\n",
    "    \"Mrev_Tit\",\n",
    "    \"Ancien_Prof_Tit\",\n",
    "    \"ZCOM_SR_CL_MIMPOTS\",\n",
    "    \"Charge\",\n",
    "    \"Ratio_Ress_RAV\",\n",
    "    \"MCLFCHAB1_L\",\n",
    "    \"CSP_Tit_worker\",\n",
    "    \"CSP_Tit_others\",\n",
    "    \"MCLFCHAB1_P\",\n",
    "    \"MCLFCHAB1_F\",\n",
    "    \"MCLFCSITFAM_K\",\n",
    "    \"MCLFCSITFAM_M\",\n",
    "    \"CSP_Tit_Managerial position\",\n",
    "    \"MCLFCSITFAM_others\",\n",
    "    \"CSP_Tit_Retired\",\n",
    "    \"MCLFCHAB1_others\"\n",
    "]\n",
    "target = \"BP\""
   ]
  },
  {
   "cell_type": "code",
   "execution_count": 32,
   "id": "1c36079d",
   "metadata": {},
   "outputs": [],
   "source": [
    "VAR_MODEL = [\n",
    "    \"Age_Tit\",\"Ressource\",\"Ancien_Banc_Tit\",\"Mrev_Tit\",\"Ancien_Prof_Tit\",\n",
    "    \"ZCOM_SR_CL_MIMPOTS\",\"Charge\",\"Ratio_Ress_RAV\",\n",
    "    \"MCLFCHAB1_L\",\"CSP_Tit_worker\",\"CSP_Tit_others\",\"MCLFCHAB1_P\",\"MCLFCHAB1_F\",\n",
    "    \"MCLFCSITFAM_K\",\"MCLFCSITFAM_M\",\"CSP_Tit_Managerial position\",\"MCLFCSITFAM_others\",\n",
    "    \"CSP_Tit_Retired\",\"MCLFCHAB1_others\"\n",
    "]\n",
    "target = \"BP\""
   ]
  },
  {
   "cell_type": "markdown",
   "id": "e644423a",
   "metadata": {},
   "source": [
    "### Training"
   ]
  },
  {
   "cell_type": "code",
   "execution_count": 57,
   "id": "0fcf3dc6",
   "metadata": {},
   "outputs": [
    {
     "name": "stdout",
     "output_type": "stream",
     "text": [
      "XGBoost (simple) Test AUC: 0.7463 | GINI: 0.4925\n"
     ]
    },
    {
     "data": {
      "text/html": [
       "<div>\n",
       "<style scoped>\n",
       "    .dataframe tbody tr th:only-of-type {\n",
       "        vertical-align: middle;\n",
       "    }\n",
       "\n",
       "    .dataframe tbody tr th {\n",
       "        vertical-align: top;\n",
       "    }\n",
       "\n",
       "    .dataframe thead th {\n",
       "        text-align: right;\n",
       "    }\n",
       "</style>\n",
       "<table border=\"1\" class=\"dataframe\">\n",
       "  <thead>\n",
       "    <tr style=\"text-align: right;\">\n",
       "      <th></th>\n",
       "      <th>model</th>\n",
       "      <th>auc_test</th>\n",
       "      <th>gini_test</th>\n",
       "    </tr>\n",
       "  </thead>\n",
       "  <tbody>\n",
       "    <tr>\n",
       "      <th>0</th>\n",
       "      <td>XGB</td>\n",
       "      <td>0.746255</td>\n",
       "      <td>0.492511</td>\n",
       "    </tr>\n",
       "  </tbody>\n",
       "</table>\n",
       "</div>"
      ],
      "text/plain": [
       "  model  auc_test  gini_test\n",
       "0   XGB  0.746255   0.492511"
      ]
     },
     "execution_count": 57,
     "metadata": {},
     "output_type": "execute_result"
    }
   ],
   "source": [
    "# XGBoost simple (sans recherche d'hyperparamètres)\n",
    "xgb_params = {\n",
    "    \"objective\": \"binary:logistic\",\n",
    "    \"eval_metric\": \"auc\",\n",
    "    \"n_estimators\": 100,\n",
    "    \"learning_rate\": 0.2,\n",
    "    \"max_depth\": 5,\n",
    "    \"min_child_weight\": 0,\n",
    "    \"subsample\": 1,\n",
    "    \"colsample_bytree\": 0.8,\n",
    "    \"gamma\": 5,\n",
    "    \"random_state\": 42,\n",
    "    \"n_jobs\": -1,\n",
    "}\n",
    "\n",
    "xgb_best = XGBClassifier(**xgb_params)\n",
    "xgb_best.fit(X_train[var_model], y_train)\n",
    "\n",
    "auc_xgb_test = roc_auc_score(y_test, xgb_best.predict_proba(X_test[var_model])[:, 1])\n",
    "gini_xgb_test = gini_from_auc(auc_xgb_test)\n",
    "print(f'XGBoost (simple) Test AUC: {auc_xgb_test:.4f} | GINI: {gini_xgb_test:.4f}')\n",
    "\n",
    "benchmark_results = pd.DataFrame([{'model': 'XGB', 'auc_test': auc_xgb_test, 'gini_test': gini_xgb_test}])\n",
    "benchmark_results\n"
   ]
  },
  {
   "cell_type": "code",
   "execution_count": null,
   "id": "c7a9ffc8",
   "metadata": {},
   "outputs": [
    {
     "data": {
      "image/png": "[encoded data removed]",
      "text/plain": [
       "<Figure size 1800x400 with 3 Axes>"
      ]
     },
     "metadata": {},
     "output_type": "display_data"
    },
    {
     "data": {
      "image/png": "[encoded data removed]",
      "text/plain": [
       "<Figure size 1200x400 with 3 Axes>"
      ]
     },
     "metadata": {},
     "output_type": "display_data"
    }
   ],
   "source": [
    "from sklearn.inspection import PartialDependenceDisplay\n",
    "import numpy as _np\n",
    "import pandas as _pd\n",
    "import matplotlib.pyplot as plt\n",
    "\n",
    "# PDP & ALE for Age_Tit, Ancien_Banc_Tit, Tx_Edt\n",
    "FEATURES_PDP = [\"Age_Tit\", \"Ancien_Banc_Tit\", \"Tx_Edt\"]\n",
    "X_ref = X_train[var_model].copy()\n",
    "\n",
    "# Partial Dependence Plots\n",
    "fig, axes = plt.subplots(1, 3, figsize=(18, 4), constrained_layout=True)\n",
    "PartialDependenceDisplay.from_estimator(\n",
    "    xgb_best,\n",
    "    X_ref,\n",
    "    features=FEATURES_PDP,\n",
    "    kind=\"average\",\n",
    "    ax=axes\n",
    ")\n",
    "for ax, f in zip(axes, FEATURES_PDP):\n",
    "    ax.set_title(f\"PDP - {f}\")\n",
    "plt.show()\n",
    "\n",
    "# Accumulated Local Effects (ALE) 1D\n",
    "def _predict_score(estimator, X):\n",
    "    if hasattr(estimator, \"predict_proba\"):\n",
    "        return estimator.predict_proba(X)[:, 1]\n",
    "    if hasattr(estimator, \"decision_function\"):\n",
    "        s = estimator.decision_function(X)\n",
    "        try:\n",
    "            return 1 / (1 + _np.exp(-_np.asarray(s, dtype=float)))\n",
    "        except Exception:\n",
    "            return s.astype(float)\n",
    "    yhat = estimator.predict(X)\n",
    "    return yhat.astype(float)\n",
    "\n",
    "def ale_1d(estimator, X, feature, n_bins=20):\n",
    "    x = _np.asarray(X[feature].values, dtype=float)\n",
    "    qs = _np.linspace(0, 1, n_bins + 1)\n",
    "    edges = _np.unique(_np.quantile(x, qs))\n",
    "    if len(edges) < 2:\n",
    "        raise ValueError(f\"Error{feature}\")\n",
    "    mids = 0.5 * (edges[:-1] + edges[1:])\n",
    "    diffs = _np.zeros(len(edges) - 1, dtype=float)\n",
    "    counts = _np.zeros(len(edges) - 1, dtype=int)\n",
    "\n",
    "    for k in range(len(edges) - 1):\n",
    "        lo, hi = edges[k], edges[k + 1]\n",
    "        if k == 0:\n",
    "            mask = (x >= lo) & (x <= hi)\n",
    "        else:\n",
    "            mask = (x > lo) & (x <= hi)\n",
    "        cnt = int(mask.sum())\n",
    "        counts[k] = cnt\n",
    "        if cnt == 0:\n",
    "            continue\n",
    "\n",
    "        X0 = X.loc[mask].copy()\n",
    "        X1 = X0.copy()\n",
    "        X0[feature] = lo\n",
    "        X1[feature] = hi\n",
    "\n",
    "        p0 = _predict_score(estimator, X0)\n",
    "        p1 = _predict_score(estimator, X1)\n",
    "        diffs[k] = float((p1 - p0).mean())\n",
    "    ale_vals = _np.cumsum(diffs)\n",
    "    w = counts.astype(float)\n",
    "    w_sum = w.sum()\n",
    "    if w_sum > 0:\n",
    "        ale_center = ale_vals - (ale_vals * (w / w_sum)).sum()\n",
    "    else:\n",
    "        ale_center = ale_vals - ale_vals.mean()\n",
    "\n",
    "    return _pd.DataFrame({\"x\": mids, \"ale\": ale_center, \"count\": counts})\n",
    "\n",
    "# Plots ALE (Plotly)\n",
    "for feat in FEATURES_PDP:\n",
    "    ale_df = ale_1d(xgb_best, X_ref, feat, n_bins=20)\n",
    "    fig_ale = px.line(\n",
    "        ale_df,\n",
    "        x=\"x\",\n",
    "        y=\"ale\",\n",
    "        title=f\"ALE (1D) - {feat}\",\n",
    "        markers=True\n",
    "    )\n",
    "    fig_ale.add_hline(y=0.0, line_dash=\"dash\", line_color=\"gray\")\n",
    "    fig_ale.update_layout(xaxis_title=feat, yaxis_title=\"ALE (centré)\")\n",
    "    fig_ale.show()"
   ]
  },
  {
   "cell_type": "code",
   "execution_count": null,
   "id": "f490c4e8",
   "metadata": {},
   "outputs": [
    {
     "name": "stdout",
     "output_type": "stream",
     "text": [
      "Seuil (threshold) actuel utilisé pour la décision: 0.50\n",
      "Matrice de confusion (labels: 0=Mauvais Payeur, 1=Bon Payeur):\n"
     ]
    },
    {
     "data": {
      "text/html": [
       "<div>\n",
       "<style scoped>\n",
       "    .dataframe tbody tr th:only-of-type {\n",
       "        vertical-align: middle;\n",
       "    }\n",
       "\n",
       "    .dataframe tbody tr th {\n",
       "        vertical-align: top;\n",
       "    }\n",
       "\n",
       "    .dataframe thead th {\n",
       "        text-align: right;\n",
       "    }\n",
       "</style>\n",
       "<table border=\"1\" class=\"dataframe\">\n",
       "  <thead>\n",
       "    <tr style=\"text-align: right;\">\n",
       "      <th></th>\n",
       "      <th>Prédit 0</th>\n",
       "      <th>Prédit 1</th>\n",
       "    </tr>\n",
       "  </thead>\n",
       "  <tbody>\n",
       "    <tr>\n",
       "      <th>Vrai 0</th>\n",
       "      <td>0</td>\n",
       "      <td>197</td>\n",
       "    </tr>\n",
       "    <tr>\n",
       "      <th>Vrai 1</th>\n",
       "      <td>0</td>\n",
       "      <td>5197</td>\n",
       "    </tr>\n",
       "  </tbody>\n",
       "</table>\n",
       "</div>"
      ],
      "text/plain": [
       "        Prédit 0  Prédit 1\n",
       "Vrai 0         0       197\n",
       "Vrai 1         0      5197"
      ]
     },
     "metadata": {},
     "output_type": "display_data"
    },
    {
     "data": {
      "application/vnd.plotly.v1+json": {
       "config": {
        "plotlyServerURL": "https://plot.ly"
       },
       "data": [
        {
         "fillpattern": {
          "shape": ""
         },
         "hovertemplate": "Taux de faux positifs=%{x}<br>Taux de vrais positifs=%{y}<extra></extra>",
         "legendgroup": "",
         "line": {
          "color": "#636efa"
         },
         "marker": {
          "symbol": "circle"
         },
         "mode": "lines",
         "name": "",
         "orientation": "v",
         "showlegend": false,
         "stackgroup": "1",
         "type": "scatter",
         "x": {
          "bdata": "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",
          "dtype": "f8"
         },
         "xaxis": "x",
         "y": {
          "bdata": "AAAAAAAAAAAOYOoSgDgpPxL4pBeghk8/DWckETTbdj/L7+wOleaTPwxuXg/ofZQ/zEKED1mwlD/QgG0VAZKcP1AquRXj9pw/EP/eFVQpnT+RqCoWNo6dPxGlDRfcvJ4/abl8jEymoD9aVkPNHa+xP9r/js3/E7I/OuqhTTgtsj9aqdrN4XiyP+tbjo56aLM/G9GXzhZ1sz+rMLSO65qzPyva/47N/7M/i8QSDwYZtD/rriWPPjK0PxskL8/aPrQ/ew5CTxNYtD8842dPhIq0P5zNes+8o7Q/zEKED1mwtD+8jLNPZu+0Pxx3xs+eCLU/rNbij3MutT/9XbxQfVC2P45jBxLaCbg/vtgQUnYWuD++K6hSOuC4P65115JHH7k/zjQQE/FquT9elCzTxZC5Px5pUtM2w7k/f1NlU2/cuT/fPXjTp/W5Pz8oi1PgDro/L3K6k+1Nuj9f58PTiVq6Px+86dP6jLo//09IVBULuz9fOlvUTSS7P3/5k1T3b7s/r26dlJN8uz9wQ8OUBK+7P9At1hQ9yLs/8D+mlardvD9QKrkV4/a8P7AUzJUbEL0/EP/eFVQpvT9AdOhV8DW9P+EvBNc/sL4/oQQq17Divj/Cw2JXWi6/P+KCm9cDer8/Qm2uVzyTvz9y4reX2J+/P5GABmyrCMA/8WoZ7OMhwD+JJR4MMijAP/kYmUwhzMA/KY6ijL3YwD8a2NHMyhfBP7KS1uwYHsE/4gfgLLUqwT/arPfMO0rBPzI8Iu36gsE/YrErLZePwT/6azBN5ZXBP9r/js3/E8I/crqT7U0awj9aqdrN4XjCPyLZ6C3Mi8I/Uk7ybWiYwj9L8wkO77fCP1v8cc6lQsM/i3F7DkJPwz+75oRO3lvDP1OhiW4sYsM/Q+u4rjmhwz8LG8cOJLTDP9SdbG/SkMQ/BBN2r26dxD9k/Ygvp7bEP1yioM8t1sQ/JNKuLxjpxD/8CiVQuYbFP/SvPPA/psU/JCVGMNyyxT9Umk9weL/FP5VrWHGPIMc/xeBhsSstxz89L8VRlLHHP9XpyXHit8c/BV/TsX7Exz+dGdjRzMrHP82O4RFp18c/xTP5se/2xz8mHgwyKBDIP1aTFXLEHMg/HsMj0q4vyD9eQZXSAcfIP25K/ZK4Uck/nr8G01ReyT/+qRlTjXfJP989eNOn9ck/p22GM5IIyj9vnZSTfBvKP2dCrDMDO8o/l7e1c59Hyj/HLL+zO1TKP/ehyPPXYMo/j1zNEyZnyj/vRuCTXoDKPx+86dP6jMo/rxsGlM+yyj9X33J01EPLPx8PgdS+Vss/f/mTVPdvyz+vbp2Uk3zLP3BDw5QEr8s/0C3WFD3Iyz/I0u20w+fLP/hH9/Rf9Ms/KL0ANfwAzD9YMgp1mA3MP/DsDpXmE8w/GAcwdQlAzD/gNj7V81LMP0AhUVUsbMw/cJZalch4zD+gC2TVZIXMP2g7cjVPmMw/mLB7deukzD/4mo71I77MP1AquRXj9sw/gJ/CVX8DzT8hCEfWCrTNP4HyWVZDzc0/SSJoti3gzT9xPImWUAzOP6GxktbsGM4/0SacFoklzj+JoNm2gHfOP52yLnxDPtA/NW0znJFE0D/FzE9cZmrQPxEqUmyNbdA/gh3NrHwR0T/Oes+8oxTRP3Jn/OyJUNE/CiIBDdhW0T+i3AUtJl3RPzqXCk10Y9E/agwUjRBw0T+2aRadN3PRP2KxKy2Xj9E/kiY1bTOc0T8O+UC99qvRP/IQSO1rtdE/istMDbq70T8ihlEtCMLRP7pAVk1WyNE/Bp5YXX3L0T/OzWa9Z97RPxLQgG0VAdI/AhqwrSJA0j9+7Lv95U/SPxanwB00VtI/knnMbfdl0j92kdOdbG/SP0vzCQ7vt9I/460OLj2+0j8TIxhu2crSP3MNK+4R5NI/o4I0Lq7w0j9rskKOmAPTP0/KSb4NDdM/54RO3lsT0z8z4lDughbTP6swtI7rmtM/9422nhKe0z+/vcT+/LDTPzuQ0E7AwNM/00rVbg7H0z+3Ytyeg9DTP3+S6v5t49M/+2T2TjHz0z+TH/tuf/nTP1tPCc9pDNQ/p6wL35AP1D+7ORxPoiXUP1P0IG/wK9Q/664ljz4y1D/Pxiy/szvUP2eBMd8BQtQ//zs2/09I1D9k/Ygvp7bUP8Tnm6/fz9Q/EEWevwbT1D+o/6LfVNnUPzAE1z+wHtU/KKnu3zY+1T/AY/P/hETVP1ge+B/TStU/bKsIkORg1T8EZg2wMmfVP1DDD8BZatU/6H0U4Kdw1T802xbwznPVP3jdMKB8ltU/EJg1wMqc1T/Yx0Mgta/VP1SaT3B4v9U/oPdRgJ/C1T+0hGLwsNjVP0w/ZxD/3tU/fLRwUJvr1T9gzHeAEPXVP0TkfrCF/tU/kEGBwKwB1j9YcY8glxTWP6TOkTC+F9Y/ZaO3MC9K1j/9XbxQfVDWPxHrzMCOZtY/qaXR4Nxs1j/1AtTwA3DWP4292BBSdtY/JXjdMKB81j+9MuJQ7oLWP6FK6YBjjNY/0b/ywP+Y1j+11/nwdKLWP30HCFFftdY/YR8PgdS+1j+RlBjBcMvWPylPHeG+0dY/DWckETTb1j+lISkxguHWP21RN5Fs9NY/BQw8sbr61j9l9k4x8xPXP7FTUUEaF9c/lWtYcY8g1z8tJl2R3SbXP3mDX6EEKtc/vtgQUnYW2D8KNhNinRnYPx7DI9KuL9g/AtsqAiQ52D9OOC0SSzzYP+byMTKZQtg/MlA0QsBF2D8WaDtyNU/YP96XSdIfYtg/Ug9twmmR2D+ebG/SkJTYP87heBItodg/Gj97IlSk2D+y+X9CoqrYP5YRh3IXtNg/4m6Jgj632D9CWZwCd9DYPyZxozLs2dg/Vuascojm2D/SuLjCS/bYP7bQv/LA/9g/5kXJMl0M2T+uddeSRx/ZP0Yw3LKVJdk/3urg0uMr2T+KMvZiQ0jZP25K/ZK4Udk/BgUCswZY2T8akhIjGG7ZP0oHHGO0etk/lmQec9t92T/2TjHzE5fZP9pmOCOJoNk/CtxBYyWt2T86UUujwbnZP4auTbPovNk/HmlS0zbD2T/nmGAzIdbZP39TZVNv3Nk/Fw5qc73i2T+vyG6TC+nZP989eNOn9dk/w1V/Ax3/2T9bEIQjawXaP4uFjWMHEto/I0CSg1UY2j+7+pajox7aP58SntMYKNo/nxKe0xgo2j83zaLzZi7aP7OfrkMqPto/S1qzY3hE2j+Xt7Vzn0faP1/nw9OJWto/q0TG47Bd2j9D/8oD/2PaP/MdIER91do/1zUndPLe2j9v8CuUQOXaPy/FUZSxF9s/Xzpb1E0k2z9DUmIEwy3bPydqaTQ4N9s/c8drRF862z+jPHWE+0bbP++Zd5QiSts/O/d5pElN2z8DJ4gENGDbP3/5k1T3b9s/F7SYdEV22z/7y5+kun/bP9/jptQvids/xPutBKWS2z/E+60EpZLbPxBZsBTMlds/MBjplHXh2z/4R/f0X/TbPyi9ADX8ANw/wHcFVUoH3D9YMgp1mA3cP6SPDIW/ENw/1AQWxVsd3D+4HB310CbcP1DXIRUfLdw/4DY+1fNS3D9AIVFVLGzcPyQ5WIWhddw/CFFftRZ/3D84xmj1sovcP1iFoXVc19w/pOKjhYPa3D88nail0eDcP9RXrcUf59w/bBKy5W3t3D+4b7T1lPDcP1AquRXj9tw/nIe7JQr63D80QsBFWADdP8z8xGWmBt0/ZLfJhfQM3T+wFMyVGxDdP5Qs08WQGd0/4InV1bcc3T9w6fGVjELdPwik9rXaSN0/oF771ShP3T8BSQ5WYWjdP8l4HLZLe90/FdYexnJ+3T+tkCPmwITdP/ntJfbnh90/kagqFjaO3T/BHTRW0prdP4lNQra8rd0/1apExuOw3T8FIE4GgL3dP1F9UBanwN0/6TdVNvXG3T8ZrV52kdPdP7FnY5bf2d0/SSJoti3g3T/h3GzWe+bdP8X0cwbx790/Qcd/VrT/3T8l34aGKQneP72Zi6Z3D94/0SacFokl3j9p4aA21yveP7U+o0b+Lt4/fW6xpuhB3j9hhrjWXUveP/W8FEdRxt4/vewipzvZ3j9VpyfHid/eP1WnJ8eJ394/7WEs59fl3j85vy73/ujeP9F5MxdN794/aTQ4N5v13j/5k1T3bxvfP96rWyflJN8/DiFlZ4Ex3z9afmd3qDTfP/I4bJf2Ot8/Iq5115JH3z8S+KQXoIbfP/YPrEcVkN8/JoW1h7Gc3z9y4reX2J/fPwqdvLcmpt8/Vvq+x02p3z/mWduHIs/fP8px4reX2N8/Yizn1+Xe3z9GRO4HW+jfP97+8iep7t8/whb6Vx743z9a0f53bP7fP93dCHzSC+A/z2kMFI0Q4D+lDRfcvB7gP/FqGezjIeA/4/YchJ4m4D8vVB+UxSngP9WCIBxZK+A/xw4ktBMw4D9RVSxsHDvgP52yLnxDPuA/jz4yFP5C4D/bmzQkJUbgP7+zO1SaT+A/CxE+ZMFS4D8LET5kwVLgP6PLQoQPWeA/SfpDDKNa4D/htEgs8WDgPy0SSzwYZOA/00BMxKtl4D9r+1Dk+WvgP12HVHy0cOA/qeRWjNtz4D/1QVmcAnfgPyW3Ytyeg+A/r/1qlKeO4D+hiW4sYpPgP99ydNRDm+A/K9B25Gqe4D/z/4REVbHgP+WLiNwPtuA/i7qJZKO34D/XF4x0yrrgP31GjfxdvOA/yaOPDIW/4D9v0pCUGMHgP2FelCzTxeA/U+qXxI3K4D9T6pfEjcrgP/kYmUwhzOA/KY6ijL3Y4D/PvKMUUdrgPxsapiR43eA/ADKtVO3m4D9Mj69kFOrgPz4bs/zO7uA/ini1DPbx4D+KeLUM9vHgPzCntpSJ8+A/6mLIjC4L4T/Oes+8oxThP2Y11NzxGuE/nMPxJFpC4T9C8vKs7UPhP45P9bwUR+E/Jgr63GJN4T8Ylv10HVLhP7BQApVrWOE/7jkIPU1g4T86lwpNdGPhP+DFC9UHZeE/Hq8Rfels4T+2aRadN3PhP04kG72FeeE/2GojdY6E4T/K9iYNSYnhP3AlKJXciuE/VD0vxVGU4T+gmjHVeJfhP5ImNW0znOE/OFU29cad4T8cbT0lPKfhP4rLTA26u+E/fFdQpXTA4T9u41M9L8XhP5DkYBWG1uE/KJ9lNdTc4T8aK2nNjuHhP2aIa9215OE/suVt7dzn4T9KoHINK+7hP5b9dB1S8eE/4lp3LXn04T8uuHk9oPfhPyBEfdVa/OE/ULmGFfcI4j9CRYqtsQ3iP+hzizVFD+I/NNGNRWwS4j++F5b9dB3iP7CjmZUvIuI/SF6etX0o4j866qFNOC3iP4ZHpF1fMOI/0qSmbYYz4j8CGrCtIkDiP/Sls0XdROI/mtS0zXBG4j/mMbfdl0niPzKPue2+TOI/JBu9hXlR4j8Wp8AdNFbiP7zVwaXHV+I/rmHFPYJc4j+g7cjVPGHiP97Wzn0eaeI/hAXQBbJq4j8qNNGNRWziP3aR051sb+I/aB3XNSd04j+0etlFTnfiP0w13mWcfeI/PsHh/VaC4j+KHuQNfoXiP9Z75h2liOI/ItnoLcyL4j8UZezFhpDiPwbx711BleI/WWcGdjSz4j//lQf+x7TiP5dQDB4Wu+I/1TkSxvfC4j8hlxTWHsbiPwWvGwaUz+I/UQweFrvS4j/3Oh+eTtTiP+nGIjYJ2eI/NSQlRjDc4j9zDSvuEeTiP3kmP/bd/uI/H1VAfnEA4z9rskKOmAPjP2uyQo6YA+M/EeFDFiwF4z+pm0g2egvjP38/U/6pGeM/y5xVDtEc4z+FWGcGdjTjPx0TbCbEOuM/D59vvn4/4z9b/HHOpULjPwErc1Y5ROM/gxaTrshu4z8pRZQ2XHDjP3WilkaDc+M/G9GXzhZ14z+Xo6Me2oTjP+MApi4BiOM/uaSw9jCW4z9f07F+xJfjP4HUvlYbqeM/v73E/vyw4z8LG8cOJLTjP1d4yR5Lt+M/o9XLLnK64z/vMs4+mb3jP4ft0l7nw+M/m3rjzvjZ4z8lweuGAeXjP7178KZP6+M/Cdnytnbu4z9N2wxnJBHkP5k4D3dLFOQ/P2cQ/94V5D+LxBIPBhnkP31QFqfAHeQ/b9wZP3si5D+7ORxPoiXkP63FH+dcKuQ/RYAkB6sw5D8pmCs3IDrkPxskL8/aPuQ/bZpF581c5D8FVUoHHGPkP1GyTBdDZuQ/gidWV99y5D8oVlffcnTkPwxuXg/ofeQ/spxfl3t/5D/++WGnooLkP6QoYy82hOQ/EodyF7SY5D9e5HQn25vkP/aeeUcpouQ/NIh/7wqq5D9ycYWX7LHkPxighh+As+Q/GKCGH4Cz5D9IFZBfHMDkP+DPlH9qxuQ/0luYFyXL5D+2c59HmtTkP6j/ot9U2eQ/Ti6kZ+ja5D9OLqRn6NrkP5qLpncP3uQ/jBeqD8ri5D8yRquXXeTkP3AvsT8/7OQ/VEe4b7T15D/QGcS/dwXlP8Klx1cyCuU/DgPKZ1kN5T+mvc6HpxPlP4rV1bccHeU/fGHZT9ch5T8ikNrXaiPlPyKQ2tdqI+U/bu3c55Em5T+Ceu1XozzlPwzB9Q+sR+U/su/2lz9J5T/+TPmnZkzlP/DY/D8hUeU/PDb/T0hU5T+IkwFgb1flP4A4GQD2duU/zJUbEB165T9W3CPIJYXlP+6WKOhzi+U/lMUpcAeN5T/Sri8Y6ZTlP8Q6M7CjmeU/tsY2SF6e5T9OgTtorKTlP8pTR7hvtOU/cIJIQAO25T8WsUnIlrflP+xUVJDGxeU/hA9ZsBTM5T92m1xIz9DlP8L4Xlj20+U/aCdg4InV5T9as2N4RNrlP6YQZohr3eU/8m1omJLg5T+YnGkgJuLlPzBXbkB06OU/bkB06FXw5T8Ub3Vw6fHlP2DMd4AQ9eU/YMx3gBD15T8G+3gIpPblP1JYexjL+eU/gs2EWGcG5j8o/IXg+gfmP8C2igBJDuY/skKOmAMT5j/+n5CoKhbmP0r9krhRGeY/4reX2J8f5j9s/p+QqCrmP2z+n5CoKuY/Ei2hGDws5j9eiqMoYy/mPwS5pLD2MOY/UBanwB005j/2RKhIsTXmP0KiqljYOOY/6dCr4Gs65j/p0KvgazrmP9tcr3gmP+Y/21yveCY/5j+Bi7AAukDmP83oshDhQ+Y/cxe0mHRF5j+VGMFwy1bmP+F1w4DyWeY/LdPFkBld5j95MMigQGDmP6ml0eDcbOY/T9TSaHBu5j/Lpt64M37mP2Nh49iBhOY/r77l6KiH5j8rkfE4bJfmP3fu80iTmuY/w0v2WLqd5j8BNfwAnKXmP4t7BLmksOY/FcIMca275j8VwgxxrbvmP2EfD4HUvuY/+dkToSLF5j+fCBUptsbmP5etLMk85uY/e8Uz+bHv5j/pI0PhLwTnP+kjQ+EvBOc/Jw1JiREM5z+/x02pXxLnPwslULmGFec/o99U2dQb5z8tJl2R3SbnP3mDX6EEKuc/ET5kwVIw5z/1VWvxxznnP5uEbHlbO+c/jRBwERZA5z9HzIEJu1fnP+36gpFOWec/OViFoXVc5z8x/ZxB/HvnP8m3oWFKguc/B6GnCSyK5z9T/qkZU43nPzcWsUnIluc/z9C1aRad5z91/7bxqZ7nPxsuuHk9oOc/wVy5AdGh5z9ni7qJZKPnP7PovJmLpuc/S6PBudms5z/Hdc0JnbznP22kzpEwvuc/XzDSKevC5z+rjdQ5EsbnPzXU3PEa0ec/NdTc8RrR5z/bAt55rtLnP9On9Rk18uc/HwX4KVz15z9rYvo5g/jnPxGR+8EW+uc/qksA4mQA6D9CBgUCswboP9rACSIBDeg/vtgQUnYW6D8ewyPSri/oP4whM7osROg/fq02UudI6D/KCjliDkzoP/p/QqKqWOg/kjpHwvhe6D/el0nSH2LoPyr1S+JGZeg/0CNNatpm6D/Cr1AClWvoPwCZVqp2c+g/psdXMgp16D98a2L6OYPoP8jIZAphhug/FCZnGoiJ6D9gg2kqr4zoP1IPbcJpkeg/8OKF6oOy6D88QIj6qrXoPy7Mi5Jluug/bLWROkfC6D9eQZXSAcfoP6qel+Ioyug/6IedigrS6D9yzqVCE93oP74rqFI64Og/yl3QYtIV6T9iGNWCIBzpP0Yw3LKVJek/7F7dOikn6T+Sjd7CvCjpP97q4NLjK+k/Kkjj4gov6T92peXyMTLpP8IC6AJZNek/wgLoAlk16T9oMemK7DbpP6Ya7zLOPuk/mKbyyohD6T8i7fqCkU7pP25K/ZK4Uek/BgUCswZY6T8GBQKzBljpP1JiBMMtW+k/+JAFS8Fc6T9KBxxjtHrpP5ZkHnPbfek/1E0kG72F6T9sCCk7C4zpPwTDLVtZkuk/nH0ye6eY6T/o2jSLzpvpPybEOjOwo+k/ciE9Q9em6T8DgVkDrMzpP/UMXZtm0ek/M/ZiQ0jZ6T9/U2VTb9zpP2NrbIPk5ek/r8hukwvp6T/tsXQ77fDpP4VseVs79+k/NYvOm7lo6j+B6NCr4GvqP4Ho0Kvga+o/c3TUQ5tw6j8LL9lj6XbqP7Fd2ut8eOo/o+ndgzd96j/vRuCTXoDqP+HS4ysZheo/hwHls6yG6j/F6upbjo7qP7d27vNIk+o/Qb32q1Ge6j9/pvxTM6bqP8sD/2Naqeo/rxsGlM+y6j9H1gq0HbnqPzliDkzYveo/35AP1Gu/6j9bYxskL8/qP63ZMTwi7eo/+TY0TEnw6j+fZTXU3PHqP+vCN+QD9eo/z9o+FHn+6j9nlUM0xwTrP7PyRUTuB+s/pX5J3KgM6z9LrUpkPA7rP+NnT4SKFOs/SWt2DI9I6z8fD4HUvlbrP2tsg+TlWes/t8mF9Axd6z9PhIoUW2PrP/Wyi5zuZOs/y1aWZB5z6z+94pn82HfrP2MRm4Rsees/CUCcDAB76z/7y5+kun/rP0cporThgus/k4akxAiG6z/f46bUL4nrP9Fvqmzqjes/eJ6r9H2P6z/E+60EpZLrP2oqr4w4lOs/wrnZrPfM6z8Ao99U2dTrP5hd5HQn2+s/5LrmhE7e6z+K6ecM4t/rP9ZG6hwJ4+s/yNLttMPn6z8UMPDE6urrP9LCQW2uV+w/ePFC9UFZ7D8COEutSmTsP/TDTkUFaew/2NtVdXpy7D9+Clf9DXTsP8pnWQ01d+w/VK5hxT2C7D9GOmVd+IbsPzjGaPWyi+w/3vRpfUaN7D/QgG0VAZLsPxzebyUolew/wgxxrbuW7D+0mHRFdpvsP6YkeN0woOw/TFN5ZcSh7D/ygXrtV6PsP8q68A35QO0/YnX1LUdH7T8IpPa12kjtPwik9rXaSO0/VAH5xQFM7T+gXvvVKE/tP+y7/eVPUu0/ORkA9nZV7T+FdgIGnljtPyulA44xWu0/UxK8bhhQ7j/5QL32q1HuP/lAvfarUe4/NejuRuCT7j816O5G4JPuP82i82Yumu4/c9H07sGb7j9z0fTuwZvuP+EvBNc/sO4/Hdc1J3Ty7j+1kTpHwvjuP6cdPt98/e4/83pA76MA7z8/2EL/ygPvPyPwSS9ADe8/b01MP2cQ7z9h2U/XIRXvPwcIUV+1Fu8/U2VTb9wZ7z+gwlV/Ax3vP+wfWI8qIO8/OH1an1Ej7z8clWHPxizvPxyVYc/GLO8/bgt457lK7z+6aHr34E3vPwbGfAcIUe8/UiN/Fy9U7z+egIEnVlfvP5AMhb8QXO8/pJmVLyJy7z+WJZnH3HbvP5Ylmcfcdu8/EvikF6CG7z8S+KQXoIbvPwSEqK9ai+8/qrKpN+6M7z/2D6xHFZDvP5w+rc+oke8/Qm2uVzyT7z+iV8HXdKzvP6JXwdd0rO8/4EDHf1a07z+a/Nh3+8vvP0Ar2v+Oze8/5lnbhyLP7z/Y5d4f3dPvPxbP5Me+2+8/Yizn1+Xe7z9GRO4HW+jvP+xy74/u6e8/3v7yJ6nu7z8c6PjPivbvP8IW+lce+O8/DnT8Z0X77z+0ov3v2PzvPwAAAAAAAPA/",
          "dtype": "f8"
         },
         "yaxis": "y"
        }
       ],
       "layout": {
        "height": 500,
        "legend": {
         "tracegroupgap": 0
        },
        "shapes": [
         {
          "line": {
           "dash": "dash"
          },
          "type": "line",
          "x0": 0,
          "x1": 1,
          "y0": 0,
          "y1": 1
         }
        ],
        "template": {
         "data": {
          "bar": [
           {
            "error_x": {
             "color": "#2a3f5f"
            },
            "error_y": {
             "color": "#2a3f5f"
            },
            "marker": {
             "line": {
              "color": "#E5ECF6",
              "width": 0.5
             },
             "pattern": {
              "fillmode": "overlay",
              "size": 10,
              "solidity": 0.2
             }
            },
            "type": "bar"
           }
          ],
          "barpolar": [
           {
            "marker": {
             "line": {
              "color": "#E5ECF6",
              "width": 0.5
             },
             "pattern": {
              "fillmode": "overlay",
              "size": 10,
              "solidity": 0.2
             }
            },
            "type": "barpolar"
           }
          ],
          "carpet": [
           {
            "aaxis": {
             "endlinecolor": "#2a3f5f",
             "gridcolor": "white",
             "linecolor": "white",
             "minorgridcolor": "white",
             "startlinecolor": "#2a3f5f"
            },
            "baxis": {
             "endlinecolor": "#2a3f5f",
             "gridcolor": "white",
             "linecolor": "white",
             "minorgridcolor": "white",
             "startlinecolor": "#2a3f5f"
            },
            "type": "carpet"
           }
          ],
          "choropleth": [
           {
            "colorbar": {
             "outlinewidth": 0,
             "ticks": ""
            },
            "type": "choropleth"
           }
          ],
          "contour": [
           {
            "colorbar": {
             "outlinewidth": 0,
             "ticks": ""
            },
            "colorscale": [
             [
              0,
              "#0d0887"
             ],
             [
              0.1111111111111111,
              "#46039f"
             ],
             [
              0.2222222222222222,
              "#7201a8"
             ],
             [
              0.3333333333333333,
              "#9c179e"
             ],
             [
              0.4444444444444444,
              "#bd3786"
             ],
             [
              0.5555555555555556,
              "#d8576b"
             ],
             [
              0.6666666666666666,
              "#ed7953"
             ],
             [
              0.7777777777777778,
              "#fb9f3a"
             ],
             [
              0.8888888888888888,
              "#fdca26"
             ],
             [
              1,
              "#f0f921"
             ]
            ],
            "type": "contour"
           }
          ],
          "contourcarpet": [
           {
            "colorbar": {
             "outlinewidth": 0,
             "ticks": ""
            },
            "type": "contourcarpet"
           }
          ],
          "heatmap": [
           {
            "colorbar": {
             "outlinewidth": 0,
             "ticks": ""
            },
            "colorscale": [
             [
              0,
              "#0d0887"
             ],
             [
              0.1111111111111111,
              "#46039f"
             ],
             [
              0.2222222222222222,
              "#7201a8"
             ],
             [
              0.3333333333333333,
              "#9c179e"
             ],
             [
              0.4444444444444444,
              "#bd3786"
             ],
             [
              0.5555555555555556,
              "#d8576b"
             ],
             [
              0.6666666666666666,
              "#ed7953"
             ],
             [
              0.7777777777777778,
              "#fb9f3a"
             ],
             [
              0.8888888888888888,
              "#fdca26"
             ],
             [
              1,
              "#f0f921"
             ]
            ],
            "type": "heatmap"
           }
          ],
          "histogram": [
           {
            "marker": {
             "pattern": {
              "fillmode": "overlay",
              "size": 10,
              "solidity": 0.2
             }
            },
            "type": "histogram"
           }
          ],
          "histogram2d": [
           {
            "colorbar": {
             "outlinewidth": 0,
             "ticks": ""
            },
            "colorscale": [
             [
              0,
              "#0d0887"
             ],
             [
              0.1111111111111111,
              "#46039f"
             ],
             [
              0.2222222222222222,
              "#7201a8"
             ],
             [
              0.3333333333333333,
              "#9c179e"
             ],
             [
              0.4444444444444444,
              "#bd3786"
             ],
             [
              0.5555555555555556,
              "#d8576b"
             ],
             [
              0.6666666666666666,
              "#ed7953"
             ],
             [
              0.7777777777777778,
              "#fb9f3a"
             ],
             [
              0.8888888888888888,
              "#fdca26"
             ],
             [
              1,
              "#f0f921"
             ]
            ],
            "type": "histogram2d"
           }
          ],
          "histogram2dcontour": [
           {
            "colorbar": {
             "outlinewidth": 0,
             "ticks": ""
            },
            "colorscale": [
             [
              0,
              "#0d0887"
             ],
             [
              0.1111111111111111,
              "#46039f"
             ],
             [
              0.2222222222222222,
              "#7201a8"
             ],
             [
              0.3333333333333333,
              "#9c179e"
             ],
             [
              0.4444444444444444,
              "#bd3786"
             ],
             [
              0.5555555555555556,
              "#d8576b"
             ],
             [
              0.6666666666666666,
              "#ed7953"
             ],
             [
              0.7777777777777778,
              "#fb9f3a"
             ],
             [
              0.8888888888888888,
              "#fdca26"
             ],
             [
              1,
              "#f0f921"
             ]
            ],
            "type": "histogram2dcontour"
           }
          ],
          "mesh3d": [
           {
            "colorbar": {
             "outlinewidth": 0,
             "ticks": ""
            },
            "type": "mesh3d"
           }
          ],
          "parcoords": [
           {
            "line": {
             "colorbar": {
              "outlinewidth": 0,
              "ticks": ""
             }
            },
            "type": "parcoords"
           }
          ],
          "pie": [
           {
            "automargin": true,
            "type": "pie"
           }
          ],
          "scatter": [
           {
            "fillpattern": {
             "fillmode": "overlay",
             "size": 10,
             "solidity": 0.2
            },
            "type": "scatter"
           }
          ],
          "scatter3d": [
           {
            "line": {
             "colorbar": {
              "outlinewidth": 0,
              "ticks": ""
             }
            },
            "marker": {
             "colorbar": {
              "outlinewidth": 0,
              "ticks": ""
             }
            },
            "type": "scatter3d"
           }
          ],
          "scattercarpet": [
           {
            "marker": {
             "colorbar": {
              "outlinewidth": 0,
              "ticks": ""
             }
            },
            "type": "scattercarpet"
           }
          ],
          "scattergeo": [
           {
            "marker": {
             "colorbar": {
              "outlinewidth": 0,
              "ticks": ""
             }
            },
            "type": "scattergeo"
           }
          ],
          "scattergl": [
           {
            "marker": {
             "colorbar": {
              "outlinewidth": 0,
              "ticks": ""
             }
            },
            "type": "scattergl"
           }
          ],
          "scattermap": [
           {
            "marker": {
             "colorbar": {
              "outlinewidth": 0,
              "ticks": ""
             }
            },
            "type": "scattermap"
           }
          ],
          "scattermapbox": [
           {
            "marker": {
             "colorbar": {
              "outlinewidth": 0,
              "ticks": ""
             }
            },
            "type": "scattermapbox"
           }
          ],
          "scatterpolar": [
           {
            "marker": {
             "colorbar": {
              "outlinewidth": 0,
              "ticks": ""
             }
            },
            "type": "scatterpolar"
           }
          ],
          "scatterpolargl": [
           {
            "marker": {
             "colorbar": {
              "outlinewidth": 0,
              "ticks": ""
             }
            },
            "type": "scatterpolargl"
           }
          ],
          "scatterternary": [
           {
            "marker": {
             "colorbar": {
              "outlinewidth": 0,
              "ticks": ""
             }
            },
            "type": "scatterternary"
           }
          ],
          "surface": [
           {
            "colorbar": {
             "outlinewidth": 0,
             "ticks": ""
            },
            "colorscale": [
             [
              0,
              "#0d0887"
             ],
             [
              0.1111111111111111,
              "#46039f"
             ],
             [
              0.2222222222222222,
              "#7201a8"
             ],
             [
              0.3333333333333333,
              "#9c179e"
             ],
             [
              0.4444444444444444,
              "#bd3786"
             ],
             [
              0.5555555555555556,
              "#d8576b"
             ],
             [
              0.6666666666666666,
              "#ed7953"
             ],
             [
              0.7777777777777778,
              "#fb9f3a"
             ],
             [
              0.8888888888888888,
              "#fdca26"
             ],
             [
              1,
              "#f0f921"
             ]
            ],
            "type": "surface"
           }
          ],
          "table": [
           {
            "cells": {
             "fill": {
              "color": "#EBF0F8"
             },
             "line": {
              "color": "white"
             }
            },
            "header": {
             "fill": {
              "color": "#C8D4E3"
             },
             "line": {
              "color": "white"
             }
            },
            "type": "table"
           }
          ]
         },
         "layout": {
          "annotationdefaults": {
           "arrowcolor": "#2a3f5f",
           "arrowhead": 0,
           "arrowwidth": 1
          },
          "autotypenumbers": "strict",
          "coloraxis": {
           "colorbar": {
            "outlinewidth": 0,
            "ticks": ""
           }
          },
          "colorscale": {
           "diverging": [
            [
             0,
             "#8e0152"
            ],
            [
             0.1,
             "#c51b7d"
            ],
            [
             0.2,
             "#de77ae"
            ],
            [
             0.3,
             "#f1b6da"
            ],
            [
             0.4,
             "#fde0ef"
            ],
            [
             0.5,
             "#f7f7f7"
            ],
            [
             0.6,
             "#e6f5d0"
            ],
            [
             0.7,
             "#b8e186"
            ],
            [
             0.8,
             "#7fbc41"
            ],
            [
             0.9,
             "#4d9221"
            ],
            [
             1,
             "#276419"
            ]
           ],
           "sequential": [
            [
             0,
             "#0d0887"
            ],
            [
             0.1111111111111111,
             "#46039f"
            ],
            [
             0.2222222222222222,
             "#7201a8"
            ],
            [
             0.3333333333333333,
             "#9c179e"
            ],
            [
             0.4444444444444444,
             "#bd3786"
            ],
            [
             0.5555555555555556,
             "#d8576b"
            ],
            [
             0.6666666666666666,
             "#ed7953"
            ],
            [
             0.7777777777777778,
             "#fb9f3a"
            ],
            [
             0.8888888888888888,
             "#fdca26"
            ],
            [
             1,
             "#f0f921"
            ]
           ],
           "sequentialminus": [
            [
             0,
             "#0d0887"
            ],
            [
             0.1111111111111111,
             "#46039f"
            ],
            [
             0.2222222222222222,
             "#7201a8"
            ],
            [
             0.3333333333333333,
             "#9c179e"
            ],
            [
             0.4444444444444444,
             "#bd3786"
            ],
            [
             0.5555555555555556,
             "#d8576b"
            ],
            [
             0.6666666666666666,
             "#ed7953"
            ],
            [
             0.7777777777777778,
             "#fb9f3a"
            ],
            [
             0.8888888888888888,
             "#fdca26"
            ],
            [
             1,
             "#f0f921"
            ]
           ]
          },
          "colorway": [
           "#636efa",
           "#EF553B",
           "#00cc96",
           "#ab63fa",
           "#FFA15A",
           "#19d3f3",
           "#FF6692",
           "#B6E880",
           "#FF97FF",
           "#FECB52"
          ],
          "font": {
           "color": "#2a3f5f"
          },
          "geo": {
           "bgcolor": "white",
           "lakecolor": "white",
           "landcolor": "#E5ECF6",
           "showlakes": true,
           "showland": true,
           "subunitcolor": "white"
          },
          "hoverlabel": {
           "align": "left"
          },
          "hovermode": "closest",
          "mapbox": {
           "style": "light"
          },
          "paper_bgcolor": "white",
          "plot_bgcolor": "#E5ECF6",
          "polar": {
           "angularaxis": {
            "gridcolor": "white",
            "linecolor": "white",
            "ticks": ""
           },
           "bgcolor": "#E5ECF6",
           "radialaxis": {
            "gridcolor": "white",
            "linecolor": "white",
            "ticks": ""
           }
          },
          "scene": {
           "xaxis": {
            "backgroundcolor": "#E5ECF6",
            "gridcolor": "white",
            "gridwidth": 2,
            "linecolor": "white",
            "showbackground": true,
            "ticks": "",
            "zerolinecolor": "white"
           },
           "yaxis": {
            "backgroundcolor": "#E5ECF6",
            "gridcolor": "white",
            "gridwidth": 2,
            "linecolor": "white",
            "showbackground": true,
            "ticks": "",
            "zerolinecolor": "white"
           },
           "zaxis": {
            "backgroundcolor": "#E5ECF6",
            "gridcolor": "white",
            "gridwidth": 2,
            "linecolor": "white",
            "showbackground": true,
            "ticks": "",
            "zerolinecolor": "white"
           }
          },
          "shapedefaults": {
           "line": {
            "color": "#2a3f5f"
           }
          },
          "ternary": {
           "aaxis": {
            "gridcolor": "white",
            "linecolor": "white",
            "ticks": ""
           },
           "baxis": {
            "gridcolor": "white",
            "linecolor": "white",
            "ticks": ""
           },
           "bgcolor": "#E5ECF6",
           "caxis": {
            "gridcolor": "white",
            "linecolor": "white",
            "ticks": ""
           }
          },
          "title": {
           "x": 0.05
          },
          "xaxis": {
           "automargin": true,
           "gridcolor": "white",
           "linecolor": "white",
           "ticks": "",
           "title": {
            "standoff": 15
           },
           "zerolinecolor": "white",
           "zerolinewidth": 2
          },
          "yaxis": {
           "automargin": true,
           "gridcolor": "white",
           "linecolor": "white",
           "ticks": "",
           "title": {
            "standoff": 15
           },
           "zerolinecolor": "white",
           "zerolinewidth": 2
          }
         }
        },
        "title": {
         "text": "Courbe ROC - xgb_best (AUC=0.7463)"
        },
        "width": 700,
        "xaxis": {
         "anchor": "y",
         "domain": [
          0,
          1
         ],
         "range": [
          0,
          1
         ],
         "title": {
          "text": "Taux de faux positifs"
         }
        },
        "yaxis": {
         "anchor": "x",
         "domain": [
          0,
          1
         ],
         "range": [
          0,
          1
         ],
         "title": {
          "text": "Taux de vrais positifs"
         }
        }
       }
      }
     },
     "metadata": {},
     "output_type": "display_data"
    },
    {
     "data": {
      "application/vnd.plotly.v1+json": {
       "config": {
        "plotlyServerURL": "https://plot.ly"
       },
       "data": [
        {
         "coloraxis": "coloraxis",
         "hovertemplate": "Prédit: %{x}<br>Réel: %{y}<br>Compte: %{z}<extra></extra>",
         "name": "0",
         "texttemplate": "%{z}",
         "type": "heatmap",
         "x": [
          "0",
          "1"
         ],
         "xaxis": "x",
         "y": [
          "0",
          "1"
         ],
         "yaxis": "y",
         "z": {
          "bdata": "AADFAAAATRQ=",
          "dtype": "i2",
          "shape": "2, 2"
         }
        }
       ],
       "layout": {
        "coloraxis": {
         "colorbar": {
          "title": {
           "text": "Compte"
          }
         },
         "colorscale": [
          [
           0,
           "rgb(247,251,255)"
          ],
          [
           0.125,
           "rgb(222,235,247)"
          ],
          [
           0.25,
           "rgb(198,219,239)"
          ],
          [
           0.375,
           "rgb(158,202,225)"
          ],
          [
           0.5,
           "rgb(107,174,214)"
          ],
          [
           0.625,
           "rgb(66,146,198)"
          ],
          [
           0.75,
           "rgb(33,113,181)"
          ],
          [
           0.875,
           "rgb(8,81,156)"
          ],
          [
           1,
           "rgb(8,48,107)"
          ]
         ]
        },
        "template": {
         "data": {
          "bar": [
           {
            "error_x": {
             "color": "#2a3f5f"
            },
            "error_y": {
             "color": "#2a3f5f"
            },
            "marker": {
             "line": {
              "color": "#E5ECF6",
              "width": 0.5
             },
             "pattern": {
              "fillmode": "overlay",
              "size": 10,
              "solidity": 0.2
             }
            },
            "type": "bar"
           }
          ],
          "barpolar": [
           {
            "marker": {
             "line": {
              "color": "#E5ECF6",
              "width": 0.5
             },
             "pattern": {
              "fillmode": "overlay",
              "size": 10,
              "solidity": 0.2
             }
            },
            "type": "barpolar"
           }
          ],
          "carpet": [
           {
            "aaxis": {
             "endlinecolor": "#2a3f5f",
             "gridcolor": "white",
             "linecolor": "white",
             "minorgridcolor": "white",
             "startlinecolor": "#2a3f5f"
            },
            "baxis": {
             "endlinecolor": "#2a3f5f",
             "gridcolor": "white",
             "linecolor": "white",
             "minorgridcolor": "white",
             "startlinecolor": "#2a3f5f"
            },
            "type": "carpet"
           }
          ],
          "choropleth": [
           {
            "colorbar": {
             "outlinewidth": 0,
             "ticks": ""
            },
            "type": "choropleth"
           }
          ],
          "contour": [
           {
            "colorbar": {
             "outlinewidth": 0,
             "ticks": ""
            },
            "colorscale": [
             [
              0,
              "#0d0887"
             ],
             [
              0.1111111111111111,
              "#46039f"
             ],
             [
              0.2222222222222222,
              "#7201a8"
             ],
             [
              0.3333333333333333,
              "#9c179e"
             ],
             [
              0.4444444444444444,
              "#bd3786"
             ],
             [
              0.5555555555555556,
              "#d8576b"
             ],
             [
              0.6666666666666666,
              "#ed7953"
             ],
             [
              0.7777777777777778,
              "#fb9f3a"
             ],
             [
              0.8888888888888888,
              "#fdca26"
             ],
             [
              1,
              "#f0f921"
             ]
            ],
            "type": "contour"
           }
          ],
          "contourcarpet": [
           {
            "colorbar": {
             "outlinewidth": 0,
             "ticks": ""
            },
            "type": "contourcarpet"
           }
          ],
          "heatmap": [
           {
            "colorbar": {
             "outlinewidth": 0,
             "ticks": ""
            },
            "colorscale": [
             [
              0,
              "#0d0887"
             ],
             [
              0.1111111111111111,
              "#46039f"
             ],
             [
              0.2222222222222222,
              "#7201a8"
             ],
             [
              0.3333333333333333,
              "#9c179e"
             ],
             [
              0.4444444444444444,
              "#bd3786"
             ],
             [
              0.5555555555555556,
              "#d8576b"
             ],
             [
              0.6666666666666666,
              "#ed7953"
             ],
             [
              0.7777777777777778,
              "#fb9f3a"
             ],
             [
              0.8888888888888888,
              "#fdca26"
             ],
             [
              1,
              "#f0f921"
             ]
            ],
            "type": "heatmap"
           }
          ],
          "histogram": [
           {
            "marker": {
             "pattern": {
              "fillmode": "overlay",
              "size": 10,
              "solidity": 0.2
             }
            },
            "type": "histogram"
           }
          ],
          "histogram2d": [
           {
            "colorbar": {
             "outlinewidth": 0,
             "ticks": ""
            },
            "colorscale": [
             [
              0,
              "#0d0887"
             ],
             [
              0.1111111111111111,
              "#46039f"
             ],
             [
              0.2222222222222222,
              "#7201a8"
             ],
             [
              0.3333333333333333,
              "#9c179e"
             ],
             [
              0.4444444444444444,
              "#bd3786"
             ],
             [
              0.5555555555555556,
              "#d8576b"
             ],
             [
              0.6666666666666666,
              "#ed7953"
             ],
             [
              0.7777777777777778,
              "#fb9f3a"
             ],
             [
              0.8888888888888888,
              "#fdca26"
             ],
             [
              1,
              "#f0f921"
             ]
            ],
            "type": "histogram2d"
           }
          ],
          "histogram2dcontour": [
           {
            "colorbar": {
             "outlinewidth": 0,
             "ticks": ""
            },
            "colorscale": [
             [
              0,
              "#0d0887"
             ],
             [
              0.1111111111111111,
              "#46039f"
             ],
             [
              0.2222222222222222,
              "#7201a8"
             ],
             [
              0.3333333333333333,
              "#9c179e"
             ],
             [
              0.4444444444444444,
              "#bd3786"
             ],
             [
              0.5555555555555556,
              "#d8576b"
             ],
             [
              0.6666666666666666,
              "#ed7953"
             ],
             [
              0.7777777777777778,
              "#fb9f3a"
             ],
             [
              0.8888888888888888,
              "#fdca26"
             ],
             [
              1,
              "#f0f921"
             ]
            ],
            "type": "histogram2dcontour"
           }
          ],
          "mesh3d": [
           {
            "colorbar": {
             "outlinewidth": 0,
             "ticks": ""
            },
            "type": "mesh3d"
           }
          ],
          "parcoords": [
           {
            "line": {
             "colorbar": {
              "outlinewidth": 0,
              "ticks": ""
             }
            },
            "type": "parcoords"
           }
          ],
          "pie": [
           {
            "automargin": true,
            "type": "pie"
           }
          ],
          "scatter": [
           {
            "fillpattern": {
             "fillmode": "overlay",
             "size": 10,
             "solidity": 0.2
            },
            "type": "scatter"
           }
          ],
          "scatter3d": [
           {
            "line": {
             "colorbar": {
              "outlinewidth": 0,
              "ticks": ""
             }
            },
            "marker": {
             "colorbar": {
              "outlinewidth": 0,
              "ticks": ""
             }
            },
            "type": "scatter3d"
           }
          ],
          "scattercarpet": [
           {
            "marker": {
             "colorbar": {
              "outlinewidth": 0,
              "ticks": ""
             }
            },
            "type": "scattercarpet"
           }
          ],
          "scattergeo": [
           {
            "marker": {
             "colorbar": {
              "outlinewidth": 0,
              "ticks": ""
             }
            },
            "type": "scattergeo"
           }
          ],
          "scattergl": [
           {
            "marker": {
             "colorbar": {
              "outlinewidth": 0,
              "ticks": ""
             }
            },
            "type": "scattergl"
           }
          ],
          "scattermap": [
           {
            "marker": {
             "colorbar": {
              "outlinewidth": 0,
              "ticks": ""
             }
            },
            "type": "scattermap"
           }
          ],
          "scattermapbox": [
           {
            "marker": {
             "colorbar": {
              "outlinewidth": 0,
              "ticks": ""
             }
            },
            "type": "scattermapbox"
           }
          ],
          "scatterpolar": [
           {
            "marker": {
             "colorbar": {
              "outlinewidth": 0,
              "ticks": ""
             }
            },
            "type": "scatterpolar"
           }
          ],
          "scatterpolargl": [
           {
            "marker": {
             "colorbar": {
              "outlinewidth": 0,
              "ticks": ""
             }
            },
            "type": "scatterpolargl"
           }
          ],
          "scatterternary": [
           {
            "marker": {
             "colorbar": {
              "outlinewidth": 0,
              "ticks": ""
             }
            },
            "type": "scatterternary"
           }
          ],
          "surface": [
           {
            "colorbar": {
             "outlinewidth": 0,
             "ticks": ""
            },
            "colorscale": [
             [
              0,
              "#0d0887"
             ],
             [
              0.1111111111111111,
              "#46039f"
             ],
             [
              0.2222222222222222,
              "#7201a8"
             ],
             [
              0.3333333333333333,
              "#9c179e"
             ],
             [
              0.4444444444444444,
              "#bd3786"
             ],
             [
              0.5555555555555556,
              "#d8576b"
             ],
             [
              0.6666666666666666,
              "#ed7953"
             ],
             [
              0.7777777777777778,
              "#fb9f3a"
             ],
             [
              0.8888888888888888,
              "#fdca26"
             ],
             [
              1,
              "#f0f921"
             ]
            ],
            "type": "surface"
           }
          ],
          "table": [
           {
            "cells": {
             "fill": {
              "color": "#EBF0F8"
             },
             "line": {
              "color": "white"
             }
            },
            "header": {
             "fill": {
              "color": "#C8D4E3"
             },
             "line": {
              "color": "white"
             }
            },
            "type": "table"
           }
          ]
         },
         "layout": {
          "annotationdefaults": {
           "arrowcolor": "#2a3f5f",
           "arrowhead": 0,
           "arrowwidth": 1
          },
          "autotypenumbers": "strict",
          "coloraxis": {
           "colorbar": {
            "outlinewidth": 0,
            "ticks": ""
           }
          },
          "colorscale": {
           "diverging": [
            [
             0,
             "#8e0152"
            ],
            [
             0.1,
             "#c51b7d"
            ],
            [
             0.2,
             "#de77ae"
            ],
            [
             0.3,
             "#f1b6da"
            ],
            [
             0.4,
             "#fde0ef"
            ],
            [
             0.5,
             "#f7f7f7"
            ],
            [
             0.6,
             "#e6f5d0"
            ],
            [
             0.7,
             "#b8e186"
            ],
            [
             0.8,
             "#7fbc41"
            ],
            [
             0.9,
             "#4d9221"
            ],
            [
             1,
             "#276419"
            ]
           ],
           "sequential": [
            [
             0,
             "#0d0887"
            ],
            [
             0.1111111111111111,
             "#46039f"
            ],
            [
             0.2222222222222222,
             "#7201a8"
            ],
            [
             0.3333333333333333,
             "#9c179e"
            ],
            [
             0.4444444444444444,
             "#bd3786"
            ],
            [
             0.5555555555555556,
             "#d8576b"
            ],
            [
             0.6666666666666666,
             "#ed7953"
            ],
            [
             0.7777777777777778,
             "#fb9f3a"
            ],
            [
             0.8888888888888888,
             "#fdca26"
            ],
            [
             1,
             "#f0f921"
            ]
           ],
           "sequentialminus": [
            [
             0,
             "#0d0887"
            ],
            [
             0.1111111111111111,
             "#46039f"
            ],
            [
             0.2222222222222222,
             "#7201a8"
            ],
            [
             0.3333333333333333,
             "#9c179e"
            ],
            [
             0.4444444444444444,
             "#bd3786"
            ],
            [
             0.5555555555555556,
             "#d8576b"
            ],
            [
             0.6666666666666666,
             "#ed7953"
            ],
            [
             0.7777777777777778,
             "#fb9f3a"
            ],
            [
             0.8888888888888888,
             "#fdca26"
            ],
            [
             1,
             "#f0f921"
            ]
           ]
          },
          "colorway": [
           "#636efa",
           "#EF553B",
           "#00cc96",
           "#ab63fa",
           "#FFA15A",
           "#19d3f3",
           "#FF6692",
           "#B6E880",
           "#FF97FF",
           "#FECB52"
          ],
          "font": {
           "color": "#2a3f5f"
          },
          "geo": {
           "bgcolor": "white",
           "lakecolor": "white",
           "landcolor": "#E5ECF6",
           "showlakes": true,
           "showland": true,
           "subunitcolor": "white"
          },
          "hoverlabel": {
           "align": "left"
          },
          "hovermode": "closest",
          "mapbox": {
           "style": "light"
          },
          "paper_bgcolor": "white",
          "plot_bgcolor": "#E5ECF6",
          "polar": {
           "angularaxis": {
            "gridcolor": "white",
            "linecolor": "white",
            "ticks": ""
           },
           "bgcolor": "#E5ECF6",
           "radialaxis": {
            "gridcolor": "white",
            "linecolor": "white",
            "ticks": ""
           }
          },
          "scene": {
           "xaxis": {
            "backgroundcolor": "#E5ECF6",
            "gridcolor": "white",
            "gridwidth": 2,
            "linecolor": "white",
            "showbackground": true,
            "ticks": "",
            "zerolinecolor": "white"
           },
           "yaxis": {
            "backgroundcolor": "#E5ECF6",
            "gridcolor": "white",
            "gridwidth": 2,
            "linecolor": "white",
            "showbackground": true,
            "ticks": "",
            "zerolinecolor": "white"
           },
           "zaxis": {
            "backgroundcolor": "#E5ECF6",
            "gridcolor": "white",
            "gridwidth": 2,
            "linecolor": "white",
            "showbackground": true,
            "ticks": "",
            "zerolinecolor": "white"
           }
          },
          "shapedefaults": {
           "line": {
            "color": "#2a3f5f"
           }
          },
          "ternary": {
           "aaxis": {
            "gridcolor": "white",
            "linecolor": "white",
            "ticks": ""
           },
           "baxis": {
            "gridcolor": "white",
            "linecolor": "white",
            "ticks": ""
           },
           "bgcolor": "#E5ECF6",
           "caxis": {
            "gridcolor": "white",
            "linecolor": "white",
            "ticks": ""
           }
          },
          "title": {
           "x": 0.05
          },
          "xaxis": {
           "automargin": true,
           "gridcolor": "white",
           "linecolor": "white",
           "ticks": "",
           "title": {
            "standoff": 15
           },
           "zerolinecolor": "white",
           "zerolinewidth": 2
          },
          "yaxis": {
           "automargin": true,
           "gridcolor": "white",
           "linecolor": "white",
           "ticks": "",
           "title": {
            "standoff": 15
           },
           "zerolinecolor": "white",
           "zerolinewidth": 2
          }
         }
        },
        "title": {
         "text": "Matrice de confusion - xgb_best (seuil 0.50)"
        },
        "xaxis": {
         "anchor": "y",
         "constrain": "domain",
         "domain": [
          0,
          1
         ],
         "scaleanchor": "y",
         "side": "top",
         "title": {
          "text": "Prédit"
         }
        },
        "yaxis": {
         "anchor": "x",
         "autorange": "reversed",
         "constrain": "domain",
         "domain": [
          0,
          1
         ],
         "title": {
          "text": "Réel"
         }
        }
       }
      }
     },
     "metadata": {},
     "output_type": "display_data"
    }
   ],
   "source": [
    "from sklearn.metrics import confusion_matrix, roc_curve\n",
    "THRESHOLD = 0.50\n",
    "print(f\"Seuil (threshold) actuel utilisé pour la décision: {THRESHOLD:.2f}\")\n",
    "\n",
    "y_score = xgb_best.predict_proba(X_test[var_model])[:, 1]\n",
    "y_pred = (y_score >= THRESHOLD).astype(int)\n",
    "\n",
    "cm = confusion_matrix(y_test, y_pred, labels=[0, 1])\n",
    "cm_df = pd.DataFrame(cm, index=['Vrai 0', 'Vrai 1'], columns=['Prédit 0', 'Prédit 1'])\n",
    "print(\"Matrice de confusion (labels: 0=Mauvais Payeur, 1=Bon Payeur):\")\n",
    "display(cm_df)\n",
    "\n",
    "fpr, tpr, _ = roc_curve(y_test, y_score)\n",
    "auc_val = roc_auc_score(y_test, y_score)\n",
    "\n",
    "roc_df = pd.DataFrame({'FPR': fpr, 'TPR': tpr})\n",
    "fig = px.area(\n",
    "    roc_df,\n",
    "    x='FPR',\n",
    "    y='TPR',\n",
    "    title=f\"Courbe ROC - xgb_best (AUC={auc_val:.4f})\",\n",
    "    labels={'FPR': 'Taux de faux positifs', 'TPR': 'Taux de vrais positifs'},\n",
    "    width=700,\n",
    "    height=500\n",
    ")\n",
    "fig.add_shape(type='line', line=dict(dash='dash'), x0=0, x1=1, y0=0, y1=1)\n",
    "fig.update_xaxes(range=[0, 1])\n",
    "fig.update_yaxes(range=[0, 1])\n",
    "fig.show()\n",
    "\n",
    "fig_cm = px.imshow(\n",
    "    cm,\n",
    "    text_auto=True,\n",
    "    color_continuous_scale='Blues',\n",
    "    labels=dict(x='Prédit', y='Réel', color='Compte'),\n",
    "    x=['0', '1'],\n",
    "    y=['0', '1'],\n",
    "    title=f\"Matrice de confusion - xgb_best (seuil {THRESHOLD:.2f})\"\n",
    ")\n",
    "fig_cm.update_xaxes(side='top')\n",
    "fig_cm.show()"
   ]
  },
  {
   "cell_type": "code",
   "execution_count": null,
   "id": "1cc1ed1e",
   "metadata": {},
   "outputs": [
    {
     "name": "stdout",
     "output_type": "stream",
     "text": [
      "Seuil utilisé: 0.915000\n",
      "Sensibilité (TPR): 0.916490 | Spécificité (TNR): 0.329949 | Précision: 0.973034 | Rappel: 0.916490\n",
      "AUC (global): 0.746255 | GINI (global): 0.492511\n",
      "AUC (au seuil): 0.623220 | GINI (au seuil): 0.246440\n"
     ]
    },
    {
     "data": {
      "text/html": [
       "<div>\n",
       "<style scoped>\n",
       "    .dataframe tbody tr th:only-of-type {\n",
       "        vertical-align: middle;\n",
       "    }\n",
       "\n",
       "    .dataframe tbody tr th {\n",
       "        vertical-align: top;\n",
       "    }\n",
       "\n",
       "    .dataframe thead th {\n",
       "        text-align: right;\n",
       "    }\n",
       "</style>\n",
       "<table border=\"1\" class=\"dataframe\">\n",
       "  <thead>\n",
       "    <tr style=\"text-align: right;\">\n",
       "      <th></th>\n",
       "      <th>Prédit 0</th>\n",
       "      <th>Prédit 1</th>\n",
       "    </tr>\n",
       "  </thead>\n",
       "  <tbody>\n",
       "    <tr>\n",
       "      <th>Vrai 0</th>\n",
       "      <td>65</td>\n",
       "      <td>132</td>\n",
       "    </tr>\n",
       "    <tr>\n",
       "      <th>Vrai 1</th>\n",
       "      <td>434</td>\n",
       "      <td>4763</td>\n",
       "    </tr>\n",
       "  </tbody>\n",
       "</table>\n",
       "</div>"
      ],
      "text/plain": [
       "        Prédit 0  Prédit 1\n",
       "Vrai 0        65       132\n",
       "Vrai 1       434      4763"
      ]
     },
     "metadata": {},
     "output_type": "display_data"
    },
    {
     "data": {
      "application/vnd.plotly.v1+json": {
       "config": {
        "plotlyServerURL": "https://plot.ly"
       },
       "data": [
        {
         "coloraxis": "coloraxis",
         "hovertemplate": "Prédit: %{x}<br>Réel: %{y}<br>Compte: %{z}<extra></extra>",
         "name": "0",
         "texttemplate": "%{z}",
         "type": "heatmap",
         "x": [
          "0",
          "1"
         ],
         "xaxis": "x",
         "y": [
          "0",
          "1"
         ],
         "yaxis": "y",
         "z": {
          "bdata": "QQCEALIBmxI=",
          "dtype": "i2",
          "shape": "2, 2"
         }
        }
       ],
       "layout": {
        "coloraxis": {
         "colorbar": {
          "title": {
           "text": "Compte"
          }
         },
         "colorscale": [
          [
           0,
           "rgb(247,251,255)"
          ],
          [
           0.125,
           "rgb(222,235,247)"
          ],
          [
           0.25,
           "rgb(198,219,239)"
          ],
          [
           0.375,
           "rgb(158,202,225)"
          ],
          [
           0.5,
           "rgb(107,174,214)"
          ],
          [
           0.625,
           "rgb(66,146,198)"
          ],
          [
           0.75,
           "rgb(33,113,181)"
          ],
          [
           0.875,
           "rgb(8,81,156)"
          ],
          [
           1,
           "rgb(8,48,107)"
          ]
         ]
        },
        "template": {
         "data": {
          "bar": [
           {
            "error_x": {
             "color": "#2a3f5f"
            },
            "error_y": {
             "color": "#2a3f5f"
            },
            "marker": {
             "line": {
              "color": "#E5ECF6",
              "width": 0.5
             },
             "pattern": {
              "fillmode": "overlay",
              "size": 10,
              "solidity": 0.2
             }
            },
            "type": "bar"
           }
          ],
          "barpolar": [
           {
            "marker": {
             "line": {
              "color": "#E5ECF6",
              "width": 0.5
             },
             "pattern": {
              "fillmode": "overlay",
              "size": 10,
              "solidity": 0.2
             }
            },
            "type": "barpolar"
           }
          ],
          "carpet": [
           {
            "aaxis": {
             "endlinecolor": "#2a3f5f",
             "gridcolor": "white",
             "linecolor": "white",
             "minorgridcolor": "white",
             "startlinecolor": "#2a3f5f"
            },
            "baxis": {
             "endlinecolor": "#2a3f5f",
             "gridcolor": "white",
             "linecolor": "white",
             "minorgridcolor": "white",
             "startlinecolor": "#2a3f5f"
            },
            "type": "carpet"
           }
          ],
          "choropleth": [
           {
            "colorbar": {
             "outlinewidth": 0,
             "ticks": ""
            },
            "type": "choropleth"
           }
          ],
          "contour": [
           {
            "colorbar": {
             "outlinewidth": 0,
             "ticks": ""
            },
            "colorscale": [
             [
              0,
              "#0d0887"
             ],
             [
              0.1111111111111111,
              "#46039f"
             ],
             [
              0.2222222222222222,
              "#7201a8"
             ],
             [
              0.3333333333333333,
              "#9c179e"
             ],
             [
              0.4444444444444444,
              "#bd3786"
             ],
             [
              0.5555555555555556,
              "#d8576b"
             ],
             [
              0.6666666666666666,
              "#ed7953"
             ],
             [
              0.7777777777777778,
              "#fb9f3a"
             ],
             [
              0.8888888888888888,
              "#fdca26"
             ],
             [
              1,
              "#f0f921"
             ]
            ],
            "type": "contour"
           }
          ],
          "contourcarpet": [
           {
            "colorbar": {
             "outlinewidth": 0,
             "ticks": ""
            },
            "type": "contourcarpet"
           }
          ],
          "heatmap": [
           {
            "colorbar": {
             "outlinewidth": 0,
             "ticks": ""
            },
            "colorscale": [
             [
              0,
              "#0d0887"
             ],
             [
              0.1111111111111111,
              "#46039f"
             ],
             [
              0.2222222222222222,
              "#7201a8"
             ],
             [
              0.3333333333333333,
              "#9c179e"
             ],
             [
              0.4444444444444444,
              "#bd3786"
             ],
             [
              0.5555555555555556,
              "#d8576b"
             ],
             [
              0.6666666666666666,
              "#ed7953"
             ],
             [
              0.7777777777777778,
              "#fb9f3a"
             ],
             [
              0.8888888888888888,
              "#fdca26"
             ],
             [
              1,
              "#f0f921"
             ]
            ],
            "type": "heatmap"
           }
          ],
          "histogram": [
           {
            "marker": {
             "pattern": {
              "fillmode": "overlay",
              "size": 10,
              "solidity": 0.2
             }
            },
            "type": "histogram"
           }
          ],
          "histogram2d": [
           {
            "colorbar": {
             "outlinewidth": 0,
             "ticks": ""
            },
            "colorscale": [
             [
              0,
              "#0d0887"
             ],
             [
              0.1111111111111111,
              "#46039f"
             ],
             [
              0.2222222222222222,
              "#7201a8"
             ],
             [
              0.3333333333333333,
              "#9c179e"
             ],
             [
              0.4444444444444444,
              "#bd3786"
             ],
             [
              0.5555555555555556,
              "#d8576b"
             ],
             [
              0.6666666666666666,
              "#ed7953"
             ],
             [
              0.7777777777777778,
              "#fb9f3a"
             ],
             [
              0.8888888888888888,
              "#fdca26"
             ],
             [
              1,
              "#f0f921"
             ]
            ],
            "type": "histogram2d"
           }
          ],
          "histogram2dcontour": [
           {
            "colorbar": {
             "outlinewidth": 0,
             "ticks": ""
            },
            "colorscale": [
             [
              0,
              "#0d0887"
             ],
             [
              0.1111111111111111,
              "#46039f"
             ],
             [
              0.2222222222222222,
              "#7201a8"
             ],
             [
              0.3333333333333333,
              "#9c179e"
             ],
             [
              0.4444444444444444,
              "#bd3786"
             ],
             [
              0.5555555555555556,
              "#d8576b"
             ],
             [
              0.6666666666666666,
              "#ed7953"
             ],
             [
              0.7777777777777778,
              "#fb9f3a"
             ],
             [
              0.8888888888888888,
              "#fdca26"
             ],
             [
              1,
              "#f0f921"
             ]
            ],
            "type": "histogram2dcontour"
           }
          ],
          "mesh3d": [
           {
            "colorbar": {
             "outlinewidth": 0,
             "ticks": ""
            },
            "type": "mesh3d"
           }
          ],
          "parcoords": [
           {
            "line": {
             "colorbar": {
              "outlinewidth": 0,
              "ticks": ""
             }
            },
            "type": "parcoords"
           }
          ],
          "pie": [
           {
            "automargin": true,
            "type": "pie"
           }
          ],
          "scatter": [
           {
            "fillpattern": {
             "fillmode": "overlay",
             "size": 10,
             "solidity": 0.2
            },
            "type": "scatter"
           }
          ],
          "scatter3d": [
           {
            "line": {
             "colorbar": {
              "outlinewidth": 0,
              "ticks": ""
             }
            },
            "marker": {
             "colorbar": {
              "outlinewidth": 0,
              "ticks": ""
             }
            },
            "type": "scatter3d"
           }
          ],
          "scattercarpet": [
           {
            "marker": {
             "colorbar": {
              "outlinewidth": 0,
              "ticks": ""
             }
            },
            "type": "scattercarpet"
           }
          ],
          "scattergeo": [
           {
            "marker": {
             "colorbar": {
              "outlinewidth": 0,
              "ticks": ""
             }
            },
            "type": "scattergeo"
           }
          ],
          "scattergl": [
           {
            "marker": {
             "colorbar": {
              "outlinewidth": 0,
              "ticks": ""
             }
            },
            "type": "scattergl"
           }
          ],
          "scattermap": [
           {
            "marker": {
             "colorbar": {
              "outlinewidth": 0,
              "ticks": ""
             }
            },
            "type": "scattermap"
           }
          ],
          "scattermapbox": [
           {
            "marker": {
             "colorbar": {
              "outlinewidth": 0,
              "ticks": ""
             }
            },
            "type": "scattermapbox"
           }
          ],
          "scatterpolar": [
           {
            "marker": {
             "colorbar": {
              "outlinewidth": 0,
              "ticks": ""
             }
            },
            "type": "scatterpolar"
           }
          ],
          "scatterpolargl": [
           {
            "marker": {
             "colorbar": {
              "outlinewidth": 0,
              "ticks": ""
             }
            },
            "type": "scatterpolargl"
           }
          ],
          "scatterternary": [
           {
            "marker": {
             "colorbar": {
              "outlinewidth": 0,
              "ticks": ""
             }
            },
            "type": "scatterternary"
           }
          ],
          "surface": [
           {
            "colorbar": {
             "outlinewidth": 0,
             "ticks": ""
            },
            "colorscale": [
             [
              0,
              "#0d0887"
             ],
             [
              0.1111111111111111,
              "#46039f"
             ],
             [
              0.2222222222222222,
              "#7201a8"
             ],
             [
              0.3333333333333333,
              "#9c179e"
             ],
             [
              0.4444444444444444,
              "#bd3786"
             ],
             [
              0.5555555555555556,
              "#d8576b"
             ],
             [
              0.6666666666666666,
              "#ed7953"
             ],
             [
              0.7777777777777778,
              "#fb9f3a"
             ],
             [
              0.8888888888888888,
              "#fdca26"
             ],
             [
              1,
              "#f0f921"
             ]
            ],
            "type": "surface"
           }
          ],
          "table": [
           {
            "cells": {
             "fill": {
              "color": "#EBF0F8"
             },
             "line": {
              "color": "white"
             }
            },
            "header": {
             "fill": {
              "color": "#C8D4E3"
             },
             "line": {
              "color": "white"
             }
            },
            "type": "table"
           }
          ]
         },
         "layout": {
          "annotationdefaults": {
           "arrowcolor": "#2a3f5f",
           "arrowhead": 0,
           "arrowwidth": 1
          },
          "autotypenumbers": "strict",
          "coloraxis": {
           "colorbar": {
            "outlinewidth": 0,
            "ticks": ""
           }
          },
          "colorscale": {
           "diverging": [
            [
             0,
             "#8e0152"
            ],
            [
             0.1,
             "#c51b7d"
            ],
            [
             0.2,
             "#de77ae"
            ],
            [
             0.3,
             "#f1b6da"
            ],
            [
             0.4,
             "#fde0ef"
            ],
            [
             0.5,
             "#f7f7f7"
            ],
            [
             0.6,
             "#e6f5d0"
            ],
            [
             0.7,
             "#b8e186"
            ],
            [
             0.8,
             "#7fbc41"
            ],
            [
             0.9,
             "#4d9221"
            ],
            [
             1,
             "#276419"
            ]
           ],
           "sequential": [
            [
             0,
             "#0d0887"
            ],
            [
             0.1111111111111111,
             "#46039f"
            ],
            [
             0.2222222222222222,
             "#7201a8"
            ],
            [
             0.3333333333333333,
             "#9c179e"
            ],
            [
             0.4444444444444444,
             "#bd3786"
            ],
            [
             0.5555555555555556,
             "#d8576b"
            ],
            [
             0.6666666666666666,
             "#ed7953"
            ],
            [
             0.7777777777777778,
             "#fb9f3a"
            ],
            [
             0.8888888888888888,
             "#fdca26"
            ],
            [
             1,
             "#f0f921"
            ]
           ],
           "sequentialminus": [
            [
             0,
             "#0d0887"
            ],
            [
             0.1111111111111111,
             "#46039f"
            ],
            [
             0.2222222222222222,
             "#7201a8"
            ],
            [
             0.3333333333333333,
             "#9c179e"
            ],
            [
             0.4444444444444444,
             "#bd3786"
            ],
            [
             0.5555555555555556,
             "#d8576b"
            ],
            [
             0.6666666666666666,
             "#ed7953"
            ],
            [
             0.7777777777777778,
             "#fb9f3a"
            ],
            [
             0.8888888888888888,
             "#fdca26"
            ],
            [
             1,
             "#f0f921"
            ]
           ]
          },
          "colorway": [
           "#636efa",
           "#EF553B",
           "#00cc96",
           "#ab63fa",
           "#FFA15A",
           "#19d3f3",
           "#FF6692",
           "#B6E880",
           "#FF97FF",
           "#FECB52"
          ],
          "font": {
           "color": "#2a3f5f"
          },
          "geo": {
           "bgcolor": "white",
           "lakecolor": "white",
           "landcolor": "#E5ECF6",
           "showlakes": true,
           "showland": true,
           "subunitcolor": "white"
          },
          "hoverlabel": {
           "align": "left"
          },
          "hovermode": "closest",
          "mapbox": {
           "style": "light"
          },
          "paper_bgcolor": "white",
          "plot_bgcolor": "#E5ECF6",
          "polar": {
           "angularaxis": {
            "gridcolor": "white",
            "linecolor": "white",
            "ticks": ""
           },
           "bgcolor": "#E5ECF6",
           "radialaxis": {
            "gridcolor": "white",
            "linecolor": "white",
            "ticks": ""
           }
          },
          "scene": {
           "xaxis": {
            "backgroundcolor": "#E5ECF6",
            "gridcolor": "white",
            "gridwidth": 2,
            "linecolor": "white",
            "showbackground": true,
            "ticks": "",
            "zerolinecolor": "white"
           },
           "yaxis": {
            "backgroundcolor": "#E5ECF6",
            "gridcolor": "white",
            "gridwidth": 2,
            "linecolor": "white",
            "showbackground": true,
            "ticks": "",
            "zerolinecolor": "white"
           },
           "zaxis": {
            "backgroundcolor": "#E5ECF6",
            "gridcolor": "white",
            "gridwidth": 2,
            "linecolor": "white",
            "showbackground": true,
            "ticks": "",
            "zerolinecolor": "white"
           }
          },
          "shapedefaults": {
           "line": {
            "color": "#2a3f5f"
           }
          },
          "ternary": {
           "aaxis": {
            "gridcolor": "white",
            "linecolor": "white",
            "ticks": ""
           },
           "baxis": {
            "gridcolor": "white",
            "linecolor": "white",
            "ticks": ""
           },
           "bgcolor": "#E5ECF6",
           "caxis": {
            "gridcolor": "white",
            "linecolor": "white",
            "ticks": ""
           }
          },
          "title": {
           "x": 0.05
          },
          "xaxis": {
           "automargin": true,
           "gridcolor": "white",
           "linecolor": "white",
           "ticks": "",
           "title": {
            "standoff": 15
           },
           "zerolinecolor": "white",
           "zerolinewidth": 2
          },
          "yaxis": {
           "automargin": true,
           "gridcolor": "white",
           "linecolor": "white",
           "ticks": "",
           "title": {
            "standoff": 15
           },
           "zerolinecolor": "white",
           "zerolinewidth": 2
          }
         }
        },
        "title": {
         "text": "Matrice de confusion (seuil 0.915000)"
        },
        "xaxis": {
         "anchor": "y",
         "constrain": "domain",
         "domain": [
          0,
          1
         ],
         "scaleanchor": "y",
         "side": "top",
         "title": {
          "text": "Prédit"
         }
        },
        "yaxis": {
         "anchor": "x",
         "autorange": "reversed",
         "constrain": "domain",
         "domain": [
          0,
          1
         ],
         "title": {
          "text": "Réel"
         }
        }
       }
      }
     },
     "metadata": {},
     "output_type": "display_data"
    }
   ],
   "source": [
    "# Choix seuil\n",
    "THRESHOLD = 0.915\n",
    "\n",
    "# Prédictions au seuil choisi\n",
    "y_pred_thresh = (y_score >= THRESHOLD).astype(int)\n",
    "\n",
    "cm = confusion_matrix(y_test, y_pred_thresh, labels=[0, 1])\n",
    "cm_df = pd.DataFrame(cm, index=['Vrai 0', 'Vrai 1'], columns=['Prédit 0', 'Prédit 1'])\n",
    "\n",
    "tn, fp, fn, tp = cm.ravel()\n",
    "tpr = tp / (tp + fn) if (tp + fn) > 0 else np.nan   # sensibilité\n",
    "tnr = tn / (tn + fp) if (tn + fp) > 0 else np.nan   # spécificité\n",
    "prec = precision_score(y_test, y_pred_thresh)\n",
    "rec = recall_score(y_test, y_pred_thresh)\n",
    "auc_global = roc_auc_score(y_test, y_score)\n",
    "gini_global = gini_from_auc(auc_global)\n",
    "\n",
    "auc_at_thresh = roc_auc_score(y_test, y_pred_thresh)\n",
    "gini_at_thresh = gini_from_auc(auc_at_thresh)\n",
    "\n",
    "print(f\"Seuil utilisé: {THRESHOLD:.6f}\")\n",
    "print(f\"Sensibilité (TPR): {tpr:.6f} | Spécificité (TNR): {tnr:.6f} | \"\n",
    "    f\"Précision: {prec:.6f} | Rappel: {rec:.6f}\")\n",
    "print(f\"AUC (global): {auc_global:.6f} | GINI (global): {gini_global:.6f}\")\n",
    "print(f\"AUC (au seuil): {auc_at_thresh:.6f} | GINI (au seuil): {gini_at_thresh:.6f}\")\n",
    "\n",
    "display(cm_df)\n",
    "\n",
    "fig_cm = px.imshow(\n",
    "    cm,\n",
    "    text_auto=True,\n",
    "    color_continuous_scale='Blues',\n",
    "    labels=dict(x='Prédit', y='Réel', color='Compte'),\n",
    "    x=['0', '1'],\n",
    "    y=['0', '1'],\n",
    "    title=f\"Matrice de confusion (seuil {THRESHOLD:.6f})\"\n",
    ")\n",
    "fig_cm.update_xaxes(side='top')\n",
    "fig_cm.show()"
   ]
  },
  {
   "cell_type": "markdown",
   "id": "66ef7fd6",
   "metadata": {},
   "source": [
    "### AUC / GINI / PSI"
   ]
  },
  {
   "cell_type": "code",
   "execution_count": null,
   "id": "9af48d2f",
   "metadata": {},
   "outputs": [
    {
     "name": "stdout",
     "output_type": "stream",
     "text": [
      "XGB (final) - Precision: 0.9635 | Recall: 1.0000 | AUC: 0.7463 | GINI: 0.4925 | PSI: 0.002153\n"
     ]
    }
   ],
   "source": [
    "y_proba_xgb = xgb_best.predict_proba(X_test)[:, 1]\n",
    "y_pred_xgb = xgb_best.predict(X_test)\n",
    "\n",
    "auc_xgb = roc_auc_score(y_test, y_proba_xgb)\n",
    "gini_xgb = gini_from_auc(auc_xgb)\n",
    "precision_xgb = precision_score(y_test, y_pred_xgb)\n",
    "recall_xgb = recall_score(y_test, y_pred_xgb)\n",
    "\n",
    "p_train_xgb = xgb_best.predict_proba(X_train)[:, 1]\n",
    "psi_xgb = compute_psi(p_train_xgb, y_proba_xgb, n_bins=10)\n",
    "\n",
    "print(f\"XGB (final) - Precision: {precision_xgb:.4f} | Recall: {recall_xgb:.4f} | AUC: {auc_xgb:.4f} | GINI: {gini_xgb:.4f} | PSI: {psi_xgb:.6f}\")"
   ]
  },
  {
   "cell_type": "markdown",
   "id": "8a2f0c03",
   "metadata": {},
   "source": [
    "### PFI Train"
   ]
  },
  {
   "cell_type": "code",
   "execution_count": null,
   "id": "3fac18b6",
   "metadata": {},
   "outputs": [
    {
     "name": "stdout",
     "output_type": "stream",
     "text": [
      "Permutation Feature Importance ((xgb_best), avec IC 95%) :\n"
     ]
    },
    {
     "data": {
      "text/html": [
       "<div>\n",
       "<style scoped>\n",
       "    .dataframe tbody tr th:only-of-type {\n",
       "        vertical-align: middle;\n",
       "    }\n",
       "\n",
       "    .dataframe tbody tr th {\n",
       "        vertical-align: top;\n",
       "    }\n",
       "\n",
       "    .dataframe thead th {\n",
       "        text-align: right;\n",
       "    }\n",
       "</style>\n",
       "<table border=\"1\" class=\"dataframe\">\n",
       "  <thead>\n",
       "    <tr style=\"text-align: right;\">\n",
       "      <th></th>\n",
       "      <th>feature</th>\n",
       "      <th>importance_mean</th>\n",
       "      <th>importance_std</th>\n",
       "      <th>q025</th>\n",
       "      <th>q975</th>\n",
       "      <th>err_plus</th>\n",
       "      <th>err_minus</th>\n",
       "    </tr>\n",
       "  </thead>\n",
       "  <tbody>\n",
       "    <tr>\n",
       "      <th>0</th>\n",
       "      <td>Charge</td>\n",
       "      <td>0.025253</td>\n",
       "      <td>0.003562</td>\n",
       "      <td>0.018001</td>\n",
       "      <td>0.030894</td>\n",
       "      <td>0.005640</td>\n",
       "      <td>0.007252</td>\n",
       "    </tr>\n",
       "    <tr>\n",
       "      <th>1</th>\n",
       "      <td>Ressource</td>\n",
       "      <td>0.022570</td>\n",
       "      <td>0.003334</td>\n",
       "      <td>0.015371</td>\n",
       "      <td>0.028043</td>\n",
       "      <td>0.005472</td>\n",
       "      <td>0.007200</td>\n",
       "    </tr>\n",
       "    <tr>\n",
       "      <th>2</th>\n",
       "      <td>MCLFCHAB1_P</td>\n",
       "      <td>0.020538</td>\n",
       "      <td>0.003887</td>\n",
       "      <td>0.014356</td>\n",
       "      <td>0.027871</td>\n",
       "      <td>0.007333</td>\n",
       "      <td>0.006182</td>\n",
       "    </tr>\n",
       "    <tr>\n",
       "      <th>3</th>\n",
       "      <td>MCLFCSITFAM_M</td>\n",
       "      <td>0.019412</td>\n",
       "      <td>0.003783</td>\n",
       "      <td>0.013765</td>\n",
       "      <td>0.026127</td>\n",
       "      <td>0.006715</td>\n",
       "      <td>0.005647</td>\n",
       "    </tr>\n",
       "    <tr>\n",
       "      <th>4</th>\n",
       "      <td>Age_Tit</td>\n",
       "      <td>0.018141</td>\n",
       "      <td>0.003018</td>\n",
       "      <td>0.012959</td>\n",
       "      <td>0.022793</td>\n",
       "      <td>0.004652</td>\n",
       "      <td>0.005182</td>\n",
       "    </tr>\n",
       "    <tr>\n",
       "      <th>5</th>\n",
       "      <td>ZCOM_SR_CL_MIMPOTS</td>\n",
       "      <td>0.017221</td>\n",
       "      <td>0.003142</td>\n",
       "      <td>0.012178</td>\n",
       "      <td>0.022856</td>\n",
       "      <td>0.005635</td>\n",
       "      <td>0.005043</td>\n",
       "    </tr>\n",
       "    <tr>\n",
       "      <th>6</th>\n",
       "      <td>Ancbanc_Tit</td>\n",
       "      <td>0.013395</td>\n",
       "      <td>0.002163</td>\n",
       "      <td>0.009543</td>\n",
       "      <td>0.017875</td>\n",
       "      <td>0.004479</td>\n",
       "      <td>0.003853</td>\n",
       "    </tr>\n",
       "    <tr>\n",
       "      <th>7</th>\n",
       "      <td>Ancien_Banc_Tit</td>\n",
       "      <td>0.013021</td>\n",
       "      <td>0.002185</td>\n",
       "      <td>0.008683</td>\n",
       "      <td>0.017101</td>\n",
       "      <td>0.004080</td>\n",
       "      <td>0.004337</td>\n",
       "    </tr>\n",
       "    <tr>\n",
       "      <th>8</th>\n",
       "      <td>CSP_Tit_others</td>\n",
       "      <td>0.008328</td>\n",
       "      <td>0.001046</td>\n",
       "      <td>0.005959</td>\n",
       "      <td>0.009764</td>\n",
       "      <td>0.001436</td>\n",
       "      <td>0.002369</td>\n",
       "    </tr>\n",
       "    <tr>\n",
       "      <th>9</th>\n",
       "      <td>Ancien_Prof_Tit</td>\n",
       "      <td>0.007028</td>\n",
       "      <td>0.001428</td>\n",
       "      <td>0.004618</td>\n",
       "      <td>0.009664</td>\n",
       "      <td>0.002636</td>\n",
       "      <td>0.002411</td>\n",
       "    </tr>\n",
       "    <tr>\n",
       "      <th>10</th>\n",
       "      <td>Mrev_Tit</td>\n",
       "      <td>0.006140</td>\n",
       "      <td>0.001397</td>\n",
       "      <td>0.003937</td>\n",
       "      <td>0.009052</td>\n",
       "      <td>0.002912</td>\n",
       "      <td>0.002203</td>\n",
       "    </tr>\n",
       "    <tr>\n",
       "      <th>11</th>\n",
       "      <td>MCLFCHAB1_L</td>\n",
       "      <td>0.005949</td>\n",
       "      <td>0.001606</td>\n",
       "      <td>0.003087</td>\n",
       "      <td>0.009122</td>\n",
       "      <td>0.003173</td>\n",
       "      <td>0.002862</td>\n",
       "    </tr>\n",
       "    <tr>\n",
       "      <th>12</th>\n",
       "      <td>Ratio_Ress_RAV</td>\n",
       "      <td>0.003015</td>\n",
       "      <td>0.000943</td>\n",
       "      <td>0.001350</td>\n",
       "      <td>0.005048</td>\n",
       "      <td>0.002033</td>\n",
       "      <td>0.001665</td>\n",
       "    </tr>\n",
       "    <tr>\n",
       "      <th>13</th>\n",
       "      <td>MCLFCHAB1_others</td>\n",
       "      <td>0.002900</td>\n",
       "      <td>0.000929</td>\n",
       "      <td>0.001638</td>\n",
       "      <td>0.004735</td>\n",
       "      <td>0.001835</td>\n",
       "      <td>0.001263</td>\n",
       "    </tr>\n",
       "    <tr>\n",
       "      <th>14</th>\n",
       "      <td>RAV</td>\n",
       "      <td>0.002230</td>\n",
       "      <td>0.000616</td>\n",
       "      <td>0.001018</td>\n",
       "      <td>0.003196</td>\n",
       "      <td>0.000966</td>\n",
       "      <td>0.001212</td>\n",
       "    </tr>\n",
       "    <tr>\n",
       "      <th>15</th>\n",
       "      <td>RAV_Rev</td>\n",
       "      <td>0.001216</td>\n",
       "      <td>0.000659</td>\n",
       "      <td>-0.000026</td>\n",
       "      <td>0.002157</td>\n",
       "      <td>0.000942</td>\n",
       "      <td>0.001242</td>\n",
       "    </tr>\n",
       "    <tr>\n",
       "      <th>16</th>\n",
       "      <td>CSP_Tit_worker</td>\n",
       "      <td>0.000870</td>\n",
       "      <td>0.000460</td>\n",
       "      <td>-0.000091</td>\n",
       "      <td>0.001427</td>\n",
       "      <td>0.000557</td>\n",
       "      <td>0.000960</td>\n",
       "    </tr>\n",
       "    <tr>\n",
       "      <th>17</th>\n",
       "      <td>Tx_Edt</td>\n",
       "      <td>0.000763</td>\n",
       "      <td>0.000338</td>\n",
       "      <td>0.000097</td>\n",
       "      <td>0.001392</td>\n",
       "      <td>0.000630</td>\n",
       "      <td>0.000666</td>\n",
       "    </tr>\n",
       "    <tr>\n",
       "      <th>18</th>\n",
       "      <td>CSP_Tit_Managerial position</td>\n",
       "      <td>0.000731</td>\n",
       "      <td>0.000437</td>\n",
       "      <td>0.000070</td>\n",
       "      <td>0.001410</td>\n",
       "      <td>0.000678</td>\n",
       "      <td>0.000661</td>\n",
       "    </tr>\n",
       "    <tr>\n",
       "      <th>19</th>\n",
       "      <td>MCLFCHAB1_F</td>\n",
       "      <td>0.000401</td>\n",
       "      <td>0.000297</td>\n",
       "      <td>-0.000157</td>\n",
       "      <td>0.000862</td>\n",
       "      <td>0.000461</td>\n",
       "      <td>0.000558</td>\n",
       "    </tr>\n",
       "    <tr>\n",
       "      <th>20</th>\n",
       "      <td>MCLFCSITFAM_K</td>\n",
       "      <td>0.000000</td>\n",
       "      <td>0.000000</td>\n",
       "      <td>0.000000</td>\n",
       "      <td>0.000000</td>\n",
       "      <td>0.000000</td>\n",
       "      <td>0.000000</td>\n",
       "    </tr>\n",
       "    <tr>\n",
       "      <th>21</th>\n",
       "      <td>MCLFCSITFAM_others</td>\n",
       "      <td>0.000000</td>\n",
       "      <td>0.000000</td>\n",
       "      <td>0.000000</td>\n",
       "      <td>0.000000</td>\n",
       "      <td>0.000000</td>\n",
       "      <td>0.000000</td>\n",
       "    </tr>\n",
       "    <tr>\n",
       "      <th>22</th>\n",
       "      <td>CSP_Tit_Retired</td>\n",
       "      <td>0.000000</td>\n",
       "      <td>0.000000</td>\n",
       "      <td>0.000000</td>\n",
       "      <td>0.000000</td>\n",
       "      <td>0.000000</td>\n",
       "      <td>0.000000</td>\n",
       "    </tr>\n",
       "  </tbody>\n",
       "</table>\n",
       "</div>"
      ],
      "text/plain": [
       "                        feature  importance_mean  importance_std      q025  \\\n",
       "0                        Charge         0.025253        0.003562  0.018001   \n",
       "1                     Ressource         0.022570        0.003334  0.015371   \n",
       "2                   MCLFCHAB1_P         0.020538        0.003887  0.014356   \n",
       "3                 MCLFCSITFAM_M         0.019412        0.003783  0.013765   \n",
       "4                       Age_Tit         0.018141        0.003018  0.012959   \n",
       "5            ZCOM_SR_CL_MIMPOTS         0.017221        0.003142  0.012178   \n",
       "6                   Ancbanc_Tit         0.013395        0.002163  0.009543   \n",
       "7               Ancien_Banc_Tit         0.013021        0.002185  0.008683   \n",
       "8                CSP_Tit_others         0.008328        0.001046  0.005959   \n",
       "9               Ancien_Prof_Tit         0.007028        0.001428  0.004618   \n",
       "10                     Mrev_Tit         0.006140        0.001397  0.003937   \n",
       "11                  MCLFCHAB1_L         0.005949        0.001606  0.003087   \n",
       "12               Ratio_Ress_RAV         0.003015        0.000943  0.001350   \n",
       "13             MCLFCHAB1_others         0.002900        0.000929  0.001638   \n",
       "14                          RAV         0.002230        0.000616  0.001018   \n",
       "15                      RAV_Rev         0.001216        0.000659 -0.000026   \n",
       "16               CSP_Tit_worker         0.000870        0.000460 -0.000091   \n",
       "17                       Tx_Edt         0.000763        0.000338  0.000097   \n",
       "18  CSP_Tit_Managerial position         0.000731        0.000437  0.000070   \n",
       "19                  MCLFCHAB1_F         0.000401        0.000297 -0.000157   \n",
       "20                MCLFCSITFAM_K         0.000000        0.000000  0.000000   \n",
       "21           MCLFCSITFAM_others         0.000000        0.000000  0.000000   \n",
       "22              CSP_Tit_Retired         0.000000        0.000000  0.000000   \n",
       "\n",
       "        q975  err_plus  err_minus  \n",
       "0   0.030894  0.005640   0.007252  \n",
       "1   0.028043  0.005472   0.007200  \n",
       "2   0.027871  0.007333   0.006182  \n",
       "3   0.026127  0.006715   0.005647  \n",
       "4   0.022793  0.004652   0.005182  \n",
       "5   0.022856  0.005635   0.005043  \n",
       "6   0.017875  0.004479   0.003853  \n",
       "7   0.017101  0.004080   0.004337  \n",
       "8   0.009764  0.001436   0.002369  \n",
       "9   0.009664  0.002636   0.002411  \n",
       "10  0.009052  0.002912   0.002203  \n",
       "11  0.009122  0.003173   0.002862  \n",
       "12  0.005048  0.002033   0.001665  \n",
       "13  0.004735  0.001835   0.001263  \n",
       "14  0.003196  0.000966   0.001212  \n",
       "15  0.002157  0.000942   0.001242  \n",
       "16  0.001427  0.000557   0.000960  \n",
       "17  0.001392  0.000630   0.000666  \n",
       "18  0.001410  0.000678   0.000661  \n",
       "19  0.000862  0.000461   0.000558  \n",
       "20  0.000000  0.000000   0.000000  \n",
       "21  0.000000  0.000000   0.000000  \n",
       "22  0.000000  0.000000   0.000000  "
      ]
     },
     "metadata": {},
     "output_type": "display_data"
    },
    {
     "data": {
      "application/vnd.plotly.v1+json": {
       "config": {
        "plotlyServerURL": "https://plot.ly"
       },
       "data": [
        {
         "error_x": {
          "array": {
           "bdata": "XJAlWUcadz8seyetBWp2P+BYy3zECH4/JG94rt2Aez9YX1/COg5zP/hunlI6FHc/WCX+belYcj+EWJbkWrZwP5iDWbyXhVc/Rop8v2OYZT+SQ/M/DdpnP/7g5VI6/2k/GDHvXXOnYD8s0MLViQ9ePxCsAd5lqk8/FNVfnmraTj8ai3qxC0RCP83DpjgvokQ/Kf7pP6k6Rj8z70eJzDs+PwAAAAAAAAAAAAAAAAAAAAAAAAAAAAAAAA==",
           "dtype": "f8"
          },
          "arrayminus": {
           "bdata": "yPh0lmS0fT8Qsc99in19P6A1jnmlUnk/3Mismaohdz9g7USCwDl1P3LuGwICqHQ/wPH2U52Pbz9eddDNEcRxP0bdRbGzaGM/uq4DWzi/Yz8GDSbjiwxiP2d/thU7cWc/c3vOIFFHWz/mazedTbBUP9oA78Ff2lM/jTsS+LVYVD9NKXNcNXhPPwCe8CQx0kU/M4ChDVqoRT+A1mjNOkhCPwAAAAAAAAAAAAAAAAAAAAAAAAAAAAAAAA==",
           "dtype": "f8"
          }
         },
         "hovertemplate": "importance_mean=%{x}<br>feature=%{y}<extra></extra>",
         "legendgroup": "",
         "marker": {
          "color": "#636efa",
          "pattern": {
           "shape": ""
          }
         },
         "name": "",
         "orientation": "h",
         "showlegend": false,
         "textposition": "auto",
         "type": "bar",
         "x": {
          "bdata": "c/nUzgbcmT/HeuPotByXP8QIxaABCJU/nEOALrbgkz/p5q6of5OSP7e0ZJpuopE/IvYPpfJuiz9an2ynhKqKPzt+XyB4DoE/I5VcX3fJfD9TzY/HayZ5P41EP/WtXXg/wM5xf3izaD8gj0I+acJnP83R6uYYRGI/Wpv00D3rUz+a7w8vXoBMP7PCN1nv/Eg/M1V3V7z1Rz8zxs804Ug6PwAAAAAAAAAAAAAAAAAAAAAAAAAAAAAAAA==",
          "dtype": "f8"
         },
         "xaxis": "x",
         "y": [
          "Charge",
          "Ressource",
          "MCLFCHAB1_P",
          "MCLFCSITFAM_M",
          "Age_Tit",
          "ZCOM_SR_CL_MIMPOTS",
          "Ancbanc_Tit",
          "Ancien_Banc_Tit",
          "CSP_Tit_others",
          "Ancien_Prof_Tit",
          "Mrev_Tit",
          "MCLFCHAB1_L",
          "Ratio_Ress_RAV",
          "MCLFCHAB1_others",
          "RAV",
          "RAV_Rev",
          "CSP_Tit_worker",
          "Tx_Edt",
          "CSP_Tit_Managerial position",
          "MCLFCHAB1_F",
          "MCLFCSITFAM_K",
          "MCLFCSITFAM_others",
          "CSP_Tit_Retired"
         ],
         "yaxis": "y"
        }
       ],
       "layout": {
        "barmode": "relative",
        "height": 800,
        "legend": {
         "tracegroupgap": 0
        },
        "template": {
         "data": {
          "bar": [
           {
            "error_x": {
             "color": "#2a3f5f"
            },
            "error_y": {
             "color": "#2a3f5f"
            },
            "marker": {
             "line": {
              "color": "#E5ECF6",
              "width": 0.5
             },
             "pattern": {
              "fillmode": "overlay",
              "size": 10,
              "solidity": 0.2
             }
            },
            "type": "bar"
           }
          ],
          "barpolar": [
           {
            "marker": {
             "line": {
              "color": "#E5ECF6",
              "width": 0.5
             },
             "pattern": {
              "fillmode": "overlay",
              "size": 10,
              "solidity": 0.2
             }
            },
            "type": "barpolar"
           }
          ],
          "carpet": [
           {
            "aaxis": {
             "endlinecolor": "#2a3f5f",
             "gridcolor": "white",
             "linecolor": "white",
             "minorgridcolor": "white",
             "startlinecolor": "#2a3f5f"
            },
            "baxis": {
             "endlinecolor": "#2a3f5f",
             "gridcolor": "white",
             "linecolor": "white",
             "minorgridcolor": "white",
             "startlinecolor": "#2a3f5f"
            },
            "type": "carpet"
           }
          ],
          "choropleth": [
           {
            "colorbar": {
             "outlinewidth": 0,
             "ticks": ""
            },
            "type": "choropleth"
           }
          ],
          "contour": [
           {
            "colorbar": {
             "outlinewidth": 0,
             "ticks": ""
            },
            "colorscale": [
             [
              0,
              "#0d0887"
             ],
             [
              0.1111111111111111,
              "#46039f"
             ],
             [
              0.2222222222222222,
              "#7201a8"
             ],
             [
              0.3333333333333333,
              "#9c179e"
             ],
             [
              0.4444444444444444,
              "#bd3786"
             ],
             [
              0.5555555555555556,
              "#d8576b"
             ],
             [
              0.6666666666666666,
              "#ed7953"
             ],
             [
              0.7777777777777778,
              "#fb9f3a"
             ],
             [
              0.8888888888888888,
              "#fdca26"
             ],
             [
              1,
              "#f0f921"
             ]
            ],
            "type": "contour"
           }
          ],
          "contourcarpet": [
           {
            "colorbar": {
             "outlinewidth": 0,
             "ticks": ""
            },
            "type": "contourcarpet"
           }
          ],
          "heatmap": [
           {
            "colorbar": {
             "outlinewidth": 0,
             "ticks": ""
            },
            "colorscale": [
             [
              0,
              "#0d0887"
             ],
             [
              0.1111111111111111,
              "#46039f"
             ],
             [
              0.2222222222222222,
              "#7201a8"
             ],
             [
              0.3333333333333333,
              "#9c179e"
             ],
             [
              0.4444444444444444,
              "#bd3786"
             ],
             [
              0.5555555555555556,
              "#d8576b"
             ],
             [
              0.6666666666666666,
              "#ed7953"
             ],
             [
              0.7777777777777778,
              "#fb9f3a"
             ],
             [
              0.8888888888888888,
              "#fdca26"
             ],
             [
              1,
              "#f0f921"
             ]
            ],
            "type": "heatmap"
           }
          ],
          "histogram": [
           {
            "marker": {
             "pattern": {
              "fillmode": "overlay",
              "size": 10,
              "solidity": 0.2
             }
            },
            "type": "histogram"
           }
          ],
          "histogram2d": [
           {
            "colorbar": {
             "outlinewidth": 0,
             "ticks": ""
            },
            "colorscale": [
             [
              0,
              "#0d0887"
             ],
             [
              0.1111111111111111,
              "#46039f"
             ],
             [
              0.2222222222222222,
              "#7201a8"
             ],
             [
              0.3333333333333333,
              "#9c179e"
             ],
             [
              0.4444444444444444,
              "#bd3786"
             ],
             [
              0.5555555555555556,
              "#d8576b"
             ],
             [
              0.6666666666666666,
              "#ed7953"
             ],
             [
              0.7777777777777778,
              "#fb9f3a"
             ],
             [
              0.8888888888888888,
              "#fdca26"
             ],
             [
              1,
              "#f0f921"
             ]
            ],
            "type": "histogram2d"
           }
          ],
          "histogram2dcontour": [
           {
            "colorbar": {
             "outlinewidth": 0,
             "ticks": ""
            },
            "colorscale": [
             [
              0,
              "#0d0887"
             ],
             [
              0.1111111111111111,
              "#46039f"
             ],
             [
              0.2222222222222222,
              "#7201a8"
             ],
             [
              0.3333333333333333,
              "#9c179e"
             ],
             [
              0.4444444444444444,
              "#bd3786"
             ],
             [
              0.5555555555555556,
              "#d8576b"
             ],
             [
              0.6666666666666666,
              "#ed7953"
             ],
             [
              0.7777777777777778,
              "#fb9f3a"
             ],
             [
              0.8888888888888888,
              "#fdca26"
             ],
             [
              1,
              "#f0f921"
             ]
            ],
            "type": "histogram2dcontour"
           }
          ],
          "mesh3d": [
           {
            "colorbar": {
             "outlinewidth": 0,
             "ticks": ""
            },
            "type": "mesh3d"
           }
          ],
          "parcoords": [
           {
            "line": {
             "colorbar": {
              "outlinewidth": 0,
              "ticks": ""
             }
            },
            "type": "parcoords"
           }
          ],
          "pie": [
           {
            "automargin": true,
            "type": "pie"
           }
          ],
          "scatter": [
           {
            "fillpattern": {
             "fillmode": "overlay",
             "size": 10,
             "solidity": 0.2
            },
            "type": "scatter"
           }
          ],
          "scatter3d": [
           {
            "line": {
             "colorbar": {
              "outlinewidth": 0,
              "ticks": ""
             }
            },
            "marker": {
             "colorbar": {
              "outlinewidth": 0,
              "ticks": ""
             }
            },
            "type": "scatter3d"
           }
          ],
          "scattercarpet": [
           {
            "marker": {
             "colorbar": {
              "outlinewidth": 0,
              "ticks": ""
             }
            },
            "type": "scattercarpet"
           }
          ],
          "scattergeo": [
           {
            "marker": {
             "colorbar": {
              "outlinewidth": 0,
              "ticks": ""
             }
            },
            "type": "scattergeo"
           }
          ],
          "scattergl": [
           {
            "marker": {
             "colorbar": {
              "outlinewidth": 0,
              "ticks": ""
             }
            },
            "type": "scattergl"
           }
          ],
          "scattermap": [
           {
            "marker": {
             "colorbar": {
              "outlinewidth": 0,
              "ticks": ""
             }
            },
            "type": "scattermap"
           }
          ],
          "scattermapbox": [
           {
            "marker": {
             "colorbar": {
              "outlinewidth": 0,
              "ticks": ""
             }
            },
            "type": "scattermapbox"
           }
          ],
          "scatterpolar": [
           {
            "marker": {
             "colorbar": {
              "outlinewidth": 0,
              "ticks": ""
             }
            },
            "type": "scatterpolar"
           }
          ],
          "scatterpolargl": [
           {
            "marker": {
             "colorbar": {
              "outlinewidth": 0,
              "ticks": ""
             }
            },
            "type": "scatterpolargl"
           }
          ],
          "scatterternary": [
           {
            "marker": {
             "colorbar": {
              "outlinewidth": 0,
              "ticks": ""
             }
            },
            "type": "scatterternary"
           }
          ],
          "surface": [
           {
            "colorbar": {
             "outlinewidth": 0,
             "ticks": ""
            },
            "colorscale": [
             [
              0,
              "#0d0887"
             ],
             [
              0.1111111111111111,
              "#46039f"
             ],
             [
              0.2222222222222222,
              "#7201a8"
             ],
             [
              0.3333333333333333,
              "#9c179e"
             ],
             [
              0.4444444444444444,
              "#bd3786"
             ],
             [
              0.5555555555555556,
              "#d8576b"
             ],
             [
              0.6666666666666666,
              "#ed7953"
             ],
             [
              0.7777777777777778,
              "#fb9f3a"
             ],
             [
              0.8888888888888888,
              "#fdca26"
             ],
             [
              1,
              "#f0f921"
             ]
            ],
            "type": "surface"
           }
          ],
          "table": [
           {
            "cells": {
             "fill": {
              "color": "#EBF0F8"
             },
             "line": {
              "color": "white"
             }
            },
            "header": {
             "fill": {
              "color": "#C8D4E3"
             },
             "line": {
              "color": "white"
             }
            },
            "type": "table"
           }
          ]
         },
         "layout": {
          "annotationdefaults": {
           "arrowcolor": "#2a3f5f",
           "arrowhead": 0,
           "arrowwidth": 1
          },
          "autotypenumbers": "strict",
          "coloraxis": {
           "colorbar": {
            "outlinewidth": 0,
            "ticks": ""
           }
          },
          "colorscale": {
           "diverging": [
            [
             0,
             "#8e0152"
            ],
            [
             0.1,
             "#c51b7d"
            ],
            [
             0.2,
             "#de77ae"
            ],
            [
             0.3,
             "#f1b6da"
            ],
            [
             0.4,
             "#fde0ef"
            ],
            [
             0.5,
             "#f7f7f7"
            ],
            [
             0.6,
             "#e6f5d0"
            ],
            [
             0.7,
             "#b8e186"
            ],
            [
             0.8,
             "#7fbc41"
            ],
            [
             0.9,
             "#4d9221"
            ],
            [
             1,
             "#276419"
            ]
           ],
           "sequential": [
            [
             0,
             "#0d0887"
            ],
            [
             0.1111111111111111,
             "#46039f"
            ],
            [
             0.2222222222222222,
             "#7201a8"
            ],
            [
             0.3333333333333333,
             "#9c179e"
            ],
            [
             0.4444444444444444,
             "#bd3786"
            ],
            [
             0.5555555555555556,
             "#d8576b"
            ],
            [
             0.6666666666666666,
             "#ed7953"
            ],
            [
             0.7777777777777778,
             "#fb9f3a"
            ],
            [
             0.8888888888888888,
             "#fdca26"
            ],
            [
             1,
             "#f0f921"
            ]
           ],
           "sequentialminus": [
            [
             0,
             "#0d0887"
            ],
            [
             0.1111111111111111,
             "#46039f"
            ],
            [
             0.2222222222222222,
             "#7201a8"
            ],
            [
             0.3333333333333333,
             "#9c179e"
            ],
            [
             0.4444444444444444,
             "#bd3786"
            ],
            [
             0.5555555555555556,
             "#d8576b"
            ],
            [
             0.6666666666666666,
             "#ed7953"
            ],
            [
             0.7777777777777778,
             "#fb9f3a"
            ],
            [
             0.8888888888888888,
             "#fdca26"
            ],
            [
             1,
             "#f0f921"
            ]
           ]
          },
          "colorway": [
           "#636efa",
           "#EF553B",
           "#00cc96",
           "#ab63fa",
           "#FFA15A",
           "#19d3f3",
           "#FF6692",
           "#B6E880",
           "#FF97FF",
           "#FECB52"
          ],
          "font": {
           "color": "#2a3f5f"
          },
          "geo": {
           "bgcolor": "white",
           "lakecolor": "white",
           "landcolor": "#E5ECF6",
           "showlakes": true,
           "showland": true,
           "subunitcolor": "white"
          },
          "hoverlabel": {
           "align": "left"
          },
          "hovermode": "closest",
          "mapbox": {
           "style": "light"
          },
          "paper_bgcolor": "white",
          "plot_bgcolor": "#E5ECF6",
          "polar": {
           "angularaxis": {
            "gridcolor": "white",
            "linecolor": "white",
            "ticks": ""
           },
           "bgcolor": "#E5ECF6",
           "radialaxis": {
            "gridcolor": "white",
            "linecolor": "white",
            "ticks": ""
           }
          },
          "scene": {
           "xaxis": {
            "backgroundcolor": "#E5ECF6",
            "gridcolor": "white",
            "gridwidth": 2,
            "linecolor": "white",
            "showbackground": true,
            "ticks": "",
            "zerolinecolor": "white"
           },
           "yaxis": {
            "backgroundcolor": "#E5ECF6",
            "gridcolor": "white",
            "gridwidth": 2,
            "linecolor": "white",
            "showbackground": true,
            "ticks": "",
            "zerolinecolor": "white"
           },
           "zaxis": {
            "backgroundcolor": "#E5ECF6",
            "gridcolor": "white",
            "gridwidth": 2,
            "linecolor": "white",
            "showbackground": true,
            "ticks": "",
            "zerolinecolor": "white"
           }
          },
          "shapedefaults": {
           "line": {
            "color": "#2a3f5f"
           }
          },
          "ternary": {
           "aaxis": {
            "gridcolor": "white",
            "linecolor": "white",
            "ticks": ""
           },
           "baxis": {
            "gridcolor": "white",
            "linecolor": "white",
            "ticks": ""
           },
           "bgcolor": "#E5ECF6",
           "caxis": {
            "gridcolor": "white",
            "linecolor": "white",
            "ticks": ""
           }
          },
          "title": {
           "x": 0.05
          },
          "xaxis": {
           "automargin": true,
           "gridcolor": "white",
           "linecolor": "white",
           "ticks": "",
           "title": {
            "standoff": 15
           },
           "zerolinecolor": "white",
           "zerolinewidth": 2
          },
          "yaxis": {
           "automargin": true,
           "gridcolor": "white",
           "linecolor": "white",
           "ticks": "",
           "title": {
            "standoff": 15
           },
           "zerolinecolor": "white",
           "zerolinewidth": 2
          }
         }
        },
        "title": {
         "text": "PFI (ROC AUC) - XGB (xgb_best) (IC 95%)"
        },
        "xaxis": {
         "anchor": "y",
         "domain": [
          0,
          1
         ],
         "title": {
          "text": "importance_mean"
         }
        },
        "yaxis": {
         "anchor": "x",
         "autorange": "reversed",
         "domain": [
          0,
          1
         ],
         "title": {
          "text": "feature"
         }
        }
       }
      }
     },
     "metadata": {},
     "output_type": "display_data"
    }
   ],
   "source": [
    "X_pfi, y_pfi = X_train, y_train\n",
    "\n",
    "pfi_xgb = permutation_importance(\n",
    "    xgb_best,\n",
    "    X_pfi,\n",
    "    y_pfi,\n",
    "    n_repeats=40,\n",
    "    scoring=\"roc_auc\",\n",
    "    random_state=42,\n",
    "    n_jobs=-1\n",
    ")\n",
    "\n",
    "q025 = np.quantile(pfi_xgb.importances, 0.025, axis=1)\n",
    "q975 = np.quantile(pfi_xgb.importances, 0.975, axis=1)\n",
    "\n",
    "pfi_xgb_df = (\n",
    "    pd.DataFrame({\n",
    "        \"feature\": X_pfi.columns,\n",
    "        \"importance_mean\": pfi_xgb.importances_mean,\n",
    "        \"importance_std\": pfi_xgb.importances_std,\n",
    "        \"q025\": q025,\n",
    "        \"q975\": q975\n",
    "    })\n",
    "    .sort_values(\"importance_mean\", ascending=False)\n",
    "    .reset_index(drop=True)\n",
    ")\n",
    "\n",
    "pfi_xgb_df[\"err_plus\"] = (pfi_xgb_df[\"q975\"] - pfi_xgb_df[\"importance_mean\"]).clip(lower=0)\n",
    "pfi_xgb_df[\"err_minus\"] = (pfi_xgb_df[\"importance_mean\"] - pfi_xgb_df[\"q025\"]).clip(lower=0)\n",
    "\n",
    "print(\"Permutation Feature Importance ((xgb_best), avec IC 95%) :\")\n",
    "display(pfi_xgb_df.round(6))\n",
    "\n",
    "# Graphique\n",
    "fig = px.bar(\n",
    "    pfi_xgb_df,\n",
    "    x=\"importance_mean\",\n",
    "    y=\"feature\",\n",
    "    error_x=\"err_plus\",\n",
    "    error_x_minus=\"err_minus\",\n",
    "    orientation=\"h\",\n",
    "    title=\"PFI (ROC AUC) - XGB (xgb_best) (IC 95%)\",\n",
    "    height=800\n",
    ")\n",
    "fig.update_layout(yaxis=dict(autorange=\"reversed\"), xaxis_title=\"importance_mean\")\n",
    "fig.show()"
   ]
  },
  {
   "cell_type": "markdown",
   "id": "79d47bd5",
   "metadata": {},
   "source": [
    "### PFI Test"
   ]
  },
  {
   "cell_type": "code",
   "execution_count": 50,
   "id": "1fc5a098",
   "metadata": {},
   "outputs": [
    {
     "name": "stdout",
     "output_type": "stream",
     "text": [
      "Permutation Feature Importance ((xgb_best), avec IC 95%) :\n"
     ]
    },
    {
     "data": {
      "text/html": [
       "<div>\n",
       "<style scoped>\n",
       "    .dataframe tbody tr th:only-of-type {\n",
       "        vertical-align: middle;\n",
       "    }\n",
       "\n",
       "    .dataframe tbody tr th {\n",
       "        vertical-align: top;\n",
       "    }\n",
       "\n",
       "    .dataframe thead th {\n",
       "        text-align: right;\n",
       "    }\n",
       "</style>\n",
       "<table border=\"1\" class=\"dataframe\">\n",
       "  <thead>\n",
       "    <tr style=\"text-align: right;\">\n",
       "      <th></th>\n",
       "      <th>feature</th>\n",
       "      <th>importance_mean</th>\n",
       "      <th>importance_std</th>\n",
       "      <th>q025</th>\n",
       "      <th>q975</th>\n",
       "      <th>err_plus</th>\n",
       "      <th>err_minus</th>\n",
       "    </tr>\n",
       "  </thead>\n",
       "  <tbody>\n",
       "    <tr>\n",
       "      <th>0</th>\n",
       "      <td>MCLFCHAB1_P</td>\n",
       "      <td>0.019918</td>\n",
       "      <td>0.005650</td>\n",
       "      <td>0.009755</td>\n",
       "      <td>0.030671</td>\n",
       "      <td>0.010753</td>\n",
       "      <td>0.010164</td>\n",
       "    </tr>\n",
       "    <tr>\n",
       "      <th>1</th>\n",
       "      <td>Ressource</td>\n",
       "      <td>0.019116</td>\n",
       "      <td>0.005839</td>\n",
       "      <td>0.008174</td>\n",
       "      <td>0.028468</td>\n",
       "      <td>0.009352</td>\n",
       "      <td>0.010942</td>\n",
       "    </tr>\n",
       "    <tr>\n",
       "      <th>2</th>\n",
       "      <td>Charge</td>\n",
       "      <td>0.016445</td>\n",
       "      <td>0.006730</td>\n",
       "      <td>0.005184</td>\n",
       "      <td>0.027260</td>\n",
       "      <td>0.010815</td>\n",
       "      <td>0.011261</td>\n",
       "    </tr>\n",
       "    <tr>\n",
       "      <th>3</th>\n",
       "      <td>ZCOM_SR_CL_MIMPOTS</td>\n",
       "      <td>0.016028</td>\n",
       "      <td>0.005198</td>\n",
       "      <td>0.008862</td>\n",
       "      <td>0.024733</td>\n",
       "      <td>0.008706</td>\n",
       "      <td>0.007166</td>\n",
       "    </tr>\n",
       "    <tr>\n",
       "      <th>4</th>\n",
       "      <td>Age_Tit</td>\n",
       "      <td>0.013395</td>\n",
       "      <td>0.005280</td>\n",
       "      <td>0.002820</td>\n",
       "      <td>0.021185</td>\n",
       "      <td>0.007791</td>\n",
       "      <td>0.010575</td>\n",
       "    </tr>\n",
       "    <tr>\n",
       "      <th>5</th>\n",
       "      <td>Ancien_Banc_Tit</td>\n",
       "      <td>0.010793</td>\n",
       "      <td>0.002853</td>\n",
       "      <td>0.005400</td>\n",
       "      <td>0.015288</td>\n",
       "      <td>0.004495</td>\n",
       "      <td>0.005393</td>\n",
       "    </tr>\n",
       "    <tr>\n",
       "      <th>6</th>\n",
       "      <td>MCLFCHAB1_L</td>\n",
       "      <td>0.007976</td>\n",
       "      <td>0.003219</td>\n",
       "      <td>0.002367</td>\n",
       "      <td>0.013975</td>\n",
       "      <td>0.005999</td>\n",
       "      <td>0.005609</td>\n",
       "    </tr>\n",
       "    <tr>\n",
       "      <th>7</th>\n",
       "      <td>Ancbanc_Tit</td>\n",
       "      <td>0.007870</td>\n",
       "      <td>0.002793</td>\n",
       "      <td>0.002908</td>\n",
       "      <td>0.013472</td>\n",
       "      <td>0.005602</td>\n",
       "      <td>0.004962</td>\n",
       "    </tr>\n",
       "    <tr>\n",
       "      <th>8</th>\n",
       "      <td>Ancien_Prof_Tit</td>\n",
       "      <td>0.006273</td>\n",
       "      <td>0.001894</td>\n",
       "      <td>0.003800</td>\n",
       "      <td>0.009765</td>\n",
       "      <td>0.003493</td>\n",
       "      <td>0.002472</td>\n",
       "    </tr>\n",
       "    <tr>\n",
       "      <th>9</th>\n",
       "      <td>MCLFCSITFAM_M</td>\n",
       "      <td>0.005226</td>\n",
       "      <td>0.005263</td>\n",
       "      <td>-0.003234</td>\n",
       "      <td>0.014291</td>\n",
       "      <td>0.009065</td>\n",
       "      <td>0.008460</td>\n",
       "    </tr>\n",
       "    <tr>\n",
       "      <th>10</th>\n",
       "      <td>Mrev_Tit</td>\n",
       "      <td>0.004264</td>\n",
       "      <td>0.002215</td>\n",
       "      <td>0.000158</td>\n",
       "      <td>0.007977</td>\n",
       "      <td>0.003714</td>\n",
       "      <td>0.004106</td>\n",
       "    </tr>\n",
       "    <tr>\n",
       "      <th>11</th>\n",
       "      <td>CSP_Tit_others</td>\n",
       "      <td>0.002197</td>\n",
       "      <td>0.002092</td>\n",
       "      <td>-0.002321</td>\n",
       "      <td>0.004352</td>\n",
       "      <td>0.002155</td>\n",
       "      <td>0.004517</td>\n",
       "    </tr>\n",
       "    <tr>\n",
       "      <th>12</th>\n",
       "      <td>MCLFCHAB1_others</td>\n",
       "      <td>0.001641</td>\n",
       "      <td>0.001557</td>\n",
       "      <td>-0.000713</td>\n",
       "      <td>0.004385</td>\n",
       "      <td>0.002744</td>\n",
       "      <td>0.002354</td>\n",
       "    </tr>\n",
       "    <tr>\n",
       "      <th>13</th>\n",
       "      <td>RAV_Rev</td>\n",
       "      <td>0.001428</td>\n",
       "      <td>0.001048</td>\n",
       "      <td>-0.000030</td>\n",
       "      <td>0.003947</td>\n",
       "      <td>0.002520</td>\n",
       "      <td>0.001457</td>\n",
       "    </tr>\n",
       "    <tr>\n",
       "      <th>14</th>\n",
       "      <td>Ratio_Ress_RAV</td>\n",
       "      <td>0.000789</td>\n",
       "      <td>0.001192</td>\n",
       "      <td>-0.001397</td>\n",
       "      <td>0.003134</td>\n",
       "      <td>0.002345</td>\n",
       "      <td>0.002186</td>\n",
       "    </tr>\n",
       "    <tr>\n",
       "      <th>15</th>\n",
       "      <td>CSP_Tit_worker</td>\n",
       "      <td>0.000450</td>\n",
       "      <td>0.000760</td>\n",
       "      <td>-0.001482</td>\n",
       "      <td>0.001342</td>\n",
       "      <td>0.000893</td>\n",
       "      <td>0.001932</td>\n",
       "    </tr>\n",
       "    <tr>\n",
       "      <th>16</th>\n",
       "      <td>CSP_Tit_Managerial position</td>\n",
       "      <td>0.000356</td>\n",
       "      <td>0.000655</td>\n",
       "      <td>-0.000799</td>\n",
       "      <td>0.001687</td>\n",
       "      <td>0.001331</td>\n",
       "      <td>0.001154</td>\n",
       "    </tr>\n",
       "    <tr>\n",
       "      <th>17</th>\n",
       "      <td>Tx_Edt</td>\n",
       "      <td>0.000038</td>\n",
       "      <td>0.000456</td>\n",
       "      <td>-0.000854</td>\n",
       "      <td>0.000933</td>\n",
       "      <td>0.000895</td>\n",
       "      <td>0.000892</td>\n",
       "    </tr>\n",
       "    <tr>\n",
       "      <th>18</th>\n",
       "      <td>MCLFCSITFAM_others</td>\n",
       "      <td>0.000000</td>\n",
       "      <td>0.000000</td>\n",
       "      <td>0.000000</td>\n",
       "      <td>0.000000</td>\n",
       "      <td>0.000000</td>\n",
       "      <td>0.000000</td>\n",
       "    </tr>\n",
       "    <tr>\n",
       "      <th>19</th>\n",
       "      <td>CSP_Tit_Retired</td>\n",
       "      <td>0.000000</td>\n",
       "      <td>0.000000</td>\n",
       "      <td>0.000000</td>\n",
       "      <td>0.000000</td>\n",
       "      <td>0.000000</td>\n",
       "      <td>0.000000</td>\n",
       "    </tr>\n",
       "    <tr>\n",
       "      <th>20</th>\n",
       "      <td>MCLFCSITFAM_K</td>\n",
       "      <td>0.000000</td>\n",
       "      <td>0.000000</td>\n",
       "      <td>0.000000</td>\n",
       "      <td>0.000000</td>\n",
       "      <td>0.000000</td>\n",
       "      <td>0.000000</td>\n",
       "    </tr>\n",
       "    <tr>\n",
       "      <th>21</th>\n",
       "      <td>MCLFCHAB1_F</td>\n",
       "      <td>-0.000438</td>\n",
       "      <td>0.000434</td>\n",
       "      <td>-0.001362</td>\n",
       "      <td>0.000203</td>\n",
       "      <td>0.000640</td>\n",
       "      <td>0.000924</td>\n",
       "    </tr>\n",
       "    <tr>\n",
       "      <th>22</th>\n",
       "      <td>RAV</td>\n",
       "      <td>-0.000627</td>\n",
       "      <td>0.000857</td>\n",
       "      <td>-0.001728</td>\n",
       "      <td>0.000962</td>\n",
       "      <td>0.001589</td>\n",
       "      <td>0.001102</td>\n",
       "    </tr>\n",
       "  </tbody>\n",
       "</table>\n",
       "</div>"
      ],
      "text/plain": [
       "                        feature  importance_mean  importance_std      q025  \\\n",
       "0                   MCLFCHAB1_P         0.019918        0.005650  0.009755   \n",
       "1                     Ressource         0.019116        0.005839  0.008174   \n",
       "2                        Charge         0.016445        0.006730  0.005184   \n",
       "3            ZCOM_SR_CL_MIMPOTS         0.016028        0.005198  0.008862   \n",
       "4                       Age_Tit         0.013395        0.005280  0.002820   \n",
       "5               Ancien_Banc_Tit         0.010793        0.002853  0.005400   \n",
       "6                   MCLFCHAB1_L         0.007976        0.003219  0.002367   \n",
       "7                   Ancbanc_Tit         0.007870        0.002793  0.002908   \n",
       "8               Ancien_Prof_Tit         0.006273        0.001894  0.003800   \n",
       "9                 MCLFCSITFAM_M         0.005226        0.005263 -0.003234   \n",
       "10                     Mrev_Tit         0.004264        0.002215  0.000158   \n",
       "11               CSP_Tit_others         0.002197        0.002092 -0.002321   \n",
       "12             MCLFCHAB1_others         0.001641        0.001557 -0.000713   \n",
       "13                      RAV_Rev         0.001428        0.001048 -0.000030   \n",
       "14               Ratio_Ress_RAV         0.000789        0.001192 -0.001397   \n",
       "15               CSP_Tit_worker         0.000450        0.000760 -0.001482   \n",
       "16  CSP_Tit_Managerial position         0.000356        0.000655 -0.000799   \n",
       "17                       Tx_Edt         0.000038        0.000456 -0.000854   \n",
       "18           MCLFCSITFAM_others         0.000000        0.000000  0.000000   \n",
       "19              CSP_Tit_Retired         0.000000        0.000000  0.000000   \n",
       "20                MCLFCSITFAM_K         0.000000        0.000000  0.000000   \n",
       "21                  MCLFCHAB1_F        -0.000438        0.000434 -0.001362   \n",
       "22                          RAV        -0.000627        0.000857 -0.001728   \n",
       "\n",
       "        q975  err_plus  err_minus  \n",
       "0   0.030671  0.010753   0.010164  \n",
       "1   0.028468  0.009352   0.010942  \n",
       "2   0.027260  0.010815   0.011261  \n",
       "3   0.024733  0.008706   0.007166  \n",
       "4   0.021185  0.007791   0.010575  \n",
       "5   0.015288  0.004495   0.005393  \n",
       "6   0.013975  0.005999   0.005609  \n",
       "7   0.013472  0.005602   0.004962  \n",
       "8   0.009765  0.003493   0.002472  \n",
       "9   0.014291  0.009065   0.008460  \n",
       "10  0.007977  0.003714   0.004106  \n",
       "11  0.004352  0.002155   0.004517  \n",
       "12  0.004385  0.002744   0.002354  \n",
       "13  0.003947  0.002520   0.001457  \n",
       "14  0.003134  0.002345   0.002186  \n",
       "15  0.001342  0.000893   0.001932  \n",
       "16  0.001687  0.001331   0.001154  \n",
       "17  0.000933  0.000895   0.000892  \n",
       "18  0.000000  0.000000   0.000000  \n",
       "19  0.000000  0.000000   0.000000  \n",
       "20  0.000000  0.000000   0.000000  \n",
       "21  0.000203  0.000640   0.000924  \n",
       "22  0.000962  0.001589   0.001102  "
      ]
     },
     "metadata": {},
     "output_type": "display_data"
    },
    {
     "data": {
      "application/vnd.plotly.v1+json": {
       "config": {
        "plotlyServerURL": "https://plot.ly"
       },
       "data": [
        {
         "error_x": {
          "array": {
           "bdata": "AF75tYkFhj/8xRWZ/iaDP1qqlr8wJoY/fi1sSz7UgT+A5P/uVOl/P+w6nSQpaXI/CENbcUmSeD/SBs/q5vF2P5I3pR2HnGw//pHP3eeQgj/UMJET0mtuP77FfPkjp2E/xn/mKM16Zj+Zgqvc4KNkPyvg4iTpNGM//2HCc3M/TT/lM6x0bs1VP82djWy5V00/AAAAAAAAAAAAAAAAAAAAAAAAAAAAAAAAskzU3R35RD+8Kd8p+gZaPw==",
           "dtype": "f8"
          },
          "arrayminus": {
           "bdata": "LV0jsaLQhD9eV1uDomiGP+YFQjA2EIc/fstE+rtZfT/VJQFTTKiFP/PnYrs8F3Y/JKC8JkD5dj9tBul/YFN0P+1zG7EEQWQ/iz/cEGhTgT+J89NBe9FwPzDzdNu6gHI/pldarD1JYz+NHAW5p99XP3PSAa3r52E/9MSTtySnXz/NWwzWRepSP+Z/QSWjOk0/AAAAAAAAAAAAAAAAAAAAAAAAAAAAAAAATB52rSxLTj+Nkf1NLQxSPw==",
           "dtype": "f8"
          }
         },
         "hovertemplate": "importance_mean=%{x}<br>feature=%{y}<extra></extra>",
         "legendgroup": "",
         "marker": {
          "color": "#636efa",
          "pattern": {
           "shape": ""
          }
         },
         "name": "",
         "orientation": "h",
         "showlegend": false,
         "textposition": "auto",
         "type": "bar",
         "x": {
          "bdata": "dIvOSW9llD/DN3znK5OTP25lnWMP15A/ls/jUIhpkD8g+jcCl26LPz01yuDdGoY/8lLojY9VgD9Vm2AwZR6AP02pRzlrsXk/jb3jmHJndT8wYngvBHdxPzq6uVuo/mE/cx6SydjhWj9ajYVFrWNXP7OZcih53Ek/Zk9PL193PT/N+5aDcVM3PzPrNM/81wM/AAAAAAAAAAAAAAAAAAAAAAAAAAAAAAAAM8xV/ZSsPL+A237JUotEvw==",
          "dtype": "f8"
         },
         "xaxis": "x",
         "y": [
          "MCLFCHAB1_P",
          "Ressource",
          "Charge",
          "ZCOM_SR_CL_MIMPOTS",
          "Age_Tit",
          "Ancien_Banc_Tit",
          "MCLFCHAB1_L",
          "Ancbanc_Tit",
          "Ancien_Prof_Tit",
          "MCLFCSITFAM_M",
          "Mrev_Tit",
          "CSP_Tit_others",
          "MCLFCHAB1_others",
          "RAV_Rev",
          "Ratio_Ress_RAV",
          "CSP_Tit_worker",
          "CSP_Tit_Managerial position",
          "Tx_Edt",
          "MCLFCSITFAM_others",
          "CSP_Tit_Retired",
          "MCLFCSITFAM_K",
          "MCLFCHAB1_F",
          "RAV"
         ],
         "yaxis": "y"
        }
       ],
       "layout": {
        "barmode": "relative",
        "height": 800,
        "legend": {
         "tracegroupgap": 0
        },
        "template": {
         "data": {
          "bar": [
           {
            "error_x": {
             "color": "#2a3f5f"
            },
            "error_y": {
             "color": "#2a3f5f"
            },
            "marker": {
             "line": {
              "color": "#E5ECF6",
              "width": 0.5
             },
             "pattern": {
              "fillmode": "overlay",
              "size": 10,
              "solidity": 0.2
             }
            },
            "type": "bar"
           }
          ],
          "barpolar": [
           {
            "marker": {
             "line": {
              "color": "#E5ECF6",
              "width": 0.5
             },
             "pattern": {
              "fillmode": "overlay",
              "size": 10,
              "solidity": 0.2
             }
            },
            "type": "barpolar"
           }
          ],
          "carpet": [
           {
            "aaxis": {
             "endlinecolor": "#2a3f5f",
             "gridcolor": "white",
             "linecolor": "white",
             "minorgridcolor": "white",
             "startlinecolor": "#2a3f5f"
            },
            "baxis": {
             "endlinecolor": "#2a3f5f",
             "gridcolor": "white",
             "linecolor": "white",
             "minorgridcolor": "white",
             "startlinecolor": "#2a3f5f"
            },
            "type": "carpet"
           }
          ],
          "choropleth": [
           {
            "colorbar": {
             "outlinewidth": 0,
             "ticks": ""
            },
            "type": "choropleth"
           }
          ],
          "contour": [
           {
            "colorbar": {
             "outlinewidth": 0,
             "ticks": ""
            },
            "colorscale": [
             [
              0,
              "#0d0887"
             ],
             [
              0.1111111111111111,
              "#46039f"
             ],
             [
              0.2222222222222222,
              "#7201a8"
             ],
             [
              0.3333333333333333,
              "#9c179e"
             ],
             [
              0.4444444444444444,
              "#bd3786"
             ],
             [
              0.5555555555555556,
              "#d8576b"
             ],
             [
              0.6666666666666666,
              "#ed7953"
             ],
             [
              0.7777777777777778,
              "#fb9f3a"
             ],
             [
              0.8888888888888888,
              "#fdca26"
             ],
             [
              1,
              "#f0f921"
             ]
            ],
            "type": "contour"
           }
          ],
          "contourcarpet": [
           {
            "colorbar": {
             "outlinewidth": 0,
             "ticks": ""
            },
            "type": "contourcarpet"
           }
          ],
          "heatmap": [
           {
            "colorbar": {
             "outlinewidth": 0,
             "ticks": ""
            },
            "colorscale": [
             [
              0,
              "#0d0887"
             ],
             [
              0.1111111111111111,
              "#46039f"
             ],
             [
              0.2222222222222222,
              "#7201a8"
             ],
             [
              0.3333333333333333,
              "#9c179e"
             ],
             [
              0.4444444444444444,
              "#bd3786"
             ],
             [
              0.5555555555555556,
              "#d8576b"
             ],
             [
              0.6666666666666666,
              "#ed7953"
             ],
             [
              0.7777777777777778,
              "#fb9f3a"
             ],
             [
              0.8888888888888888,
              "#fdca26"
             ],
             [
              1,
              "#f0f921"
             ]
            ],
            "type": "heatmap"
           }
          ],
          "histogram": [
           {
            "marker": {
             "pattern": {
              "fillmode": "overlay",
              "size": 10,
              "solidity": 0.2
             }
            },
            "type": "histogram"
           }
          ],
          "histogram2d": [
           {
            "colorbar": {
             "outlinewidth": 0,
             "ticks": ""
            },
            "colorscale": [
             [
              0,
              "#0d0887"
             ],
             [
              0.1111111111111111,
              "#46039f"
             ],
             [
              0.2222222222222222,
              "#7201a8"
             ],
             [
              0.3333333333333333,
              "#9c179e"
             ],
             [
              0.4444444444444444,
              "#bd3786"
             ],
             [
              0.5555555555555556,
              "#d8576b"
             ],
             [
              0.6666666666666666,
              "#ed7953"
             ],
             [
              0.7777777777777778,
              "#fb9f3a"
             ],
             [
              0.8888888888888888,
              "#fdca26"
             ],
             [
              1,
              "#f0f921"
             ]
            ],
            "type": "histogram2d"
           }
          ],
          "histogram2dcontour": [
           {
            "colorbar": {
             "outlinewidth": 0,
             "ticks": ""
            },
            "colorscale": [
             [
              0,
              "#0d0887"
             ],
             [
              0.1111111111111111,
              "#46039f"
             ],
             [
              0.2222222222222222,
              "#7201a8"
             ],
             [
              0.3333333333333333,
              "#9c179e"
             ],
             [
              0.4444444444444444,
              "#bd3786"
             ],
             [
              0.5555555555555556,
              "#d8576b"
             ],
             [
              0.6666666666666666,
              "#ed7953"
             ],
             [
              0.7777777777777778,
              "#fb9f3a"
             ],
             [
              0.8888888888888888,
              "#fdca26"
             ],
             [
              1,
              "#f0f921"
             ]
            ],
            "type": "histogram2dcontour"
           }
          ],
          "mesh3d": [
           {
            "colorbar": {
             "outlinewidth": 0,
             "ticks": ""
            },
            "type": "mesh3d"
           }
          ],
          "parcoords": [
           {
            "line": {
             "colorbar": {
              "outlinewidth": 0,
              "ticks": ""
             }
            },
            "type": "parcoords"
           }
          ],
          "pie": [
           {
            "automargin": true,
            "type": "pie"
           }
          ],
          "scatter": [
           {
            "fillpattern": {
             "fillmode": "overlay",
             "size": 10,
             "solidity": 0.2
            },
            "type": "scatter"
           }
          ],
          "scatter3d": [
           {
            "line": {
             "colorbar": {
              "outlinewidth": 0,
              "ticks": ""
             }
            },
            "marker": {
             "colorbar": {
              "outlinewidth": 0,
              "ticks": ""
             }
            },
            "type": "scatter3d"
           }
          ],
          "scattercarpet": [
           {
            "marker": {
             "colorbar": {
              "outlinewidth": 0,
              "ticks": ""
             }
            },
            "type": "scattercarpet"
           }
          ],
          "scattergeo": [
           {
            "marker": {
             "colorbar": {
              "outlinewidth": 0,
              "ticks": ""
             }
            },
            "type": "scattergeo"
           }
          ],
          "scattergl": [
           {
            "marker": {
             "colorbar": {
              "outlinewidth": 0,
              "ticks": ""
             }
            },
            "type": "scattergl"
           }
          ],
          "scattermap": [
           {
            "marker": {
             "colorbar": {
              "outlinewidth": 0,
              "ticks": ""
             }
            },
            "type": "scattermap"
           }
          ],
          "scattermapbox": [
           {
            "marker": {
             "colorbar": {
              "outlinewidth": 0,
              "ticks": ""
             }
            },
            "type": "scattermapbox"
           }
          ],
          "scatterpolar": [
           {
            "marker": {
             "colorbar": {
              "outlinewidth": 0,
              "ticks": ""
             }
            },
            "type": "scatterpolar"
           }
          ],
          "scatterpolargl": [
           {
            "marker": {
             "colorbar": {
              "outlinewidth": 0,
              "ticks": ""
             }
            },
            "type": "scatterpolargl"
           }
          ],
          "scatterternary": [
           {
            "marker": {
             "colorbar": {
              "outlinewidth": 0,
              "ticks": ""
             }
            },
            "type": "scatterternary"
           }
          ],
          "surface": [
           {
            "colorbar": {
             "outlinewidth": 0,
             "ticks": ""
            },
            "colorscale": [
             [
              0,
              "#0d0887"
             ],
             [
              0.1111111111111111,
              "#46039f"
             ],
             [
              0.2222222222222222,
              "#7201a8"
             ],
             [
              0.3333333333333333,
              "#9c179e"
             ],
             [
              0.4444444444444444,
              "#bd3786"
             ],
             [
              0.5555555555555556,
              "#d8576b"
             ],
             [
              0.6666666666666666,
              "#ed7953"
             ],
             [
              0.7777777777777778,
              "#fb9f3a"
             ],
             [
              0.8888888888888888,
              "#fdca26"
             ],
             [
              1,
              "#f0f921"
             ]
            ],
            "type": "surface"
           }
          ],
          "table": [
           {
            "cells": {
             "fill": {
              "color": "#EBF0F8"
             },
             "line": {
              "color": "white"
             }
            },
            "header": {
             "fill": {
              "color": "#C8D4E3"
             },
             "line": {
              "color": "white"
             }
            },
            "type": "table"
           }
          ]
         },
         "layout": {
          "annotationdefaults": {
           "arrowcolor": "#2a3f5f",
           "arrowhead": 0,
           "arrowwidth": 1
          },
          "autotypenumbers": "strict",
          "coloraxis": {
           "colorbar": {
            "outlinewidth": 0,
            "ticks": ""
           }
          },
          "colorscale": {
           "diverging": [
            [
             0,
             "#8e0152"
            ],
            [
             0.1,
             "#c51b7d"
            ],
            [
             0.2,
             "#de77ae"
            ],
            [
             0.3,
             "#f1b6da"
            ],
            [
             0.4,
             "#fde0ef"
            ],
            [
             0.5,
             "#f7f7f7"
            ],
            [
             0.6,
             "#e6f5d0"
            ],
            [
             0.7,
             "#b8e186"
            ],
            [
             0.8,
             "#7fbc41"
            ],
            [
             0.9,
             "#4d9221"
            ],
            [
             1,
             "#276419"
            ]
           ],
           "sequential": [
            [
             0,
             "#0d0887"
            ],
            [
             0.1111111111111111,
             "#46039f"
            ],
            [
             0.2222222222222222,
             "#7201a8"
            ],
            [
             0.3333333333333333,
             "#9c179e"
            ],
            [
             0.4444444444444444,
             "#bd3786"
            ],
            [
             0.5555555555555556,
             "#d8576b"
            ],
            [
             0.6666666666666666,
             "#ed7953"
            ],
            [
             0.7777777777777778,
             "#fb9f3a"
            ],
            [
             0.8888888888888888,
             "#fdca26"
            ],
            [
             1,
             "#f0f921"
            ]
           ],
           "sequentialminus": [
            [
             0,
             "#0d0887"
            ],
            [
             0.1111111111111111,
             "#46039f"
            ],
            [
             0.2222222222222222,
             "#7201a8"
            ],
            [
             0.3333333333333333,
             "#9c179e"
            ],
            [
             0.4444444444444444,
             "#bd3786"
            ],
            [
             0.5555555555555556,
             "#d8576b"
            ],
            [
             0.6666666666666666,
             "#ed7953"
            ],
            [
             0.7777777777777778,
             "#fb9f3a"
            ],
            [
             0.8888888888888888,
             "#fdca26"
            ],
            [
             1,
             "#f0f921"
            ]
           ]
          },
          "colorway": [
           "#636efa",
           "#EF553B",
           "#00cc96",
           "#ab63fa",
           "#FFA15A",
           "#19d3f3",
           "#FF6692",
           "#B6E880",
           "#FF97FF",
           "#FECB52"
          ],
          "font": {
           "color": "#2a3f5f"
          },
          "geo": {
           "bgcolor": "white",
           "lakecolor": "white",
           "landcolor": "#E5ECF6",
           "showlakes": true,
           "showland": true,
           "subunitcolor": "white"
          },
          "hoverlabel": {
           "align": "left"
          },
          "hovermode": "closest",
          "mapbox": {
           "style": "light"
          },
          "paper_bgcolor": "white",
          "plot_bgcolor": "#E5ECF6",
          "polar": {
           "angularaxis": {
            "gridcolor": "white",
            "linecolor": "white",
            "ticks": ""
           },
           "bgcolor": "#E5ECF6",
           "radialaxis": {
            "gridcolor": "white",
            "linecolor": "white",
            "ticks": ""
           }
          },
          "scene": {
           "xaxis": {
            "backgroundcolor": "#E5ECF6",
            "gridcolor": "white",
            "gridwidth": 2,
            "linecolor": "white",
            "showbackground": true,
            "ticks": "",
            "zerolinecolor": "white"
           },
           "yaxis": {
            "backgroundcolor": "#E5ECF6",
            "gridcolor": "white",
            "gridwidth": 2,
            "linecolor": "white",
            "showbackground": true,
            "ticks": "",
            "zerolinecolor": "white"
           },
           "zaxis": {
            "backgroundcolor": "#E5ECF6",
            "gridcolor": "white",
            "gridwidth": 2,
            "linecolor": "white",
            "showbackground": true,
            "ticks": "",
            "zerolinecolor": "white"
           }
          },
          "shapedefaults": {
           "line": {
            "color": "#2a3f5f"
           }
          },
          "ternary": {
           "aaxis": {
            "gridcolor": "white",
            "linecolor": "white",
            "ticks": ""
           },
           "baxis": {
            "gridcolor": "white",
            "linecolor": "white",
            "ticks": ""
           },
           "bgcolor": "#E5ECF6",
           "caxis": {
            "gridcolor": "white",
            "linecolor": "white",
            "ticks": ""
           }
          },
          "title": {
           "x": 0.05
          },
          "xaxis": {
           "automargin": true,
           "gridcolor": "white",
           "linecolor": "white",
           "ticks": "",
           "title": {
            "standoff": 15
           },
           "zerolinecolor": "white",
           "zerolinewidth": 2
          },
          "yaxis": {
           "automargin": true,
           "gridcolor": "white",
           "linecolor": "white",
           "ticks": "",
           "title": {
            "standoff": 15
           },
           "zerolinecolor": "white",
           "zerolinewidth": 2
          }
         }
        },
        "title": {
         "text": "PFI (ROC AUC) - XGB (xgb_best) (IC 95%)"
        },
        "xaxis": {
         "anchor": "y",
         "domain": [
          0,
          1
         ],
         "title": {
          "text": "importance_mean"
         }
        },
        "yaxis": {
         "anchor": "x",
         "autorange": "reversed",
         "domain": [
          0,
          1
         ],
         "title": {
          "text": "feature"
         }
        }
       }
      }
     },
     "metadata": {},
     "output_type": "display_data"
    }
   ],
   "source": [
    "X_pfi, y_pfi = X_test, y_test\n",
    "\n",
    "pfi_xgb = permutation_importance(\n",
    "    xgb_best,\n",
    "    X_pfi,\n",
    "    y_pfi,\n",
    "    n_repeats=40,\n",
    "    scoring=\"roc_auc\",\n",
    "    random_state=42,\n",
    "    n_jobs=-1\n",
    ")\n",
    "\n",
    "# IC via quantiles des répétitions (axis=1 = par feature)\n",
    "q025 = np.quantile(pfi_xgb.importances, 0.025, axis=1)\n",
    "q975 = np.quantile(pfi_xgb.importances, 0.975, axis=1)\n",
    "\n",
    "pfi_xgb_df = (\n",
    "    pd.DataFrame({\n",
    "        \"feature\": X_pfi.columns,\n",
    "        \"importance_mean\": pfi_xgb.importances_mean,\n",
    "        \"importance_std\": pfi_xgb.importances_std,\n",
    "        \"q025\": q025,\n",
    "        \"q975\": q975\n",
    "    })\n",
    "    .sort_values(\"importance_mean\", ascending=False)\n",
    "    .reset_index(drop=True)\n",
    ")\n",
    "\n",
    "# Colonnes d'erreurs (pour barres d'erreur asymétriques)\n",
    "pfi_xgb_df[\"err_plus\"] = (pfi_xgb_df[\"q975\"] - pfi_xgb_df[\"importance_mean\"]).clip(lower=0)\n",
    "pfi_xgb_df[\"err_minus\"] = (pfi_xgb_df[\"importance_mean\"] - pfi_xgb_df[\"q025\"]).clip(lower=0)\n",
    "\n",
    "print(\"Permutation Feature Importance ((xgb_best), avec IC 95%) :\")\n",
    "display(pfi_xgb_df.round(6))\n",
    "\n",
    "# Graphique barres avec IC 95% en erreurs asymétriques\n",
    "\n",
    "fig = px.bar(\n",
    "    pfi_xgb_df,\n",
    "    x=\"importance_mean\",\n",
    "    y=\"feature\",\n",
    "    error_x=\"err_plus\",\n",
    "    error_x_minus=\"err_minus\",\n",
    "    orientation=\"h\",\n",
    "    title=\"PFI (ROC AUC) - XGB (xgb_best) (IC 95%)\",\n",
    "    height=800\n",
    ")\n",
    "fig.update_layout(yaxis=dict(autorange=\"reversed\"), xaxis_title=\"importance_mean\")\n",
    "fig.show()"
   ]
  },
  {
   "cell_type": "markdown",
   "id": "63b232c0",
   "metadata": {},
   "source": [
    "### Feature Importance XGBoost"
   ]
  },
  {
   "cell_type": "code",
   "execution_count": null,
   "id": "2f7175b4",
   "metadata": {},
   "outputs": [
    {
     "name": "stdout",
     "output_type": "stream",
     "text": [
      "Top 30 features par 'gain':\n"
     ]
    },
    {
     "data": {
      "text/html": [
       "<div>\n",
       "<style scoped>\n",
       "    .dataframe tbody tr th:only-of-type {\n",
       "        vertical-align: middle;\n",
       "    }\n",
       "\n",
       "    .dataframe tbody tr th {\n",
       "        vertical-align: top;\n",
       "    }\n",
       "\n",
       "    .dataframe thead th {\n",
       "        text-align: right;\n",
       "    }\n",
       "</style>\n",
       "<table border=\"1\" class=\"dataframe\">\n",
       "  <thead>\n",
       "    <tr style=\"text-align: right;\">\n",
       "      <th></th>\n",
       "      <th>gain</th>\n",
       "      <th>weight</th>\n",
       "      <th>cover</th>\n",
       "      <th>total_gain</th>\n",
       "      <th>total_cover</th>\n",
       "      <th>sklearn_importance</th>\n",
       "      <th>rank_gain</th>\n",
       "      <th>rank_weight</th>\n",
       "      <th>rank_cover</th>\n",
       "      <th>rank_total_gain</th>\n",
       "      <th>rank_total_cover</th>\n",
       "      <th>rank_sklearn_importance</th>\n",
       "    </tr>\n",
       "  </thead>\n",
       "  <tbody>\n",
       "    <tr>\n",
       "      <th>Age_Tit</th>\n",
       "      <td>24.882971</td>\n",
       "      <td>8.0</td>\n",
       "      <td>202.324188</td>\n",
       "      <td>199.063766</td>\n",
       "      <td>1618.593506</td>\n",
       "      <td>0.110985</td>\n",
       "      <td>1</td>\n",
       "      <td>2</td>\n",
       "      <td>7</td>\n",
       "      <td>1</td>\n",
       "      <td>3</td>\n",
       "      <td>1</td>\n",
       "    </tr>\n",
       "    <tr>\n",
       "      <th>ZCOM_SR_CL_MIMPOTS</th>\n",
       "      <td>24.485674</td>\n",
       "      <td>6.0</td>\n",
       "      <td>245.155197</td>\n",
       "      <td>146.914047</td>\n",
       "      <td>1470.931152</td>\n",
       "      <td>0.109213</td>\n",
       "      <td>2</td>\n",
       "      <td>8</td>\n",
       "      <td>4</td>\n",
       "      <td>3</td>\n",
       "      <td>6</td>\n",
       "      <td>2</td>\n",
       "    </tr>\n",
       "    <tr>\n",
       "      <th>Ressource</th>\n",
       "      <td>23.228661</td>\n",
       "      <td>8.0</td>\n",
       "      <td>152.173676</td>\n",
       "      <td>185.829285</td>\n",
       "      <td>1217.389404</td>\n",
       "      <td>0.103606</td>\n",
       "      <td>3</td>\n",
       "      <td>4</td>\n",
       "      <td>12</td>\n",
       "      <td>2</td>\n",
       "      <td>8</td>\n",
       "      <td>3</td>\n",
       "    </tr>\n",
       "    <tr>\n",
       "      <th>Ancien_Banc_Tit</th>\n",
       "      <td>20.349737</td>\n",
       "      <td>6.0</td>\n",
       "      <td>248.983719</td>\n",
       "      <td>122.098419</td>\n",
       "      <td>1493.902344</td>\n",
       "      <td>0.090766</td>\n",
       "      <td>4</td>\n",
       "      <td>7</td>\n",
       "      <td>3</td>\n",
       "      <td>4</td>\n",
       "      <td>5</td>\n",
       "      <td>4</td>\n",
       "    </tr>\n",
       "    <tr>\n",
       "      <th>MCLFCSITFAM_M</th>\n",
       "      <td>14.017124</td>\n",
       "      <td>6.0</td>\n",
       "      <td>289.838593</td>\n",
       "      <td>84.102745</td>\n",
       "      <td>1739.031494</td>\n",
       "      <td>0.062520</td>\n",
       "      <td>5</td>\n",
       "      <td>9</td>\n",
       "      <td>1</td>\n",
       "      <td>7</td>\n",
       "      <td>2</td>\n",
       "      <td>5</td>\n",
       "    </tr>\n",
       "    <tr>\n",
       "      <th>MCLFCHAB1_P</th>\n",
       "      <td>12.394040</td>\n",
       "      <td>7.0</td>\n",
       "      <td>227.264053</td>\n",
       "      <td>86.758278</td>\n",
       "      <td>1590.848389</td>\n",
       "      <td>0.055281</td>\n",
       "      <td>6</td>\n",
       "      <td>5</td>\n",
       "      <td>6</td>\n",
       "      <td>6</td>\n",
       "      <td>4</td>\n",
       "      <td>6</td>\n",
       "    </tr>\n",
       "    <tr>\n",
       "      <th>Mrev_Tit</th>\n",
       "      <td>10.793827</td>\n",
       "      <td>5.0</td>\n",
       "      <td>174.366302</td>\n",
       "      <td>53.969135</td>\n",
       "      <td>871.831543</td>\n",
       "      <td>0.048144</td>\n",
       "      <td>7</td>\n",
       "      <td>10</td>\n",
       "      <td>9</td>\n",
       "      <td>9</td>\n",
       "      <td>10</td>\n",
       "      <td>7</td>\n",
       "    </tr>\n",
       "    <tr>\n",
       "      <th>Ratio_Ress_RAV</th>\n",
       "      <td>10.399348</td>\n",
       "      <td>3.0</td>\n",
       "      <td>14.851420</td>\n",
       "      <td>31.198044</td>\n",
       "      <td>44.554260</td>\n",
       "      <td>0.046384</td>\n",
       "      <td>8</td>\n",
       "      <td>12</td>\n",
       "      <td>20</td>\n",
       "      <td>11</td>\n",
       "      <td>18</td>\n",
       "      <td>8</td>\n",
       "    </tr>\n",
       "    <tr>\n",
       "      <th>Ancbanc_Tit</th>\n",
       "      <td>10.159319</td>\n",
       "      <td>8.0</td>\n",
       "      <td>168.400391</td>\n",
       "      <td>81.274551</td>\n",
       "      <td>1347.203125</td>\n",
       "      <td>0.045313</td>\n",
       "      <td>9</td>\n",
       "      <td>3</td>\n",
       "      <td>11</td>\n",
       "      <td>8</td>\n",
       "      <td>7</td>\n",
       "      <td>9</td>\n",
       "    </tr>\n",
       "    <tr>\n",
       "      <th>Charge</th>\n",
       "      <td>8.795070</td>\n",
       "      <td>10.0</td>\n",
       "      <td>199.119629</td>\n",
       "      <td>87.950699</td>\n",
       "      <td>1991.196289</td>\n",
       "      <td>0.039229</td>\n",
       "      <td>10</td>\n",
       "      <td>1</td>\n",
       "      <td>8</td>\n",
       "      <td>5</td>\n",
       "      <td>1</td>\n",
       "      <td>10</td>\n",
       "    </tr>\n",
       "    <tr>\n",
       "      <th>MCLFCHAB1_L</th>\n",
       "      <td>8.013962</td>\n",
       "      <td>2.0</td>\n",
       "      <td>174.144348</td>\n",
       "      <td>16.027924</td>\n",
       "      <td>348.288696</td>\n",
       "      <td>0.035745</td>\n",
       "      <td>11</td>\n",
       "      <td>14</td>\n",
       "      <td>10</td>\n",
       "      <td>14</td>\n",
       "      <td>13</td>\n",
       "      <td>11</td>\n",
       "    </tr>\n",
       "    <tr>\n",
       "      <th>RAV</th>\n",
       "      <td>7.728290</td>\n",
       "      <td>2.0</td>\n",
       "      <td>121.889709</td>\n",
       "      <td>15.456579</td>\n",
       "      <td>243.779419</td>\n",
       "      <td>0.034470</td>\n",
       "      <td>12</td>\n",
       "      <td>16</td>\n",
       "      <td>14</td>\n",
       "      <td>15</td>\n",
       "      <td>15</td>\n",
       "      <td>12</td>\n",
       "    </tr>\n",
       "    <tr>\n",
       "      <th>RAV_Rev</th>\n",
       "      <td>7.291742</td>\n",
       "      <td>2.0</td>\n",
       "      <td>35.769028</td>\n",
       "      <td>14.583484</td>\n",
       "      <td>71.538055</td>\n",
       "      <td>0.032523</td>\n",
       "      <td>13</td>\n",
       "      <td>15</td>\n",
       "      <td>19</td>\n",
       "      <td>16</td>\n",
       "      <td>17</td>\n",
       "      <td>13</td>\n",
       "    </tr>\n",
       "    <tr>\n",
       "      <th>MCLFCHAB1_others</th>\n",
       "      <td>7.049809</td>\n",
       "      <td>3.0</td>\n",
       "      <td>240.914810</td>\n",
       "      <td>21.149427</td>\n",
       "      <td>722.744446</td>\n",
       "      <td>0.031444</td>\n",
       "      <td>14</td>\n",
       "      <td>13</td>\n",
       "      <td>5</td>\n",
       "      <td>13</td>\n",
       "      <td>11</td>\n",
       "      <td>14</td>\n",
       "    </tr>\n",
       "    <tr>\n",
       "      <th>Ancien_Prof_Tit</th>\n",
       "      <td>7.035614</td>\n",
       "      <td>7.0</td>\n",
       "      <td>125.442574</td>\n",
       "      <td>49.249294</td>\n",
       "      <td>878.098022</td>\n",
       "      <td>0.031381</td>\n",
       "      <td>15</td>\n",
       "      <td>6</td>\n",
       "      <td>13</td>\n",
       "      <td>10</td>\n",
       "      <td>9</td>\n",
       "      <td>15</td>\n",
       "    </tr>\n",
       "    <tr>\n",
       "      <th>CSP_Tit_Managerial position</th>\n",
       "      <td>6.012392</td>\n",
       "      <td>1.0</td>\n",
       "      <td>263.039154</td>\n",
       "      <td>6.012392</td>\n",
       "      <td>263.039154</td>\n",
       "      <td>0.026817</td>\n",
       "      <td>16</td>\n",
       "      <td>19</td>\n",
       "      <td>2</td>\n",
       "      <td>17</td>\n",
       "      <td>14</td>\n",
       "      <td>16</td>\n",
       "    </tr>\n",
       "    <tr>\n",
       "      <th>CSP_Tit_others</th>\n",
       "      <td>5.731061</td>\n",
       "      <td>5.0</td>\n",
       "      <td>119.815758</td>\n",
       "      <td>28.655304</td>\n",
       "      <td>599.078796</td>\n",
       "      <td>0.025562</td>\n",
       "      <td>17</td>\n",
       "      <td>11</td>\n",
       "      <td>15</td>\n",
       "      <td>12</td>\n",
       "      <td>12</td>\n",
       "      <td>17</td>\n",
       "    </tr>\n",
       "    <tr>\n",
       "      <th>Tx_Edt</th>\n",
       "      <td>5.559216</td>\n",
       "      <td>1.0</td>\n",
       "      <td>83.696838</td>\n",
       "      <td>5.559216</td>\n",
       "      <td>83.696838</td>\n",
       "      <td>0.024796</td>\n",
       "      <td>18</td>\n",
       "      <td>18</td>\n",
       "      <td>16</td>\n",
       "      <td>18</td>\n",
       "      <td>16</td>\n",
       "      <td>18</td>\n",
       "    </tr>\n",
       "    <tr>\n",
       "      <th>MCLFCHAB1_F</th>\n",
       "      <td>5.192129</td>\n",
       "      <td>1.0</td>\n",
       "      <td>40.303246</td>\n",
       "      <td>5.192129</td>\n",
       "      <td>40.303246</td>\n",
       "      <td>0.023158</td>\n",
       "      <td>19</td>\n",
       "      <td>20</td>\n",
       "      <td>17</td>\n",
       "      <td>19</td>\n",
       "      <td>19</td>\n",
       "      <td>19</td>\n",
       "    </tr>\n",
       "    <tr>\n",
       "      <th>CSP_Tit_worker</th>\n",
       "      <td>5.080971</td>\n",
       "      <td>1.0</td>\n",
       "      <td>38.532486</td>\n",
       "      <td>5.080971</td>\n",
       "      <td>38.532486</td>\n",
       "      <td>0.022663</td>\n",
       "      <td>20</td>\n",
       "      <td>17</td>\n",
       "      <td>18</td>\n",
       "      <td>20</td>\n",
       "      <td>20</td>\n",
       "      <td>20</td>\n",
       "    </tr>\n",
       "    <tr>\n",
       "      <th>MCLFCSITFAM_K</th>\n",
       "      <td>0.000000</td>\n",
       "      <td>0.0</td>\n",
       "      <td>0.000000</td>\n",
       "      <td>0.000000</td>\n",
       "      <td>0.000000</td>\n",
       "      <td>0.000000</td>\n",
       "      <td>21</td>\n",
       "      <td>21</td>\n",
       "      <td>21</td>\n",
       "      <td>21</td>\n",
       "      <td>21</td>\n",
       "      <td>21</td>\n",
       "    </tr>\n",
       "    <tr>\n",
       "      <th>MCLFCSITFAM_others</th>\n",
       "      <td>0.000000</td>\n",
       "      <td>0.0</td>\n",
       "      <td>0.000000</td>\n",
       "      <td>0.000000</td>\n",
       "      <td>0.000000</td>\n",
       "      <td>0.000000</td>\n",
       "      <td>22</td>\n",
       "      <td>22</td>\n",
       "      <td>22</td>\n",
       "      <td>22</td>\n",
       "      <td>22</td>\n",
       "      <td>22</td>\n",
       "    </tr>\n",
       "    <tr>\n",
       "      <th>CSP_Tit_Retired</th>\n",
       "      <td>0.000000</td>\n",
       "      <td>0.0</td>\n",
       "      <td>0.000000</td>\n",
       "      <td>0.000000</td>\n",
       "      <td>0.000000</td>\n",
       "      <td>0.000000</td>\n",
       "      <td>23</td>\n",
       "      <td>23</td>\n",
       "      <td>23</td>\n",
       "      <td>23</td>\n",
       "      <td>23</td>\n",
       "      <td>23</td>\n",
       "    </tr>\n",
       "  </tbody>\n",
       "</table>\n",
       "</div>"
      ],
      "text/plain": [
       "                                  gain  weight       cover  total_gain  \\\n",
       "Age_Tit                      24.882971     8.0  202.324188  199.063766   \n",
       "ZCOM_SR_CL_MIMPOTS           24.485674     6.0  245.155197  146.914047   \n",
       "Ressource                    23.228661     8.0  152.173676  185.829285   \n",
       "Ancien_Banc_Tit              20.349737     6.0  248.983719  122.098419   \n",
       "MCLFCSITFAM_M                14.017124     6.0  289.838593   84.102745   \n",
       "MCLFCHAB1_P                  12.394040     7.0  227.264053   86.758278   \n",
       "Mrev_Tit                     10.793827     5.0  174.366302   53.969135   \n",
       "Ratio_Ress_RAV               10.399348     3.0   14.851420   31.198044   \n",
       "Ancbanc_Tit                  10.159319     8.0  168.400391   81.274551   \n",
       "Charge                        8.795070    10.0  199.119629   87.950699   \n",
       "MCLFCHAB1_L                   8.013962     2.0  174.144348   16.027924   \n",
       "RAV                           7.728290     2.0  121.889709   15.456579   \n",
       "RAV_Rev                       7.291742     2.0   35.769028   14.583484   \n",
       "MCLFCHAB1_others              7.049809     3.0  240.914810   21.149427   \n",
       "Ancien_Prof_Tit               7.035614     7.0  125.442574   49.249294   \n",
       "CSP_Tit_Managerial position   6.012392     1.0  263.039154    6.012392   \n",
       "CSP_Tit_others                5.731061     5.0  119.815758   28.655304   \n",
       "Tx_Edt                        5.559216     1.0   83.696838    5.559216   \n",
       "MCLFCHAB1_F                   5.192129     1.0   40.303246    5.192129   \n",
       "CSP_Tit_worker                5.080971     1.0   38.532486    5.080971   \n",
       "MCLFCSITFAM_K                 0.000000     0.0    0.000000    0.000000   \n",
       "MCLFCSITFAM_others            0.000000     0.0    0.000000    0.000000   \n",
       "CSP_Tit_Retired               0.000000     0.0    0.000000    0.000000   \n",
       "\n",
       "                             total_cover  sklearn_importance  rank_gain  \\\n",
       "Age_Tit                      1618.593506            0.110985          1   \n",
       "ZCOM_SR_CL_MIMPOTS           1470.931152            0.109213          2   \n",
       "Ressource                    1217.389404            0.103606          3   \n",
       "Ancien_Banc_Tit              1493.902344            0.090766          4   \n",
       "MCLFCSITFAM_M                1739.031494            0.062520          5   \n",
       "MCLFCHAB1_P                  1590.848389            0.055281          6   \n",
       "Mrev_Tit                      871.831543            0.048144          7   \n",
       "Ratio_Ress_RAV                 44.554260            0.046384          8   \n",
       "Ancbanc_Tit                  1347.203125            0.045313          9   \n",
       "Charge                       1991.196289            0.039229         10   \n",
       "MCLFCHAB1_L                   348.288696            0.035745         11   \n",
       "RAV                           243.779419            0.034470         12   \n",
       "RAV_Rev                        71.538055            0.032523         13   \n",
       "MCLFCHAB1_others              722.744446            0.031444         14   \n",
       "Ancien_Prof_Tit               878.098022            0.031381         15   \n",
       "CSP_Tit_Managerial position   263.039154            0.026817         16   \n",
       "CSP_Tit_others                599.078796            0.025562         17   \n",
       "Tx_Edt                         83.696838            0.024796         18   \n",
       "MCLFCHAB1_F                    40.303246            0.023158         19   \n",
       "CSP_Tit_worker                 38.532486            0.022663         20   \n",
       "MCLFCSITFAM_K                   0.000000            0.000000         21   \n",
       "MCLFCSITFAM_others              0.000000            0.000000         22   \n",
       "CSP_Tit_Retired                 0.000000            0.000000         23   \n",
       "\n",
       "                             rank_weight  rank_cover  rank_total_gain  \\\n",
       "Age_Tit                                2           7                1   \n",
       "ZCOM_SR_CL_MIMPOTS                     8           4                3   \n",
       "Ressource                              4          12                2   \n",
       "Ancien_Banc_Tit                        7           3                4   \n",
       "MCLFCSITFAM_M                          9           1                7   \n",
       "MCLFCHAB1_P                            5           6                6   \n",
       "Mrev_Tit                              10           9                9   \n",
       "Ratio_Ress_RAV                        12          20               11   \n",
       "Ancbanc_Tit                            3          11                8   \n",
       "Charge                                 1           8                5   \n",
       "MCLFCHAB1_L                           14          10               14   \n",
       "RAV                                   16          14               15   \n",
       "RAV_Rev                               15          19               16   \n",
       "MCLFCHAB1_others                      13           5               13   \n",
       "Ancien_Prof_Tit                        6          13               10   \n",
       "CSP_Tit_Managerial position           19           2               17   \n",
       "CSP_Tit_others                        11          15               12   \n",
       "Tx_Edt                                18          16               18   \n",
       "MCLFCHAB1_F                           20          17               19   \n",
       "CSP_Tit_worker                        17          18               20   \n",
       "MCLFCSITFAM_K                         21          21               21   \n",
       "MCLFCSITFAM_others                    22          22               22   \n",
       "CSP_Tit_Retired                       23          23               23   \n",
       "\n",
       "                             rank_total_cover  rank_sklearn_importance  \n",
       "Age_Tit                                     3                        1  \n",
       "ZCOM_SR_CL_MIMPOTS                          6                        2  \n",
       "Ressource                                   8                        3  \n",
       "Ancien_Banc_Tit                             5                        4  \n",
       "MCLFCSITFAM_M                               2                        5  \n",
       "MCLFCHAB1_P                                 4                        6  \n",
       "Mrev_Tit                                   10                        7  \n",
       "Ratio_Ress_RAV                             18                        8  \n",
       "Ancbanc_Tit                                 7                        9  \n",
       "Charge                                      1                       10  \n",
       "MCLFCHAB1_L                                13                       11  \n",
       "RAV                                        15                       12  \n",
       "RAV_Rev                                    17                       13  \n",
       "MCLFCHAB1_others                           11                       14  \n",
       "Ancien_Prof_Tit                             9                       15  \n",
       "CSP_Tit_Managerial position                14                       16  \n",
       "CSP_Tit_others                             12                       17  \n",
       "Tx_Edt                                     16                       18  \n",
       "MCLFCHAB1_F                                19                       19  \n",
       "CSP_Tit_worker                             20                       20  \n",
       "MCLFCSITFAM_K                              21                       21  \n",
       "MCLFCSITFAM_others                         22                       22  \n",
       "CSP_Tit_Retired                            23                       23  "
      ]
     },
     "metadata": {},
     "output_type": "display_data"
    },
    {
     "data": {
      "application/vnd.plotly.v1+json": {
       "config": {
        "plotlyServerURL": "https://plot.ly"
       },
       "data": [
        {
         "hovertemplate": "gain=%{x}<br>feature=%{y}<extra></extra>",
         "legendgroup": "",
         "marker": {
          "color": "#636efa",
          "pattern": {
           "shape": ""
          }
         },
         "name": "",
         "orientation": "h",
         "showlegend": false,
         "textposition": "auto",
         "type": "bar",
         "x": {
          "bdata": "AAAAYAriOEAAAAAgVXw4QAAAAICJOjdAAAAAYIhZNEAAAACAxAgsQAAAAKC/yShAAAAAgHCWJUAAAABgd8wkQAAAAECSUSRAAAAAYBOXIUAAAAAAJgcgQAAAAMDE6R5AAAAAYL4qHUAAAAAgATMcQAAAAOB3JBxAAAAAgLAMGEAAAABAm+wWQAAAAACjPBZAAAAAYL3EFEAAAAAA6lIUQAAAAAAAAAAAAAAAAAAAAAAAAAAAAAAAAA==",
          "dtype": "f8"
         },
         "xaxis": "x",
         "y": [
          "Age_Tit",
          "ZCOM_SR_CL_MIMPOTS",
          "Ressource",
          "Ancien_Banc_Tit",
          "MCLFCSITFAM_M",
          "MCLFCHAB1_P",
          "Mrev_Tit",
          "Ratio_Ress_RAV",
          "Ancbanc_Tit",
          "Charge",
          "MCLFCHAB1_L",
          "RAV",
          "RAV_Rev",
          "MCLFCHAB1_others",
          "Ancien_Prof_Tit",
          "CSP_Tit_Managerial position",
          "CSP_Tit_others",
          "Tx_Edt",
          "MCLFCHAB1_F",
          "CSP_Tit_worker",
          "MCLFCSITFAM_K",
          "MCLFCSITFAM_others",
          "CSP_Tit_Retired"
         ],
         "yaxis": "y"
        }
       ],
       "layout": {
        "barmode": "relative",
        "height": 800,
        "legend": {
         "tracegroupgap": 0
        },
        "template": {
         "data": {
          "bar": [
           {
            "error_x": {
             "color": "#2a3f5f"
            },
            "error_y": {
             "color": "#2a3f5f"
            },
            "marker": {
             "line": {
              "color": "#E5ECF6",
              "width": 0.5
             },
             "pattern": {
              "fillmode": "overlay",
              "size": 10,
              "solidity": 0.2
             }
            },
            "type": "bar"
           }
          ],
          "barpolar": [
           {
            "marker": {
             "line": {
              "color": "#E5ECF6",
              "width": 0.5
             },
             "pattern": {
              "fillmode": "overlay",
              "size": 10,
              "solidity": 0.2
             }
            },
            "type": "barpolar"
           }
          ],
          "carpet": [
           {
            "aaxis": {
             "endlinecolor": "#2a3f5f",
             "gridcolor": "white",
             "linecolor": "white",
             "minorgridcolor": "white",
             "startlinecolor": "#2a3f5f"
            },
            "baxis": {
             "endlinecolor": "#2a3f5f",
             "gridcolor": "white",
             "linecolor": "white",
             "minorgridcolor": "white",
             "startlinecolor": "#2a3f5f"
            },
            "type": "carpet"
           }
          ],
          "choropleth": [
           {
            "colorbar": {
             "outlinewidth": 0,
             "ticks": ""
            },
            "type": "choropleth"
           }
          ],
          "contour": [
           {
            "colorbar": {
             "outlinewidth": 0,
             "ticks": ""
            },
            "colorscale": [
             [
              0,
              "#0d0887"
             ],
             [
              0.1111111111111111,
              "#46039f"
             ],
             [
              0.2222222222222222,
              "#7201a8"
             ],
             [
              0.3333333333333333,
              "#9c179e"
             ],
             [
              0.4444444444444444,
              "#bd3786"
             ],
             [
              0.5555555555555556,
              "#d8576b"
             ],
             [
              0.6666666666666666,
              "#ed7953"
             ],
             [
              0.7777777777777778,
              "#fb9f3a"
             ],
             [
              0.8888888888888888,
              "#fdca26"
             ],
             [
              1,
              "#f0f921"
             ]
            ],
            "type": "contour"
           }
          ],
          "contourcarpet": [
           {
            "colorbar": {
             "outlinewidth": 0,
             "ticks": ""
            },
            "type": "contourcarpet"
           }
          ],
          "heatmap": [
           {
            "colorbar": {
             "outlinewidth": 0,
             "ticks": ""
            },
            "colorscale": [
             [
              0,
              "#0d0887"
             ],
             [
              0.1111111111111111,
              "#46039f"
             ],
             [
              0.2222222222222222,
              "#7201a8"
             ],
             [
              0.3333333333333333,
              "#9c179e"
             ],
             [
              0.4444444444444444,
              "#bd3786"
             ],
             [
              0.5555555555555556,
              "#d8576b"
             ],
             [
              0.6666666666666666,
              "#ed7953"
             ],
             [
              0.7777777777777778,
              "#fb9f3a"
             ],
             [
              0.8888888888888888,
              "#fdca26"
             ],
             [
              1,
              "#f0f921"
             ]
            ],
            "type": "heatmap"
           }
          ],
          "histogram": [
           {
            "marker": {
             "pattern": {
              "fillmode": "overlay",
              "size": 10,
              "solidity": 0.2
             }
            },
            "type": "histogram"
           }
          ],
          "histogram2d": [
           {
            "colorbar": {
             "outlinewidth": 0,
             "ticks": ""
            },
            "colorscale": [
             [
              0,
              "#0d0887"
             ],
             [
              0.1111111111111111,
              "#46039f"
             ],
             [
              0.2222222222222222,
              "#7201a8"
             ],
             [
              0.3333333333333333,
              "#9c179e"
             ],
             [
              0.4444444444444444,
              "#bd3786"
             ],
             [
              0.5555555555555556,
              "#d8576b"
             ],
             [
              0.6666666666666666,
              "#ed7953"
             ],
             [
              0.7777777777777778,
              "#fb9f3a"
             ],
             [
              0.8888888888888888,
              "#fdca26"
             ],
             [
              1,
              "#f0f921"
             ]
            ],
            "type": "histogram2d"
           }
          ],
          "histogram2dcontour": [
           {
            "colorbar": {
             "outlinewidth": 0,
             "ticks": ""
            },
            "colorscale": [
             [
              0,
              "#0d0887"
             ],
             [
              0.1111111111111111,
              "#46039f"
             ],
             [
              0.2222222222222222,
              "#7201a8"
             ],
             [
              0.3333333333333333,
              "#9c179e"
             ],
             [
              0.4444444444444444,
              "#bd3786"
             ],
             [
              0.5555555555555556,
              "#d8576b"
             ],
             [
              0.6666666666666666,
              "#ed7953"
             ],
             [
              0.7777777777777778,
              "#fb9f3a"
             ],
             [
              0.8888888888888888,
              "#fdca26"
             ],
             [
              1,
              "#f0f921"
             ]
            ],
            "type": "histogram2dcontour"
           }
          ],
          "mesh3d": [
           {
            "colorbar": {
             "outlinewidth": 0,
             "ticks": ""
            },
            "type": "mesh3d"
           }
          ],
          "parcoords": [
           {
            "line": {
             "colorbar": {
              "outlinewidth": 0,
              "ticks": ""
             }
            },
            "type": "parcoords"
           }
          ],
          "pie": [
           {
            "automargin": true,
            "type": "pie"
           }
          ],
          "scatter": [
           {
            "fillpattern": {
             "fillmode": "overlay",
             "size": 10,
             "solidity": 0.2
            },
            "type": "scatter"
           }
          ],
          "scatter3d": [
           {
            "line": {
             "colorbar": {
              "outlinewidth": 0,
              "ticks": ""
             }
            },
            "marker": {
             "colorbar": {
              "outlinewidth": 0,
              "ticks": ""
             }
            },
            "type": "scatter3d"
           }
          ],
          "scattercarpet": [
           {
            "marker": {
             "colorbar": {
              "outlinewidth": 0,
              "ticks": ""
             }
            },
            "type": "scattercarpet"
           }
          ],
          "scattergeo": [
           {
            "marker": {
             "colorbar": {
              "outlinewidth": 0,
              "ticks": ""
             }
            },
            "type": "scattergeo"
           }
          ],
          "scattergl": [
           {
            "marker": {
             "colorbar": {
              "outlinewidth": 0,
              "ticks": ""
             }
            },
            "type": "scattergl"
           }
          ],
          "scattermap": [
           {
            "marker": {
             "colorbar": {
              "outlinewidth": 0,
              "ticks": ""
             }
            },
            "type": "scattermap"
           }
          ],
          "scattermapbox": [
           {
            "marker": {
             "colorbar": {
              "outlinewidth": 0,
              "ticks": ""
             }
            },
            "type": "scattermapbox"
           }
          ],
          "scatterpolar": [
           {
            "marker": {
             "colorbar": {
              "outlinewidth": 0,
              "ticks": ""
             }
            },
            "type": "scatterpolar"
           }
          ],
          "scatterpolargl": [
           {
            "marker": {
             "colorbar": {
              "outlinewidth": 0,
              "ticks": ""
             }
            },
            "type": "scatterpolargl"
           }
          ],
          "scatterternary": [
           {
            "marker": {
             "colorbar": {
              "outlinewidth": 0,
              "ticks": ""
             }
            },
            "type": "scatterternary"
           }
          ],
          "surface": [
           {
            "colorbar": {
             "outlinewidth": 0,
             "ticks": ""
            },
            "colorscale": [
             [
              0,
              "#0d0887"
             ],
             [
              0.1111111111111111,
              "#46039f"
             ],
             [
              0.2222222222222222,
              "#7201a8"
             ],
             [
              0.3333333333333333,
              "#9c179e"
             ],
             [
              0.4444444444444444,
              "#bd3786"
             ],
             [
              0.5555555555555556,
              "#d8576b"
             ],
             [
              0.6666666666666666,
              "#ed7953"
             ],
             [
              0.7777777777777778,
              "#fb9f3a"
             ],
             [
              0.8888888888888888,
              "#fdca26"
             ],
             [
              1,
              "#f0f921"
             ]
            ],
            "type": "surface"
           }
          ],
          "table": [
           {
            "cells": {
             "fill": {
              "color": "#EBF0F8"
             },
             "line": {
              "color": "white"
             }
            },
            "header": {
             "fill": {
              "color": "#C8D4E3"
             },
             "line": {
              "color": "white"
             }
            },
            "type": "table"
           }
          ]
         },
         "layout": {
          "annotationdefaults": {
           "arrowcolor": "#2a3f5f",
           "arrowhead": 0,
           "arrowwidth": 1
          },
          "autotypenumbers": "strict",
          "coloraxis": {
           "colorbar": {
            "outlinewidth": 0,
            "ticks": ""
           }
          },
          "colorscale": {
           "diverging": [
            [
             0,
             "#8e0152"
            ],
            [
             0.1,
             "#c51b7d"
            ],
            [
             0.2,
             "#de77ae"
            ],
            [
             0.3,
             "#f1b6da"
            ],
            [
             0.4,
             "#fde0ef"
            ],
            [
             0.5,
             "#f7f7f7"
            ],
            [
             0.6,
             "#e6f5d0"
            ],
            [
             0.7,
             "#b8e186"
            ],
            [
             0.8,
             "#7fbc41"
            ],
            [
             0.9,
             "#4d9221"
            ],
            [
             1,
             "#276419"
            ]
           ],
           "sequential": [
            [
             0,
             "#0d0887"
            ],
            [
             0.1111111111111111,
             "#46039f"
            ],
            [
             0.2222222222222222,
             "#7201a8"
            ],
            [
             0.3333333333333333,
             "#9c179e"
            ],
            [
             0.4444444444444444,
             "#bd3786"
            ],
            [
             0.5555555555555556,
             "#d8576b"
            ],
            [
             0.6666666666666666,
             "#ed7953"
            ],
            [
             0.7777777777777778,
             "#fb9f3a"
            ],
            [
             0.8888888888888888,
             "#fdca26"
            ],
            [
             1,
             "#f0f921"
            ]
           ],
           "sequentialminus": [
            [
             0,
             "#0d0887"
            ],
            [
             0.1111111111111111,
             "#46039f"
            ],
            [
             0.2222222222222222,
             "#7201a8"
            ],
            [
             0.3333333333333333,
             "#9c179e"
            ],
            [
             0.4444444444444444,
             "#bd3786"
            ],
            [
             0.5555555555555556,
             "#d8576b"
            ],
            [
             0.6666666666666666,
             "#ed7953"
            ],
            [
             0.7777777777777778,
             "#fb9f3a"
            ],
            [
             0.8888888888888888,
             "#fdca26"
            ],
            [
             1,
             "#f0f921"
            ]
           ]
          },
          "colorway": [
           "#636efa",
           "#EF553B",
           "#00cc96",
           "#ab63fa",
           "#FFA15A",
           "#19d3f3",
           "#FF6692",
           "#B6E880",
           "#FF97FF",
           "#FECB52"
          ],
          "font": {
           "color": "#2a3f5f"
          },
          "geo": {
           "bgcolor": "white",
           "lakecolor": "white",
           "landcolor": "#E5ECF6",
           "showlakes": true,
           "showland": true,
           "subunitcolor": "white"
          },
          "hoverlabel": {
           "align": "left"
          },
          "hovermode": "closest",
          "mapbox": {
           "style": "light"
          },
          "paper_bgcolor": "white",
          "plot_bgcolor": "#E5ECF6",
          "polar": {
           "angularaxis": {
            "gridcolor": "white",
            "linecolor": "white",
            "ticks": ""
           },
           "bgcolor": "#E5ECF6",
           "radialaxis": {
            "gridcolor": "white",
            "linecolor": "white",
            "ticks": ""
           }
          },
          "scene": {
           "xaxis": {
            "backgroundcolor": "#E5ECF6",
            "gridcolor": "white",
            "gridwidth": 2,
            "linecolor": "white",
            "showbackground": true,
            "ticks": "",
            "zerolinecolor": "white"
           },
           "yaxis": {
            "backgroundcolor": "#E5ECF6",
            "gridcolor": "white",
            "gridwidth": 2,
            "linecolor": "white",
            "showbackground": true,
            "ticks": "",
            "zerolinecolor": "white"
           },
           "zaxis": {
            "backgroundcolor": "#E5ECF6",
            "gridcolor": "white",
            "gridwidth": 2,
            "linecolor": "white",
            "showbackground": true,
            "ticks": "",
            "zerolinecolor": "white"
           }
          },
          "shapedefaults": {
           "line": {
            "color": "#2a3f5f"
           }
          },
          "ternary": {
           "aaxis": {
            "gridcolor": "white",
            "linecolor": "white",
            "ticks": ""
           },
           "baxis": {
            "gridcolor": "white",
            "linecolor": "white",
            "ticks": ""
           },
           "bgcolor": "#E5ECF6",
           "caxis": {
            "gridcolor": "white",
            "linecolor": "white",
            "ticks": ""
           }
          },
          "title": {
           "x": 0.05
          },
          "xaxis": {
           "automargin": true,
           "gridcolor": "white",
           "linecolor": "white",
           "ticks": "",
           "title": {
            "standoff": 15
           },
           "zerolinecolor": "white",
           "zerolinewidth": 2
          },
          "yaxis": {
           "automargin": true,
           "gridcolor": "white",
           "linecolor": "white",
           "ticks": "",
           "title": {
            "standoff": 15
           },
           "zerolinecolor": "white",
           "zerolinewidth": 2
          }
         }
        },
        "title": {
         "text": "XGBoost (xgb_best) - Feature importance (gain) - Top 30"
        },
        "xaxis": {
         "anchor": "y",
         "domain": [
          0,
          1
         ],
         "title": {
          "text": "gain"
         }
        },
        "yaxis": {
         "anchor": "x",
         "autorange": "reversed",
         "domain": [
          0,
          1
         ],
         "title": {
          "text": "feature"
         }
        }
       }
      }
     },
     "metadata": {},
     "output_type": "display_data"
    }
   ],
   "source": [
    "booster = xgb_best.get_booster()\n",
    "feature_names = list(getattr(X_train, \"columns\", getattr(xgb_best, \"feature_names_in_\", [])))\n",
    "\n",
    "importance_types = [\"gain\", \"weight\", \"cover\", \"total_gain\", \"total_cover\"]\n",
    "\n",
    "raw = {t: pd.Series(booster.get_score(importance_type=t)) for t in importance_types}\n",
    "imp_df = pd.DataFrame(raw).fillna(0.0)\n",
    "\n",
    "if feature_names and all(idx.startswith(\"f\") and idx[1:].isdigit() for idx in imp_df.index):\n",
    "    mapping = {f\"f{i}\": fn for i, fn in enumerate(feature_names)}\n",
    "    imp_df = imp_df.rename(index=mapping)\n",
    "\n",
    "if feature_names:\n",
    "    imp_df = imp_df.reindex(feature_names, fill_value=0.0)\n",
    "\n",
    "try:\n",
    "    sk_importance = pd.Series(xgb_best.feature_importances_, index=feature_names, name=\"sklearn_importance\")\n",
    "    imp_df = imp_df.join(sk_importance, how=\"left\")\n",
    "except Exception:\n",
    "    pass\n",
    "\n",
    "for col in imp_df.columns:\n",
    "    imp_df[f\"rank_{col}\"] = (-imp_df[col]).argsort().argsort() + 1\n",
    "\n",
    "imp_df = imp_df.sort_values(\"gain\", ascending=False)\n",
    "\n",
    "print(\"Top 30 features par 'gain':\")\n",
    "display(imp_df.head(30).round(6))\n",
    "\n",
    "try:\n",
    "    fig = px.bar(\n",
    "        imp_df.head(30).reset_index().rename(columns={\"index\": \"feature\"}),\n",
    "        x=\"gain\",\n",
    "        y=\"feature\",\n",
    "        orientation=\"h\",\n",
    "        title=\"XGBoost (xgb_best) - Feature importance (gain) - Top 30\",\n",
    "        height=800\n",
    "    )\n",
    "    fig.update_layout(yaxis=dict(autorange=\"reversed\"))\n",
    "    fig.show()\n",
    "except Exception:\n",
    "    pass"
   ]
  },
  {
   "cell_type": "markdown",
   "id": "cad2f35a",
   "metadata": {},
   "source": [
    "### SHAP"
   ]
  },
  {
   "cell_type": "code",
   "execution_count": null,
   "id": "3e41376a",
   "metadata": {},
   "outputs": [
    {
     "name": "stderr",
     "output_type": "stream",
     "text": [
      "c:\\Users\\aysim\\Documents\\Ynov\\EpreuvesCertif\\BLOC5\\Octroi\\score-octroi\\.venv\\Lib\\site-packages\\tqdm\\auto.py:21: TqdmWarning:\n",
      "\n",
      "IProgress not found. Please update jupyter and ipywidgets. See https://ipywidgets.readthedocs.io/en/stable/user_install.html\n",
      "\n"
     ]
    },
    {
     "data": {
      "image/png": "[encoded data removed]",
      "text/plain": [
       "<Figure size 800x950 with 2 Axes>"
      ]
     },
     "metadata": {},
     "output_type": "display_data"
    },
    {
     "data": {
      "image/png": "[encoded data removed]",
      "text/plain": [
       "<Figure size 800x1150 with 1 Axes>"
      ]
     },
     "metadata": {},
     "output_type": "display_data"
    }
   ],
   "source": [
    "import shap\n",
    "import matplotlib.pyplot as plt\n",
    "\n",
    "explainer = shap.Explainer(xgb_best, X_train)\n",
    "X_shap = X_test\n",
    "\n",
    "shap_values = explainer(X_shap)\n",
    "\n",
    "try:\n",
    "    shap.plots.beeswarm(shap_values, max_display=20, show=False)\n",
    "    plt.title(\"SHAP Beeswarm - xgb_best (Top 20)\")\n",
    "    plt.tight_layout()\n",
    "    plt.show()\n",
    "except Exception:\n",
    "    # Fallback for older SHAP versions\n",
    "    shap.summary_plot(getattr(shap_values, \"values\", shap_values), X_shap, plot_type=\"dot\", max_display=20, show=False)\n",
    "    plt.title(\"SHAP summary - xgb_best (Top 20)\")\n",
    "    plt.tight_layout()\n",
    "    plt.show()\n",
    "\n",
    "try:\n",
    "    shap.plots.bar(shap_values, max_display=20, show=False)\n",
    "    plt.title(\"SHAP Feature Importance (mean |SHAP|) - xgb_best\")\n",
    "    plt.tight_layout()\n",
    "    plt.show()\n",
    "except Exception:\n",
    "    shap.summary_plot(getattr(shap_values, \"values\", shap_values), X_shap, plot_type=\"bar\", max_display=20, show=False)\n",
    "    plt.title(\"SHAP Feature Importance - xgb_best\")\n",
    "    plt.tight_layout()\n",
    "    plt.show()"
   ]
  },
  {
   "cell_type": "code",
   "execution_count": null,
   "id": "b81641ab",
   "metadata": {},
   "outputs": [
    {
     "name": "stdout",
     "output_type": "stream",
     "text": [
      "Individu à proba la plus basse: index 12974, p=0.807099\n",
      "Individu à proba la plus forte: index 11932, p=0.990677\n",
      "Individu aléatoire: index 10986, p=0.964972\n"
     ]
    },
    {
     "data": {
      "image/png": "[encoded data removed]",
      "text/plain": [
       "<Figure size 2000x300 with 1 Axes>"
      ]
     },
     "metadata": {},
     "output_type": "display_data"
    },
    {
     "data": {
      "image/png": "[encoded data removed]",
      "text/plain": [
       "<Figure size 2000x300 with 1 Axes>"
      ]
     },
     "metadata": {},
     "output_type": "display_data"
    },
    {
     "data": {
      "image/png": "[encoded data removed]",
      "text/plain": [
       "<Figure size 2000x300 with 1 Axes>"
      ]
     },
     "metadata": {},
     "output_type": "display_data"
    },
    {
     "name": "stdout",
     "output_type": "stream",
     "text": [
      "Prédictions sélectionnées + y_test (0 = Mauvais Payeur, 1 = Bon Payeur):\n"
     ]
    },
    {
     "data": {
      "text/html": [
       "<div>\n",
       "<style scoped>\n",
       "    .dataframe tbody tr th:only-of-type {\n",
       "        vertical-align: middle;\n",
       "    }\n",
       "\n",
       "    .dataframe tbody tr th {\n",
       "        vertical-align: top;\n",
       "    }\n",
       "\n",
       "    .dataframe thead th {\n",
       "        text-align: right;\n",
       "    }\n",
       "</style>\n",
       "<table border=\"1\" class=\"dataframe\">\n",
       "  <thead>\n",
       "    <tr style=\"text-align: right;\">\n",
       "      <th></th>\n",
       "      <th>index</th>\n",
       "      <th>proba</th>\n",
       "      <th>prediction</th>\n",
       "      <th>label</th>\n",
       "      <th>y_test</th>\n",
       "      <th>y_test_label</th>\n",
       "    </tr>\n",
       "    <tr>\n",
       "      <th>type</th>\n",
       "      <th></th>\n",
       "      <th></th>\n",
       "      <th></th>\n",
       "      <th></th>\n",
       "      <th></th>\n",
       "      <th></th>\n",
       "    </tr>\n",
       "  </thead>\n",
       "  <tbody>\n",
       "    <tr>\n",
       "      <th>proba_min</th>\n",
       "      <td>12974</td>\n",
       "      <td>0.807099</td>\n",
       "      <td>1</td>\n",
       "      <td>Bon Payeur</td>\n",
       "      <td>1</td>\n",
       "      <td>Bon Payeur</td>\n",
       "    </tr>\n",
       "    <tr>\n",
       "      <th>proba_max</th>\n",
       "      <td>11932</td>\n",
       "      <td>0.990677</td>\n",
       "      <td>1</td>\n",
       "      <td>Bon Payeur</td>\n",
       "      <td>1</td>\n",
       "      <td>Bon Payeur</td>\n",
       "    </tr>\n",
       "    <tr>\n",
       "      <th>random</th>\n",
       "      <td>10986</td>\n",
       "      <td>0.964972</td>\n",
       "      <td>1</td>\n",
       "      <td>Bon Payeur</td>\n",
       "      <td>1</td>\n",
       "      <td>Bon Payeur</td>\n",
       "    </tr>\n",
       "  </tbody>\n",
       "</table>\n",
       "</div>"
      ],
      "text/plain": [
       "           index     proba  prediction       label  y_test y_test_label\n",
       "type                                                                   \n",
       "proba_min  12974  0.807099           1  Bon Payeur       1   Bon Payeur\n",
       "proba_max  11932  0.990677           1  Bon Payeur       1   Bon Payeur\n",
       "random     10986  0.964972           1  Bon Payeur       1   Bon Payeur"
      ]
     },
     "metadata": {},
     "output_type": "display_data"
    }
   ],
   "source": [
    "from scipy.special import expit\n",
    "\n",
    "if 'p_pred' in globals():\n",
    "    proba = p_pred\n",
    "elif 'y_proba_xgb' in globals():\n",
    "    proba = pd.Series(y_proba_xgb, index=X_shap.index, name=\"p_test\")\n",
    "elif 'xgb_best' in globals():\n",
    "    proba = pd.Series(xgb_best.predict_proba(X_shap)[:, 1], index=X_shap.index, name=\"p_test\")\n",
    "else:\n",
    "    sv = getattr(shap_values, \"values\", shap_values)\n",
    "    base = np.array(getattr(shap_values, \"base_values\", [shap_values.base_values] * len(X_shap))).reshape(-1)\n",
    "    logit = base + sv.sum(axis=1)\n",
    "    proba = pd.Series(expit(logit), index=X_shap.index, name=\"p_test\")\n",
    "\n",
    "idx_min = proba.idxmin()\n",
    "idx_max = proba.idxmax()\n",
    "rng = np.random.default_rng()\n",
    "idx_rand = rng.choice(np.array(proba.index))\n",
    "\n",
    "def _plot_force(idx_label, title_prefix=\"\"):\n",
    "    pos = X_shap.index.get_loc(idx_label)\n",
    "    sv_single = shap_values[pos]\n",
    "    sample = X_shap.loc[[idx_label]]\n",
    "\n",
    "    try:\n",
    "        shap.plots.force(sv_single, matplotlib=True, show=False)\n",
    "        plt.title(f\"{title_prefix} - index {idx_label} | p={proba.loc[idx_label]:.6f}\")\n",
    "        plt.tight_layout()\n",
    "        plt.show()\n",
    "    except Exception:\n",
    "        shap.force_plot(\n",
    "            getattr(sv_single, \"base_values\", getattr(shap_values, \"base_values\", None)),\n",
    "            getattr(sv_single, \"values\", sv_single),\n",
    "            sample,\n",
    "            feature_names=sample.columns,\n",
    "            matplotlib=True,\n",
    "            show=False\n",
    "        )\n",
    "        plt.title(f\"{title_prefix} (legacy) - index {idx_label} | p={proba.loc[idx_label]:.6f}\")\n",
    "        plt.tight_layout()\n",
    "        plt.show()\n",
    "\n",
    "_print_min = f\"Individu à proba la plus basse: index {idx_min}, p={proba.loc[idx_min]:.6f}\"\n",
    "_print_max = f\"Individu à proba la plus forte: index {idx_max}, p={proba.loc[idx_max]:.6f}\"\n",
    "_print_rand = f\"Individu aléatoire: index {idx_rand}, p={proba.loc[idx_rand]:.6f}\"\n",
    "print(_print_min)\n",
    "print(_print_max)\n",
    "print(_print_rand)\n",
    "\n",
    "_plot_force(idx_min, \"SHAP Force Plot (proba la plus basse)\")\n",
    "_plot_force(idx_max, \"SHAP Force Plot (proba la plus forte)\")\n",
    "_plot_force(idx_rand, \"SHAP Force Plot (aléatoire)\")\n",
    "\n",
    "label_map = {0: \"Mauvais Payeur\", 1: \"Bon Payeur\"}\n",
    "\n",
    "def _pred_for_idx(idx):\n",
    "    if 'y_pred_xgb' in globals() and len(y_pred_xgb) == len(X_shap):\n",
    "        pos = X_shap.index.get_loc(idx)\n",
    "        return int(y_pred_xgb[pos])\n",
    "    elif 'xgb_best' in globals():\n",
    "        return int(xgb_best.predict(X_shap.loc[[idx]])[0])\n",
    "    else:\n",
    "        return int(proba.loc[idx] >= 0.5)\n",
    "\n",
    "def _true_for_idx(idx):\n",
    "    if 'y_test' in globals():\n",
    "        try:\n",
    "            return int(y_test.loc[idx])\n",
    "        except Exception:\n",
    "            pos = X_shap.index.get_loc(idx)\n",
    "            return int(y_test.iloc[pos])\n",
    "    return None\n",
    "\n",
    "rows = []\n",
    "for kind, idx in [(\"proba_min\", idx_min), (\"proba_max\", idx_max), (\"random\", idx_rand)]:\n",
    "    pred = _pred_for_idx(idx)\n",
    "    y_true = _true_for_idx(idx)\n",
    "    rows.append({\n",
    "        \"type\": kind,\n",
    "        \"index\": idx,\n",
    "        \"proba\": float(proba.loc[idx]),\n",
    "        \"prediction\": pred,\n",
    "        \"label\": label_map[pred],\n",
    "        \"y_test\": y_true,\n",
    "        \"y_test_label\": label_map[y_true] if y_true is not None else None\n",
    "    })\n",
    "\n",
    "predictions_sel_df = pd.DataFrame(rows).set_index(\"type\")\n",
    "print(\"Prédictions sélectionnées + y_test (0 = Mauvais Payeur, 1 = Bon Payeur):\")\n",
    "display(predictions_sel_df)"
   ]
  },
  {
   "cell_type": "markdown",
   "id": "3456618e",
   "metadata": {},
   "source": [
    "## Save Model"
   ]
  }
 ],
 "metadata": {
  "kernelspec": {
   "display_name": ".venv",
   "language": "python",
   "name": "python3"
  },
  "language_info": {
   "codemirror_mode": {
    "name": "ipython",
    "version": 3
   },
   "file_extension": ".py",
   "mimetype": "text/x-python",
   "name": "python",
   "nbconvert_exporter": "python",
   "pygments_lexer": "ipython3",
   "version": "3.11.9"
  }
 },
 "nbformat": 4,
 "nbformat_minor": 5
}
